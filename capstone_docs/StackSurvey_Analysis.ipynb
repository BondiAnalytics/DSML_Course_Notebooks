{
 "cells": [
  {
   "cell_type": "markdown",
   "id": "184a2222",
   "metadata": {},
   "source": [
    "## Summary: StackOverflow Survey Analysis\n",
    "\n",
    "Given that the classification model using StackOverflow tags had poor F1-scores (learning just 7% on average better than the benchmark model), I decided to use a different dataset generated from StackOverflow's annual user survey. The objective was the same: to use market signals from StackOverflow data to predict which databases are most desirable and likely to be chosen.\n",
    "\n",
    "Both datasets have a similar selection bias, that they're dependent on the complextion of the overall StackOverflow community. Alhtough I had realized this issue while analyzing the tags dataset, it is much more difficult to understand community complextion. I tried to combine the Users dataset, which includes account created, geography, and other descriptive statistics, but it did not provide enough information to explain tag counts or combinations of tags. \n",
    "\n",
    "However, the StackOverflow annual user survey provides a much clearer signal of community complextion, though survey/selection bias also needs to be considered. As a result, the predictability metrics are much better, and exploratory data analysis was much easier visualize and explain.\n",
    "\n",
    "The primary insight was that the combination of current platform and desired platform choices determined the database selection. In fact, the relationship is so strong between Microsoft Azure and Microsoft SQL Server, that almost 100% of the time developers who use Microsoft Azure also desire SQL Server.\n",
    "\n",
    "There are some caveats and important weaknesses of this insight:\n",
    "\n",
    "  1) It is impossible to predict with 100% certainty that SQL Server will be chosen when Azure is chosen, because: \n",
    "    \n",
    "    a) other cloud providers offer SQL Server, and \n",
    "    b) Azure offers more than just SQL Server as a database service.\n",
    "          \n",
    "  2) The explanatory power of platform choices drops dramatically for popular platforms, such as Amazon Web Services and Google Compute Platform, because: \n",
    "\n",
    "    a) developer types and reasons for using a platform vary much more; and \n",
    "    b) some databases are featured less prominently on other cloud platforms (Microsoft markets SQL Server much more than AWS does).\n",
    "   \n",
    "   \n",
    "A full briefing of the analysis is below."
   ]
  },
  {
   "cell_type": "code",
   "execution_count": 1,
   "id": "5182466f",
   "metadata": {},
   "outputs": [],
   "source": [
    "import numpy as np\n",
    "import pandas as pd\n",
    "import matplotlib.pyplot as plt\n",
    "import seaborn as sns\n",
    "sns.set()\n",
    "%matplotlib inline\n",
    "\n",
    "#preprocessing\n",
    "from sklearn.preprocessing import StandardScaler, Normalizer, MinMaxScaler\n",
    "from scipy import stats\n",
    "\n",
    "# pipelines\n",
    "from sklearn.pipeline import Pipeline\n",
    "\n",
    "# Regression\n",
    "from sklearn.linear_model import LinearRegression\n",
    "from sklearn.linear_model import SGDRegressor\n",
    "from sklearn.linear_model import Ridge\n",
    "from sklearn.metrics import mean_squared_error\n",
    "\n",
    "# NLP transformers\n",
    "from sklearn.feature_extraction.text import CountVectorizer, TfidfTransformer\n",
    "\n",
    "# classifiers you can use\n",
    "from sklearn.dummy import DummyClassifier\n",
    "from sklearn.svm import SVC\n",
    "from sklearn.tree import DecisionTreeClassifier\n",
    "from sklearn.ensemble import RandomForestClassifier, AdaBoostClassifier\n",
    "\n",
    "# model selection bits\n",
    "from sklearn.model_selection import GridSearchCV, train_test_split, cross_val_score, ShuffleSplit, RandomizedSearchCV\n",
    "from sklearn.model_selection import StratifiedShuffleSplit, StratifiedKFold, KFold\n",
    "from sklearn.model_selection import learning_curve, validation_curve\n",
    "\n",
    "# evaluation\n",
    "from sklearn.metrics import accuracy_score, precision_score, recall_score, f1_score, confusion_matrix, classification_report, fbeta_score"
   ]
  },
  {
   "cell_type": "markdown",
   "id": "3c3ce7d4",
   "metadata": {},
   "source": [
    "### Overview of StackOverflow Survey Dataset\n",
    "\n",
    "StackOverflow has been conducting an annual user survey since 2012, providing a longitudinal perspective of technology adoption, developer behaviors, wages, and hot topics impacting the developer community. \n",
    "\n",
    "The survey is extensive with 128 questions, some of which have as many as 16 answer choices. The survey has also steadily in popularity from just under 8000 respondents in 2012 to over 64,000 from 190 countries in 2020. As a result, it has become the largest and most important survey of the technical community in the world. Technology companies, such as Microsoft and Amazon, use StackOverflow's survey as a key source of market data about this population.\n",
    "\n",
    "However, this dataset does have its flaws. StackOverflow promotes its survey to its base and does not provide incentives to start and finish the survey. As a result, there is a certain amount of survey bias that may not represent the overall developer population. \n",
    "\n",
    "Although there are multiple years of data available to the public, only the latest year's data are necessary to build predictors for desired databases. The EDA of the 2020 dataset helped to determine which features would be most relevant, followed by a further pruning of features to ensure that the model was generally applicable to the rest of the technical community. Biases and model skewing are considered along the way."
   ]
  },
  {
   "cell_type": "code",
   "execution_count": 2,
   "id": "8c614071",
   "metadata": {},
   "outputs": [],
   "source": [
    "df_20 = pd.read_csv('/Users/bens_mac/Downloads/developer_survey_2020/survey_results_public.csv')\n",
    "# df_19 = pd.read_csv('/Users/bens_mac/Downloads/developer_survey_2019/survey_results_public.csv')\n",
    "# df_18 = pd.read_csv('/Users/bens_mac/Downloads/developer_survey_2018/survey_results_public.csv')\n",
    "def prettify(ax):\n",
    "  ax.grid(False)\n",
    "  ax.set_frame_on(False)\n",
    "  ax.tick_params(top=False, bottom=False, left=False, right=False, labelbottom=False)"
   ]
  },
  {
   "cell_type": "raw",
   "id": "2f59a7db",
   "metadata": {},
   "source": [
    "### Choosing relevant features\n",
    "\n",
    "Most of the 128 questions and answer choices are irrelevant to database choices. Questions about income, Gender, Currency, Job Satisfaction, etc are obviously out of scope for this analysis. Thus, the features were cut from 128 to just 10: \n",
    "* Respont ID: for tracking indexing throughout the analysis, \n",
    "* Country: for understanding geopolitical tendencies within the data, \n",
    "* Purchase what: for understanding the amount of influence a respondent in technology choices\n",
    "* Undergraduate Major: secondary measure for understanding the commitment to coding and overall technical acumen,\n",
    "* Hobbyist: for understanding if database choices could be influenced by project type and importance to the individual, \n",
    "* Employment: for understanding how serious one technology choices are. A second consideration relates to responsibility of technology choices. Many who are fully employed do not make their own technology choices (their employer does) \n",
    "* Developer type: for determining how much importance they put on making certain technology decisions. For instance, front-end developers are less likely to care about database choices versus backend developer or data engineers.\n",
    "* Current database: for determining if their current database influences their desired database choice\n",
    "* Current and desired platforms: platform choices tend to come before database choices. In other words, platform choices can dictate database choices. But does the current platform predict desired databases or do desired platforms influece desired database choices more? We shall see!"
   ]
  },
  {
   "cell_type": "code",
   "execution_count": 56,
   "id": "d2557d7b",
   "metadata": {},
   "outputs": [
    {
     "data": {
      "text/plain": [
       "['Respondent',\n",
       " 'MainBranch',\n",
       " 'Hobbyist',\n",
       " 'Age',\n",
       " 'Age1stCode',\n",
       " 'CompFreq',\n",
       " 'CompTotal',\n",
       " 'ConvertedComp',\n",
       " 'Country',\n",
       " 'CurrencyDesc',\n",
       " 'CurrencySymbol',\n",
       " 'DatabaseDesireNextYear',\n",
       " 'DatabaseWorkedWith',\n",
       " 'DevType',\n",
       " 'EdLevel',\n",
       " 'Employment',\n",
       " 'Ethnicity',\n",
       " 'Gender',\n",
       " 'JobFactors',\n",
       " 'JobSat',\n",
       " 'JobSeek',\n",
       " 'LanguageDesireNextYear',\n",
       " 'LanguageWorkedWith',\n",
       " 'MiscTechDesireNextYear',\n",
       " 'MiscTechWorkedWith',\n",
       " 'NEWCollabToolsDesireNextYear',\n",
       " 'NEWCollabToolsWorkedWith',\n",
       " 'NEWDevOps',\n",
       " 'NEWDevOpsImpt',\n",
       " 'NEWEdImpt',\n",
       " 'NEWJobHunt',\n",
       " 'NEWJobHuntResearch',\n",
       " 'NEWLearn',\n",
       " 'NEWOffTopic',\n",
       " 'NEWOnboardGood',\n",
       " 'NEWOtherComms',\n",
       " 'NEWOvertime',\n",
       " 'NEWPurchaseResearch',\n",
       " 'NEWPurpleLink',\n",
       " 'NEWSOSites',\n",
       " 'NEWStuck',\n",
       " 'OpSys',\n",
       " 'OrgSize',\n",
       " 'PlatformDesireNextYear',\n",
       " 'PlatformWorkedWith',\n",
       " 'PurchaseWhat',\n",
       " 'Sexuality',\n",
       " 'SOAccount',\n",
       " 'SOComm',\n",
       " 'SOPartFreq',\n",
       " 'SOVisitFreq',\n",
       " 'SurveyEase',\n",
       " 'SurveyLength',\n",
       " 'Trans',\n",
       " 'UndergradMajor',\n",
       " 'WebframeDesireNextYear',\n",
       " 'WebframeWorkedWith',\n",
       " 'WelcomeChange',\n",
       " 'WorkWeekHrs',\n",
       " 'YearsCode',\n",
       " 'YearsCodePro']"
      ]
     },
     "execution_count": 56,
     "metadata": {},
     "output_type": "execute_result"
    }
   ],
   "source": [
    "list(df_20)"
   ]
  },
  {
   "cell_type": "code",
   "execution_count": 75,
   "id": "6f4eec9b",
   "metadata": {
    "collapsed": true
   },
   "outputs": [
    {
     "data": {
      "text/html": [
       "<div>\n",
       "<style scoped>\n",
       "    .dataframe tbody tr th:only-of-type {\n",
       "        vertical-align: middle;\n",
       "    }\n",
       "\n",
       "    .dataframe tbody tr th {\n",
       "        vertical-align: top;\n",
       "    }\n",
       "\n",
       "    .dataframe thead th {\n",
       "        text-align: right;\n",
       "    }\n",
       "</style>\n",
       "<table border=\"1\" class=\"dataframe\">\n",
       "  <thead>\n",
       "    <tr style=\"text-align: right;\">\n",
       "      <th></th>\n",
       "      <th>Respondent</th>\n",
       "      <th>Country</th>\n",
       "      <th>PurchaseWhat</th>\n",
       "      <th>UndergradMajor</th>\n",
       "      <th>Hobbyist</th>\n",
       "      <th>Employment</th>\n",
       "      <th>DevType</th>\n",
       "      <th>DatabaseDesireNextYear</th>\n",
       "      <th>DatabaseWorkedWith</th>\n",
       "      <th>PlatformDesireNextYear</th>\n",
       "      <th>PlatformWorkedWith</th>\n",
       "    </tr>\n",
       "  </thead>\n",
       "  <tbody>\n",
       "    <tr>\n",
       "      <th>0</th>\n",
       "      <td>1</td>\n",
       "      <td>Germany</td>\n",
       "      <td>NaN</td>\n",
       "      <td>Computer science, computer engineering, or sof...</td>\n",
       "      <td>Yes</td>\n",
       "      <td>Independent contractor, freelancer, or self-em...</td>\n",
       "      <td>Developer, desktop or enterprise applications;...</td>\n",
       "      <td>Microsoft SQL Server</td>\n",
       "      <td>Elasticsearch;Microsoft SQL Server;Oracle</td>\n",
       "      <td>Android;iOS;Kubernetes;Microsoft Azure;Windows</td>\n",
       "      <td>Windows</td>\n",
       "    </tr>\n",
       "    <tr>\n",
       "      <th>1</th>\n",
       "      <td>2</td>\n",
       "      <td>United Kingdom</td>\n",
       "      <td>I have little or no influence</td>\n",
       "      <td>Computer science, computer engineering, or sof...</td>\n",
       "      <td>No</td>\n",
       "      <td>Employed full-time</td>\n",
       "      <td>Developer, full-stack;Developer, mobile</td>\n",
       "      <td>NaN</td>\n",
       "      <td>NaN</td>\n",
       "      <td>iOS;Kubernetes;Linux;MacOS</td>\n",
       "      <td>iOS</td>\n",
       "    </tr>\n",
       "    <tr>\n",
       "      <th>2</th>\n",
       "      <td>3</td>\n",
       "      <td>Russian Federation</td>\n",
       "      <td>NaN</td>\n",
       "      <td>NaN</td>\n",
       "      <td>Yes</td>\n",
       "      <td>NaN</td>\n",
       "      <td>NaN</td>\n",
       "      <td>NaN</td>\n",
       "      <td>NaN</td>\n",
       "      <td>NaN</td>\n",
       "      <td>NaN</td>\n",
       "    </tr>\n",
       "    <tr>\n",
       "      <th>3</th>\n",
       "      <td>4</td>\n",
       "      <td>Albania</td>\n",
       "      <td>I have a great deal of influence</td>\n",
       "      <td>Computer science, computer engineering, or sof...</td>\n",
       "      <td>Yes</td>\n",
       "      <td>NaN</td>\n",
       "      <td>NaN</td>\n",
       "      <td>NaN</td>\n",
       "      <td>NaN</td>\n",
       "      <td>NaN</td>\n",
       "      <td>NaN</td>\n",
       "    </tr>\n",
       "    <tr>\n",
       "      <th>4</th>\n",
       "      <td>5</td>\n",
       "      <td>United States</td>\n",
       "      <td>NaN</td>\n",
       "      <td>Computer science, computer engineering, or sof...</td>\n",
       "      <td>Yes</td>\n",
       "      <td>Employed full-time</td>\n",
       "      <td>NaN</td>\n",
       "      <td>MySQL;PostgreSQL</td>\n",
       "      <td>MySQL;PostgreSQL;Redis;SQLite</td>\n",
       "      <td>Docker;Google Cloud Platform;Heroku;Linux;Windows</td>\n",
       "      <td>AWS;Docker;Linux;MacOS;Windows</td>\n",
       "    </tr>\n",
       "    <tr>\n",
       "      <th>5</th>\n",
       "      <td>6</td>\n",
       "      <td>Germany</td>\n",
       "      <td>I have some influence</td>\n",
       "      <td>NaN</td>\n",
       "      <td>No</td>\n",
       "      <td>Employed full-time</td>\n",
       "      <td>Designer;Developer, front-end;Developer, mobile</td>\n",
       "      <td>NaN</td>\n",
       "      <td>NaN</td>\n",
       "      <td>Android</td>\n",
       "      <td>Android;Docker;WordPress</td>\n",
       "    </tr>\n",
       "    <tr>\n",
       "      <th>6</th>\n",
       "      <td>7</td>\n",
       "      <td>India</td>\n",
       "      <td>NaN</td>\n",
       "      <td>Computer science, computer engineering, or sof...</td>\n",
       "      <td>Yes</td>\n",
       "      <td>Employed full-time</td>\n",
       "      <td>Developer, back-end;Developer, front-end;Devel...</td>\n",
       "      <td>NaN</td>\n",
       "      <td>NaN</td>\n",
       "      <td>NaN</td>\n",
       "      <td>NaN</td>\n",
       "    </tr>\n",
       "    <tr>\n",
       "      <th>7</th>\n",
       "      <td>8</td>\n",
       "      <td>United States</td>\n",
       "      <td>I have some influence</td>\n",
       "      <td>Computer science, computer engineering, or sof...</td>\n",
       "      <td>Yes</td>\n",
       "      <td>Employed full-time</td>\n",
       "      <td>Developer, back-end;Developer, desktop or ente...</td>\n",
       "      <td>MongoDB</td>\n",
       "      <td>MariaDB;MySQL;Redis</td>\n",
       "      <td>iOS;Slack Apps and Integrations</td>\n",
       "      <td>Docker</td>\n",
       "    </tr>\n",
       "    <tr>\n",
       "      <th>8</th>\n",
       "      <td>9</td>\n",
       "      <td>Tunisia</td>\n",
       "      <td>NaN</td>\n",
       "      <td>Computer science, computer engineering, or sof...</td>\n",
       "      <td>No</td>\n",
       "      <td>Independent contractor, freelancer, or self-em...</td>\n",
       "      <td>Developer, full-stack</td>\n",
       "      <td>NaN</td>\n",
       "      <td>NaN</td>\n",
       "      <td>NaN</td>\n",
       "      <td>WordPress</td>\n",
       "    </tr>\n",
       "    <tr>\n",
       "      <th>9</th>\n",
       "      <td>10</td>\n",
       "      <td>United Kingdom</td>\n",
       "      <td>I have a great deal of influence</td>\n",
       "      <td>Mathematics or statistics</td>\n",
       "      <td>Yes</td>\n",
       "      <td>Employed full-time</td>\n",
       "      <td>Database administrator;Developer, full-stack;D...</td>\n",
       "      <td>Microsoft SQL Server</td>\n",
       "      <td>Microsoft SQL Server</td>\n",
       "      <td>Android;Linux;Raspberry Pi;Windows</td>\n",
       "      <td>Android;Linux;Raspberry Pi;Windows</td>\n",
       "    </tr>\n",
       "  </tbody>\n",
       "</table>\n",
       "</div>"
      ],
      "text/plain": [
       "   Respondent             Country                      PurchaseWhat  \\\n",
       "0           1             Germany                               NaN   \n",
       "1           2      United Kingdom     I have little or no influence   \n",
       "2           3  Russian Federation                               NaN   \n",
       "3           4             Albania  I have a great deal of influence   \n",
       "4           5       United States                               NaN   \n",
       "5           6             Germany             I have some influence   \n",
       "6           7               India                               NaN   \n",
       "7           8       United States             I have some influence   \n",
       "8           9             Tunisia                               NaN   \n",
       "9          10      United Kingdom  I have a great deal of influence   \n",
       "\n",
       "                                      UndergradMajor Hobbyist  \\\n",
       "0  Computer science, computer engineering, or sof...      Yes   \n",
       "1  Computer science, computer engineering, or sof...       No   \n",
       "2                                                NaN      Yes   \n",
       "3  Computer science, computer engineering, or sof...      Yes   \n",
       "4  Computer science, computer engineering, or sof...      Yes   \n",
       "5                                                NaN       No   \n",
       "6  Computer science, computer engineering, or sof...      Yes   \n",
       "7  Computer science, computer engineering, or sof...      Yes   \n",
       "8  Computer science, computer engineering, or sof...       No   \n",
       "9                          Mathematics or statistics      Yes   \n",
       "\n",
       "                                          Employment  \\\n",
       "0  Independent contractor, freelancer, or self-em...   \n",
       "1                                 Employed full-time   \n",
       "2                                                NaN   \n",
       "3                                                NaN   \n",
       "4                                 Employed full-time   \n",
       "5                                 Employed full-time   \n",
       "6                                 Employed full-time   \n",
       "7                                 Employed full-time   \n",
       "8  Independent contractor, freelancer, or self-em...   \n",
       "9                                 Employed full-time   \n",
       "\n",
       "                                             DevType DatabaseDesireNextYear  \\\n",
       "0  Developer, desktop or enterprise applications;...   Microsoft SQL Server   \n",
       "1            Developer, full-stack;Developer, mobile                    NaN   \n",
       "2                                                NaN                    NaN   \n",
       "3                                                NaN                    NaN   \n",
       "4                                                NaN       MySQL;PostgreSQL   \n",
       "5    Designer;Developer, front-end;Developer, mobile                    NaN   \n",
       "6  Developer, back-end;Developer, front-end;Devel...                    NaN   \n",
       "7  Developer, back-end;Developer, desktop or ente...                MongoDB   \n",
       "8                              Developer, full-stack                    NaN   \n",
       "9  Database administrator;Developer, full-stack;D...   Microsoft SQL Server   \n",
       "\n",
       "                          DatabaseWorkedWith  \\\n",
       "0  Elasticsearch;Microsoft SQL Server;Oracle   \n",
       "1                                        NaN   \n",
       "2                                        NaN   \n",
       "3                                        NaN   \n",
       "4              MySQL;PostgreSQL;Redis;SQLite   \n",
       "5                                        NaN   \n",
       "6                                        NaN   \n",
       "7                        MariaDB;MySQL;Redis   \n",
       "8                                        NaN   \n",
       "9                       Microsoft SQL Server   \n",
       "\n",
       "                              PlatformDesireNextYear  \\\n",
       "0     Android;iOS;Kubernetes;Microsoft Azure;Windows   \n",
       "1                         iOS;Kubernetes;Linux;MacOS   \n",
       "2                                                NaN   \n",
       "3                                                NaN   \n",
       "4  Docker;Google Cloud Platform;Heroku;Linux;Windows   \n",
       "5                                            Android   \n",
       "6                                                NaN   \n",
       "7                    iOS;Slack Apps and Integrations   \n",
       "8                                                NaN   \n",
       "9                 Android;Linux;Raspberry Pi;Windows   \n",
       "\n",
       "                   PlatformWorkedWith  \n",
       "0                             Windows  \n",
       "1                                 iOS  \n",
       "2                                 NaN  \n",
       "3                                 NaN  \n",
       "4      AWS;Docker;Linux;MacOS;Windows  \n",
       "5            Android;Docker;WordPress  \n",
       "6                                 NaN  \n",
       "7                              Docker  \n",
       "8                           WordPress  \n",
       "9  Android;Linux;Raspberry Pi;Windows  "
      ]
     },
     "execution_count": 75,
     "metadata": {},
     "output_type": "execute_result"
    }
   ],
   "source": [
    "#choosing relevant features from 2020 survey\n",
    "relevant_data_20 = df_20[['Respondent', \n",
    "                          'Country',  \n",
    "                          'PurchaseWhat',\n",
    "                          'UndergradMajor',\n",
    "                          'Hobbyist', \n",
    "                          'Employment',\n",
    "                          'DevType', \n",
    "                          'DatabaseDesireNextYear', \n",
    "                          'DatabaseWorkedWith', \n",
    "                          'PlatformDesireNextYear', \n",
    "                          'PlatformWorkedWith']]\n",
    "relevant_data_20.head(10)"
   ]
  },
  {
   "cell_type": "markdown",
   "id": "ddce1c44",
   "metadata": {},
   "source": [
    "### Data Cleaning and EDA\n",
    "\n",
    "Survey data can be very messy, especially open-ended questions. Fortunately, most of the columns were relatively clean, but some needed to be split, hot-encoded, and transformed for the model. Each step has a more detailed explanation below."
   ]
  },
  {
   "cell_type": "code",
   "execution_count": 77,
   "id": "b3a20977",
   "metadata": {
    "collapsed": true
   },
   "outputs": [
    {
     "name": "stdout",
     "output_type": "stream",
     "text": [
      "<class 'pandas.core.frame.DataFrame'>\n",
      "RangeIndex: 64461 entries, 0 to 64460\n",
      "Data columns (total 11 columns):\n",
      " #   Column                  Non-Null Count  Dtype \n",
      "---  ------                  --------------  ----- \n",
      " 0   Respondent              64461 non-null  int64 \n",
      " 1   Country                 64072 non-null  object\n",
      " 2   PurchaseWhat            39364 non-null  object\n",
      " 3   UndergradMajor          50995 non-null  object\n",
      " 4   Hobbyist                64416 non-null  object\n",
      " 5   Employment              63854 non-null  object\n",
      " 6   DevType                 49370 non-null  object\n",
      " 7   DatabaseDesireNextYear  44070 non-null  object\n",
      " 8   DatabaseWorkedWith      49537 non-null  object\n",
      " 9   PlatformDesireNextYear  50605 non-null  object\n",
      " 10  PlatformWorkedWith      53843 non-null  object\n",
      "dtypes: int64(1), object(10)\n",
      "memory usage: 5.4+ MB\n"
     ]
    }
   ],
   "source": [
    "relevant_data_20.info()"
   ]
  },
  {
   "cell_type": "markdown",
   "id": "f881f2a6",
   "metadata": {},
   "source": [
    "### Some insights about country of origin\n",
    "\n",
    "Country of origin could provide interesting insights about respondents and their answer choices. Considerations include: a) access to technology and education, b) spoken language, c) affordability, and d) representation of overall population (or trying to draw comparisons between the StackOverflow community and the global technical community).\n",
    "\n",
    "One of the first insights provided by doing a simple count was the seemingly over representation of US and India populations. The StackOverflow community is also highly skewed towards English speaking countries, given that StackOverflow questions and answers are not translated. Therefore, this model may not be a good proxy for the overall technical community, suggesting that it could predict desired databases for the StackOverflow community, but may not be as predictive in 'real world' scenarios.\n",
    "\n",
    "Respondents from the US, India, UK, Germany and Canada constitute almost 50% of all respondents. This makeup would suggest a good predictor for desired databases, given that the weight for each would be significant. However, respondents from the other 185 countries would have much less significance or 'explainability'. Pruning the decision tree became much easier with this implication in mind."
   ]
  },
  {
   "cell_type": "code",
   "execution_count": 57,
   "id": "888b5be5",
   "metadata": {
    "collapsed": true
   },
   "outputs": [
    {
     "data": {
      "text/plain": [
       "<AxesSubplot:title={'center':'Number of Respondents from Countries'}>"
      ]
     },
     "execution_count": 57,
     "metadata": {},
     "output_type": "execute_result"
    },
    {
     "data": {
      "image/png": "[encoded data removed]",
      "text/plain": [
       "<Figure size 432x288 with 1 Axes>"
      ]
     },
     "metadata": {
      "needs_background": "light"
     },
     "output_type": "display_data"
    }
   ],
   "source": [
    "#counting number of respondents per country\n",
    "country_20 = relevant_data_20['Country'].value_counts()\n",
    "top_country_20 = country_20.head(30).sort_values(ascending = True)\n",
    "top_country_20.plot(kind = 'barh', title = 'Number of Respondents from Countries')"
   ]
  },
  {
   "cell_type": "markdown",
   "id": "0fa6a01c",
   "metadata": {},
   "source": [
    "### Respondent types\n",
    "\n",
    "Respondents could choose multiple answer choices, making it difficult to ascertain their primary job function. For instance, many of the respondents who selected \"Developer, back-end\" and \"Developer, front-end\", would have also chosen \"Developer, full-stack\". Therefore, there are probably many more respondent types who would self-identify as \"Developer, full-stack\" than what is represented in the data. \n",
    "\n",
    "In order to mitigate this selection bias, the column was split into columns for each answer choice and summed to show which answer choice was chosen most frequently."
   ]
  },
  {
   "cell_type": "code",
   "execution_count": 59,
   "id": "272e3f2c",
   "metadata": {
    "collapsed": true
   },
   "outputs": [
    {
     "data": {
      "text/plain": [
       "<AxesSubplot:title={'center':'Number of Developers per Devtype'}>"
      ]
     },
     "execution_count": 59,
     "metadata": {},
     "output_type": "execute_result"
    },
    {
     "data": {
      "image/png": "[encoded data removed]",
      "text/plain": [
       "<Figure size 432x288 with 1 Axes>"
      ]
     },
     "metadata": {
      "needs_background": "light"
     },
     "output_type": "display_data"
    }
   ],
   "source": [
    "devtype_20 = relevant_data_20['DevType'].value_counts()\n",
    "devtype_20 = devtype_20.head(30).sort_values(ascending = False)\n",
    "devtype_20.plot(kind = 'bar', title = 'Number of Developers per Devtype')"
   ]
  },
  {
   "cell_type": "code",
   "execution_count": 60,
   "id": "4f3b196b",
   "metadata": {},
   "outputs": [],
   "source": [
    "#split into columns for each answer choice.\n",
    "\n",
    "def split_multicolumn(col_series):\n",
    "    result_df = col_series.to_frame()\n",
    "    options = []\n",
    "    # Iterate over the column\n",
    "    for idx, value  in col_series[col_series.notnull()].iteritems():\n",
    "        # Break each value into list of options\n",
    "        for option in value.split(';'):\n",
    "            # Add the option as a column to result\n",
    "            if not option in result_df.columns:\n",
    "                options.append(option)\n",
    "                result_df[option] = False\n",
    "            # Mark the value in the option column as True\n",
    "            result_df.at[idx, option] = True\n",
    "    return result_df[options]"
   ]
  },
  {
   "cell_type": "code",
   "execution_count": 85,
   "id": "44f421bd",
   "metadata": {},
   "outputs": [],
   "source": [
    "#sum each answer choice for DevType\n",
    "devtype_df = split_multicolumn(relevant_data_20['DevType'])"
   ]
  },
  {
   "cell_type": "code",
   "execution_count": 80,
   "id": "72cafac8",
   "metadata": {
    "collapsed": true
   },
   "outputs": [
    {
     "data": {
      "image/png": "[encoded data removed]",
      "text/plain": [
       "<Figure size 432x288 with 1 Axes>"
      ]
     },
     "metadata": {
      "needs_background": "light"
     },
     "output_type": "display_data"
    }
   ],
   "source": [
    "dev_type_totals = devtype_df.sum().sort_values(ascending = False)\n",
    "\n",
    "\n",
    "from matplotlib.pyplot import figure\n",
    "\n",
    "fig, ax = plt.subplots()\n",
    "\n",
    "plt.xticks(rotation=90,wrap=False)\n",
    "\n",
    "pps = dev_type_totals.plot(kind = 'bar', title = 'Number of Respondents per Devtype')\n",
    "\n",
    "\n",
    "plt.show()"
   ]
  },
  {
   "cell_type": "markdown",
   "id": "00af28a2",
   "metadata": {},
   "source": [
    "##Decision Makers\n",
    "\n",
    "Respondent types should inform the model significantly given that they have direct control over the technologies that they use...or at least that is the assumption. There are many instances, especially in large organizations, when only managers have direct decision making power. That is changing, due to the cloud, but decision making still has more significance in the model than direct usage. Nevertheless, this model incorporates both dimensions."
   ]
  },
  {
   "cell_type": "code",
   "execution_count": 87,
   "id": "df6fa2fa",
   "metadata": {
    "scrolled": true
   },
   "outputs": [
    {
     "data": {
      "text/plain": [
       "NaN                                 25097\n",
       "I have little or no influence       16987\n",
       "I have some influence               15379\n",
       "I have a great deal of influence     6998\n",
       "Name: PurchaseWhat, dtype: int64"
      ]
     },
     "execution_count": 87,
     "metadata": {},
     "output_type": "execute_result"
    }
   ],
   "source": [
    "relevant_data_20['PurchaseWhat'].value_counts(dropna = False)\n",
    "\n",
    "# purchasewhat_totals = purchasewhat.sum().sort_values(ascending = False)\n",
    "# fig, ax = plt.subplots()\n",
    "\n",
    "# plt.xticks(rotation=90,wrap=False)\n",
    "\n",
    "# pps = purchasewhat_totals.plot(kind = 'bar', title = 'Purchase Influence')\n",
    "\n",
    "\n",
    "# plt.show()"
   ]
  },
  {
   "cell_type": "code",
   "execution_count": null,
   "id": "fb29cc77",
   "metadata": {},
   "outputs": [],
   "source": []
  },
  {
   "cell_type": "code",
   "execution_count": null,
   "id": "438b62a9",
   "metadata": {},
   "outputs": [],
   "source": []
  },
  {
   "cell_type": "code",
   "execution_count": null,
   "id": "a4a67d87",
   "metadata": {},
   "outputs": [],
   "source": []
  },
  {
   "cell_type": "code",
   "execution_count": 20,
   "id": "57ade7fe",
   "metadata": {
    "collapsed": true
   },
   "outputs": [
    {
     "data": {
      "text/html": [
       "<div>\n",
       "<style scoped>\n",
       "    .dataframe tbody tr th:only-of-type {\n",
       "        vertical-align: middle;\n",
       "    }\n",
       "\n",
       "    .dataframe tbody tr th {\n",
       "        vertical-align: top;\n",
       "    }\n",
       "\n",
       "    .dataframe thead th {\n",
       "        text-align: right;\n",
       "    }\n",
       "</style>\n",
       "<table border=\"1\" class=\"dataframe\">\n",
       "  <thead>\n",
       "    <tr style=\"text-align: right;\">\n",
       "      <th>DevType</th>\n",
       "      <th>Data or business analyst</th>\n",
       "      <th>Data scientist or machine learning specialist</th>\n",
       "      <th>Database administrator</th>\n",
       "      <th>Designer</th>\n",
       "      <th>DevOps specialist</th>\n",
       "      <th>Developer, QA or test</th>\n",
       "      <th>Developer, back-end</th>\n",
       "      <th>Developer, desktop or enterprise applications</th>\n",
       "      <th>Developer, embedded applications or devices</th>\n",
       "      <th>Developer, front-end</th>\n",
       "      <th>Developer, full-stack</th>\n",
       "      <th>Developer, mobile</th>\n",
       "      <th>Engineer, data</th>\n",
       "      <th>System administrator</th>\n",
       "    </tr>\n",
       "    <tr>\n",
       "      <th>Hobbyist</th>\n",
       "      <th></th>\n",
       "      <th></th>\n",
       "      <th></th>\n",
       "      <th></th>\n",
       "      <th></th>\n",
       "      <th></th>\n",
       "      <th></th>\n",
       "      <th></th>\n",
       "      <th></th>\n",
       "      <th></th>\n",
       "      <th></th>\n",
       "      <th></th>\n",
       "      <th></th>\n",
       "      <th></th>\n",
       "    </tr>\n",
       "  </thead>\n",
       "  <tbody>\n",
       "    <tr>\n",
       "      <th>No</th>\n",
       "      <td>97</td>\n",
       "      <td>108</td>\n",
       "      <td>9</td>\n",
       "      <td>27</td>\n",
       "      <td>40</td>\n",
       "      <td>93</td>\n",
       "      <td>901</td>\n",
       "      <td>199</td>\n",
       "      <td>117</td>\n",
       "      <td>402</td>\n",
       "      <td>1218</td>\n",
       "      <td>347</td>\n",
       "      <td>49</td>\n",
       "      <td>36</td>\n",
       "    </tr>\n",
       "    <tr>\n",
       "      <th>Yes</th>\n",
       "      <td>188</td>\n",
       "      <td>261</td>\n",
       "      <td>30</td>\n",
       "      <td>65</td>\n",
       "      <td>137</td>\n",
       "      <td>192</td>\n",
       "      <td>2185</td>\n",
       "      <td>407</td>\n",
       "      <td>326</td>\n",
       "      <td>999</td>\n",
       "      <td>3206</td>\n",
       "      <td>904</td>\n",
       "      <td>140</td>\n",
       "      <td>124</td>\n",
       "    </tr>\n",
       "  </tbody>\n",
       "</table>\n",
       "</div>"
      ],
      "text/plain": [
       "DevType   Data or business analyst  \\\n",
       "Hobbyist                             \n",
       "No                              97   \n",
       "Yes                            188   \n",
       "\n",
       "DevType   Data scientist or machine learning specialist  \\\n",
       "Hobbyist                                                  \n",
       "No                                                  108   \n",
       "Yes                                                 261   \n",
       "\n",
       "DevType   Database administrator  Designer  DevOps specialist  \\\n",
       "Hobbyist                                                        \n",
       "No                             9        27                 40   \n",
       "Yes                           30        65                137   \n",
       "\n",
       "DevType   Developer, QA or test  Developer, back-end  \\\n",
       "Hobbyist                                               \n",
       "No                           93                  901   \n",
       "Yes                         192                 2185   \n",
       "\n",
       "DevType   Developer, desktop or enterprise applications  \\\n",
       "Hobbyist                                                  \n",
       "No                                                  199   \n",
       "Yes                                                 407   \n",
       "\n",
       "DevType   Developer, embedded applications or devices  Developer, front-end  \\\n",
       "Hobbyist                                                                      \n",
       "No                                                117                   402   \n",
       "Yes                                               326                   999   \n",
       "\n",
       "DevType   Developer, full-stack  Developer, mobile  Engineer, data  \\\n",
       "Hobbyist                                                             \n",
       "No                         1218                347              49   \n",
       "Yes                        3206                904             140   \n",
       "\n",
       "DevType   System administrator  \n",
       "Hobbyist                        \n",
       "No                          36  \n",
       "Yes                        124  "
      ]
     },
     "execution_count": 20,
     "metadata": {},
     "output_type": "execute_result"
    }
   ],
   "source": [
    "pd.crosstab(all_devs_df['Hobbyist'], all_devs_df['DevType'])"
   ]
  },
  {
   "cell_type": "code",
   "execution_count": 21,
   "id": "770035f7",
   "metadata": {
    "collapsed": true
   },
   "outputs": [
    {
     "data": {
      "text/html": [
       "<div>\n",
       "<style scoped>\n",
       "    .dataframe tbody tr th:only-of-type {\n",
       "        vertical-align: middle;\n",
       "    }\n",
       "\n",
       "    .dataframe tbody tr th {\n",
       "        vertical-align: top;\n",
       "    }\n",
       "\n",
       "    .dataframe thead th {\n",
       "        text-align: right;\n",
       "    }\n",
       "</style>\n",
       "<table border=\"1\" class=\"dataframe\">\n",
       "  <thead>\n",
       "    <tr style=\"text-align: right;\">\n",
       "      <th>Employment</th>\n",
       "      <th>Employed full-time</th>\n",
       "      <th>Employed part-time</th>\n",
       "      <th>Independent contractor, freelancer, or self-employed</th>\n",
       "      <th>Not employed, but looking for work</th>\n",
       "    </tr>\n",
       "    <tr>\n",
       "      <th>DevType</th>\n",
       "      <th></th>\n",
       "      <th></th>\n",
       "      <th></th>\n",
       "      <th></th>\n",
       "    </tr>\n",
       "  </thead>\n",
       "  <tbody>\n",
       "    <tr>\n",
       "      <th>Data or business analyst</th>\n",
       "      <td>246</td>\n",
       "      <td>9</td>\n",
       "      <td>21</td>\n",
       "      <td>9</td>\n",
       "    </tr>\n",
       "    <tr>\n",
       "      <th>Data scientist or machine learning specialist</th>\n",
       "      <td>303</td>\n",
       "      <td>21</td>\n",
       "      <td>19</td>\n",
       "      <td>26</td>\n",
       "    </tr>\n",
       "    <tr>\n",
       "      <th>Database administrator</th>\n",
       "      <td>28</td>\n",
       "      <td>3</td>\n",
       "      <td>5</td>\n",
       "      <td>3</td>\n",
       "    </tr>\n",
       "    <tr>\n",
       "      <th>Designer</th>\n",
       "      <td>62</td>\n",
       "      <td>8</td>\n",
       "      <td>17</td>\n",
       "      <td>5</td>\n",
       "    </tr>\n",
       "    <tr>\n",
       "      <th>DevOps specialist</th>\n",
       "      <td>161</td>\n",
       "      <td>7</td>\n",
       "      <td>8</td>\n",
       "      <td>1</td>\n",
       "    </tr>\n",
       "    <tr>\n",
       "      <th>Developer, QA or test</th>\n",
       "      <td>258</td>\n",
       "      <td>9</td>\n",
       "      <td>9</td>\n",
       "      <td>9</td>\n",
       "    </tr>\n",
       "    <tr>\n",
       "      <th>Developer, back-end</th>\n",
       "      <td>2721</td>\n",
       "      <td>99</td>\n",
       "      <td>163</td>\n",
       "      <td>103</td>\n",
       "    </tr>\n",
       "    <tr>\n",
       "      <th>Developer, desktop or enterprise applications</th>\n",
       "      <td>523</td>\n",
       "      <td>29</td>\n",
       "      <td>43</td>\n",
       "      <td>11</td>\n",
       "    </tr>\n",
       "    <tr>\n",
       "      <th>Developer, embedded applications or devices</th>\n",
       "      <td>394</td>\n",
       "      <td>15</td>\n",
       "      <td>22</td>\n",
       "      <td>12</td>\n",
       "    </tr>\n",
       "    <tr>\n",
       "      <th>Developer, front-end</th>\n",
       "      <td>1145</td>\n",
       "      <td>64</td>\n",
       "      <td>91</td>\n",
       "      <td>101</td>\n",
       "    </tr>\n",
       "    <tr>\n",
       "      <th>Developer, full-stack</th>\n",
       "      <td>3786</td>\n",
       "      <td>137</td>\n",
       "      <td>356</td>\n",
       "      <td>145</td>\n",
       "    </tr>\n",
       "    <tr>\n",
       "      <th>Developer, mobile</th>\n",
       "      <td>1075</td>\n",
       "      <td>33</td>\n",
       "      <td>90</td>\n",
       "      <td>53</td>\n",
       "    </tr>\n",
       "    <tr>\n",
       "      <th>Engineer, data</th>\n",
       "      <td>163</td>\n",
       "      <td>8</td>\n",
       "      <td>7</td>\n",
       "      <td>11</td>\n",
       "    </tr>\n",
       "    <tr>\n",
       "      <th>System administrator</th>\n",
       "      <td>134</td>\n",
       "      <td>14</td>\n",
       "      <td>6</td>\n",
       "      <td>6</td>\n",
       "    </tr>\n",
       "  </tbody>\n",
       "</table>\n",
       "</div>"
      ],
      "text/plain": [
       "Employment                                     Employed full-time  \\\n",
       "DevType                                                             \n",
       "Data or business analyst                                      246   \n",
       "Data scientist or machine learning specialist                 303   \n",
       "Database administrator                                         28   \n",
       "Designer                                                       62   \n",
       "DevOps specialist                                             161   \n",
       "Developer, QA or test                                         258   \n",
       "Developer, back-end                                          2721   \n",
       "Developer, desktop or enterprise applications                 523   \n",
       "Developer, embedded applications or devices                   394   \n",
       "Developer, front-end                                         1145   \n",
       "Developer, full-stack                                        3786   \n",
       "Developer, mobile                                            1075   \n",
       "Engineer, data                                                163   \n",
       "System administrator                                          134   \n",
       "\n",
       "Employment                                     Employed part-time  \\\n",
       "DevType                                                             \n",
       "Data or business analyst                                        9   \n",
       "Data scientist or machine learning specialist                  21   \n",
       "Database administrator                                          3   \n",
       "Designer                                                        8   \n",
       "DevOps specialist                                               7   \n",
       "Developer, QA or test                                           9   \n",
       "Developer, back-end                                            99   \n",
       "Developer, desktop or enterprise applications                  29   \n",
       "Developer, embedded applications or devices                    15   \n",
       "Developer, front-end                                           64   \n",
       "Developer, full-stack                                         137   \n",
       "Developer, mobile                                              33   \n",
       "Engineer, data                                                  8   \n",
       "System administrator                                           14   \n",
       "\n",
       "Employment                                     Independent contractor, freelancer, or self-employed  \\\n",
       "DevType                                                                                               \n",
       "Data or business analyst                                                                      21      \n",
       "Data scientist or machine learning specialist                                                 19      \n",
       "Database administrator                                                                         5      \n",
       "Designer                                                                                      17      \n",
       "DevOps specialist                                                                              8      \n",
       "Developer, QA or test                                                                          9      \n",
       "Developer, back-end                                                                          163      \n",
       "Developer, desktop or enterprise applications                                                 43      \n",
       "Developer, embedded applications or devices                                                   22      \n",
       "Developer, front-end                                                                          91      \n",
       "Developer, full-stack                                                                        356      \n",
       "Developer, mobile                                                                             90      \n",
       "Engineer, data                                                                                 7      \n",
       "System administrator                                                                           6      \n",
       "\n",
       "Employment                                     Not employed, but looking for work  \n",
       "DevType                                                                            \n",
       "Data or business analyst                                                        9  \n",
       "Data scientist or machine learning specialist                                  26  \n",
       "Database administrator                                                          3  \n",
       "Designer                                                                        5  \n",
       "DevOps specialist                                                               1  \n",
       "Developer, QA or test                                                           9  \n",
       "Developer, back-end                                                           103  \n",
       "Developer, desktop or enterprise applications                                  11  \n",
       "Developer, embedded applications or devices                                    12  \n",
       "Developer, front-end                                                          101  \n",
       "Developer, full-stack                                                         145  \n",
       "Developer, mobile                                                              53  \n",
       "Engineer, data                                                                 11  \n",
       "System administrator                                                            6  "
      ]
     },
     "execution_count": 21,
     "metadata": {},
     "output_type": "execute_result"
    }
   ],
   "source": [
    "pd.crosstab(all_devs_df['DevType'], all_devs_df['Employment'])"
   ]
  },
  {
   "cell_type": "code",
   "execution_count": 22,
   "id": "1a81c89e",
   "metadata": {},
   "outputs": [],
   "source": [
    "df = pd.concat([all_devs_df, all_devs_df['DatabaseWorkedWith'].str.split(';', expand=True)], axis=1)"
   ]
  },
  {
   "cell_type": "code",
   "execution_count": 23,
   "id": "2ee81186",
   "metadata": {},
   "outputs": [
    {
     "name": "stdout",
     "output_type": "stream",
     "text": [
      "<class 'pandas.core.frame.DataFrame'>\n",
      "Int64Index: 12807 entries, 8 to 64451\n",
      "Data columns (total 25 columns):\n",
      " #   Column                  Non-Null Count  Dtype \n",
      "---  ------                  --------------  ----- \n",
      " 0   Respondent              12807 non-null  int64 \n",
      " 1   Country                 12807 non-null  object\n",
      " 2   Age1stCode              12717 non-null  object\n",
      " 3   UndergradMajor          11834 non-null  object\n",
      " 4   Hobbyist                12807 non-null  object\n",
      " 5   Employment              12807 non-null  object\n",
      " 6   DevType                 12807 non-null  object\n",
      " 7   DatabaseDesireNextYear  8716 non-null   object\n",
      " 8   DatabaseWorkedWith      9981 non-null   object\n",
      " 9   PlatformDesireNextYear  10131 non-null  object\n",
      " 10  PlatformWorkedWith      10881 non-null  object\n",
      " 11  0                       9981 non-null   object\n",
      " 12  1                       6655 non-null   object\n",
      " 13  2                       3836 non-null   object\n",
      " 14  3                       2008 non-null   object\n",
      " 15  4                       987 non-null    object\n",
      " 16  5                       458 non-null    object\n",
      " 17  6                       211 non-null    object\n",
      " 18  7                       93 non-null     object\n",
      " 19  8                       39 non-null     object\n",
      " 20  9                       12 non-null     object\n",
      " 21  10                      6 non-null      object\n",
      " 22  11                      2 non-null      object\n",
      " 23  12                      2 non-null      object\n",
      " 24  13                      2 non-null      object\n",
      "dtypes: int64(1), object(24)\n",
      "memory usage: 2.5+ MB\n"
     ]
    }
   ],
   "source": [
    "df.info()"
   ]
  },
  {
   "cell_type": "code",
   "execution_count": 24,
   "id": "40494e2d",
   "metadata": {
    "scrolled": true
   },
   "outputs": [],
   "source": [
    "df = df.rename(columns = {0: \"CurrentDB0\",\n",
    "                     1: \"CurrentDB1\",\n",
    "                     2: \"CurrentDB2\",\n",
    "                     3: \"CurrentDB3\",\n",
    "                     4: \"CurrentDB4\", \n",
    "                     5:\"CurrentDB5\",\n",
    "                     6:\"CurrentDB6\",\n",
    "                     7:\"CurrentDB7\",\n",
    "                     8:\"CurrentDB8\",\n",
    "                     9:\"CurrentDB9\",\n",
    "                     10:\"CurrentDB10\",\n",
    "                     11:\"CurrentDB11\",\n",
    "                     12:\"CurrentDB12\",\n",
    "                     13:\"CurrentDB13\",})"
   ]
  },
  {
   "cell_type": "code",
   "execution_count": 25,
   "id": "60078876",
   "metadata": {},
   "outputs": [
    {
     "name": "stdout",
     "output_type": "stream",
     "text": [
      "<class 'pandas.core.frame.DataFrame'>\n",
      "Int64Index: 12807 entries, 8 to 64451\n",
      "Data columns (total 25 columns):\n",
      " #   Column                  Non-Null Count  Dtype \n",
      "---  ------                  --------------  ----- \n",
      " 0   Respondent              12807 non-null  int64 \n",
      " 1   Country                 12807 non-null  object\n",
      " 2   Age1stCode              12717 non-null  object\n",
      " 3   UndergradMajor          11834 non-null  object\n",
      " 4   Hobbyist                12807 non-null  object\n",
      " 5   Employment              12807 non-null  object\n",
      " 6   DevType                 12807 non-null  object\n",
      " 7   DatabaseDesireNextYear  8716 non-null   object\n",
      " 8   DatabaseWorkedWith      9981 non-null   object\n",
      " 9   PlatformDesireNextYear  10131 non-null  object\n",
      " 10  PlatformWorkedWith      10881 non-null  object\n",
      " 11  CurrentDB0              9981 non-null   object\n",
      " 12  CurrentDB1              6655 non-null   object\n",
      " 13  CurrentDB2              3836 non-null   object\n",
      " 14  CurrentDB3              2008 non-null   object\n",
      " 15  CurrentDB4              987 non-null    object\n",
      " 16  CurrentDB5              458 non-null    object\n",
      " 17  CurrentDB6              211 non-null    object\n",
      " 18  CurrentDB7              93 non-null     object\n",
      " 19  CurrentDB8              39 non-null     object\n",
      " 20  CurrentDB9              12 non-null     object\n",
      " 21  CurrentDB10             6 non-null      object\n",
      " 22  CurrentDB11             2 non-null      object\n",
      " 23  CurrentDB12             2 non-null      object\n",
      " 24  CurrentDB13             2 non-null      object\n",
      "dtypes: int64(1), object(24)\n",
      "memory usage: 2.5+ MB\n"
     ]
    }
   ],
   "source": [
    "df.info()"
   ]
  },
  {
   "cell_type": "code",
   "execution_count": 26,
   "id": "4399cca5",
   "metadata": {},
   "outputs": [],
   "source": [
    "df = pd.concat([df, df['DatabaseDesireNextYear'].str.split(';', expand=True)], axis=1)"
   ]
  },
  {
   "cell_type": "code",
   "execution_count": 27,
   "id": "a68407a5",
   "metadata": {},
   "outputs": [],
   "source": [
    "df = df.rename(columns = {0: \"DesiredDB0\",\n",
    "                     1: \"DesiredDB1\",\n",
    "                     2: \"DesiredDB2\",\n",
    "                     3: \"DesiredDB3\",\n",
    "                     4: \"DesiredDB4\", \n",
    "                     5:\"DesiredDB5\",\n",
    "                     6:\"DesiredB6\",\n",
    "                     7:\"DesiredDB7\",\n",
    "                     8:\"DesiredDB8\",\n",
    "                     9:\"DesiredDB9\",\n",
    "                     10:\"DesiredDB10\",\n",
    "                     11:\"DesiredDB11\",\n",
    "                     12:\"DesiredDB12\",\n",
    "                     13:\"DesiredDB13\",})"
   ]
  },
  {
   "cell_type": "code",
   "execution_count": 28,
   "id": "b1112bd5",
   "metadata": {},
   "outputs": [
    {
     "name": "stdout",
     "output_type": "stream",
     "text": [
      "<class 'pandas.core.frame.DataFrame'>\n",
      "Int64Index: 12807 entries, 8 to 64451\n",
      "Data columns (total 39 columns):\n",
      " #   Column                  Non-Null Count  Dtype \n",
      "---  ------                  --------------  ----- \n",
      " 0   Respondent              12807 non-null  int64 \n",
      " 1   Country                 12807 non-null  object\n",
      " 2   Age1stCode              12717 non-null  object\n",
      " 3   UndergradMajor          11834 non-null  object\n",
      " 4   Hobbyist                12807 non-null  object\n",
      " 5   Employment              12807 non-null  object\n",
      " 6   DevType                 12807 non-null  object\n",
      " 7   DatabaseDesireNextYear  8716 non-null   object\n",
      " 8   DatabaseWorkedWith      9981 non-null   object\n",
      " 9   PlatformDesireNextYear  10131 non-null  object\n",
      " 10  PlatformWorkedWith      10881 non-null  object\n",
      " 11  CurrentDB0              9981 non-null   object\n",
      " 12  CurrentDB1              6655 non-null   object\n",
      " 13  CurrentDB2              3836 non-null   object\n",
      " 14  CurrentDB3              2008 non-null   object\n",
      " 15  CurrentDB4              987 non-null    object\n",
      " 16  CurrentDB5              458 non-null    object\n",
      " 17  CurrentDB6              211 non-null    object\n",
      " 18  CurrentDB7              93 non-null     object\n",
      " 19  CurrentDB8              39 non-null     object\n",
      " 20  CurrentDB9              12 non-null     object\n",
      " 21  CurrentDB10             6 non-null      object\n",
      " 22  CurrentDB11             2 non-null      object\n",
      " 23  CurrentDB12             2 non-null      object\n",
      " 24  CurrentDB13             2 non-null      object\n",
      " 25  DesiredDB0              8716 non-null   object\n",
      " 26  DesiredDB1              5897 non-null   object\n",
      " 27  DesiredDB2              3527 non-null   object\n",
      " 28  DesiredDB3              1851 non-null   object\n",
      " 29  DesiredDB4              923 non-null    object\n",
      " 30  DesiredDB5              419 non-null    object\n",
      " 31  DesiredB6               210 non-null    object\n",
      " 32  DesiredDB7              107 non-null    object\n",
      " 33  DesiredDB8              47 non-null     object\n",
      " 34  DesiredDB9              24 non-null     object\n",
      " 35  DesiredDB10             17 non-null     object\n",
      " 36  DesiredDB11             11 non-null     object\n",
      " 37  DesiredDB12             6 non-null      object\n",
      " 38  DesiredDB13             3 non-null      object\n",
      "dtypes: int64(1), object(38)\n",
      "memory usage: 3.9+ MB\n"
     ]
    }
   ],
   "source": [
    "df.info()"
   ]
  },
  {
   "cell_type": "code",
   "execution_count": null,
   "id": "bc53f5da",
   "metadata": {},
   "outputs": [],
   "source": []
  },
  {
   "cell_type": "code",
   "execution_count": 30,
   "id": "5fc56b82",
   "metadata": {},
   "outputs": [],
   "source": [
    "df = pd.concat([df, df['PlatformDesireNextYear'].str.split(';', expand=True)], axis=1)"
   ]
  },
  {
   "cell_type": "code",
   "execution_count": 31,
   "id": "2e679a94",
   "metadata": {},
   "outputs": [],
   "source": [
    "df = df.rename(columns = {0: \"DesiredPlatform0\",\n",
    "                     1: \"DesiredPlatform1\",\n",
    "                     2: \"DesiredPlatform2\",\n",
    "                     3: \"DesiredPlatform3\",\n",
    "                     4: \"DesiredPlatform4\", \n",
    "                     5:\"DesiredPlatform5\",\n",
    "                     6:\"DesiredPlatform6\",\n",
    "                     7:\"DesiredPlatform7\",\n",
    "                     8:\"DesiredPlatform8\",\n",
    "                     9:\"DesiredPlatform9\",\n",
    "                     10:\"DesiredPlatform10\",\n",
    "                     11:\"DesiredPlatform11\",\n",
    "                     12:\"DesiredPlatform12\",\n",
    "                     13:\"DesiredPlatform13\",\n",
    "                    14:\"DesiredPlatform14\",\n",
    "                     15:\"DesiredPlatform15\",                                 \n",
    "                                                           })"
   ]
  },
  {
   "cell_type": "code",
   "execution_count": 32,
   "id": "29549fe5",
   "metadata": {},
   "outputs": [],
   "source": [
    "df = pd.concat([df, df['PlatformWorkedWith'].str.split(';', expand=True)], axis=1)"
   ]
  },
  {
   "cell_type": "code",
   "execution_count": 33,
   "id": "05aaf903",
   "metadata": {},
   "outputs": [],
   "source": [
    "df = df.rename(columns = {0: \"CurrentPlatform0\",\n",
    "                     1: \"CurrentPlatform1\",\n",
    "                     2: \"CurrentPlatform2\",\n",
    "                     3: \"CurrentPlatform3\",\n",
    "                     4: \"CurrentPlatform4\", \n",
    "                     5:\"CurrentPlatform5\",\n",
    "                     6:\"CurrentPlatform6\",\n",
    "                     7:\"CurrentPlatform7\",\n",
    "                     8:\"CurrentPlatform8\",\n",
    "                     9:\"CurrentPlatform9\",\n",
    "                     10:\"CurrentPlatform10\",\n",
    "                     11:\"CurrentPlatform11\",\n",
    "                     12:\"CurrentPlatform12\",\n",
    "                     13:\"CurrentPlatform13\",\n",
    "                    14:\"CurrentPlatform14\",\n",
    "                     15:\"CurrentPlatform15\",                                 \n",
    "                                                           })"
   ]
  },
  {
   "cell_type": "code",
   "execution_count": 34,
   "id": "e99b219c",
   "metadata": {
    "scrolled": true
   },
   "outputs": [
    {
     "name": "stdout",
     "output_type": "stream",
     "text": [
      "<class 'pandas.core.frame.DataFrame'>\n",
      "Int64Index: 12807 entries, 8 to 64451\n",
      "Data columns (total 71 columns):\n",
      " #   Column                  Non-Null Count  Dtype \n",
      "---  ------                  --------------  ----- \n",
      " 0   Respondent              12807 non-null  int64 \n",
      " 1   Country                 12807 non-null  object\n",
      " 2   Age1stCode              12717 non-null  object\n",
      " 3   UndergradMajor          11834 non-null  object\n",
      " 4   Hobbyist                12807 non-null  object\n",
      " 5   Employment              12807 non-null  object\n",
      " 6   DevType                 12807 non-null  object\n",
      " 7   DatabaseDesireNextYear  8716 non-null   object\n",
      " 8   DatabaseWorkedWith      9981 non-null   object\n",
      " 9   PlatformDesireNextYear  10131 non-null  object\n",
      " 10  PlatformWorkedWith      10881 non-null  object\n",
      " 11  CurrentDB0              9981 non-null   object\n",
      " 12  CurrentDB1              6655 non-null   object\n",
      " 13  CurrentDB2              3836 non-null   object\n",
      " 14  CurrentDB3              2008 non-null   object\n",
      " 15  CurrentDB4              987 non-null    object\n",
      " 16  CurrentDB5              458 non-null    object\n",
      " 17  CurrentDB6              211 non-null    object\n",
      " 18  CurrentDB7              93 non-null     object\n",
      " 19  CurrentDB8              39 non-null     object\n",
      " 20  CurrentDB9              12 non-null     object\n",
      " 21  CurrentDB10             6 non-null      object\n",
      " 22  CurrentDB11             2 non-null      object\n",
      " 23  CurrentDB12             2 non-null      object\n",
      " 24  CurrentDB13             2 non-null      object\n",
      " 25  DesiredDB0              8716 non-null   object\n",
      " 26  DesiredDB1              5897 non-null   object\n",
      " 27  DesiredDB2              3527 non-null   object\n",
      " 28  DesiredDB3              1851 non-null   object\n",
      " 29  DesiredDB4              923 non-null    object\n",
      " 30  DesiredDB5              419 non-null    object\n",
      " 31  DesiredB6               210 non-null    object\n",
      " 32  DesiredDB7              107 non-null    object\n",
      " 33  DesiredDB8              47 non-null     object\n",
      " 34  DesiredDB9              24 non-null     object\n",
      " 35  DesiredDB10             17 non-null     object\n",
      " 36  DesiredDB11             11 non-null     object\n",
      " 37  DesiredDB12             6 non-null      object\n",
      " 38  DesiredDB13             3 non-null      object\n",
      " 39  DesiredPlatform0        10131 non-null  object\n",
      " 40  DesiredPlatform1        8166 non-null   object\n",
      " 41  DesiredPlatform2        5917 non-null   object\n",
      " 42  DesiredPlatform3        3900 non-null   object\n",
      " 43  DesiredPlatform4        2357 non-null   object\n",
      " 44  DesiredPlatform5        1339 non-null   object\n",
      " 45  DesiredPlatform6        738 non-null    object\n",
      " 46  DesiredPlatform7        370 non-null    object\n",
      " 47  DesiredPlatform8        202 non-null    object\n",
      " 48  DesiredPlatform9        100 non-null    object\n",
      " 49  DesiredPlatform10       53 non-null     object\n",
      " 50  DesiredPlatform11       24 non-null     object\n",
      " 51  DesiredPlatform12       14 non-null     object\n",
      " 52  DesiredPlatform13       8 non-null      object\n",
      " 53  DesiredPlatform14       7 non-null      object\n",
      " 54  DesiredPlatform15       5 non-null      object\n",
      " 55  CurrentPlatform0        10881 non-null  object\n",
      " 56  CurrentPlatform1        7954 non-null   object\n",
      " 57  CurrentPlatform2        5204 non-null   object\n",
      " 58  CurrentPlatform3        3170 non-null   object\n",
      " 59  CurrentPlatform4        1796 non-null   object\n",
      " 60  CurrentPlatform5        950 non-null    object\n",
      " 61  CurrentPlatform6        483 non-null    object\n",
      " 62  CurrentPlatform7        233 non-null    object\n",
      " 63  CurrentPlatform8        107 non-null    object\n",
      " 64  CurrentPlatform9        53 non-null     object\n",
      " 65  CurrentPlatform10       27 non-null     object\n",
      " 66  CurrentPlatform11       17 non-null     object\n",
      " 67  CurrentPlatform12       10 non-null     object\n",
      " 68  CurrentPlatform13       6 non-null      object\n",
      " 69  CurrentPlatform14       4 non-null      object\n",
      " 70  CurrentPlatform15       3 non-null      object\n",
      "dtypes: int64(1), object(70)\n",
      "memory usage: 7.0+ MB\n"
     ]
    }
   ],
   "source": [
    "df.info()"
   ]
  },
  {
   "cell_type": "code",
   "execution_count": 35,
   "id": "a0f9fabd",
   "metadata": {},
   "outputs": [],
   "source": [
    "df_toy = df[['Country','DevType','CurrentDB0', 'DesiredDB0', 'DesiredPlatform0', 'CurrentPlatform0']]"
   ]
  },
  {
   "cell_type": "code",
   "execution_count": 36,
   "id": "c8132e3d",
   "metadata": {
    "scrolled": true
   },
   "outputs": [
    {
     "data": {
      "text/html": [
       "<div>\n",
       "<style scoped>\n",
       "    .dataframe tbody tr th:only-of-type {\n",
       "        vertical-align: middle;\n",
       "    }\n",
       "\n",
       "    .dataframe tbody tr th {\n",
       "        vertical-align: top;\n",
       "    }\n",
       "\n",
       "    .dataframe thead th {\n",
       "        text-align: right;\n",
       "    }\n",
       "</style>\n",
       "<table border=\"1\" class=\"dataframe\">\n",
       "  <thead>\n",
       "    <tr style=\"text-align: right;\">\n",
       "      <th></th>\n",
       "      <th>Country</th>\n",
       "      <th>DevType</th>\n",
       "      <th>CurrentDB0</th>\n",
       "      <th>DesiredDB0</th>\n",
       "      <th>DesiredPlatform0</th>\n",
       "      <th>CurrentPlatform0</th>\n",
       "    </tr>\n",
       "  </thead>\n",
       "  <tbody>\n",
       "    <tr>\n",
       "      <th>8</th>\n",
       "      <td>Tunisia</td>\n",
       "      <td>Developer, full-stack</td>\n",
       "      <td>NaN</td>\n",
       "      <td>NaN</td>\n",
       "      <td>NaN</td>\n",
       "      <td>WordPress</td>\n",
       "    </tr>\n",
       "    <tr>\n",
       "      <th>16</th>\n",
       "      <td>United States</td>\n",
       "      <td>Developer, full-stack</td>\n",
       "      <td>Microsoft SQL Server</td>\n",
       "      <td>Cassandra</td>\n",
       "      <td>Docker</td>\n",
       "      <td>NaN</td>\n",
       "    </tr>\n",
       "    <tr>\n",
       "      <th>17</th>\n",
       "      <td>United States</td>\n",
       "      <td>Developer, back-end</td>\n",
       "      <td>Elasticsearch</td>\n",
       "      <td>Elasticsearch</td>\n",
       "      <td>Linux</td>\n",
       "      <td>AWS</td>\n",
       "    </tr>\n",
       "    <tr>\n",
       "      <th>18</th>\n",
       "      <td>United States</td>\n",
       "      <td>Developer, full-stack</td>\n",
       "      <td>MariaDB</td>\n",
       "      <td>MariaDB</td>\n",
       "      <td>iOS</td>\n",
       "      <td>Windows</td>\n",
       "    </tr>\n",
       "    <tr>\n",
       "      <th>19</th>\n",
       "      <td>Spain</td>\n",
       "      <td>Developer, desktop or enterprise applications</td>\n",
       "      <td>IBM DB2</td>\n",
       "      <td>NaN</td>\n",
       "      <td>NaN</td>\n",
       "      <td>Heroku</td>\n",
       "    </tr>\n",
       "  </tbody>\n",
       "</table>\n",
       "</div>"
      ],
      "text/plain": [
       "          Country                                        DevType  \\\n",
       "8         Tunisia                          Developer, full-stack   \n",
       "16  United States                          Developer, full-stack   \n",
       "17  United States                            Developer, back-end   \n",
       "18  United States                          Developer, full-stack   \n",
       "19          Spain  Developer, desktop or enterprise applications   \n",
       "\n",
       "              CurrentDB0     DesiredDB0 DesiredPlatform0 CurrentPlatform0  \n",
       "8                    NaN            NaN              NaN        WordPress  \n",
       "16  Microsoft SQL Server      Cassandra           Docker              NaN  \n",
       "17         Elasticsearch  Elasticsearch            Linux              AWS  \n",
       "18               MariaDB        MariaDB              iOS          Windows  \n",
       "19               IBM DB2            NaN              NaN           Heroku  "
      ]
     },
     "execution_count": 36,
     "metadata": {},
     "output_type": "execute_result"
    }
   ],
   "source": [
    "df_toy.head()"
   ]
  },
  {
   "cell_type": "code",
   "execution_count": 37,
   "id": "0f4e4af0",
   "metadata": {},
   "outputs": [],
   "source": [
    "def count_db(df_toy, column_string,db_name):\n",
    "    '''Count the number of current or desired databases'''\n",
    "    \n",
    "    counter = 0\n",
    "    for i in df_toy[column_string]:\n",
    "        if i == db_name:\n",
    "            counter += 1\n",
    "    return counter"
   ]
  },
  {
   "cell_type": "code",
   "execution_count": 38,
   "id": "dea6ad0f",
   "metadata": {},
   "outputs": [],
   "source": [
    "Cur_MySQL = count_db(df_toy, \"CurrentDB0\",\"MySQL\")\n",
    "Cur_PostgreSQL = count_db(df_toy, \"CurrentDB0\",\"PostgreSQL\")\n",
    "Cur_Microsoft_SQL_Server = count_db(df_toy, \"CurrentDB0\",\"Microsoft SQL Server\")\n",
    "Cur_SQLite = count_db(df_toy, \"CurrentDB0\",\"SQLite\")\n",
    "Cur_MongoDB = count_db(df_toy, \"CurrentDB0\",\"MongoDB\")\n",
    "Cur_Redis = count_db(df_toy, \"CurrentDB0\",\"Redis\")\n",
    "Cur_MariaDB = count_db(df_toy, \"CurrentDB0\",\"MariaDB\")\n",
    "Cur_Oracle = count_db(df_toy, \"CurrentDB0\",\"Oracle\")\n",
    "Cur_Firebase = count_db(df_toy, \"CurrentDB0\",\"Firebase\")\n",
    "Cur_Elasticsearch = count_db(df_toy, \"CurrentDB0\",\"Elasticsearch\")\n",
    "Cur_DynamoDB = count_db(df_toy, \"CurrentDB0\",\"DynamoDB\")\n",
    "Cur_Cassandra = count_db(df_toy, \"CurrentDB0\",\"Cassandra\")\n",
    "Cur_IBM_DB2 = count_db(df_toy, \"CurrentDB0\",\"IBM DB2\")\n",
    "Cur_Couchbase= count_db(df_toy, \"CurrentDB0\",\"Couchbase\")\n",
    "\n",
    "Current_DBs = [\n",
    "Cur_MySQL,\n",
    "Cur_PostgreSQL,\n",
    "Cur_Microsoft_SQL_Server,\n",
    "Cur_SQLite,\n",
    "Cur_MongoDB,\n",
    "Cur_Redis,\n",
    "Cur_MariaDB,\n",
    "Cur_Oracle,\n",
    "Cur_Firebase,\n",
    "Cur_Elasticsearch,\n",
    "Cur_DynamoDB,\n",
    "Cur_Cassandra,\n",
    "Cur_IBM_DB2,\n",
    "Cur_Couchbase\n",
    "]"
   ]
  },
  {
   "cell_type": "code",
   "execution_count": 39,
   "id": "97bcc47a",
   "metadata": {},
   "outputs": [
    {
     "data": {
      "image/png": "[encoded data removed]",
      "text/plain": [
       "<Figure size 432x288 with 1 Axes>"
      ]
     },
     "metadata": {
      "needs_background": "light"
     },
     "output_type": "display_data"
    }
   ],
   "source": [
    "labels = ['MySQL',\n",
    "'PostgreSQL',\n",
    "'SQL_Server',\n",
    "'SQLite',\n",
    "'MongoDB',\n",
    "\"Redis\",\n",
    "\"MariaDB\",\n",
    "\"Oracle\",\n",
    "\"Firebase\",\n",
    "\"Elasticsearch\",\n",
    "\"DynamoDB\",\n",
    "\"Cassandra\",\n",
    "\"IBM DB2\",\n",
    "\"Couchbase\"\n",
    "         ]\n",
    "from matplotlib.pyplot import figure\n",
    "\n",
    "fig, ax = plt.subplots()\n",
    "\n",
    "plt.xticks(rotation=90,wrap=False)\n",
    "\n",
    "# plt.figure(figsize=(11,8))\n",
    "\n",
    "ax.set_ylabel('Users')\n",
    "ax.set_title('Current Databases')\n",
    "\n",
    "# ax.bar(x - width/2, Current_DBs, width, label='Current_DBs')\n",
    "\n",
    "pps = plt.bar(labels,Current_DBs)\n",
    "for p in pps:\n",
    "   height = p.get_height()\n",
    "   ax.annotate('{}'.format(height),\n",
    "      xy=(p.get_x() + p.get_width() / 2, height),\n",
    "      xytext=(0, 3), # 3 points vertical offset\n",
    "      textcoords=\"offset points\",\n",
    "      ha='center', va='bottom')\n",
    "\n",
    "\n",
    "plt.show()"
   ]
  },
  {
   "cell_type": "code",
   "execution_count": 40,
   "id": "9179e845",
   "metadata": {},
   "outputs": [
    {
     "name": "stdout",
     "output_type": "stream",
     "text": [
      "8716\n"
     ]
    }
   ],
   "source": [
    "Des_MySQL = count_db(df_toy, \"DesiredDB0\",\"MySQL\")\n",
    "Des_PostgreSQL = count_db(df_toy, \"DesiredDB0\",\"PostgreSQL\")\n",
    "Des_Microsoft_SQL_Server = count_db(df_toy, \"DesiredDB0\",\"Microsoft SQL Server\")\n",
    "Des_SQLite = count_db(df_toy, \"DesiredDB0\",\"SQLite\")\n",
    "Des_MongoDB = count_db(df_toy, \"DesiredDB0\",\"MongoDB\")\n",
    "Des_Redis = count_db(df_toy, \"DesiredDB0\",\"Redis\")\n",
    "Des_MariaDB = count_db(df_toy, \"DesiredDB0\",\"MariaDB\")\n",
    "Des_Oracle = count_db(df_toy, \"DesiredDB0\",\"Oracle\")\n",
    "Des_Firebase = count_db(df_toy, \"DesiredDB0\",\"Firebase\")\n",
    "Des_Elasticsearch = count_db(df_toy, \"DesiredDB0\",\"Elasticsearch\")\n",
    "Des_DynamoDB = count_db(df_toy, \"DesiredDB0\",\"DynamoDB\")\n",
    "Des_Cassandra = count_db(df_toy, \"DesiredDB0\",\"Cassandra\")\n",
    "Des_IBM_DB2 = count_db(df_toy, \"DesiredDB0\",\"IBM DB2\")\n",
    "Des_Couchbase= count_db(df_toy, \"DesiredDB0\",\"Couchbase\")\n",
    "\n",
    "Desired_DBs = [\n",
    "Des_MySQL,\n",
    "Des_PostgreSQL,\n",
    "Des_Microsoft_SQL_Server,\n",
    "Des_SQLite,\n",
    "Des_MongoDB,\n",
    "Des_Redis,\n",
    "Des_MariaDB,\n",
    "Des_Oracle,\n",
    "Des_Firebase,\n",
    "Des_Elasticsearch,\n",
    "Des_DynamoDB,\n",
    "Des_Cassandra,\n",
    "Des_IBM_DB2,\n",
    "Des_Couchbase\n",
    "]\n",
    "\n",
    "sum = 0\n",
    "for i in Desired_DBs:\n",
    "    sum += i\n",
    "print(sum)"
   ]
  },
  {
   "cell_type": "code",
   "execution_count": 41,
   "id": "ce05ae89",
   "metadata": {},
   "outputs": [
    {
     "data": {
      "image/png": "[encoded data removed]",
      "text/plain": [
       "<Figure size 432x288 with 1 Axes>"
      ]
     },
     "metadata": {
      "needs_background": "light"
     },
     "output_type": "display_data"
    }
   ],
   "source": [
    "labels = ['MySQL',\n",
    "'PostgreSQL',\n",
    "'SQL_Server',\n",
    "'SQLite',\n",
    "'MongoDB',\n",
    "\"Redis\",\n",
    "\"MariaDB\",\n",
    "\"Oracle\",\n",
    "\"Firebase\",\n",
    "\"Elasticsearch\",\n",
    "\"DynamoDB\",\n",
    "\"Cassandra\",\n",
    "\"IBM DB2\",\n",
    "\"Couchbase\"\n",
    "         ]\n",
    "from matplotlib.pyplot import figure\n",
    "\n",
    "fig, ax = plt.subplots()\n",
    "\n",
    "plt.xticks(rotation=90,wrap=False)\n",
    "\n",
    "# plt.figure(figsize=(11,8))\n",
    "\n",
    "ax.set_ylabel('Users')\n",
    "ax.set_title('Desired Databases')\n",
    "\n",
    "pps = plt.bar(labels,Desired_DBs)\n",
    "for p in pps:\n",
    "   height = p.get_height()\n",
    "   ax.annotate('{}'.format(height),\n",
    "      xy=(p.get_x() + p.get_width() / 2, height),\n",
    "      xytext=(0, 3), # 3 points vertical offset\n",
    "      textcoords=\"offset points\",\n",
    "      ha='center', va='bottom')\n",
    "\n",
    "\n",
    "plt.show()"
   ]
  },
  {
   "cell_type": "code",
   "execution_count": 42,
   "id": "ec4446c4",
   "metadata": {},
   "outputs": [],
   "source": [
    "def count_platforms(df_toy, column_string,platform_name):\n",
    "    '''Count the number of desired platforms'''\n",
    "    \n",
    "    counter = 0\n",
    "    for i in df_toy[column_string]:\n",
    "        if i == platform_name:\n",
    "            counter += 1\n",
    "    return counter\n"
   ]
  },
  {
   "cell_type": "code",
   "execution_count": 43,
   "id": "570f06a8",
   "metadata": {},
   "outputs": [
    {
     "name": "stdout",
     "output_type": "stream",
     "text": [
      "10131\n"
     ]
    }
   ],
   "source": [
    "Linux = count_platforms(df_toy, \"DesiredPlatform0\",\"Linux\")\n",
    "Windows = count_platforms(df_toy, \"DesiredPlatform0\",\"Windows\")\n",
    "Docker = count_platforms(df_toy, \"DesiredPlatform0\",\"Docker\")\n",
    "AWS = count_platforms(df_toy, \"DesiredPlatform0\",\"AWS\")\n",
    "Android = count_platforms(df_toy, \"DesiredPlatform0\",\"Android\")\n",
    "MacOS = count_platforms(df_toy, \"DesiredPlatform0\",\"MacOS\")\n",
    "Raspberry_Pi = count_platforms(df_toy, \"DesiredPlatform0\",\"Raspberry Pi\")\n",
    "Azure = count_platforms(df_toy, \"DesiredPlatform0\",\"Microsoft Azure\")\n",
    "WordPress = count_platforms(df_toy, \"DesiredPlatform0\",\"WordPress\")\n",
    "Google = count_platforms(df_toy, \"DesiredPlatform0\",\"Google Cloud Platform\")\n",
    "iOS = count_platforms(df_toy, \"DesiredPlatform0\",\"iOS\")\n",
    "Kubernetes = count_platforms(df_toy, \"DesiredPlatform0\",\"Kubernetes\")\n",
    "Heroku = count_platforms(df_toy, \"DesiredPlatform0\",\"Heroku\")\n",
    "Arduino= count_platforms(df_toy, \"DesiredPlatform0\",\"Arduino\")\n",
    "Slack = count_platforms(df_toy, \"DesiredPlatform0\",\"Slack Apps and Integrations\")\n",
    "Watson= count_platforms(df_toy, \"DesiredPlatform0\",\"IBM Cloud or Watson\")\n",
    "\n",
    "Desired_Platforms = [\n",
    "Linux,\n",
    "Windows,\n",
    "Docker,\n",
    "AWS,\n",
    "Android,\n",
    "MacOS,\n",
    "Raspberry_Pi,\n",
    "Azure,\n",
    "WordPress,\n",
    "Google,\n",
    "iOS,\n",
    "Kubernetes,\n",
    "Heroku,\n",
    "Arduino,\n",
    "Slack,\n",
    "Watson\n",
    "]\n",
    "\n",
    "sum = 0\n",
    "for i in Desired_Platforms:\n",
    "    sum += i\n",
    "print(sum)\n"
   ]
  },
  {
   "cell_type": "code",
   "execution_count": 44,
   "id": "b36ceb41",
   "metadata": {},
   "outputs": [
    {
     "data": {
      "image/png": "[encoded data removed]",
      "text/plain": [
       "<Figure size 432x288 with 1 Axes>"
      ]
     },
     "metadata": {
      "needs_background": "light"
     },
     "output_type": "display_data"
    }
   ],
   "source": [
    "labels = [\n",
    "'Linux',\n",
    "'Windows',\n",
    "'Docker',\n",
    "'AWS',\n",
    "'Android',\n",
    "'MacOS',\n",
    "'Raspberry_Pi',\n",
    "'Azure',\n",
    "'WordPress',\n",
    "'Google',\n",
    "'iOS',\n",
    "'Kubernetes',\n",
    "'Heroku',\n",
    "'Arduino',\n",
    "'Slack',\n",
    "'Watson'\n",
    "         ]\n",
    "from matplotlib.pyplot import figure\n",
    "\n",
    "fig, ax = plt.subplots()\n",
    "\n",
    "plt.xticks(rotation=90,wrap=False)\n",
    "\n",
    "# plt.figure(figsize=(11,8))\n",
    "\n",
    "ax.set_ylabel('Users')\n",
    "ax.set_title('Desired Platforms')\n",
    "\n",
    "pps = plt.bar(labels,Desired_Platforms)\n",
    "for p in pps:\n",
    "   height = p.get_height()\n",
    "   ax.annotate('{}'.format(height),\n",
    "      xy=(p.get_x() + p.get_width() / 2, height),\n",
    "      xytext=(0, 3), # 3 points vertical offset\n",
    "      textcoords=\"offset points\",\n",
    "      ha='center', va='bottom')\n",
    "\n",
    "\n",
    "plt.show()"
   ]
  },
  {
   "cell_type": "code",
   "execution_count": 45,
   "id": "9f54a26a",
   "metadata": {},
   "outputs": [
    {
     "name": "stdout",
     "output_type": "stream",
     "text": [
      "10881\n"
     ]
    }
   ],
   "source": [
    "#PlatformWorkedWith0\n",
    "\n",
    "Linux = count_platforms(df_toy, \"CurrentPlatform0\",\"Linux\")\n",
    "Windows = count_platforms(df_toy, \"CurrentPlatform0\",\"Windows\")\n",
    "Docker = count_platforms(df_toy, \"CurrentPlatform0\",\"Docker\")\n",
    "AWS = count_platforms(df_toy, \"CurrentPlatform0\",\"AWS\")\n",
    "Android = count_platforms(df_toy, \"CurrentPlatform0\",\"Android\")\n",
    "MacOS = count_platforms(df_toy, \"CurrentPlatform0\",\"MacOS\")\n",
    "Raspberry_Pi = count_platforms(df_toy, \"CurrentPlatform0\",\"Raspberry Pi\")\n",
    "Azure = count_platforms(df_toy, \"CurrentPlatform0\",\"Microsoft Azure\")\n",
    "WordPress = count_platforms(df_toy, \"CurrentPlatform0\",\"WordPress\")\n",
    "Google = count_platforms(df_toy, \"CurrentPlatform0\",\"Google Cloud Platform\")\n",
    "iOS = count_platforms(df_toy, \"CurrentPlatform0\",\"iOS\")\n",
    "Kubernetes = count_platforms(df_toy, \"CurrentPlatform0\",\"Kubernetes\")\n",
    "Heroku = count_platforms(df_toy, \"CurrentPlatform0\",\"Heroku\")\n",
    "Arduino= count_platforms(df_toy, \"CurrentPlatform0\",\"Arduino\")\n",
    "Slack = count_platforms(df_toy, \"CurrentPlatform0\",\"Slack Apps and Integrations\")\n",
    "Watson= count_platforms(df_toy, \"CurrentPlatform0\",\"IBM Cloud or Watson\")\n",
    "\n",
    "Current_Platforms = [\n",
    "Linux,\n",
    "Windows,\n",
    "Docker,\n",
    "AWS,\n",
    "Android,\n",
    "MacOS,\n",
    "Raspberry_Pi,\n",
    "Azure,\n",
    "WordPress,\n",
    "Google,\n",
    "iOS,\n",
    "Kubernetes,\n",
    "Heroku,\n",
    "Arduino,\n",
    "Slack,\n",
    "Watson\n",
    "]\n",
    "\n",
    "sum = 0\n",
    "for i in Current_Platforms:\n",
    "    sum += i\n",
    "print(sum)"
   ]
  },
  {
   "cell_type": "code",
   "execution_count": 46,
   "id": "1716e829",
   "metadata": {},
   "outputs": [
    {
     "data": {
      "image/png": "[encoded data removed]",
      "text/plain": [
       "<Figure size 432x288 with 1 Axes>"
      ]
     },
     "metadata": {
      "needs_background": "light"
     },
     "output_type": "display_data"
    }
   ],
   "source": [
    "labels = [\n",
    "'Linux',\n",
    "'Windows',\n",
    "'Docker',\n",
    "'AWS',\n",
    "'Android',\n",
    "'MacOS',\n",
    "'Raspberry_Pi',\n",
    "'Azure',\n",
    "'WordPress',\n",
    "'Google',\n",
    "'iOS',\n",
    "'Kubernetes',\n",
    "'Heroku',\n",
    "'Arduino',\n",
    "'Slack',\n",
    "'Watson'\n",
    "         ]\n",
    "from matplotlib.pyplot import figure\n",
    "\n",
    "fig, ax = plt.subplots()\n",
    "\n",
    "plt.xticks(rotation=90,wrap=False)\n",
    "\n",
    "# plt.figure(figsize=(11,8))\n",
    "\n",
    "ax.set_ylabel('Users')\n",
    "ax.set_title('Current Platforms')\n",
    "\n",
    "pps = plt.bar(labels,Current_Platforms)\n",
    "for p in pps:\n",
    "   height = p.get_height()\n",
    "   ax.annotate('{}'.format(height),\n",
    "      xy=(p.get_x() + p.get_width() / 2, height),\n",
    "      xytext=(0, 3), # 3 points vertical offset\n",
    "      textcoords=\"offset points\",\n",
    "      ha='center', va='bottom')\n",
    "\n",
    "\n",
    "plt.show()"
   ]
  },
  {
   "cell_type": "code",
   "execution_count": 47,
   "id": "31512947",
   "metadata": {},
   "outputs": [],
   "source": [
    "#One-hot encoding and training dataset for predicting desired databases\n",
    "\n",
    "X_database = pd.get_dummies(df_toy, columns= ['DevType','CurrentDB0', 'DesiredPlatform0','CurrentPlatform0'])\n",
    "X_database = X_database.drop(['Country', 'DesiredDB0'], axis = 1)"
   ]
  },
  {
   "cell_type": "code",
   "execution_count": 48,
   "id": "7bd5fa80",
   "metadata": {},
   "outputs": [
    {
     "data": {
      "text/plain": [
       "1315"
      ]
     },
     "execution_count": 48,
     "metadata": {},
     "output_type": "execute_result"
    }
   ],
   "source": [
    "#Labels for top desired databases\n",
    "\n",
    "\n",
    "def desired_database_y(df_toy, column_string, label):\n",
    "    \n",
    "    label_name = []\n",
    "    for i in df_toy[column_string]:\n",
    "        if i == label:\n",
    "            label_name.append(1)\n",
    "        else:\n",
    "            label_name.append(0) \n",
    "    return label_name\n",
    "\n",
    "MySQL_y = (desired_database_y(df_toy, 'DesiredDB0', \"MySQL\"))\n",
    "Elasticsearch_y = (desired_database_y(df_toy, 'DesiredDB0', \"Elasticsearch\"))\n",
    "SQL_Server_y = (desired_database_y(df_toy, 'DesiredDB0', \"SQL_Server\"))\n",
    "PostgreSQL_y = (desired_database_y(df_toy, 'DesiredDB0', \"PostgreSQL\"))\n",
    "Firebase_y = (desired_database_y(df_toy, 'DesiredDB0', \"Firebase\"))\n",
    "DynamoDB_y = (desired_database_y(df_toy, 'DesiredDB0', \"DynamoDB\"))\n",
    "np.count_nonzero(Elasticsearch_y)"
   ]
  },
  {
   "cell_type": "code",
   "execution_count": 49,
   "id": "5b02b637",
   "metadata": {
    "scrolled": true
   },
   "outputs": [
    {
     "name": "stdout",
     "output_type": "stream",
     "text": [
      "MySQL accuracy score: 0.9311864519817072\n",
      "Elastic accuracy score: 0.8823811928353658\n",
      "SQL Server accuracy score: 1.0\n",
      "PostgresSQL accuracy score: 0.9219133003048781\n",
      "Firebase accuracy score: 0.9253268864329268\n",
      "DynamoDB accuracy score: 0.9436793064024389\n"
     ]
    }
   ],
   "source": [
    "#Choose a Desired platform to test\n",
    "\n",
    "\n",
    "# y_label = Azure_y\n",
    "        \n",
    "# X_train, X_test, y_train, y_test = train_test_split(X,y_label, test_size = .2)\n",
    "# clf = DecisionTreeClassifier()\n",
    "# cv = StratifiedKFold(n_splits = 5) \n",
    "# scores = cross_val_score(clf, X_train, y_train, scoring = 'accuracy', cv = cv)\n",
    "# print(scores.mean())\n",
    "\n",
    "\n",
    "\n",
    "#Create function to make it easier to calculate means for accuracy scores for top labels.\n",
    "\n",
    "def mean_accuracy_scores(X, y):\n",
    "    \n",
    "    X_train, X_test, y_train, y_test = train_test_split(X,y, test_size = .2)\n",
    "    clf = DecisionTreeClassifier()\n",
    "    cv = StratifiedKFold(n_splits = 10) \n",
    "    scores = cross_val_score(clf, X_train, y_train, scoring = 'accuracy', cv = cv)\n",
    "    return scores.mean()\n",
    "\n",
    "print(f\"MySQL accuracy score: {mean_accuracy_scores(X_database, MySQL_y)}\")\n",
    "print(f\"Elastic accuracy score: {mean_accuracy_scores(X_database, Elasticsearch_y)}\")\n",
    "print(f\"SQL Server accuracy score: {mean_accuracy_scores(X_database, SQL_Server_y)}\")\n",
    "print(f\"PostgresSQL accuracy score: {mean_accuracy_scores(X_database, PostgreSQL_y)}\")\n",
    "print(f\"Firebase accuracy score: {mean_accuracy_scores(X_database, Firebase_y)}\")\n",
    "print(f\"DynamoDB accuracy score: {mean_accuracy_scores(X_database, DynamoDB_y)}\")\n",
    "\n",
    "\n"
   ]
  },
  {
   "cell_type": "code",
   "execution_count": 50,
   "id": "8b2e003b",
   "metadata": {
    "scrolled": false
   },
   "outputs": [],
   "source": [
    "#visualize Decision Tree:\n",
    "\n",
    "from sklearn import tree\n",
    "\n",
    "y = Elasticsearch_y\n",
    "\n",
    "X_train, X_test, y_train, y_test = train_test_split(X_database,y, test_size = .2)\n",
    "\n",
    "clf = tree.DecisionTreeClassifier(random_state=0)\n",
    "\n",
    "clf = clf.fit(X_train, y_train)\n",
    "\n",
    "# fig = plt.figure(figsize=(25,20))\n",
    "# tree.plot_tree(clf, filled = True, rounded = True)"
   ]
  },
  {
   "cell_type": "code",
   "execution_count": 51,
   "id": "467c6804",
   "metadata": {},
   "outputs": [],
   "source": [
    "# Extract Column Names as List in Pandas Dataframe\n",
    "\n",
    "predictor_names = X_database.columns.tolist()"
   ]
  },
  {
   "cell_type": "code",
   "execution_count": 52,
   "id": "6bb22eae",
   "metadata": {
    "scrolled": true
   },
   "outputs": [
    {
     "data": {
      "text/plain": [
       "<sklearn.metrics._plot.confusion_matrix.ConfusionMatrixDisplay at 0x7f9ef44ba8b0>"
      ]
     },
     "execution_count": 52,
     "metadata": {},
     "output_type": "execute_result"
    },
    {
     "data": {
      "image/png": "[encoded data removed]",
      "text/plain": [
       "<Figure size 432x288 with 2 Axes>"
      ]
     },
     "metadata": {
      "needs_background": "light"
     },
     "output_type": "display_data"
    }
   ],
   "source": [
    "from sklearn.metrics import plot_confusion_matrix\n",
    "plot_confusion_matrix(clf, X_test, y_test, display_labels= [\"Wants Elasticsearch\", \"Does Not Want Elasticsearch\"])"
   ]
  },
  {
   "cell_type": "code",
   "execution_count": 53,
   "id": "3f462cb9",
   "metadata": {
    "scrolled": true
   },
   "outputs": [
    {
     "data": {
      "image/png": "[encoded data removed]",
      "text/plain": [
       "<Figure size 1440x360 with 1 Axes>"
      ]
     },
     "metadata": {
      "needs_background": "light"
     },
     "output_type": "display_data"
    }
   ],
   "source": [
    "'''Determine most important features. Decision trees make splits that maximize the decrease in impurity. \n",
    "By calculating the mean decrease in impurity for each feature across all trees we can know that \n",
    "feature's importance.'''\n",
    "\n",
    "importances = clf.feature_importances_\n",
    "\n",
    "indices = np.argsort(importances)[::-1]\n",
    "\n",
    "f_names = [predictor_names[i] for i in indices]\n",
    "\n",
    "#create my plot\n",
    "fig, axes = plt.subplots(figsize=(20,5))\n",
    "axes.set_title(\"Feature Importances\")\n",
    "axes.bar(range(X_train.shape[1]), importances[indices])\n",
    "\n",
    "# Add feature names as x-axis labels\n",
    "axes.set_xticks(range(X_database.shape[1]));\n",
    "axes.set_xticklabels(f_names, rotation=45, ha='right', fontsize = '8');"
   ]
  },
  {
   "cell_type": "code",
   "execution_count": 54,
   "id": "0f2eb1f4",
   "metadata": {},
   "outputs": [],
   "source": [
    "path = clf.cost_complexity_pruning_path(X_train, y_train) # determine values of alpha\n",
    "ccp_alphas = path.ccp_alphas #extract different values for alpha\n",
    "cc_alphas = ccp_alphas[:-1] # exclude the max value for alpha\n",
    "\n",
    "clf_dts = [] #create an array for decision trees\n",
    "\n",
    "## create one decision tree per value for alpha and store it in the array\n",
    "\n",
    "for ccp_alpha in ccp_alphas:\n",
    "    clf_dt = DecisionTreeClassifier(random_state = 0, ccp_alpha = ccp_alpha)\n",
    "    clf_dt.fit(X_train, y_train)\n",
    "    clf_dts.append(clf_dt)"
   ]
  },
  {
   "cell_type": "code",
   "execution_count": 55,
   "id": "99a09b4a",
   "metadata": {},
   "outputs": [
    {
     "data": {
      "image/png": "[encoded data removed]",
      "text/plain": [
       "<Figure size 432x288 with 1 Axes>"
      ]
     },
     "metadata": {
      "needs_background": "light"
     },
     "output_type": "display_data"
    }
   ],
   "source": [
    "train_scores = [clf.score(X_train, y_train) for clf_dt in clf_dts]\n",
    "test_scores = [clf.score(X_test, y_test) for clf_dt in clf_dts]\n",
    "\n",
    "fig, ax = plt.subplots()\n",
    "ax.set_xlabel(\"alpha\")\n",
    "ax.set_ylabel(\"accuracy\")\n",
    "ax.set_title(\"Accuracy vs alpha for training and testing sets\")\n",
    "ax.plot(ccp_alphas, train_scores, marker = 'o', label=\"train\", drawstyle=\"steps-post\")\n",
    "ax.plot(ccp_alphas, test_scores, marker = 'o', label=\"test\", drawstyle=\"steps-post\")\n",
    "ax.legend()\n",
    "plt.show()"
   ]
  },
  {
   "cell_type": "code",
   "execution_count": null,
   "id": "5965d290",
   "metadata": {},
   "outputs": [],
   "source": []
  },
  {
   "cell_type": "code",
   "execution_count": null,
   "id": "69e4e03e",
   "metadata": {},
   "outputs": [],
   "source": []
  }
 ],
 "metadata": {
  "kernelspec": {
   "display_name": "Python 3",
   "language": "python",
   "name": "python3"
  },
  "language_info": {
   "codemirror_mode": {
    "name": "ipython",
    "version": 3
   },
   "file_extension": ".py",
   "mimetype": "text/x-python",
   "name": "python",
   "nbconvert_exporter": "python",
   "pygments_lexer": "ipython3",
   "version": "3.8.8"
  }
 },
 "nbformat": 4,
 "nbformat_minor": 5
}
