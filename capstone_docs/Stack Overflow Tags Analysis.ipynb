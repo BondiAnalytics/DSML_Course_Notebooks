{
 "cells": [
  {
   "cell_type": "markdown",
   "id": "184a2222",
   "metadata": {},
   "source": [
    "## Stack Overflow Tag Analysis\n",
    "\n",
    "The Stack Overflow dataset is a seminal dataset used by tech market researchers, because it is open, comprehensive, and behavioral in nature. It was first made available for public consumption in 2010, and encompasses not just questions and answer posts from the developer community but also technology tags associated with each post. As a result, these tags act as a good market proxy of user adoption, interest or disterest from a behavioral perspective: the more posts with a certain tag, the more indicative interest of that certain tag. The time series nature of this dataset also make it possible to gauge the waxing and waning of a tag, while also indicating changing affiliation among tags. Finally, additional metadata about users, badge contests and an annual developer survey provide additional context to help make business/actionable decisions, leading to measurable outcomes.\n",
    "\n",
    "Thus, for my capstone project I would like to analyze technology tags in the Stack Overflow dataset in order to better understand technology adoption curves and affiliations among technologies, depending on certain cohorts of developers. My team and I at Microsoft perfomed a similar analysis in 2016, where we found that OSS developers gravitated towards AWS and Google, as there were very few OSS offerings on Azure. We also realized that Microsoft had not reached out to OSS developers proactively, even with the limited offers. This 'wake up call' generated massive investment in development and marketing of OSS technologies on the Azure cloud/platform.\n",
    "\n",
    "Five years later, Microsoft would like to know if their efforts have paid off. They have seen fantastic growth in their OSS services and technologies, but are they keeping up with the market? Have they been able bring new developers onto their platform, or is this adoption coming from existing developers who have become 'polyglots'? And have the 'islands of technologies' that used to center around just AWS and Google begun to diffuse and include Azure? ...or is Azure still an island unto itself?"
   ]
  },
  {
   "cell_type": "code",
   "execution_count": 1,
   "id": "5182466f",
   "metadata": {},
   "outputs": [],
   "source": [
    "import numpy as np\n",
    "import pandas as pd\n",
    "import matplotlib.pyplot as plt\n",
    "import seaborn as sns\n",
    "sns.set()\n",
    "%matplotlib inline\n",
    "\n",
    "#preprocessing\n",
    "from sklearn.preprocessing import StandardScaler, Normalizer, MinMaxScaler\n",
    "from scipy import stats\n",
    "\n",
    "# pipelines\n",
    "from sklearn.pipeline import Pipeline\n",
    "\n",
    "# Regression\n",
    "from sklearn.linear_model import LinearRegression\n",
    "from sklearn.linear_model import SGDRegressor\n",
    "from sklearn.linear_model import Ridge\n",
    "from sklearn.metrics import mean_squared_error\n",
    "\n",
    "# NLP transformers\n",
    "from sklearn.feature_extraction.text import CountVectorizer, TfidfTransformer\n",
    "\n",
    "# classifiers you can use\n",
    "from sklearn.dummy import DummyClassifier\n",
    "from sklearn.svm import SVC\n",
    "from sklearn.tree import DecisionTreeClassifier\n",
    "from sklearn.ensemble import RandomForestClassifier, AdaBoostClassifier\n",
    "\n",
    "# model selection bits\n",
    "from sklearn.model_selection import GridSearchCV, train_test_split, cross_val_score, ShuffleSplit, RandomizedSearchCV\n",
    "from sklearn.model_selection import StratifiedShuffleSplit, StratifiedKFold, KFold\n",
    "from sklearn.model_selection import learning_curve, validation_curve\n",
    "\n",
    "# evaluation\n",
    "from sklearn.metrics import accuracy_score, precision_score, recall_score, f1_score, confusion_matrix, classification_report, fbeta_score"
   ]
  },
  {
   "cell_type": "code",
   "execution_count": 2,
   "id": "17ce888e",
   "metadata": {},
   "outputs": [],
   "source": [
    "posts = pd.read_csv(\"/Users/bens_mac/Documents/CodingNomads/SO_posts_BIG.csv\")\n",
    "users = pd.read_csv(\"/Users/bens_mac/Documents/CodingNomads/SO_users_BIG.csv\")"
   ]
  },
  {
   "cell_type": "code",
   "execution_count": 3,
   "id": "674ca168",
   "metadata": {},
   "outputs": [
    {
     "data": {
      "text/html": [
       "<div>\n",
       "<style scoped>\n",
       "    .dataframe tbody tr th:only-of-type {\n",
       "        vertical-align: middle;\n",
       "    }\n",
       "\n",
       "    .dataframe tbody tr th {\n",
       "        vertical-align: top;\n",
       "    }\n",
       "\n",
       "    .dataframe thead th {\n",
       "        text-align: right;\n",
       "    }\n",
       "</style>\n",
       "<table border=\"1\" class=\"dataframe\">\n",
       "  <thead>\n",
       "    <tr style=\"text-align: right;\">\n",
       "      <th></th>\n",
       "      <th>id</th>\n",
       "      <th>creation_date</th>\n",
       "      <th>last_activity_date</th>\n",
       "      <th>owner_user_id</th>\n",
       "      <th>post_type_id</th>\n",
       "      <th>tags</th>\n",
       "      <th>view_count</th>\n",
       "    </tr>\n",
       "  </thead>\n",
       "  <tbody>\n",
       "    <tr>\n",
       "      <th>0</th>\n",
       "      <td>66138537</td>\n",
       "      <td>2021-02-10 14:11:57.947 UTC</td>\n",
       "      <td>2021-02-10 14:11:57.947 UTC</td>\n",
       "      <td>8384006.0</td>\n",
       "      <td>1</td>\n",
       "      <td>dataexplorer</td>\n",
       "      <td>2</td>\n",
       "    </tr>\n",
       "    <tr>\n",
       "      <th>1</th>\n",
       "      <td>66229417</td>\n",
       "      <td>2021-02-16 17:40:44.097 UTC</td>\n",
       "      <td>2021-02-16 17:40:44.097 UTC</td>\n",
       "      <td>12549160.0</td>\n",
       "      <td>1</td>\n",
       "      <td>rstudio-server</td>\n",
       "      <td>2</td>\n",
       "    </tr>\n",
       "    <tr>\n",
       "      <th>2</th>\n",
       "      <td>66288134</td>\n",
       "      <td>2021-02-20 04:49:09.76 UTC</td>\n",
       "      <td>2021-02-20 04:49:09.76 UTC</td>\n",
       "      <td>15246800.0</td>\n",
       "      <td>1</td>\n",
       "      <td>routes</td>\n",
       "      <td>2</td>\n",
       "    </tr>\n",
       "    <tr>\n",
       "      <th>3</th>\n",
       "      <td>66293452</td>\n",
       "      <td>2021-02-20 15:43:15.133 UTC</td>\n",
       "      <td>2021-02-20 15:43:15.133 UTC</td>\n",
       "      <td>7822211.0</td>\n",
       "      <td>1</td>\n",
       "      <td>angular-dynamic-components</td>\n",
       "      <td>2</td>\n",
       "    </tr>\n",
       "    <tr>\n",
       "      <th>4</th>\n",
       "      <td>66361333</td>\n",
       "      <td>2021-02-25 01:56:26.023 UTC</td>\n",
       "      <td>2021-02-25 01:56:26.023 UTC</td>\n",
       "      <td>2713214.0</td>\n",
       "      <td>1</td>\n",
       "      <td>amazon-eks|elastic-network-interface</td>\n",
       "      <td>2</td>\n",
       "    </tr>\n",
       "  </tbody>\n",
       "</table>\n",
       "</div>"
      ],
      "text/plain": [
       "         id                creation_date           last_activity_date  \\\n",
       "0  66138537  2021-02-10 14:11:57.947 UTC  2021-02-10 14:11:57.947 UTC   \n",
       "1  66229417  2021-02-16 17:40:44.097 UTC  2021-02-16 17:40:44.097 UTC   \n",
       "2  66288134   2021-02-20 04:49:09.76 UTC   2021-02-20 04:49:09.76 UTC   \n",
       "3  66293452  2021-02-20 15:43:15.133 UTC  2021-02-20 15:43:15.133 UTC   \n",
       "4  66361333  2021-02-25 01:56:26.023 UTC  2021-02-25 01:56:26.023 UTC   \n",
       "\n",
       "   owner_user_id  post_type_id                                  tags  \\\n",
       "0      8384006.0             1                          dataexplorer   \n",
       "1     12549160.0             1                        rstudio-server   \n",
       "2     15246800.0             1                                routes   \n",
       "3      7822211.0             1            angular-dynamic-components   \n",
       "4      2713214.0             1  amazon-eks|elastic-network-interface   \n",
       "\n",
       "   view_count  \n",
       "0           2  \n",
       "1           2  \n",
       "2           2  \n",
       "3           2  \n",
       "4           2  "
      ]
     },
     "execution_count": 3,
     "metadata": {},
     "output_type": "execute_result"
    }
   ],
   "source": [
    "posts.head()"
   ]
  },
  {
   "cell_type": "code",
   "execution_count": 4,
   "id": "ba0815d9",
   "metadata": {},
   "outputs": [
    {
     "data": {
      "text/html": [
       "<div>\n",
       "<style scoped>\n",
       "    .dataframe tbody tr th:only-of-type {\n",
       "        vertical-align: middle;\n",
       "    }\n",
       "\n",
       "    .dataframe tbody tr th {\n",
       "        vertical-align: top;\n",
       "    }\n",
       "\n",
       "    .dataframe thead th {\n",
       "        text-align: right;\n",
       "    }\n",
       "</style>\n",
       "<table border=\"1\" class=\"dataframe\">\n",
       "  <thead>\n",
       "    <tr style=\"text-align: right;\">\n",
       "      <th></th>\n",
       "      <th>id</th>\n",
       "      <th>display_name</th>\n",
       "      <th>age</th>\n",
       "      <th>creation_date</th>\n",
       "      <th>last_access_date</th>\n",
       "      <th>location</th>\n",
       "      <th>reputation</th>\n",
       "    </tr>\n",
       "  </thead>\n",
       "  <tbody>\n",
       "    <tr>\n",
       "      <th>0</th>\n",
       "      <td>14712167</td>\n",
       "      <td>nicom</td>\n",
       "      <td>NaN</td>\n",
       "      <td>2020-11-26 09:26:50.507 UTC</td>\n",
       "      <td>2021-02-27 13:20:10.693 UTC</td>\n",
       "      <td>NaN</td>\n",
       "      <td>19</td>\n",
       "    </tr>\n",
       "    <tr>\n",
       "      <th>1</th>\n",
       "      <td>14717603</td>\n",
       "      <td>Donkey</td>\n",
       "      <td>NaN</td>\n",
       "      <td>2020-11-27 05:56:10.18 UTC</td>\n",
       "      <td>2021-02-18 10:38:39.56 UTC</td>\n",
       "      <td>NaN</td>\n",
       "      <td>43</td>\n",
       "    </tr>\n",
       "    <tr>\n",
       "      <th>2</th>\n",
       "      <td>14785218</td>\n",
       "      <td>redshorts17</td>\n",
       "      <td>NaN</td>\n",
       "      <td>2020-12-08 07:42:10.147 UTC</td>\n",
       "      <td>2021-01-08 13:08:27.023 UTC</td>\n",
       "      <td>NaN</td>\n",
       "      <td>89</td>\n",
       "    </tr>\n",
       "    <tr>\n",
       "      <th>3</th>\n",
       "      <td>14808842</td>\n",
       "      <td>PerekatovSergey</td>\n",
       "      <td>NaN</td>\n",
       "      <td>2020-12-11 16:09:17.147 UTC</td>\n",
       "      <td>2021-02-26 14:26:46.983 UTC</td>\n",
       "      <td>Russia</td>\n",
       "      <td>26</td>\n",
       "    </tr>\n",
       "    <tr>\n",
       "      <th>4</th>\n",
       "      <td>14916620</td>\n",
       "      <td>leung2</td>\n",
       "      <td>NaN</td>\n",
       "      <td>2020-12-31 03:02:17.93 UTC</td>\n",
       "      <td>2021-02-14 11:27:27.557 UTC</td>\n",
       "      <td>NaN</td>\n",
       "      <td>33</td>\n",
       "    </tr>\n",
       "  </tbody>\n",
       "</table>\n",
       "</div>"
      ],
      "text/plain": [
       "         id     display_name  age                creation_date  \\\n",
       "0  14712167            nicom  NaN  2020-11-26 09:26:50.507 UTC   \n",
       "1  14717603           Donkey  NaN   2020-11-27 05:56:10.18 UTC   \n",
       "2  14785218      redshorts17  NaN  2020-12-08 07:42:10.147 UTC   \n",
       "3  14808842  PerekatovSergey  NaN  2020-12-11 16:09:17.147 UTC   \n",
       "4  14916620           leung2  NaN   2020-12-31 03:02:17.93 UTC   \n",
       "\n",
       "              last_access_date location  reputation  \n",
       "0  2021-02-27 13:20:10.693 UTC      NaN          19  \n",
       "1   2021-02-18 10:38:39.56 UTC      NaN          43  \n",
       "2  2021-01-08 13:08:27.023 UTC      NaN          89  \n",
       "3  2021-02-26 14:26:46.983 UTC   Russia          26  \n",
       "4  2021-02-14 11:27:27.557 UTC      NaN          33  "
      ]
     },
     "execution_count": 4,
     "metadata": {},
     "output_type": "execute_result"
    }
   ],
   "source": [
    "users.head()"
   ]
  },
  {
   "cell_type": "code",
   "execution_count": 5,
   "id": "4e95a678",
   "metadata": {},
   "outputs": [
    {
     "name": "stdout",
     "output_type": "stream",
     "text": [
      "<class 'pandas.core.frame.DataFrame'>\n",
      "RangeIndex: 10445772 entries, 0 to 10445771\n",
      "Data columns (total 7 columns):\n",
      " #   Column              Dtype  \n",
      "---  ------              -----  \n",
      " 0   id                  int64  \n",
      " 1   creation_date       object \n",
      " 2   last_activity_date  object \n",
      " 3   owner_user_id       float64\n",
      " 4   post_type_id        int64  \n",
      " 5   tags                object \n",
      " 6   view_count          int64  \n",
      "dtypes: float64(1), int64(3), object(3)\n",
      "memory usage: 557.9+ MB\n"
     ]
    }
   ],
   "source": [
    "posts.info()"
   ]
  },
  {
   "cell_type": "code",
   "execution_count": 6,
   "id": "1dc96403",
   "metadata": {},
   "outputs": [
    {
     "name": "stdout",
     "output_type": "stream",
     "text": [
      "<class 'pandas.core.frame.DataFrame'>\n",
      "RangeIndex: 14080580 entries, 0 to 14080579\n",
      "Data columns (total 7 columns):\n",
      " #   Column            Dtype  \n",
      "---  ------            -----  \n",
      " 0   id                int64  \n",
      " 1   display_name      object \n",
      " 2   age               float64\n",
      " 3   creation_date     object \n",
      " 4   last_access_date  object \n",
      " 5   location          object \n",
      " 6   reputation        int64  \n",
      "dtypes: float64(1), int64(2), object(4)\n",
      "memory usage: 752.0+ MB\n"
     ]
    }
   ],
   "source": [
    "users.info()"
   ]
  },
  {
   "cell_type": "code",
   "execution_count": 7,
   "id": "de76ab88",
   "metadata": {
    "scrolled": true
   },
   "outputs": [
    {
     "data": {
      "text/html": [
       "<div>\n",
       "<style scoped>\n",
       "    .dataframe tbody tr th:only-of-type {\n",
       "        vertical-align: middle;\n",
       "    }\n",
       "\n",
       "    .dataframe tbody tr th {\n",
       "        vertical-align: top;\n",
       "    }\n",
       "\n",
       "    .dataframe thead th {\n",
       "        text-align: right;\n",
       "    }\n",
       "</style>\n",
       "<table border=\"1\" class=\"dataframe\">\n",
       "  <thead>\n",
       "    <tr style=\"text-align: right;\">\n",
       "      <th></th>\n",
       "      <th>id</th>\n",
       "      <th>creation_date</th>\n",
       "      <th>last_activity_date</th>\n",
       "      <th>owner_user_id</th>\n",
       "      <th>post_type_id</th>\n",
       "      <th>tags</th>\n",
       "      <th>view_count</th>\n",
       "    </tr>\n",
       "  </thead>\n",
       "  <tbody>\n",
       "    <tr>\n",
       "      <th>0</th>\n",
       "      <td>66138537</td>\n",
       "      <td>2021-02-10 14:11:57.947 UTC</td>\n",
       "      <td>2021-02-10 14:11:57.947 UTC</td>\n",
       "      <td>8384006.0</td>\n",
       "      <td>1</td>\n",
       "      <td>dataexplorer</td>\n",
       "      <td>2</td>\n",
       "    </tr>\n",
       "    <tr>\n",
       "      <th>1</th>\n",
       "      <td>66229417</td>\n",
       "      <td>2021-02-16 17:40:44.097 UTC</td>\n",
       "      <td>2021-02-16 17:40:44.097 UTC</td>\n",
       "      <td>12549160.0</td>\n",
       "      <td>1</td>\n",
       "      <td>rstudio-server</td>\n",
       "      <td>2</td>\n",
       "    </tr>\n",
       "    <tr>\n",
       "      <th>2</th>\n",
       "      <td>66288134</td>\n",
       "      <td>2021-02-20 04:49:09.76 UTC</td>\n",
       "      <td>2021-02-20 04:49:09.76 UTC</td>\n",
       "      <td>15246800.0</td>\n",
       "      <td>1</td>\n",
       "      <td>routes</td>\n",
       "      <td>2</td>\n",
       "    </tr>\n",
       "    <tr>\n",
       "      <th>3</th>\n",
       "      <td>66293452</td>\n",
       "      <td>2021-02-20 15:43:15.133 UTC</td>\n",
       "      <td>2021-02-20 15:43:15.133 UTC</td>\n",
       "      <td>7822211.0</td>\n",
       "      <td>1</td>\n",
       "      <td>angular-dynamic-components</td>\n",
       "      <td>2</td>\n",
       "    </tr>\n",
       "    <tr>\n",
       "      <th>4</th>\n",
       "      <td>66361333</td>\n",
       "      <td>2021-02-25 01:56:26.023 UTC</td>\n",
       "      <td>2021-02-25 01:56:26.023 UTC</td>\n",
       "      <td>2713214.0</td>\n",
       "      <td>1</td>\n",
       "      <td>amazon-eks|elastic-network-interface</td>\n",
       "      <td>2</td>\n",
       "    </tr>\n",
       "    <tr>\n",
       "      <th>...</th>\n",
       "      <td>...</td>\n",
       "      <td>...</td>\n",
       "      <td>...</td>\n",
       "      <td>...</td>\n",
       "      <td>...</td>\n",
       "      <td>...</td>\n",
       "      <td>...</td>\n",
       "    </tr>\n",
       "    <tr>\n",
       "      <th>10445766</th>\n",
       "      <td>42686301</td>\n",
       "      <td>2017-03-09 03:48:06.533 UTC</td>\n",
       "      <td>2017-03-10 11:30:01.587 UTC</td>\n",
       "      <td>2410131.0</td>\n",
       "      <td>1</td>\n",
       "      <td>mysql</td>\n",
       "      <td>95</td>\n",
       "    </tr>\n",
       "    <tr>\n",
       "      <th>10445767</th>\n",
       "      <td>42670128</td>\n",
       "      <td>2017-03-08 11:29:40.897 UTC</td>\n",
       "      <td>2017-03-08 20:26:48.12 UTC</td>\n",
       "      <td>1958365.0</td>\n",
       "      <td>1</td>\n",
       "      <td>c#|sql-server|asp.net-mvc|entity-framework</td>\n",
       "      <td>1452</td>\n",
       "    </tr>\n",
       "    <tr>\n",
       "      <th>10445769</th>\n",
       "      <td>42905797</td>\n",
       "      <td>2017-03-20 14:09:22.073 UTC</td>\n",
       "      <td>2017-03-20 17:11:44.09 UTC</td>\n",
       "      <td>7709628.0</td>\n",
       "      <td>1</td>\n",
       "      <td>php|mysql|select|pdo</td>\n",
       "      <td>80</td>\n",
       "    </tr>\n",
       "    <tr>\n",
       "      <th>10445770</th>\n",
       "      <td>43037016</td>\n",
       "      <td>2017-03-27 02:25:18.11 UTC</td>\n",
       "      <td>2017-03-27 16:14:33.847 UTC</td>\n",
       "      <td>7771458.0</td>\n",
       "      <td>1</td>\n",
       "      <td>php|html|mysql|xampp</td>\n",
       "      <td>724</td>\n",
       "    </tr>\n",
       "    <tr>\n",
       "      <th>10445771</th>\n",
       "      <td>42670052</td>\n",
       "      <td>2017-03-08 11:26:35.51 UTC</td>\n",
       "      <td>2017-03-09 05:53:37.53 UTC</td>\n",
       "      <td>6777587.0</td>\n",
       "      <td>1</td>\n",
       "      <td>php|arrays|codeigniter</td>\n",
       "      <td>231</td>\n",
       "    </tr>\n",
       "  </tbody>\n",
       "</table>\n",
       "<p>10256164 rows × 7 columns</p>\n",
       "</div>"
      ],
      "text/plain": [
       "                id                creation_date           last_activity_date  \\\n",
       "0         66138537  2021-02-10 14:11:57.947 UTC  2021-02-10 14:11:57.947 UTC   \n",
       "1         66229417  2021-02-16 17:40:44.097 UTC  2021-02-16 17:40:44.097 UTC   \n",
       "2         66288134   2021-02-20 04:49:09.76 UTC   2021-02-20 04:49:09.76 UTC   \n",
       "3         66293452  2021-02-20 15:43:15.133 UTC  2021-02-20 15:43:15.133 UTC   \n",
       "4         66361333  2021-02-25 01:56:26.023 UTC  2021-02-25 01:56:26.023 UTC   \n",
       "...            ...                          ...                          ...   \n",
       "10445766  42686301  2017-03-09 03:48:06.533 UTC  2017-03-10 11:30:01.587 UTC   \n",
       "10445767  42670128  2017-03-08 11:29:40.897 UTC   2017-03-08 20:26:48.12 UTC   \n",
       "10445769  42905797  2017-03-20 14:09:22.073 UTC   2017-03-20 17:11:44.09 UTC   \n",
       "10445770  43037016   2017-03-27 02:25:18.11 UTC  2017-03-27 16:14:33.847 UTC   \n",
       "10445771  42670052   2017-03-08 11:26:35.51 UTC   2017-03-09 05:53:37.53 UTC   \n",
       "\n",
       "          owner_user_id  post_type_id  \\\n",
       "0             8384006.0             1   \n",
       "1            12549160.0             1   \n",
       "2            15246800.0             1   \n",
       "3             7822211.0             1   \n",
       "4             2713214.0             1   \n",
       "...                 ...           ...   \n",
       "10445766      2410131.0             1   \n",
       "10445767      1958365.0             1   \n",
       "10445769      7709628.0             1   \n",
       "10445770      7771458.0             1   \n",
       "10445771      6777587.0             1   \n",
       "\n",
       "                                                tags  view_count  \n",
       "0                                       dataexplorer           2  \n",
       "1                                     rstudio-server           2  \n",
       "2                                             routes           2  \n",
       "3                         angular-dynamic-components           2  \n",
       "4               amazon-eks|elastic-network-interface           2  \n",
       "...                                              ...         ...  \n",
       "10445766                                       mysql          95  \n",
       "10445767  c#|sql-server|asp.net-mvc|entity-framework        1452  \n",
       "10445769                        php|mysql|select|pdo          80  \n",
       "10445770                        php|html|mysql|xampp         724  \n",
       "10445771                      php|arrays|codeigniter         231  \n",
       "\n",
       "[10256164 rows x 7 columns]"
      ]
     },
     "execution_count": 7,
     "metadata": {},
     "output_type": "execute_result"
    }
   ],
   "source": [
    "posts.dropna()"
   ]
  },
  {
   "cell_type": "code",
   "execution_count": 8,
   "id": "ff020395",
   "metadata": {},
   "outputs": [],
   "source": [
    "posts['tags'] = posts['tags'].str.split(\"|\")\n",
    "posts['creation_date'] = [x[:4] for x in posts['creation_date']]\n",
    "posts['last_activity_date'] = [x[:4] for x in posts['last_activity_date']]"
   ]
  },
  {
   "cell_type": "code",
   "execution_count": 9,
   "id": "f4879198",
   "metadata": {},
   "outputs": [],
   "source": [
    "users['creation_date'] = [x[:4] for x in users['creation_date']]\n",
    "users['last_access_date'] = [x[:4] for x in users['last_access_date']]"
   ]
  },
  {
   "cell_type": "code",
   "execution_count": 10,
   "id": "cce253cf",
   "metadata": {},
   "outputs": [],
   "source": [
    "posts['creation_date'] = posts['creation_date'].astype(str).astype(float)\n",
    "posts['last_activity_date'] = posts['last_activity_date'].astype(str).astype(float)"
   ]
  },
  {
   "cell_type": "code",
   "execution_count": 11,
   "id": "01a7e5dd",
   "metadata": {},
   "outputs": [
    {
     "name": "stdout",
     "output_type": "stream",
     "text": [
      "<class 'pandas.core.frame.DataFrame'>\n",
      "RangeIndex: 10445772 entries, 0 to 10445771\n",
      "Data columns (total 7 columns):\n",
      " #   Column              Dtype  \n",
      "---  ------              -----  \n",
      " 0   id                  int64  \n",
      " 1   creation_date       float64\n",
      " 2   last_activity_date  float64\n",
      " 3   owner_user_id       float64\n",
      " 4   post_type_id        int64  \n",
      " 5   tags                object \n",
      " 6   view_count          int64  \n",
      "dtypes: float64(3), int64(3), object(1)\n",
      "memory usage: 557.9+ MB\n"
     ]
    }
   ],
   "source": [
    "posts.info()"
   ]
  },
  {
   "cell_type": "code",
   "execution_count": 12,
   "id": "6974eb1d",
   "metadata": {},
   "outputs": [],
   "source": [
    "posts_proto = posts.sample(n=10000)"
   ]
  },
  {
   "cell_type": "code",
   "execution_count": 13,
   "id": "642f8379",
   "metadata": {},
   "outputs": [
    {
     "name": "stdout",
     "output_type": "stream",
     "text": [
      "<class 'pandas.core.frame.DataFrame'>\n",
      "Int64Index: 10000 entries, 9472402 to 9637119\n",
      "Data columns (total 7 columns):\n",
      " #   Column              Non-Null Count  Dtype  \n",
      "---  ------              --------------  -----  \n",
      " 0   id                  10000 non-null  int64  \n",
      " 1   creation_date       10000 non-null  float64\n",
      " 2   last_activity_date  10000 non-null  float64\n",
      " 3   owner_user_id       9815 non-null   float64\n",
      " 4   post_type_id        10000 non-null  int64  \n",
      " 5   tags                10000 non-null  object \n",
      " 6   view_count          10000 non-null  int64  \n",
      "dtypes: float64(3), int64(3), object(1)\n",
      "memory usage: 625.0+ KB\n"
     ]
    }
   ],
   "source": [
    "posts_proto.info()"
   ]
  },
  {
   "cell_type": "code",
   "execution_count": 14,
   "id": "6d5b12f7",
   "metadata": {},
   "outputs": [],
   "source": [
    "posts_proto = posts_proto.dropna()"
   ]
  },
  {
   "cell_type": "code",
   "execution_count": 15,
   "id": "b460278c",
   "metadata": {},
   "outputs": [],
   "source": [
    "all_tags_proto = posts_proto['tags']"
   ]
  },
  {
   "cell_type": "code",
   "execution_count": 16,
   "id": "5ed93bb6",
   "metadata": {},
   "outputs": [
    {
     "data": {
      "text/plain": [
       "9472402                      [maven-2, maven-assembly-plugin]\n",
       "5683859     [entity-framework, ef-code-first, dbcontext, e...\n",
       "5956129                         [java, jsp, tomcat, netbeans]\n",
       "8999094      [asp.net-mvc, nhibernate, ninject, multi-tenant]\n",
       "2099189            [mvvm, prism, delegatecommand, canexecute]\n",
       "310998      [ruby, ruby-on-rails-4, state-machine, acts-as...\n",
       "5364289                [java, android, google-maps, firebase]\n",
       "6956698                     [python, button, kivy, textfield]\n",
       "1040239                          [php, mysql, database, echo]\n",
       "10421378                       [c#, asp.net-mvc, inheritance]\n",
       "8183008     [google-cloud-storage, google-cloud-platform, ...\n",
       "266034      [java, android, firebase, firebase-storage, pi...\n",
       "3938547                    [sql-server, azure, remote-access]\n",
       "6422838           [swift, openwhisk, serverless-architecture]\n",
       "9148042                 [c#, keyboard-hook, setwindowshookex]\n",
       "Name: tags, dtype: object"
      ]
     },
     "execution_count": 16,
     "metadata": {},
     "output_type": "execute_result"
    }
   ],
   "source": [
    "all_tags_proto[0:15]"
   ]
  },
  {
   "cell_type": "code",
   "execution_count": 36,
   "id": "7b176617",
   "metadata": {},
   "outputs": [
    {
     "name": "stdout",
     "output_type": "stream",
     "text": [
      "65\n",
      "55\n",
      "55\n",
      "['postgres', 'postgres', 'postgres', 'postgres', 'postgres', 'postgres', 'postgres', 'postgres', 'postgres', 'postgres', 'postgres', 'postgres', 'postgres', 'postgres', 'postgres', 'postgres', 'postgres', 'postgres', 'postgres', 'postgres', 'postgres', 'postgres', 'postgres', 'postgres', 'postgres', 'postgres', 'postgres', 'postgres', 'postgres', 'postgres', 'postgres', 'postgres', 'postgres', 'postgres', 'postgres', 'postgres', 'postgres', 'postgres', 'postgres', 'postgres', 'postgres', 'postgres', 'postgres', 'postgres', 'postgres', 'postgres', 'postgres', 'postgres', 'postgres', 'postgres', 'postgres', 'postgres', 'postgres', 'postgres', 'postgres']\n"
     ]
    }
   ],
   "source": [
    "#all tags of postgres + ...\n",
    "#all tags of mysql + ...\n",
    "#all tags of mariadb + ...\n",
    "#all tags of sql-server + ...\n",
    "\n",
    "#tokenize list of tags and their combinations\n",
    "\n",
    "postgres = []\n",
    "element = \"postgres\"\n",
    "for tag_list in all_tags_proto:\n",
    "    for tag in tag_list:\n",
    "        if element in tag:\n",
    "            postgres.append(tag_list)\n",
    "postgres = [' '.join([str(c) for c in lst]) for lst in postgres]\n",
    "\n",
    "            \n",
    "#creating X\n",
    "postgres_indicators = []\n",
    "for label in postgres:\n",
    "    if label != \"postgresql\":\n",
    "        postgres_indicators.append(label)\n",
    "postgres_indicators = np.unique(postgres_indicators)\n",
    "\n",
    "#creating y\n",
    "postgres_label = []\n",
    "for i in range(len(postgres_indicators)):\n",
    "    postgres_label.append(\"postgres\")\n",
    "\n",
    "print(len(postgres)) #postgres could come up as a single tag in a post.\n",
    "print(len(postgres_indicators))\n",
    "print(len(postgres_label))"
   ]
  },
  {
   "cell_type": "code",
   "execution_count": 37,
   "id": "5a83dc0e",
   "metadata": {
    "scrolled": true
   },
   "outputs": [
    {
     "name": "stdout",
     "output_type": "stream",
     "text": [
      "270\n",
      "195\n",
      "195\n"
     ]
    }
   ],
   "source": [
    "mysql = []\n",
    "element = \"mysql\"\n",
    "for tag_list in all_tags_proto:\n",
    "        if element in tag_list:\n",
    "            mysql.append(tag_list)\n",
    "mysql = [' '.join([str(c) for c in lst]) for lst in mysql]\n",
    "\n",
    "#creating X\n",
    "mysql_indicators = []\n",
    "for label in mysql:\n",
    "    if label != \"mysql\":\n",
    "        mysql_indicators.append(label)\n",
    "mysql_indicators = np.unique(mysql_indicators)\n",
    "\n",
    "#creating y\n",
    "mysql_label = []\n",
    "for i in range(len(mysql_indicators)):\n",
    "    mysql_label.append(\"mysql\")\n",
    "\n",
    "print(len(mysql)) #mysql could come up as a single tag in a post.\n",
    "print(len(mysql_indicators))\n",
    "print(len(mysql_label))"
   ]
  },
  {
   "cell_type": "code",
   "execution_count": 38,
   "id": "10e749ff",
   "metadata": {},
   "outputs": [
    {
     "name": "stdout",
     "output_type": "stream",
     "text": [
      "6\n",
      "6\n",
      "6\n",
      "['mysql xampp mariadb', 'mysql mariadb', 'node.js mariadb', 'mysql sockets mariadb', 'mariadb command-line-interface', 'sql indexing mariadb']\n"
     ]
    }
   ],
   "source": [
    "mariadb = []\n",
    "element = \"mariadb\"\n",
    "for tag_list in all_tags_proto:\n",
    "        if element in tag_list:\n",
    "            mariadb.append(tag_list)\n",
    "mariadb = [' '.join([str(c) for c in lst]) for lst in mariadb]\n",
    "\n",
    "#creating X\n",
    "mariadb_indicators = []\n",
    "for label in mariadb:\n",
    "    if label != \"mariadb\":\n",
    "        mariadb_indicators.append(label)\n",
    "mariadb_indicators = np.unique(mariadb_indicators)\n",
    "\n",
    "#creating y\n",
    "mariadb_label = []\n",
    "for i in range(len(mariadb_indicators)):\n",
    "    mariadb_label.append(\"mariadb\")\n",
    "\n",
    "print(len(mariadb)) #mariadb could come up as a single tag in a post.\n",
    "print(len(mariadb_indicators))\n",
    "print(len(mariadb_label))\n",
    "print(mariadb)\n"
   ]
  },
  {
   "cell_type": "code",
   "execution_count": 39,
   "id": "3378381d",
   "metadata": {
    "scrolled": false
   },
   "outputs": [
    {
     "name": "stdout",
     "output_type": "stream",
     "text": [
      "136\n",
      "94\n",
      "94\n"
     ]
    },
    {
     "data": {
      "text/plain": [
       "numpy.ndarray"
      ]
     },
     "execution_count": 39,
     "metadata": {},
     "output_type": "execute_result"
    }
   ],
   "source": [
    "sql_server = []\n",
    "element = \"sql-server\"\n",
    "for tag_list in all_tags_proto:\n",
    "        if element in tag_list:\n",
    "            sql_server.append(tag_list)\n",
    "sql_server = [' '.join([str(c) for c in lst]) for lst in sql_server]\n",
    "\n",
    "#creating X\n",
    "sql_server_indicators = []\n",
    "for label in sql_server:\n",
    "    if label != \"sql-server\":\n",
    "        sql_server_indicators.append(label)\n",
    "sql_server_indicators = np.unique(sql_server_indicators)\n",
    "\n",
    "#creating y\n",
    "sql_server_label = []\n",
    "for i in range(len(sql_server_indicators)):\n",
    "    sql_server_label.append(\"sql_server\")\n",
    "\n",
    "print(len(sql_server)) #sql-server could come up as a single tag in a post.\n",
    "print(len(sql_server_indicators))\n",
    "print(len(sql_server_label))\n",
    "type(sql_server_indicators)"
   ]
  },
  {
   "cell_type": "code",
   "execution_count": 44,
   "id": "5bf27383",
   "metadata": {},
   "outputs": [
    {
     "data": {
      "text/plain": [
       "CountVectorizer(ngram_range=(1, 3))"
      ]
     },
     "execution_count": 44,
     "metadata": {},
     "output_type": "execute_result"
    }
   ],
   "source": [
    "X = np.concatenate((postgres_indicators, mysql_indicators, mariadb_indicators, sql_server_indicators), axis = 0 )\n",
    "y = np.concatenate((postgres_label, mysql_label, mariadb_label, sql_server_label), axis = 0)\n",
    "\n",
    "X_train, X_test, y_train, y_test = train_test_split(X, y, stratify = y, test_size = 0.3, random_state = 20)\n",
    "\n",
    "\n",
    "#transform\n",
    "countVec = CountVectorizer(ngram_range=(1,3))\n",
    "countVec.fit(X_train)\n",
    "\n",
    "# true_k = 2\n",
    "# model = KMeans(n_clusters=true_k, init='k-means++', max_iter=100, n_init=1)\n",
    "# model.fit(X)\n",
    "\n",
    "# print(\"Top terms per cluster:\")\n",
    "# order_centroids = model.cluster_centers_.argsort()[:, ::-1]\n",
    "# terms = vectorizer.get_feature_names()\n",
    "# for i in range(true_k):\n",
    "#     print(\"Cluster %d:\" % i),\n",
    "#     for ind in order_centroids[i, :10]:\n",
    "#         print(' %s' % terms[ind]),\n",
    "#     print"
   ]
  },
  {
   "cell_type": "code",
   "execution_count": 45,
   "id": "d0ef8e61",
   "metadata": {},
   "outputs": [
    {
     "data": {
      "text/plain": [
       "1315"
      ]
     },
     "execution_count": 45,
     "metadata": {},
     "output_type": "execute_result"
    }
   ],
   "source": [
    "len(countVec.vocabulary_)"
   ]
  },
  {
   "cell_type": "code",
   "execution_count": 46,
   "id": "5f87ac46",
   "metadata": {},
   "outputs": [],
   "source": [
    "X_train_vec = countVec.transform(X_train)"
   ]
  },
  {
   "cell_type": "code",
   "execution_count": 47,
   "id": "e5f615c4",
   "metadata": {},
   "outputs": [
    {
     "name": "stdout",
     "output_type": "stream",
     "text": [
      "0.5591689250225836 is the mean score\n"
     ]
    },
    {
     "data": {
      "text/plain": [
       "array([0.56097561, 0.56097561, 0.55555556])"
      ]
     },
     "execution_count": 47,
     "metadata": {},
     "output_type": "execute_result"
    }
   ],
   "source": [
    "#Baseline Model\n",
    "\n",
    "dummy = DummyClassifier(strategy='most_frequent')\n",
    "scores = cross_val_score(dummy, X_train, y_train, cv=3, scoring = \"accuracy\") \n",
    "print (f\"{scores.mean()} is the mean score\")\n",
    "scores"
   ]
  },
  {
   "cell_type": "code",
   "execution_count": 49,
   "id": "5bba9062",
   "metadata": {},
   "outputs": [
    {
     "name": "stdout",
     "output_type": "stream",
     "text": [
      "the mean score is: 0.9673453199365416\n",
      "The scores were: [0.96774194 0.96721311 0.95081967 0.98360656]\n"
     ]
    }
   ],
   "source": [
    "# create the pipeline\n",
    "dt_pipe = Pipeline([('vect', CountVectorizer(ngram_range=(1,1))),('clf', DecisionTreeClassifier())])\n",
    "\n",
    "# pass the pipeline as if it was the classifier into a cross validation method\n",
    "# the cv method will automatically figure out what to do.\n",
    "scores = cross_val_score(dt_pipe, X_train, y_train, cv=4, scoring = 'accuracy')\n",
    "print(f\"the mean score is: {scores.mean()}\")\n",
    "print(\"The scores were:\", scores)"
   ]
  },
  {
   "cell_type": "code",
   "execution_count": null,
   "id": "6dca85df",
   "metadata": {},
   "outputs": [],
   "source": [
    "top_tags = posts_proto['tags'].value_counts().head(50)"
   ]
  },
  {
   "cell_type": "code",
   "execution_count": null,
   "id": "072e26bb",
   "metadata": {},
   "outputs": [],
   "source": []
  }
 ],
 "metadata": {
  "kernelspec": {
   "display_name": "Python 3",
   "language": "python",
   "name": "python3"
  },
  "language_info": {
   "codemirror_mode": {
    "name": "ipython",
    "version": 3
   },
   "file_extension": ".py",
   "mimetype": "text/x-python",
   "name": "python",
   "nbconvert_exporter": "python",
   "pygments_lexer": "ipython3",
   "version": "3.8.8"
  }
 },
 "nbformat": 4,
 "nbformat_minor": 5
}
