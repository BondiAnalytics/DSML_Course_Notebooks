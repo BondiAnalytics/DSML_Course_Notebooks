{
 "cells": [
  {
   "cell_type": "markdown",
   "id": "184a2222",
   "metadata": {},
   "source": [
    "## Stack Overflow Tag Analysis\n",
    "\n",
    "The Stack Overflow dataset is a seminal dataset used by tech market researchers, because it is open, comprehensive, and behavioral in nature. It was first made available for public consumption in 2010, and encompasses not just questions and answer posts from the developer community but also technology tags associated with each post. As a result, these tags act as a good market proxy of user adoption, interest or disterest from a behavioral perspective: the more posts with a certain tag, the more indicative interest of that certain tag. The time series nature of this dataset also make it possible to gauge the waxing and waning of a tag, while also indicating changing affiliation among tags. Finally, additional metadata about users, badge contests and an annual developer survey provide additional context to help make business/actionable decisions, leading to measurable outcomes.\n",
    "\n",
    "Thus, for my capstone project I would like to analyze technology tags in the Stack Overflow dataset in order to better understand technology adoption curves and affiliations among technologies, depending on certain cohorts of developers. My team and I at Microsoft perfomed a similar analysis in 2016, where we found that OSS developers gravitated towards AWS and Google, as there were very few OSS offerings on Azure. We also realized that Microsoft had not reached out to OSS developers proactively, even with the limited offers. This 'wake up call' generated massive investment in development and marketing of OSS technologies on the Azure cloud/platform.\n",
    "\n",
    "Five years later, Microsoft would like to know if their efforts have paid off. They have seen fantastic growth in their OSS services and technologies, but are they keeping up with the market? Have they been able bring new developers onto their platform, or is this adoption coming from existing developers who have become 'polyglots'? And have the 'islands of technologies' that used to center around just AWS and Google begun to diffuse and include Azure? ...or is Azure still an island unto itself?"
   ]
  },
  {
   "cell_type": "code",
   "execution_count": 1,
   "id": "5182466f",
   "metadata": {},
   "outputs": [],
   "source": [
    "import numpy as np\n",
    "import pandas as pd\n",
    "import matplotlib.pyplot as plt\n",
    "import seaborn as sns\n",
    "sns.set()\n",
    "%matplotlib inline\n",
    "\n",
    "#preprocessing\n",
    "from sklearn.preprocessing import StandardScaler, Normalizer, MinMaxScaler\n",
    "from scipy import stats\n",
    "\n",
    "# pipelines\n",
    "from sklearn.pipeline import Pipeline\n",
    "\n",
    "# Regression\n",
    "from sklearn.linear_model import LinearRegression\n",
    "from sklearn.linear_model import SGDRegressor\n",
    "from sklearn.linear_model import Ridge\n",
    "from sklearn.metrics import mean_squared_error\n",
    "\n",
    "# NLP transformers\n",
    "from sklearn.feature_extraction.text import CountVectorizer, TfidfTransformer\n",
    "\n",
    "# classifiers you can use\n",
    "from sklearn.dummy import DummyClassifier\n",
    "from sklearn.svm import SVC\n",
    "from sklearn.tree import DecisionTreeClassifier\n",
    "from sklearn.ensemble import RandomForestClassifier, AdaBoostClassifier\n",
    "\n",
    "# model selection bits\n",
    "from sklearn.model_selection import GridSearchCV, train_test_split, cross_val_score, ShuffleSplit, RandomizedSearchCV\n",
    "from sklearn.model_selection import StratifiedShuffleSplit, StratifiedKFold, KFold\n",
    "from sklearn.model_selection import learning_curve, validation_curve\n",
    "\n",
    "# evaluation\n",
    "from sklearn.metrics import accuracy_score, precision_score, recall_score, f1_score, confusion_matrix, classification_report, fbeta_score"
   ]
  },
  {
   "cell_type": "code",
   "execution_count": null,
   "id": "17ce888e",
   "metadata": {},
   "outputs": [],
   "source": [
    "# posts = pd.read_csv(\"/Users/bens_mac/Documents/CodingNomads/SO_posts_BIG.csv\")\n",
    "# users = pd.read_csv(\"/Users/bens_mac/Documents/CodingNomads/SO_users_BIG.csv\")"
   ]
  },
  {
   "cell_type": "code",
   "execution_count": null,
   "id": "674ca168",
   "metadata": {},
   "outputs": [],
   "source": [
    "posts.head()"
   ]
  },
  {
   "cell_type": "code",
   "execution_count": null,
   "id": "ba0815d9",
   "metadata": {},
   "outputs": [],
   "source": [
    "users.head()"
   ]
  },
  {
   "cell_type": "code",
   "execution_count": null,
   "id": "4e95a678",
   "metadata": {},
   "outputs": [],
   "source": [
    "posts.info()"
   ]
  },
  {
   "cell_type": "code",
   "execution_count": null,
   "id": "1dc96403",
   "metadata": {},
   "outputs": [],
   "source": [
    "users.info()"
   ]
  },
  {
   "cell_type": "code",
   "execution_count": null,
   "id": "de76ab88",
   "metadata": {
    "scrolled": true
   },
   "outputs": [],
   "source": [
    "posts.dropna()"
   ]
  },
  {
   "cell_type": "code",
   "execution_count": null,
   "id": "ff020395",
   "metadata": {},
   "outputs": [],
   "source": [
    "posts['tags'] = posts['tags'].str.split(\"|\")\n",
    "posts['creation_date'] = [x[:4] for x in posts['creation_date']]\n",
    "posts['last_activity_date'] = [x[:4] for x in posts['last_activity_date']]"
   ]
  },
  {
   "cell_type": "code",
   "execution_count": null,
   "id": "f4879198",
   "metadata": {},
   "outputs": [],
   "source": [
    "users['creation_date'] = [x[:4] for x in users['creation_date']]\n",
    "users['last_access_date'] = [x[:4] for x in users['last_access_date']]"
   ]
  },
  {
   "cell_type": "code",
   "execution_count": null,
   "id": "6358a101",
   "metadata": {},
   "outputs": [],
   "source": [
    "posts['creation_date'] = posts['creation_date'].astype(str).astype(float)\n",
    "posts['last_activity_date'] = posts['last_activity_date'].astype(str).astype(float)"
   ]
  },
  {
   "cell_type": "code",
   "execution_count": null,
   "id": "74448a80",
   "metadata": {},
   "outputs": [],
   "source": [
    "posts.info()"
   ]
  },
  {
   "cell_type": "code",
   "execution_count": null,
   "id": "5a79a118",
   "metadata": {},
   "outputs": [],
   "source": [
    "posts_proto = posts.sample(n=10000)"
   ]
  },
  {
   "cell_type": "code",
   "execution_count": null,
   "id": "8aec754c",
   "metadata": {},
   "outputs": [],
   "source": [
    "posts_proto.info()"
   ]
  },
  {
   "cell_type": "code",
   "execution_count": null,
   "id": "f3870d44",
   "metadata": {},
   "outputs": [],
   "source": [
    "posts_proto = posts_proto.dropna()"
   ]
  },
  {
   "cell_type": "code",
   "execution_count": null,
   "id": "e0c18a24",
   "metadata": {},
   "outputs": [],
   "source": [
    "print(posts_proto)"
   ]
  },
  {
   "cell_type": "code",
   "execution_count": null,
   "id": "a1c1a5b1",
   "metadata": {},
   "outputs": [],
   "source": [
    "all_tags_proto = posts_proto['tags']"
   ]
  },
  {
   "cell_type": "code",
   "execution_count": null,
   "id": "9e8c15fa",
   "metadata": {},
   "outputs": [],
   "source": [
    "all_tags_proto[0:15]"
   ]
  },
  {
   "cell_type": "code",
   "execution_count": null,
   "id": "55cd6014",
   "metadata": {},
   "outputs": [],
   "source": [
    "#all tags of postgres + ...\n",
    "#all tags of mysql + ...\n",
    "#all tags of mariadb + ...\n",
    "#all tags of sql-server + ...\n",
    "\n",
    "\n",
    "postgres = []\n",
    "element = \"postgres\"\n",
    "for tag_list in all_tags_proto:\n",
    "    for tag in tag_list:\n",
    "        if element in tag:\n",
    "            postgres.append(tag_list)\n",
    "            \n",
    "            \n",
    "#creating X\n",
    "postgres_features = []\n",
    "for x_list in postgres:\n",
    "    for x in x_list:\n",
    "        postgres_features.append(x)\n",
    "for i in postgres_features:\n",
    "    if \"postgres\" in postgres_features:\n",
    "        postgres_features.remove(\"postgres\")\n",
    "\n",
    "\n",
    "#creating y\n",
    "postgres_label = []\n",
    "for i in range(len(postgres_features)):\n",
    "    postgres_label.append(\"postgres\")\n",
    "\n",
    "print(len(postgres)) #postgres could come up as a single tag in a post.\n",
    "print(len(postgres_features))\n",
    "print(len(postgres_label))"
   ]
  },
  {
   "cell_type": "code",
   "execution_count": null,
   "id": "288eca20",
   "metadata": {
    "scrolled": true
   },
   "outputs": [],
   "source": [
    "mysql = []\n",
    "element = \"mysql\"\n",
    "for tag_list in all_tags_proto:\n",
    "        if element in tag_list:\n",
    "            mysql.append(tag_list)\n",
    "\n",
    "#creating X\n",
    "mysql_features = []\n",
    "for x_list in mysql:\n",
    "    for x in x_list:\n",
    "        mysql_features.append(x)\n",
    "for i in mysql_features:\n",
    "    if \"mysql\" in mysql_features:\n",
    "        mysql_features.remove(\"mysql\")\n",
    "\n",
    "#creating y\n",
    "mysql_label = []\n",
    "for i in range(len(mysql_features)):\n",
    "    mysql_label.append(\"mysql\")\n",
    "\n",
    "print(len(mysql)) \n",
    "print(len(mysql_features))\n",
    "print(len(mysql_label))"
   ]
  },
  {
   "cell_type": "code",
   "execution_count": null,
   "id": "9e1928c1",
   "metadata": {},
   "outputs": [],
   "source": [
    "mariadb = []\n",
    "element = \"mariadb\"\n",
    "for tag_list in all_tags_proto:\n",
    "        if element in tag_list:\n",
    "            mariadb.append(tag_list)\n",
    "# mariadb = [' '.join([str(c) for c in lst]) for lst in mariadb]\n",
    "\n",
    "\n",
    "\n",
    "print(mariadb)\n",
    "\n",
    "#creating X\n",
    "mariadb_features = []\n",
    "for x_list in mariadb:\n",
    "    for x in x_list:\n",
    "        mariadb_features.append(x)\n",
    "for i in mariadb_features:\n",
    "    if \"mariadb\" in mariadb_features:\n",
    "        mariadb_features.remove(\"mariadb\")\n",
    "    \n",
    "#print(mariadb_features)\n",
    "\n",
    "#creating y\n",
    "mariadb_label = []\n",
    "for i in range(len(mariadb_features)):\n",
    "    mariadb_label.append(\"mariadb\")\n",
    "\n",
    "#print(len(mariadb)) #mariadb could come up as a single tag in a post.\n",
    "print(mariadb_features)\n",
    "print(len(mariadb))\n",
    "print(len(mariadb_features))\n",
    "print(len(mariadb_label))"
   ]
  },
  {
   "cell_type": "code",
   "execution_count": null,
   "id": "52f8b843",
   "metadata": {
    "scrolled": false
   },
   "outputs": [],
   "source": [
    "sql_server = []\n",
    "element = \"sql-server\"\n",
    "for tag_list in all_tags_proto:\n",
    "        if element in tag_list:\n",
    "            sql_server.append(tag_list)\n",
    "            \n",
    "#creating X\n",
    "sql_server_features = []\n",
    "for x_list in sql_server:\n",
    "    for x in x_list:\n",
    "        sql_server_features.append(x)\n",
    "for i in sql_server_features:\n",
    "    if \"sql-server\" in sql_server_features:\n",
    "        sql_server_features.remove(\"sql-server\")\n",
    "\n",
    "#creating y\n",
    "sql_server_label = []\n",
    "for i in range(len(sql_server_features)):\n",
    "    sql_server_label.append(\"sql_server\")\n",
    "\n",
    "print(len(sql_server)) #sql_server could come up as a single tag in a post.\n",
    "print(len(sql_server_label))\n",
    "print(len(sql_server_features))\n",
    "print(type(sql_server_features))"
   ]
  },
  {
   "cell_type": "code",
   "execution_count": null,
   "id": "0e15b321",
   "metadata": {},
   "outputs": [],
   "source": [
    "X = np.concatenate((postgres_features, mysql_features, mariadb_features, sql_server_features), axis = 0 )\n",
    "y = np.concatenate((postgres_label, mysql_label, mariadb_label, sql_server_label), axis = 0)\n",
    "\n",
    "X_train, X_test, y_train, y_test = train_test_split(X, y, stratify = y, test_size = 0.3)"
   ]
  },
  {
   "cell_type": "code",
   "execution_count": null,
   "id": "dab52aad",
   "metadata": {},
   "outputs": [],
   "source": [
    "print(X_train[:10])"
   ]
  },
  {
   "cell_type": "code",
   "execution_count": null,
   "id": "4cdefc2e",
   "metadata": {},
   "outputs": [],
   "source": [
    "#Baseline Model\n",
    "\n",
    "dummy = DummyClassifier(strategy='most_frequent')\n",
    "scores = cross_val_score(dummy, X_train, y_train, cv=3, scoring = \"accuracy\") \n",
    "print (f\"{scores.mean()} is the mean score\")\n",
    "scores"
   ]
  },
  {
   "cell_type": "code",
   "execution_count": null,
   "id": "2f344e1b",
   "metadata": {},
   "outputs": [],
   "source": [
    "# create the pipeline\n",
    "dt_pipe = Pipeline([('vect', CountVectorizer(ngram_range=(1,3))),('clf', DecisionTreeClassifier())])\n",
    "# pass the pipeline as if it was the classifier into a cross validation method\n",
    "# the cv method will automatically figure out what to do.\n",
    "scores = cross_val_score(dt_pipe, X_train, y_train, cv=4, scoring = 'accuracy')\n",
    "print(f\"the mean score is: {scores.mean()}\")\n",
    "print(\"The scores were:\", scores)"
   ]
  },
  {
   "cell_type": "markdown",
   "id": "d8329d06",
   "metadata": {},
   "source": [
    "# Summary of the DTC analysis: dunno"
   ]
  },
  {
   "cell_type": "code",
   "execution_count": null,
   "id": "eb1946ba",
   "metadata": {},
   "outputs": [],
   "source": [
    "top_tags = posts_proto['tags'].value_counts().head(50)"
   ]
  },
  {
   "cell_type": "code",
   "execution_count": null,
   "id": "e49f0127",
   "metadata": {},
   "outputs": [],
   "source": [
    "print(top_tags)"
   ]
  },
  {
   "cell_type": "markdown",
   "id": "a132799a",
   "metadata": {},
   "source": [
    "# Moving on to User analysis"
   ]
  },
  {
   "cell_type": "code",
   "execution_count": null,
   "id": "daf3dbf1",
   "metadata": {},
   "outputs": [],
   "source": [
    "#No added information about age\n",
    "users = users.drop(columns = 'age')"
   ]
  },
  {
   "cell_type": "code",
   "execution_count": null,
   "id": "a75b2511",
   "metadata": {},
   "outputs": [],
   "source": []
  },
  {
   "cell_type": "code",
   "execution_count": null,
   "id": "b0511b32",
   "metadata": {},
   "outputs": [],
   "source": []
  },
  {
   "cell_type": "markdown",
   "id": "0184a985",
   "metadata": {},
   "source": [
    "# Adding StackOverflow Survey Data"
   ]
  },
  {
   "cell_type": "code",
   "execution_count": 2,
   "id": "8c614071",
   "metadata": {},
   "outputs": [],
   "source": [
    "df_20 = pd.read_csv('/Users/bens_mac/Downloads/developer_survey_2020/survey_results_public.csv')\n",
    "# df_19 = pd.read_csv('/Users/bens_mac/Downloads/developer_survey_2019/survey_results_public.csv')\n",
    "# df_18 = pd.read_csv('/Users/bens_mac/Downloads/developer_survey_2018/survey_results_public.csv')\n",
    "def prettify(ax):\n",
    "  ax.grid(False)\n",
    "  ax.set_frame_on(False)\n",
    "  ax.tick_params(top=False, bottom=False, left=False, right=False, labelbottom=False)"
   ]
  },
  {
   "cell_type": "code",
   "execution_count": 3,
   "id": "6f4eec9b",
   "metadata": {},
   "outputs": [],
   "source": [
    "rev_data_20 = df_20[['Respondent', 'Country', 'Age1stCode', 'UndergradMajor','Hobbyist', 'Employment','DevType', 'DatabaseDesireNextYear', 'DatabaseWorkedWith', 'PlatformDesireNextYear', 'PlatformWorkedWith']]"
   ]
  },
  {
   "cell_type": "code",
   "execution_count": 4,
   "id": "b3a20977",
   "metadata": {
    "scrolled": true
   },
   "outputs": [
    {
     "name": "stdout",
     "output_type": "stream",
     "text": [
      "<class 'pandas.core.frame.DataFrame'>\n",
      "RangeIndex: 64461 entries, 0 to 64460\n",
      "Data columns (total 11 columns):\n",
      " #   Column                  Non-Null Count  Dtype \n",
      "---  ------                  --------------  ----- \n",
      " 0   Respondent              64461 non-null  int64 \n",
      " 1   Country                 64072 non-null  object\n",
      " 2   Age1stCode              57900 non-null  object\n",
      " 3   UndergradMajor          50995 non-null  object\n",
      " 4   Hobbyist                64416 non-null  object\n",
      " 5   Employment              63854 non-null  object\n",
      " 6   DevType                 49370 non-null  object\n",
      " 7   DatabaseDesireNextYear  44070 non-null  object\n",
      " 8   DatabaseWorkedWith      49537 non-null  object\n",
      " 9   PlatformDesireNextYear  50605 non-null  object\n",
      " 10  PlatformWorkedWith      53843 non-null  object\n",
      "dtypes: int64(1), object(10)\n",
      "memory usage: 5.4+ MB\n"
     ]
    }
   ],
   "source": [
    "rev_data_20.info()"
   ]
  },
  {
   "cell_type": "code",
   "execution_count": 5,
   "id": "70e46aa6",
   "metadata": {},
   "outputs": [
    {
     "data": {
      "text/html": [
       "<div>\n",
       "<style scoped>\n",
       "    .dataframe tbody tr th:only-of-type {\n",
       "        vertical-align: middle;\n",
       "    }\n",
       "\n",
       "    .dataframe tbody tr th {\n",
       "        vertical-align: top;\n",
       "    }\n",
       "\n",
       "    .dataframe thead th {\n",
       "        text-align: right;\n",
       "    }\n",
       "</style>\n",
       "<table border=\"1\" class=\"dataframe\">\n",
       "  <thead>\n",
       "    <tr style=\"text-align: right;\">\n",
       "      <th></th>\n",
       "      <th>Respondent</th>\n",
       "      <th>Country</th>\n",
       "      <th>Age1stCode</th>\n",
       "      <th>UndergradMajor</th>\n",
       "      <th>Hobbyist</th>\n",
       "      <th>Employment</th>\n",
       "      <th>DevType</th>\n",
       "      <th>DatabaseDesireNextYear</th>\n",
       "      <th>DatabaseWorkedWith</th>\n",
       "      <th>PlatformDesireNextYear</th>\n",
       "      <th>PlatformWorkedWith</th>\n",
       "    </tr>\n",
       "  </thead>\n",
       "  <tbody>\n",
       "    <tr>\n",
       "      <th>0</th>\n",
       "      <td>1</td>\n",
       "      <td>Germany</td>\n",
       "      <td>13</td>\n",
       "      <td>Computer science, computer engineering, or sof...</td>\n",
       "      <td>Yes</td>\n",
       "      <td>Independent contractor, freelancer, or self-em...</td>\n",
       "      <td>Developer, desktop or enterprise applications;...</td>\n",
       "      <td>Microsoft SQL Server</td>\n",
       "      <td>Elasticsearch;Microsoft SQL Server;Oracle</td>\n",
       "      <td>Android;iOS;Kubernetes;Microsoft Azure;Windows</td>\n",
       "      <td>Windows</td>\n",
       "    </tr>\n",
       "    <tr>\n",
       "      <th>1</th>\n",
       "      <td>2</td>\n",
       "      <td>United Kingdom</td>\n",
       "      <td>19</td>\n",
       "      <td>Computer science, computer engineering, or sof...</td>\n",
       "      <td>No</td>\n",
       "      <td>Employed full-time</td>\n",
       "      <td>Developer, full-stack;Developer, mobile</td>\n",
       "      <td>NaN</td>\n",
       "      <td>NaN</td>\n",
       "      <td>iOS;Kubernetes;Linux;MacOS</td>\n",
       "      <td>iOS</td>\n",
       "    </tr>\n",
       "    <tr>\n",
       "      <th>2</th>\n",
       "      <td>3</td>\n",
       "      <td>Russian Federation</td>\n",
       "      <td>15</td>\n",
       "      <td>NaN</td>\n",
       "      <td>Yes</td>\n",
       "      <td>NaN</td>\n",
       "      <td>NaN</td>\n",
       "      <td>NaN</td>\n",
       "      <td>NaN</td>\n",
       "      <td>NaN</td>\n",
       "      <td>NaN</td>\n",
       "    </tr>\n",
       "    <tr>\n",
       "      <th>3</th>\n",
       "      <td>4</td>\n",
       "      <td>Albania</td>\n",
       "      <td>18</td>\n",
       "      <td>Computer science, computer engineering, or sof...</td>\n",
       "      <td>Yes</td>\n",
       "      <td>NaN</td>\n",
       "      <td>NaN</td>\n",
       "      <td>NaN</td>\n",
       "      <td>NaN</td>\n",
       "      <td>NaN</td>\n",
       "      <td>NaN</td>\n",
       "    </tr>\n",
       "    <tr>\n",
       "      <th>4</th>\n",
       "      <td>5</td>\n",
       "      <td>United States</td>\n",
       "      <td>16</td>\n",
       "      <td>Computer science, computer engineering, or sof...</td>\n",
       "      <td>Yes</td>\n",
       "      <td>Employed full-time</td>\n",
       "      <td>NaN</td>\n",
       "      <td>MySQL;PostgreSQL</td>\n",
       "      <td>MySQL;PostgreSQL;Redis;SQLite</td>\n",
       "      <td>Docker;Google Cloud Platform;Heroku;Linux;Windows</td>\n",
       "      <td>AWS;Docker;Linux;MacOS;Windows</td>\n",
       "    </tr>\n",
       "  </tbody>\n",
       "</table>\n",
       "</div>"
      ],
      "text/plain": [
       "   Respondent             Country Age1stCode  \\\n",
       "0           1             Germany         13   \n",
       "1           2      United Kingdom         19   \n",
       "2           3  Russian Federation         15   \n",
       "3           4             Albania         18   \n",
       "4           5       United States         16   \n",
       "\n",
       "                                      UndergradMajor Hobbyist  \\\n",
       "0  Computer science, computer engineering, or sof...      Yes   \n",
       "1  Computer science, computer engineering, or sof...       No   \n",
       "2                                                NaN      Yes   \n",
       "3  Computer science, computer engineering, or sof...      Yes   \n",
       "4  Computer science, computer engineering, or sof...      Yes   \n",
       "\n",
       "                                          Employment  \\\n",
       "0  Independent contractor, freelancer, or self-em...   \n",
       "1                                 Employed full-time   \n",
       "2                                                NaN   \n",
       "3                                                NaN   \n",
       "4                                 Employed full-time   \n",
       "\n",
       "                                             DevType DatabaseDesireNextYear  \\\n",
       "0  Developer, desktop or enterprise applications;...   Microsoft SQL Server   \n",
       "1            Developer, full-stack;Developer, mobile                    NaN   \n",
       "2                                                NaN                    NaN   \n",
       "3                                                NaN                    NaN   \n",
       "4                                                NaN       MySQL;PostgreSQL   \n",
       "\n",
       "                          DatabaseWorkedWith  \\\n",
       "0  Elasticsearch;Microsoft SQL Server;Oracle   \n",
       "1                                        NaN   \n",
       "2                                        NaN   \n",
       "3                                        NaN   \n",
       "4              MySQL;PostgreSQL;Redis;SQLite   \n",
       "\n",
       "                              PlatformDesireNextYear  \\\n",
       "0     Android;iOS;Kubernetes;Microsoft Azure;Windows   \n",
       "1                         iOS;Kubernetes;Linux;MacOS   \n",
       "2                                                NaN   \n",
       "3                                                NaN   \n",
       "4  Docker;Google Cloud Platform;Heroku;Linux;Windows   \n",
       "\n",
       "               PlatformWorkedWith  \n",
       "0                         Windows  \n",
       "1                             iOS  \n",
       "2                             NaN  \n",
       "3                             NaN  \n",
       "4  AWS;Docker;Linux;MacOS;Windows  "
      ]
     },
     "execution_count": 5,
     "metadata": {},
     "output_type": "execute_result"
    }
   ],
   "source": [
    "rev_data_20.head(5)"
   ]
  },
  {
   "cell_type": "code",
   "execution_count": 6,
   "id": "888b5be5",
   "metadata": {},
   "outputs": [],
   "source": [
    "country_20 = rev_data_20['Country'].value_counts()\n",
    "top_country_20 = country_20.head(30).sort_values(ascending = True)"
   ]
  },
  {
   "cell_type": "code",
   "execution_count": 7,
   "id": "2d561846",
   "metadata": {},
   "outputs": [
    {
     "data": {
      "text/plain": [
       "<AxesSubplot:title={'center':'Number of Developers from Countries'}>"
      ]
     },
     "execution_count": 7,
     "metadata": {},
     "output_type": "execute_result"
    },
    {
     "data": {
      "image/png": "[encoded data removed]",
      "text/plain": [
       "<Figure size 432x288 with 1 Axes>"
      ]
     },
     "metadata": {
      "needs_background": "light"
     },
     "output_type": "display_data"
    }
   ],
   "source": [
    "top_country_20.plot(kind = 'barh', title = 'Number of Developers from Countries')"
   ]
  },
  {
   "cell_type": "code",
   "execution_count": 8,
   "id": "95710fec",
   "metadata": {},
   "outputs": [],
   "source": [
    "dev_types = ['Developer, back-end', \n",
    "             'Developer, full-stack', \n",
    "             'Developer, front-end', \n",
    "             'Developer, desktop or enterprise applications', \n",
    "             'Developer, mobile', \n",
    "             'DevOps specialist',\n",
    "             'Database administrator',\n",
    "             'Designer',\n",
    "             'System administrator',\n",
    "             'Developer, embedded applications or devices',\n",
    "             'Data or business analyst',\n",
    "             'Data scientist or machine learning specialist',\n",
    "             'Developer, QA or test',\n",
    "             'Engineer, data'\n",
    "            ]"
   ]
  },
  {
   "cell_type": "code",
   "execution_count": 9,
   "id": "4d1412c1",
   "metadata": {},
   "outputs": [],
   "source": [
    "rslt_df = rev_data_20.loc[rev_data_20['DevType'].isin(dev_types)]"
   ]
  },
  {
   "cell_type": "code",
   "execution_count": 10,
   "id": "fbac119f",
   "metadata": {},
   "outputs": [
    {
     "data": {
      "text/html": [
       "<div>\n",
       "<style scoped>\n",
       "    .dataframe tbody tr th:only-of-type {\n",
       "        vertical-align: middle;\n",
       "    }\n",
       "\n",
       "    .dataframe tbody tr th {\n",
       "        vertical-align: top;\n",
       "    }\n",
       "\n",
       "    .dataframe thead th {\n",
       "        text-align: right;\n",
       "    }\n",
       "</style>\n",
       "<table border=\"1\" class=\"dataframe\">\n",
       "  <thead>\n",
       "    <tr style=\"text-align: right;\">\n",
       "      <th></th>\n",
       "      <th>Respondent</th>\n",
       "      <th>Country</th>\n",
       "      <th>Age1stCode</th>\n",
       "      <th>UndergradMajor</th>\n",
       "      <th>Hobbyist</th>\n",
       "      <th>Employment</th>\n",
       "      <th>DevType</th>\n",
       "      <th>DatabaseDesireNextYear</th>\n",
       "      <th>DatabaseWorkedWith</th>\n",
       "      <th>PlatformDesireNextYear</th>\n",
       "      <th>PlatformWorkedWith</th>\n",
       "    </tr>\n",
       "  </thead>\n",
       "  <tbody>\n",
       "    <tr>\n",
       "      <th>8</th>\n",
       "      <td>9</td>\n",
       "      <td>Tunisia</td>\n",
       "      <td>20</td>\n",
       "      <td>Computer science, computer engineering, or sof...</td>\n",
       "      <td>No</td>\n",
       "      <td>Independent contractor, freelancer, or self-em...</td>\n",
       "      <td>Developer, full-stack</td>\n",
       "      <td>NaN</td>\n",
       "      <td>NaN</td>\n",
       "      <td>NaN</td>\n",
       "      <td>WordPress</td>\n",
       "    </tr>\n",
       "    <tr>\n",
       "      <th>16</th>\n",
       "      <td>17</td>\n",
       "      <td>United States</td>\n",
       "      <td>14</td>\n",
       "      <td>Computer science, computer engineering, or sof...</td>\n",
       "      <td>Yes</td>\n",
       "      <td>Employed full-time</td>\n",
       "      <td>Developer, full-stack</td>\n",
       "      <td>Cassandra;Elasticsearch;MariaDB;PostgreSQL;Redis</td>\n",
       "      <td>Microsoft SQL Server;PostgreSQL</td>\n",
       "      <td>Docker;Kubernetes;Microsoft Azure</td>\n",
       "      <td>NaN</td>\n",
       "    </tr>\n",
       "    <tr>\n",
       "      <th>17</th>\n",
       "      <td>18</td>\n",
       "      <td>United States</td>\n",
       "      <td>12</td>\n",
       "      <td>Computer science, computer engineering, or sof...</td>\n",
       "      <td>Yes</td>\n",
       "      <td>Employed full-time</td>\n",
       "      <td>Developer, back-end</td>\n",
       "      <td>Elasticsearch;PostgreSQL;Redis;SQLite</td>\n",
       "      <td>Elasticsearch;MariaDB;MySQL;Redis;SQLite</td>\n",
       "      <td>Linux</td>\n",
       "      <td>AWS;Linux</td>\n",
       "    </tr>\n",
       "    <tr>\n",
       "      <th>18</th>\n",
       "      <td>19</td>\n",
       "      <td>United States</td>\n",
       "      <td>15</td>\n",
       "      <td>Computer science, computer engineering, or sof...</td>\n",
       "      <td>No</td>\n",
       "      <td>Employed full-time</td>\n",
       "      <td>Developer, full-stack</td>\n",
       "      <td>MariaDB;MongoDB</td>\n",
       "      <td>MariaDB;Microsoft SQL Server</td>\n",
       "      <td>iOS;Slack Apps and Integrations</td>\n",
       "      <td>Windows</td>\n",
       "    </tr>\n",
       "    <tr>\n",
       "      <th>19</th>\n",
       "      <td>20</td>\n",
       "      <td>Spain</td>\n",
       "      <td>18</td>\n",
       "      <td>Another engineering discipline (such as civil,...</td>\n",
       "      <td>Yes</td>\n",
       "      <td>Employed full-time</td>\n",
       "      <td>Developer, desktop or enterprise applications</td>\n",
       "      <td>NaN</td>\n",
       "      <td>IBM DB2;MariaDB;Microsoft SQL Server;MySQL</td>\n",
       "      <td>NaN</td>\n",
       "      <td>Heroku;Linux;Windows</td>\n",
       "    </tr>\n",
       "  </tbody>\n",
       "</table>\n",
       "</div>"
      ],
      "text/plain": [
       "    Respondent        Country Age1stCode  \\\n",
       "8            9        Tunisia         20   \n",
       "16          17  United States         14   \n",
       "17          18  United States         12   \n",
       "18          19  United States         15   \n",
       "19          20          Spain         18   \n",
       "\n",
       "                                       UndergradMajor Hobbyist  \\\n",
       "8   Computer science, computer engineering, or sof...       No   \n",
       "16  Computer science, computer engineering, or sof...      Yes   \n",
       "17  Computer science, computer engineering, or sof...      Yes   \n",
       "18  Computer science, computer engineering, or sof...       No   \n",
       "19  Another engineering discipline (such as civil,...      Yes   \n",
       "\n",
       "                                           Employment  \\\n",
       "8   Independent contractor, freelancer, or self-em...   \n",
       "16                                 Employed full-time   \n",
       "17                                 Employed full-time   \n",
       "18                                 Employed full-time   \n",
       "19                                 Employed full-time   \n",
       "\n",
       "                                          DevType  \\\n",
       "8                           Developer, full-stack   \n",
       "16                          Developer, full-stack   \n",
       "17                            Developer, back-end   \n",
       "18                          Developer, full-stack   \n",
       "19  Developer, desktop or enterprise applications   \n",
       "\n",
       "                              DatabaseDesireNextYear  \\\n",
       "8                                                NaN   \n",
       "16  Cassandra;Elasticsearch;MariaDB;PostgreSQL;Redis   \n",
       "17             Elasticsearch;PostgreSQL;Redis;SQLite   \n",
       "18                                   MariaDB;MongoDB   \n",
       "19                                               NaN   \n",
       "\n",
       "                            DatabaseWorkedWith  \\\n",
       "8                                          NaN   \n",
       "16             Microsoft SQL Server;PostgreSQL   \n",
       "17    Elasticsearch;MariaDB;MySQL;Redis;SQLite   \n",
       "18                MariaDB;Microsoft SQL Server   \n",
       "19  IBM DB2;MariaDB;Microsoft SQL Server;MySQL   \n",
       "\n",
       "               PlatformDesireNextYear    PlatformWorkedWith  \n",
       "8                                 NaN             WordPress  \n",
       "16  Docker;Kubernetes;Microsoft Azure                   NaN  \n",
       "17                              Linux             AWS;Linux  \n",
       "18    iOS;Slack Apps and Integrations               Windows  \n",
       "19                                NaN  Heroku;Linux;Windows  "
      ]
     },
     "execution_count": 10,
     "metadata": {},
     "output_type": "execute_result"
    }
   ],
   "source": [
    "rslt_df.head()"
   ]
  },
  {
   "cell_type": "code",
   "execution_count": 11,
   "id": "dc4d650a",
   "metadata": {},
   "outputs": [],
   "source": [
    "df = pd.concat([rslt_df, rslt_df['DatabaseWorkedWith'].str.split(';', expand=True)], axis=1)"
   ]
  },
  {
   "cell_type": "code",
   "execution_count": 12,
   "id": "ea5e78ff",
   "metadata": {
    "scrolled": true
   },
   "outputs": [],
   "source": [
    "df_dbs = df.rename(columns = {0: \"CurrentDB0\",\n",
    "                     1: \"CurrentDB1\",\n",
    "                     2: \"CurrentDB2\",\n",
    "                     3: \"CurrentDB3\",\n",
    "                     4: \"CurrentDB4\", \n",
    "                     5:\"CurrentDB5\",\n",
    "                     6:\"CurrentDB6\",\n",
    "                     7:\"CurrentDB7\",\n",
    "                     8:\"CurrentDB8\",\n",
    "                     9:\"CurrentDB9\",\n",
    "                     10:\"CurrentDB10\",\n",
    "                     11:\"CurrentDB11\",\n",
    "                     12:\"CurrentDB12\",\n",
    "                     13:\"CurrentDB13\",})"
   ]
  },
  {
   "cell_type": "code",
   "execution_count": 13,
   "id": "1e56393e",
   "metadata": {},
   "outputs": [],
   "source": [
    "df_db_desired = pd.concat([df_dbs, df_dbs['DatabaseDesireNextYear'].str.split(';', expand=True)], axis=1)"
   ]
  },
  {
   "cell_type": "code",
   "execution_count": 14,
   "id": "fdb0a883",
   "metadata": {},
   "outputs": [],
   "source": [
    "df_db_desired = df_db_desired.rename(columns = {0: \"DesiredDB0\",\n",
    "                     1: \"DesiredDB1\",\n",
    "                     2: \"DesiredDB2\",\n",
    "                     3: \"DesiredDB3\",\n",
    "                     4: \"DesiredDB4\", \n",
    "                     5:\"DesiredDB5\",\n",
    "                     6:\"DesiredB6\",\n",
    "                     7:\"DesiredDB7\",\n",
    "                     8:\"DesiredDB8\",\n",
    "                     9:\"DesiredDB9\",\n",
    "                     10:\"DesiredDB10\",\n",
    "                     11:\"DesiredDB11\",\n",
    "                     12:\"DesiredDB12\",\n",
    "                     13:\"DesiredDB13\",})"
   ]
  },
  {
   "cell_type": "code",
   "execution_count": 15,
   "id": "21b016d8",
   "metadata": {},
   "outputs": [],
   "source": [
    "df_platform_desired = pd.concat([df_db_desired, df_db_desired['PlatformDesireNextYear'].str.split(';', expand=True)], axis=1)"
   ]
  },
  {
   "cell_type": "code",
   "execution_count": 16,
   "id": "a8be9160",
   "metadata": {},
   "outputs": [],
   "source": [
    "df_platform_desired = df_platform_desired.rename(columns = {0: \"DesiredPlatform0\",\n",
    "                     1: \"DesiredPlatform1\",\n",
    "                     2: \"DesiredPlatform2\",\n",
    "                     3: \"DesiredPlatform3\",\n",
    "                     4: \"DesiredPlatform4\", \n",
    "                     5:\"DesiredPlatform5\",\n",
    "                     6:\"DesiredPlatform6\",\n",
    "                     7:\"DesiredPlatform7\",\n",
    "                     8:\"DesiredPlatform8\",\n",
    "                     9:\"DesiredPlatform9\",\n",
    "                     10:\"DesiredPlatform10\",\n",
    "                     11:\"DesiredPlatform11\",\n",
    "                     12:\"DesiredPlatform12\",\n",
    "                     13:\"DesiredPlatform13\",\n",
    "                    14:\"DesiredPlatform14\",\n",
    "                     15:\"DesiredPlatform15\",                                 \n",
    "                                                           })"
   ]
  },
  {
   "cell_type": "code",
   "execution_count": 17,
   "id": "11f3e6c4",
   "metadata": {},
   "outputs": [],
   "source": [
    "df_platform_desired_toy = df_platform_desired[['CurrentDB0', 'DesiredDB0', 'DesiredPlatform0']]"
   ]
  },
  {
   "cell_type": "code",
   "execution_count": 18,
   "id": "6161c966",
   "metadata": {},
   "outputs": [
    {
     "name": "stdout",
     "output_type": "stream",
     "text": [
      "<class 'pandas.core.frame.DataFrame'>\n",
      "Int64Index: 12807 entries, 8 to 64451\n",
      "Data columns (total 3 columns):\n",
      " #   Column            Non-Null Count  Dtype \n",
      "---  ------            --------------  ----- \n",
      " 0   CurrentDB0        9981 non-null   object\n",
      " 1   DesiredDB0        8716 non-null   object\n",
      " 2   DesiredPlatform0  10131 non-null  object\n",
      "dtypes: object(3)\n",
      "memory usage: 400.2+ KB\n"
     ]
    }
   ],
   "source": [
    "df_platform_desired_toy.info()"
   ]
  },
  {
   "cell_type": "code",
   "execution_count": 19,
   "id": "5ba43a14",
   "metadata": {},
   "outputs": [
    {
     "name": "stdout",
     "output_type": "stream",
     "text": [
      "7654\n",
      "                 CurrentDB0            DesiredDB0 DesiredPlatform0\n",
      "16     Microsoft SQL Server             Cassandra           Docker\n",
      "17            Elasticsearch         Elasticsearch            Linux\n",
      "18                  MariaDB               MariaDB              iOS\n",
      "23               PostgreSQL             Cassandra              AWS\n",
      "36                  MariaDB         Elasticsearch           Docker\n",
      "...                     ...                   ...              ...\n",
      "64416  Microsoft SQL Server  Microsoft SQL Server          Android\n",
      "64420                Oracle              Firebase          Android\n",
      "64422                 MySQL               MongoDB          Android\n",
      "64428               MariaDB               MariaDB          Android\n",
      "64429              Firebase              Firebase          Android\n",
      "\n",
      "[7654 rows x 3 columns]\n"
     ]
    }
   ],
   "source": [
    "df = df_platform_desired_toy.dropna()\n",
    "print(len(df))\n",
    "print(df)"
   ]
  },
  {
   "cell_type": "code",
   "execution_count": 20,
   "id": "eb1b082a",
   "metadata": {},
   "outputs": [],
   "source": [
    "def count_db(df, column_string,db_name):\n",
    "    '''Count the number of current or desired databases'''\n",
    "    \n",
    "    counter = 0\n",
    "    for i in df[column_string]:\n",
    "        if i == db_name:\n",
    "            counter += 1\n",
    "    return counter\n",
    "    "
   ]
  },
  {
   "cell_type": "code",
   "execution_count": 21,
   "id": "1da3221f",
   "metadata": {},
   "outputs": [
    {
     "name": "stdout",
     "output_type": "stream",
     "text": [
      "7654\n"
     ]
    }
   ],
   "source": [
    "Cur_MySQL = count_db(df, \"CurrentDB0\",\"MySQL\")\n",
    "Cur_PostgreSQL = count_db(df, \"CurrentDB0\",\"PostgreSQL\")\n",
    "Cur_Microsoft_SQL_Server = count_db(df, \"CurrentDB0\",\"Microsoft SQL Server\")\n",
    "Cur_SQLite = count_db(df, \"CurrentDB0\",\"SQLite\")\n",
    "Cur_MongoDB = count_db(df, \"CurrentDB0\",\"MongoDB\")\n",
    "Cur_Redis = count_db(df, \"CurrentDB0\",\"Redis\")\n",
    "Cur_MariaDB = count_db(df, \"CurrentDB0\",\"MariaDB\")\n",
    "Cur_Oracle = count_db(df, \"CurrentDB0\",\"Oracle\")\n",
    "Cur_Firebase = count_db(df, \"CurrentDB0\",\"Firebase\")\n",
    "Cur_Elasticsearch = count_db(df, \"CurrentDB0\",\"Elasticsearch\")\n",
    "Cur_DynamoDB = count_db(df, \"CurrentDB0\",\"DynamoDB\")\n",
    "Cur_Cassandra = count_db(df, \"CurrentDB0\",\"Cassandra\")\n",
    "Cur_IBM_DB2 = count_db(df, \"CurrentDB0\",\"IBM DB2\")\n",
    "Cur_Couchbase= count_db(df, \"CurrentDB0\",\"Couchbase\")\n",
    "\n",
    "Current_DBs = [\n",
    "Cur_MySQL,\n",
    "Cur_PostgreSQL,\n",
    "Cur_Microsoft_SQL_Server,\n",
    "Cur_SQLite,\n",
    "Cur_MongoDB,\n",
    "Cur_Redis,\n",
    "Cur_MariaDB,\n",
    "Cur_Oracle,\n",
    "Cur_Firebase,\n",
    "Cur_Elasticsearch,\n",
    "Cur_DynamoDB,\n",
    "Cur_Cassandra,\n",
    "Cur_IBM_DB2,\n",
    "Cur_Couchbase\n",
    "]\n",
    "\n",
    "sum = 0\n",
    "for i in Current_DBs:\n",
    "    sum += i\n",
    "print(sum)"
   ]
  },
  {
   "cell_type": "code",
   "execution_count": 22,
   "id": "ab11724c",
   "metadata": {},
   "outputs": [
    {
     "data": {
      "image/png": "[encoded data removed]",
      "text/plain": [
       "<Figure size 432x288 with 1 Axes>"
      ]
     },
     "metadata": {
      "needs_background": "light"
     },
     "output_type": "display_data"
    }
   ],
   "source": [
    "labels = ['MySQL',\n",
    "'PostgreSQL',\n",
    "'SQL_Server',\n",
    "'SQLite',\n",
    "'MongoDB',\n",
    "\"Redis\",\n",
    "\"MariaDB\",\n",
    "\"Oracle\",\n",
    "\"Firebase\",\n",
    "\"Elasticsearch\",\n",
    "\"DynamoDB\",\n",
    "\"Cassandra\",\n",
    "\"IBM DB2\",\n",
    "\"Couchbase\"\n",
    "         ]\n",
    "from matplotlib.pyplot import figure\n",
    "\n",
    "fig, ax = plt.subplots()\n",
    "\n",
    "plt.xticks(rotation=90,wrap=False)\n",
    "\n",
    "# plt.figure(figsize=(11,8))\n",
    "\n",
    "ax.set_ylabel('Users')\n",
    "ax.set_title('Current Databases')\n",
    "\n",
    "# ax.bar(x - width/2, Current_DBs, width, label='Current_DBs')\n",
    "\n",
    "pps = plt.bar(labels,Current_DBs)\n",
    "for p in pps:\n",
    "   height = p.get_height()\n",
    "   ax.annotate('{}'.format(height),\n",
    "      xy=(p.get_x() + p.get_width() / 2, height),\n",
    "      xytext=(0, 3), # 3 points vertical offset\n",
    "      textcoords=\"offset points\",\n",
    "      ha='center', va='bottom')\n",
    "\n",
    "\n",
    "plt.show()"
   ]
  },
  {
   "cell_type": "code",
   "execution_count": 23,
   "id": "8479021e",
   "metadata": {},
   "outputs": [
    {
     "name": "stdout",
     "output_type": "stream",
     "text": [
      "7654\n"
     ]
    }
   ],
   "source": [
    "Des_MySQL = count_db(df, \"DesiredDB0\",\"MySQL\")\n",
    "Des_PostgreSQL = count_db(df, \"DesiredDB0\",\"PostgreSQL\")\n",
    "Des_Microsoft_SQL_Server = count_db(df, \"DesiredDB0\",\"Microsoft SQL Server\")\n",
    "Des_SQLite = count_db(df, \"DesiredDB0\",\"SQLite\")\n",
    "Des_MongoDB = count_db(df, \"DesiredDB0\",\"MongoDB\")\n",
    "Des_Redis = count_db(df, \"DesiredDB0\",\"Redis\")\n",
    "Des_MariaDB = count_db(df, \"DesiredDB0\",\"MariaDB\")\n",
    "Des_Oracle = count_db(df, \"DesiredDB0\",\"Oracle\")\n",
    "Des_Firebase = count_db(df, \"DesiredDB0\",\"Firebase\")\n",
    "Des_Elasticsearch = count_db(df, \"DesiredDB0\",\"Elasticsearch\")\n",
    "Des_DynamoDB = count_db(df, \"DesiredDB0\",\"DynamoDB\")\n",
    "Des_Cassandra = count_db(df, \"DesiredDB0\",\"Cassandra\")\n",
    "Des_IBM_DB2 = count_db(df, \"DesiredDB0\",\"IBM DB2\")\n",
    "Des_Couchbase= count_db(df, \"DesiredDB0\",\"Couchbase\")\n",
    "\n",
    "Desired_DBs = [\n",
    "Des_MySQL,\n",
    "Des_PostgreSQL,\n",
    "Des_Microsoft_SQL_Server,\n",
    "Des_SQLite,\n",
    "Des_MongoDB,\n",
    "Des_Redis,\n",
    "Des_MariaDB,\n",
    "Des_Oracle,\n",
    "Des_Firebase,\n",
    "Des_Elasticsearch,\n",
    "Des_DynamoDB,\n",
    "Des_Cassandra,\n",
    "Des_IBM_DB2,\n",
    "Des_Couchbase\n",
    "]\n",
    "\n",
    "sum = 0\n",
    "for i in Desired_DBs:\n",
    "    sum += i\n",
    "print(sum)"
   ]
  },
  {
   "cell_type": "code",
   "execution_count": 24,
   "id": "254fd056",
   "metadata": {},
   "outputs": [
    {
     "data": {
      "image/png": "[encoded data removed]",
      "text/plain": [
       "<Figure size 432x288 with 1 Axes>"
      ]
     },
     "metadata": {
      "needs_background": "light"
     },
     "output_type": "display_data"
    }
   ],
   "source": [
    "labels = ['MySQL',\n",
    "'PostgreSQL',\n",
    "'SQL_Server',\n",
    "'SQLite',\n",
    "'MongoDB',\n",
    "\"Redis\",\n",
    "\"MariaDB\",\n",
    "\"Oracle\",\n",
    "\"Firebase\",\n",
    "\"Elasticsearch\",\n",
    "\"DynamoDB\",\n",
    "\"Cassandra\",\n",
    "\"IBM DB2\",\n",
    "\"Couchbase\"\n",
    "         ]\n",
    "from matplotlib.pyplot import figure\n",
    "\n",
    "fig, ax = plt.subplots()\n",
    "\n",
    "plt.xticks(rotation=90,wrap=False)\n",
    "\n",
    "# plt.figure(figsize=(11,8))\n",
    "\n",
    "ax.set_ylabel('Users')\n",
    "ax.set_title('Desired Databases')\n",
    "\n",
    "pps = plt.bar(labels,Desired_DBs)\n",
    "for p in pps:\n",
    "   height = p.get_height()\n",
    "   ax.annotate('{}'.format(height),\n",
    "      xy=(p.get_x() + p.get_width() / 2, height),\n",
    "      xytext=(0, 3), # 3 points vertical offset\n",
    "      textcoords=\"offset points\",\n",
    "      ha='center', va='bottom')\n",
    "\n",
    "\n",
    "plt.show()"
   ]
  },
  {
   "cell_type": "code",
   "execution_count": 25,
   "id": "ed1a043b",
   "metadata": {},
   "outputs": [],
   "source": [
    "def CurrentDB(df,column_string):\n",
    "\n",
    "    CurrentDBx_num = []\n",
    "    for i in df[column_string]:\n",
    "        if i == \"MySQL\":\n",
    "            CurrentDBx_num.append([1,0,0,0,0,0,0,0,0,0,0,0,0,0,0])\n",
    "        elif i == \"PostgreSQL\":\n",
    "            CurrentDBx_num.append([0,1,0,0,0,0,0,0,0,0,0,0,0,0,0])\n",
    "        elif i == \"Microsoft SQL Server\":\n",
    "            CurrentDBx_num.append([0,0,1,0,0,0,0,0,0,0,0,0,0,0,0])\n",
    "        elif i == \"SQLite\":\n",
    "            CurrentDBx_num.append([0,0,0,1,0,0,0,0,0,0,0,0,0,0,0])\n",
    "        elif i == \"MongoDB\":\n",
    "            CurrentDBx_num.append([0,0,0,0,1,0,0,0,0,0,0,0,0,0,0])\n",
    "        elif i == \"Redis\":\n",
    "            CurrentDBx_num.append([0,0,0,0,0,1,0,0,0,0,0,0,0,0,0])\n",
    "        elif i == \"MariaDB\":\n",
    "            CurrentDBx_num.append([0,0,0,0,0,0,1,0,0,0,0,0,0,0,0])\n",
    "        elif i == \"Oracle\":\n",
    "            CurrentDBx_num.append([0,0,0,0,0,0,0,1,0,0,0,0,0,0,0])\n",
    "        elif i == \"Firebase\":\n",
    "            CurrentDBx_num.append([0,0,0,0,0,0,0,0,1,0,0,0,0,0,0])\n",
    "        elif i == \"Elasticsearch\":\n",
    "            CurrentDBx_num.append([0,0,0,0,0,0,0,0,0,1,0,0,0,0,0])\n",
    "        elif i == \"DynamoDB\":\n",
    "            CurrentDBx_num.append([0,0,0,0,0,0,0,0,0,0,1,0,0,0,0])\n",
    "        elif i == \"Cassandra\":\n",
    "            CurrentDBx_num.append([0,0,0,0,0,0,0,0,0,0,0,1,0,0,0])\n",
    "        elif i == \"IBM DB2\":\n",
    "            CurrentDBx_num.append([0,0,0,0,0,0,0,0,0,0,0,0,1,0,0])\n",
    "        elif i == \"Couchbase\":\n",
    "            CurrentDBx_num.append([0,0,0,0,0,0,0,0,0,0,0,0,0,1,0])\n",
    "        else:\n",
    "            CurrentDBx_num.append([0,0,0,0,0,0,0,0,0,0,0,0,0,0,0])\n",
    "\n",
    "    return (CurrentDBx_num)\n",
    "\n"
   ]
  },
  {
   "cell_type": "code",
   "execution_count": 26,
   "id": "0ed62dbd",
   "metadata": {},
   "outputs": [],
   "source": [
    "CurrentDB0 = CurrentDB(df, 'CurrentDB0')\n",
    "# CurrentDB1 = CurrentDB(df, 'CurrentDB1')\n",
    "# CurrentDB2 = CurrentDB(df, 'CurrentDB2')\n",
    "# CurrentDB3 = CurrentDB(df, 'CurrentDB3')"
   ]
  },
  {
   "cell_type": "code",
   "execution_count": 27,
   "id": "745b16d8",
   "metadata": {
    "scrolled": true
   },
   "outputs": [
    {
     "name": "stdout",
     "output_type": "stream",
     "text": [
      "[[0, 0, 1, 0, 0, 0, 0, 0, 0, 0, 0, 0, 0, 0, 0], [0, 0, 0, 0, 0, 0, 0, 0, 0, 1, 0, 0, 0, 0, 0], [0, 0, 0, 0, 0, 0, 1, 0, 0, 0, 0, 0, 0, 0, 0], [0, 1, 0, 0, 0, 0, 0, 0, 0, 0, 0, 0, 0, 0, 0], [0, 0, 0, 0, 0, 0, 1, 0, 0, 0, 0, 0, 0, 0, 0]]\n"
     ]
    }
   ],
   "source": [
    "print(CurrentDB0[:5])"
   ]
  },
  {
   "cell_type": "code",
   "execution_count": 28,
   "id": "4f49cbb4",
   "metadata": {},
   "outputs": [],
   "source": [
    "def DesiredDB(df,column_string):\n",
    "\n",
    "    DesiredDBx_num = []\n",
    "    for i in df[column_string]:\n",
    "        if i == \"MySQL\":\n",
    "            DesiredDBx_num.append([1,0,0,0,0,0,0,0,0,0,0,0,0,0,0])\n",
    "        elif i == \"PostgreSQL\":\n",
    "            DesiredDBx_num.append([0,1,0,0,0,0,0,0,0,0,0,0,0,0,0])\n",
    "        elif i == \"Microsoft SQL Server\":\n",
    "            DesiredDBx_num.append([0,0,1,0,0,0,0,0,0,0,0,0,0,0,0])\n",
    "        elif i == \"SQLite\":\n",
    "            DesiredDBx_num.append([0,0,0,1,0,0,0,0,0,0,0,0,0,0,0])\n",
    "        elif i == \"MongoDB\":\n",
    "            DesiredDBx_num.append([0,0,0,0,1,0,0,0,0,0,0,0,0,0,0])\n",
    "        elif i == \"Redis\":\n",
    "            DesiredDBx_num.append([0,0,0,0,0,1,0,0,0,0,0,0,0,0,0])\n",
    "        elif i == \"MariaDB\":\n",
    "            DesiredDBx_num.append([0,0,0,0,0,0,1,0,0,0,0,0,0,0,0])\n",
    "        elif i == \"Oracle\":\n",
    "            DesiredDBx_num.append([0,0,0,0,0,0,0,1,0,0,0,0,0,0,0])\n",
    "        elif i == \"Firebase\":\n",
    "            DesiredDBx_num.append([0,0,0,0,0,0,0,0,1,0,0,0,0,0,0])\n",
    "        elif i == \"Elasticsearch\":\n",
    "            DesiredDBx_num.append([0,0,0,0,0,0,0,0,0,1,0,0,0,0,0])\n",
    "        elif i == \"DynamoDB\":\n",
    "            DesiredDBx_num.append([0,0,0,0,0,0,0,0,0,0,1,0,0,0,0])\n",
    "        elif i == \"Cassandra\":\n",
    "            DesiredDBx_num.append([0,0,0,0,0,0,0,0,0,0,0,1,0,0,0])\n",
    "        elif i == \"IBM DB2\":\n",
    "            DesiredDBx_num.append([0,0,0,0,0,0,0,0,0,0,0,0,1,0,0])\n",
    "        elif i == \"Couchbase\":\n",
    "            DesiredDBx_num.append([0,0,0,0,0,0,0,0,0,0,0,0,0,1,0])\n",
    "        else:\n",
    "            DesiredDBx_num.append([0,0,0,0,0,0,0,0,0,0,0,0,0,0,0])\n",
    "  \n",
    "\n",
    "    return (DesiredDBx_num)"
   ]
  },
  {
   "cell_type": "code",
   "execution_count": 29,
   "id": "0cb418e1",
   "metadata": {},
   "outputs": [],
   "source": [
    "DesiredDB0 = DesiredDB(df_platform_desired, 'DesiredDB0')\n",
    "# DesiredDB1 = DesiredDB(df_platform_desired, 'DesiredDB1')\n",
    "# DesiredDB2 = DesiredDB(df_platform_desired, 'DesiredDB2')\n",
    "# DesiredDB3 = DesiredDB(df_platform_desired, 'DesiredDB3')"
   ]
  },
  {
   "cell_type": "code",
   "execution_count": 30,
   "id": "3c31c023",
   "metadata": {},
   "outputs": [],
   "source": [
    "def DesiredPlatform(df,column_string):\n",
    "\n",
    "    DesiredPlatformx_num = []\n",
    "    for i in df[column_string]:\n",
    "        if i == \"Linux\":\n",
    "            DesiredPlatformx_num.append([1,0,0,0,0,0,0,0,0,0,0,0,0,0,0,0,0])\n",
    "        elif i == \"Windows\":\n",
    "            DesiredPlatformx_num.append([0,1,0,0,0,0,0,0,0,0,0,0,0,0,0,0,0])\n",
    "        elif i == \"Docker\":\n",
    "            DesiredPlatformx_num.append([0,0,1,0,0,0,0,0,0,0,0,0,0,0,0,0,0])\n",
    "        elif i == \"AWS\":\n",
    "            DesiredPlatformx_num.append([0,0,0,1,0,0,0,0,0,0,0,0,0,0,0,0,0])\n",
    "        elif i == \"Android\":\n",
    "            DesiredPlatformx_num.append([0,0,0,0,1,0,0,0,0,0,0,0,0,0,0,0,0])\n",
    "        elif i == \"MacOS\":\n",
    "            DesiredPlatformx_num.append([0,0,0,0,0,1,0,0,0,0,0,0,0,0,0,0,0])\n",
    "        elif i == \"Rasberry Pi\":\n",
    "            DesiredPlatformx_num.append([0,0,0,0,0,0,1,0,0,0,0,0,0,0,0,0,0])\n",
    "        elif i == \"Microsoft Azure\":\n",
    "            DesiredPlatformx_num.append([0,0,0,0,0,0,0,1,0,0,0,0,0,0,0,0,0])\n",
    "        elif i == \"WordPress\":\n",
    "            DesiredPlatformx_num.append([0,0,0,0,0,0,0,0,1,0,0,0,0,0,0,0,0])\n",
    "        elif i == \"Google Cloud Platform\":\n",
    "            DesiredPlatformx_num.append([0,0,0,0,0,0,0,0,0,1,0,0,0,0,0,0,0])\n",
    "        elif i == \"iOS\":\n",
    "            DesiredPlatformx_num.append([0,0,0,0,0,0,0,0,0,0,1,0,0,0,0,0,0])\n",
    "        elif i == \"Kubernetes\":\n",
    "            DesiredPlatformx_num.append([0,0,0,0,0,0,0,0,0,0,0,1,0,0,0,0,0])\n",
    "        elif i == \"Heroku\":\n",
    "            DesiredPlatformx_num.append([0,0,0,0,0,0,0,0,0,0,0,0,1,0,0,0,0])\n",
    "        elif i == \"Arduino\":\n",
    "            DesiredPlatformx_num.append([0,0,0,0,0,0,0,0,0,0,0,0,0,1,0,0,0])\n",
    "        elif i == \"Slack Apps and Integrations\":\n",
    "            DesiredPlatformx_num.append([0,0,0,0,0,0,0,0,0,0,0,0,0,0,1,0,0])\n",
    "        elif i == \"IBM Cloud or Watson\":\n",
    "            DesiredPlatformx_num.append([0,0,0,0,0,0,0,0,0,0,0,0,0,0,0,1,0])\n",
    "        else:\n",
    "            DesiredPlatformx_num.append([0,0,0,0,0,0,0,0,0,0,0,0,0,0,0,0,0])\n",
    "\n",
    "    return (DesiredPlatformx_num)\n",
    "\n",
    "# Linux\n",
    "# Windows\n",
    "# Docker\n",
    "# AWS\n",
    "# Android\n",
    "# MacOS\n",
    "# Rasberry Pi\n",
    "# Microsoft Azure\n",
    "# WordPress\n",
    "# Google Cloud Platform\n",
    "# iOS\n",
    "# Kubernetes\n",
    "# Heroku\n",
    "# Arduino\n",
    "# Slack Apps and Integrations\n",
    "# IBM Cloud or Watson "
   ]
  },
  {
   "cell_type": "code",
   "execution_count": 31,
   "id": "986387ce",
   "metadata": {},
   "outputs": [],
   "source": [
    "DesiredPlatform0 = DesiredPlatform(df, 'DesiredPlatform0')\n",
    "# DesiredPlatform1 = DesiredPlatform(df_platform_desired, 'DesiredPlatform1')\n",
    "# DesiredPlatform2 = DesiredPlatform(df_platform_desired, 'DesiredPlatform2')\n",
    "# DesiredPlatform3 = DesiredPlatform(df_platform_desired, 'DesiredPlatform3')"
   ]
  },
  {
   "cell_type": "code",
   "execution_count": 32,
   "id": "6551aaa8",
   "metadata": {},
   "outputs": [
    {
     "name": "stdout",
     "output_type": "stream",
     "text": [
      "15\n",
      "15\n",
      "17\n"
     ]
    }
   ],
   "source": [
    "print(len(CurrentDB0[0]))\n",
    "print(len(DesiredDB0[0]))\n",
    "print(len(DesiredPlatform0[0]))"
   ]
  },
  {
   "cell_type": "code",
   "execution_count": 33,
   "id": "9f5d5c2b",
   "metadata": {},
   "outputs": [],
   "source": [
    "X = CurrentDB0\n",
    "y = DesiredPlatform0\n",
    "X_train, X_test, y_train, y_test = train_test_split(X,y, test_size = .2) "
   ]
  },
  {
   "cell_type": "code",
   "execution_count": 34,
   "id": "fe54e7b1",
   "metadata": {},
   "outputs": [
    {
     "data": {
      "text/plain": [
       "[[0, 0, 0, 0, 0, 0, 0, 0, 1, 0, 0, 0, 0, 0, 0],\n",
       " [0, 0, 0, 0, 0, 0, 0, 0, 0, 0, 1, 0, 0, 0, 0],\n",
       " [0, 0, 1, 0, 0, 0, 0, 0, 0, 0, 0, 0, 0, 0, 0],\n",
       " [0, 0, 0, 0, 0, 0, 0, 0, 0, 0, 1, 0, 0, 0, 0],\n",
       " [0, 0, 1, 0, 0, 0, 0, 0, 0, 0, 0, 0, 0, 0, 0],\n",
       " [1, 0, 0, 0, 0, 0, 0, 0, 0, 0, 0, 0, 0, 0, 0],\n",
       " [0, 0, 1, 0, 0, 0, 0, 0, 0, 0, 0, 0, 0, 0, 0],\n",
       " [0, 0, 0, 0, 0, 0, 0, 0, 0, 1, 0, 0, 0, 0, 0],\n",
       " [0, 0, 1, 0, 0, 0, 0, 0, 0, 0, 0, 0, 0, 0, 0],\n",
       " [0, 0, 0, 0, 1, 0, 0, 0, 0, 0, 0, 0, 0, 0, 0]]"
      ]
     },
     "execution_count": 34,
     "metadata": {},
     "output_type": "execute_result"
    }
   ],
   "source": [
    "X_train[:10]"
   ]
  },
  {
   "cell_type": "code",
   "execution_count": 35,
   "id": "429a423f",
   "metadata": {},
   "outputs": [
    {
     "ename": "ValueError",
     "evalue": "Supported target types are: ('binary', 'multiclass'). Got 'multilabel-indicator' instead.",
     "output_type": "error",
     "traceback": [
      "\u001b[0;31m---------------------------------------------------------------------------\u001b[0m",
      "\u001b[0;31mEmpty\u001b[0m                                     Traceback (most recent call last)",
      "\u001b[0;32m~/opt/anaconda3/lib/python3.8/site-packages/joblib/parallel.py\u001b[0m in \u001b[0;36mdispatch_one_batch\u001b[0;34m(self, iterator)\u001b[0m\n\u001b[1;32m    819\u001b[0m             \u001b[0;32mtry\u001b[0m\u001b[0;34m:\u001b[0m\u001b[0;34m\u001b[0m\u001b[0;34m\u001b[0m\u001b[0m\n\u001b[0;32m--> 820\u001b[0;31m                 \u001b[0mtasks\u001b[0m \u001b[0;34m=\u001b[0m \u001b[0mself\u001b[0m\u001b[0;34m.\u001b[0m\u001b[0m_ready_batches\u001b[0m\u001b[0;34m.\u001b[0m\u001b[0mget\u001b[0m\u001b[0;34m(\u001b[0m\u001b[0mblock\u001b[0m\u001b[0;34m=\u001b[0m\u001b[0;32mFalse\u001b[0m\u001b[0;34m)\u001b[0m\u001b[0;34m\u001b[0m\u001b[0;34m\u001b[0m\u001b[0m\n\u001b[0m\u001b[1;32m    821\u001b[0m             \u001b[0;32mexcept\u001b[0m \u001b[0mqueue\u001b[0m\u001b[0;34m.\u001b[0m\u001b[0mEmpty\u001b[0m\u001b[0;34m:\u001b[0m\u001b[0;34m\u001b[0m\u001b[0;34m\u001b[0m\u001b[0m\n",
      "\u001b[0;32m~/opt/anaconda3/lib/python3.8/queue.py\u001b[0m in \u001b[0;36mget\u001b[0;34m(self, block, timeout)\u001b[0m\n\u001b[1;32m    166\u001b[0m                 \u001b[0;32mif\u001b[0m \u001b[0;32mnot\u001b[0m \u001b[0mself\u001b[0m\u001b[0;34m.\u001b[0m\u001b[0m_qsize\u001b[0m\u001b[0;34m(\u001b[0m\u001b[0;34m)\u001b[0m\u001b[0;34m:\u001b[0m\u001b[0;34m\u001b[0m\u001b[0;34m\u001b[0m\u001b[0m\n\u001b[0;32m--> 167\u001b[0;31m                     \u001b[0;32mraise\u001b[0m \u001b[0mEmpty\u001b[0m\u001b[0;34m\u001b[0m\u001b[0;34m\u001b[0m\u001b[0m\n\u001b[0m\u001b[1;32m    168\u001b[0m             \u001b[0;32melif\u001b[0m \u001b[0mtimeout\u001b[0m \u001b[0;32mis\u001b[0m \u001b[0;32mNone\u001b[0m\u001b[0;34m:\u001b[0m\u001b[0;34m\u001b[0m\u001b[0;34m\u001b[0m\u001b[0m\n",
      "\u001b[0;31mEmpty\u001b[0m: ",
      "\nDuring handling of the above exception, another exception occurred:\n",
      "\u001b[0;31mValueError\u001b[0m                                Traceback (most recent call last)",
      "\u001b[0;32m<ipython-input-35-ad9ef909aa49>\u001b[0m in \u001b[0;36m<module>\u001b[0;34m\u001b[0m\n\u001b[1;32m      6\u001b[0m \u001b[0;34m\u001b[0m\u001b[0m\n\u001b[1;32m      7\u001b[0m \u001b[0;31m# get the scores back using the helper function, make sure to pass a scoring function string - otherwise you default to accuracy\u001b[0m\u001b[0;34m\u001b[0m\u001b[0;34m\u001b[0m\u001b[0;34m\u001b[0m\u001b[0m\n\u001b[0;32m----> 8\u001b[0;31m \u001b[0mscores\u001b[0m \u001b[0;34m=\u001b[0m \u001b[0mcross_val_score\u001b[0m\u001b[0;34m(\u001b[0m\u001b[0mclf\u001b[0m\u001b[0;34m,\u001b[0m \u001b[0mX_train\u001b[0m\u001b[0;34m,\u001b[0m \u001b[0my_train\u001b[0m\u001b[0;34m,\u001b[0m \u001b[0mscoring\u001b[0m \u001b[0;34m=\u001b[0m \u001b[0;34m'f1'\u001b[0m\u001b[0;34m,\u001b[0m \u001b[0mcv\u001b[0m \u001b[0;34m=\u001b[0m \u001b[0mcv\u001b[0m\u001b[0;34m)\u001b[0m\u001b[0;34m\u001b[0m\u001b[0;34m\u001b[0m\u001b[0m\n\u001b[0m\u001b[1;32m      9\u001b[0m \u001b[0;34m\u001b[0m\u001b[0m\n\u001b[1;32m     10\u001b[0m \u001b[0;31m# convert class vectors to binary class matrices\u001b[0m\u001b[0;34m\u001b[0m\u001b[0;34m\u001b[0m\u001b[0;34m\u001b[0m\u001b[0m\n",
      "\u001b[0;32m~/opt/anaconda3/lib/python3.8/site-packages/sklearn/utils/validation.py\u001b[0m in \u001b[0;36minner_f\u001b[0;34m(*args, **kwargs)\u001b[0m\n\u001b[1;32m     61\u001b[0m             \u001b[0mextra_args\u001b[0m \u001b[0;34m=\u001b[0m \u001b[0mlen\u001b[0m\u001b[0;34m(\u001b[0m\u001b[0margs\u001b[0m\u001b[0;34m)\u001b[0m \u001b[0;34m-\u001b[0m \u001b[0mlen\u001b[0m\u001b[0;34m(\u001b[0m\u001b[0mall_args\u001b[0m\u001b[0;34m)\u001b[0m\u001b[0;34m\u001b[0m\u001b[0;34m\u001b[0m\u001b[0m\n\u001b[1;32m     62\u001b[0m             \u001b[0;32mif\u001b[0m \u001b[0mextra_args\u001b[0m \u001b[0;34m<=\u001b[0m \u001b[0;36m0\u001b[0m\u001b[0;34m:\u001b[0m\u001b[0;34m\u001b[0m\u001b[0;34m\u001b[0m\u001b[0m\n\u001b[0;32m---> 63\u001b[0;31m                 \u001b[0;32mreturn\u001b[0m \u001b[0mf\u001b[0m\u001b[0;34m(\u001b[0m\u001b[0;34m*\u001b[0m\u001b[0margs\u001b[0m\u001b[0;34m,\u001b[0m \u001b[0;34m**\u001b[0m\u001b[0mkwargs\u001b[0m\u001b[0;34m)\u001b[0m\u001b[0;34m\u001b[0m\u001b[0;34m\u001b[0m\u001b[0m\n\u001b[0m\u001b[1;32m     64\u001b[0m \u001b[0;34m\u001b[0m\u001b[0m\n\u001b[1;32m     65\u001b[0m             \u001b[0;31m# extra_args > 0\u001b[0m\u001b[0;34m\u001b[0m\u001b[0;34m\u001b[0m\u001b[0;34m\u001b[0m\u001b[0m\n",
      "\u001b[0;32m~/opt/anaconda3/lib/python3.8/site-packages/sklearn/model_selection/_validation.py\u001b[0m in \u001b[0;36mcross_val_score\u001b[0;34m(estimator, X, y, groups, scoring, cv, n_jobs, verbose, fit_params, pre_dispatch, error_score)\u001b[0m\n\u001b[1;32m    438\u001b[0m     \u001b[0mscorer\u001b[0m \u001b[0;34m=\u001b[0m \u001b[0mcheck_scoring\u001b[0m\u001b[0;34m(\u001b[0m\u001b[0mestimator\u001b[0m\u001b[0;34m,\u001b[0m \u001b[0mscoring\u001b[0m\u001b[0;34m=\u001b[0m\u001b[0mscoring\u001b[0m\u001b[0;34m)\u001b[0m\u001b[0;34m\u001b[0m\u001b[0;34m\u001b[0m\u001b[0m\n\u001b[1;32m    439\u001b[0m \u001b[0;34m\u001b[0m\u001b[0m\n\u001b[0;32m--> 440\u001b[0;31m     cv_results = cross_validate(estimator=estimator, X=X, y=y, groups=groups,\n\u001b[0m\u001b[1;32m    441\u001b[0m                                 \u001b[0mscoring\u001b[0m\u001b[0;34m=\u001b[0m\u001b[0;34m{\u001b[0m\u001b[0;34m'score'\u001b[0m\u001b[0;34m:\u001b[0m \u001b[0mscorer\u001b[0m\u001b[0;34m}\u001b[0m\u001b[0;34m,\u001b[0m \u001b[0mcv\u001b[0m\u001b[0;34m=\u001b[0m\u001b[0mcv\u001b[0m\u001b[0;34m,\u001b[0m\u001b[0;34m\u001b[0m\u001b[0;34m\u001b[0m\u001b[0m\n\u001b[1;32m    442\u001b[0m                                 \u001b[0mn_jobs\u001b[0m\u001b[0;34m=\u001b[0m\u001b[0mn_jobs\u001b[0m\u001b[0;34m,\u001b[0m \u001b[0mverbose\u001b[0m\u001b[0;34m=\u001b[0m\u001b[0mverbose\u001b[0m\u001b[0;34m,\u001b[0m\u001b[0;34m\u001b[0m\u001b[0;34m\u001b[0m\u001b[0m\n",
      "\u001b[0;32m~/opt/anaconda3/lib/python3.8/site-packages/sklearn/utils/validation.py\u001b[0m in \u001b[0;36minner_f\u001b[0;34m(*args, **kwargs)\u001b[0m\n\u001b[1;32m     61\u001b[0m             \u001b[0mextra_args\u001b[0m \u001b[0;34m=\u001b[0m \u001b[0mlen\u001b[0m\u001b[0;34m(\u001b[0m\u001b[0margs\u001b[0m\u001b[0;34m)\u001b[0m \u001b[0;34m-\u001b[0m \u001b[0mlen\u001b[0m\u001b[0;34m(\u001b[0m\u001b[0mall_args\u001b[0m\u001b[0;34m)\u001b[0m\u001b[0;34m\u001b[0m\u001b[0;34m\u001b[0m\u001b[0m\n\u001b[1;32m     62\u001b[0m             \u001b[0;32mif\u001b[0m \u001b[0mextra_args\u001b[0m \u001b[0;34m<=\u001b[0m \u001b[0;36m0\u001b[0m\u001b[0;34m:\u001b[0m\u001b[0;34m\u001b[0m\u001b[0;34m\u001b[0m\u001b[0m\n\u001b[0;32m---> 63\u001b[0;31m                 \u001b[0;32mreturn\u001b[0m \u001b[0mf\u001b[0m\u001b[0;34m(\u001b[0m\u001b[0;34m*\u001b[0m\u001b[0margs\u001b[0m\u001b[0;34m,\u001b[0m \u001b[0;34m**\u001b[0m\u001b[0mkwargs\u001b[0m\u001b[0;34m)\u001b[0m\u001b[0;34m\u001b[0m\u001b[0;34m\u001b[0m\u001b[0m\n\u001b[0m\u001b[1;32m     64\u001b[0m \u001b[0;34m\u001b[0m\u001b[0m\n\u001b[1;32m     65\u001b[0m             \u001b[0;31m# extra_args > 0\u001b[0m\u001b[0;34m\u001b[0m\u001b[0;34m\u001b[0m\u001b[0;34m\u001b[0m\u001b[0m\n",
      "\u001b[0;32m~/opt/anaconda3/lib/python3.8/site-packages/sklearn/model_selection/_validation.py\u001b[0m in \u001b[0;36mcross_validate\u001b[0;34m(estimator, X, y, groups, scoring, cv, n_jobs, verbose, fit_params, pre_dispatch, return_train_score, return_estimator, error_score)\u001b[0m\n\u001b[1;32m    244\u001b[0m     parallel = Parallel(n_jobs=n_jobs, verbose=verbose,\n\u001b[1;32m    245\u001b[0m                         pre_dispatch=pre_dispatch)\n\u001b[0;32m--> 246\u001b[0;31m     results = parallel(\n\u001b[0m\u001b[1;32m    247\u001b[0m         delayed(_fit_and_score)(\n\u001b[1;32m    248\u001b[0m             \u001b[0mclone\u001b[0m\u001b[0;34m(\u001b[0m\u001b[0mestimator\u001b[0m\u001b[0;34m)\u001b[0m\u001b[0;34m,\u001b[0m \u001b[0mX\u001b[0m\u001b[0;34m,\u001b[0m \u001b[0my\u001b[0m\u001b[0;34m,\u001b[0m \u001b[0mscorers\u001b[0m\u001b[0;34m,\u001b[0m \u001b[0mtrain\u001b[0m\u001b[0;34m,\u001b[0m \u001b[0mtest\u001b[0m\u001b[0;34m,\u001b[0m \u001b[0mverbose\u001b[0m\u001b[0;34m,\u001b[0m \u001b[0;32mNone\u001b[0m\u001b[0;34m,\u001b[0m\u001b[0;34m\u001b[0m\u001b[0;34m\u001b[0m\u001b[0m\n",
      "\u001b[0;32m~/opt/anaconda3/lib/python3.8/site-packages/joblib/parallel.py\u001b[0m in \u001b[0;36m__call__\u001b[0;34m(self, iterable)\u001b[0m\n\u001b[1;32m   1039\u001b[0m             \u001b[0;31m# remaining jobs.\u001b[0m\u001b[0;34m\u001b[0m\u001b[0;34m\u001b[0m\u001b[0;34m\u001b[0m\u001b[0m\n\u001b[1;32m   1040\u001b[0m             \u001b[0mself\u001b[0m\u001b[0;34m.\u001b[0m\u001b[0m_iterating\u001b[0m \u001b[0;34m=\u001b[0m \u001b[0;32mFalse\u001b[0m\u001b[0;34m\u001b[0m\u001b[0;34m\u001b[0m\u001b[0m\n\u001b[0;32m-> 1041\u001b[0;31m             \u001b[0;32mif\u001b[0m \u001b[0mself\u001b[0m\u001b[0;34m.\u001b[0m\u001b[0mdispatch_one_batch\u001b[0m\u001b[0;34m(\u001b[0m\u001b[0miterator\u001b[0m\u001b[0;34m)\u001b[0m\u001b[0;34m:\u001b[0m\u001b[0;34m\u001b[0m\u001b[0;34m\u001b[0m\u001b[0m\n\u001b[0m\u001b[1;32m   1042\u001b[0m                 \u001b[0mself\u001b[0m\u001b[0;34m.\u001b[0m\u001b[0m_iterating\u001b[0m \u001b[0;34m=\u001b[0m \u001b[0mself\u001b[0m\u001b[0;34m.\u001b[0m\u001b[0m_original_iterator\u001b[0m \u001b[0;32mis\u001b[0m \u001b[0;32mnot\u001b[0m \u001b[0;32mNone\u001b[0m\u001b[0;34m\u001b[0m\u001b[0;34m\u001b[0m\u001b[0m\n\u001b[1;32m   1043\u001b[0m \u001b[0;34m\u001b[0m\u001b[0m\n",
      "\u001b[0;32m~/opt/anaconda3/lib/python3.8/site-packages/joblib/parallel.py\u001b[0m in \u001b[0;36mdispatch_one_batch\u001b[0;34m(self, iterator)\u001b[0m\n\u001b[1;32m    829\u001b[0m                 \u001b[0mbig_batch_size\u001b[0m \u001b[0;34m=\u001b[0m \u001b[0mbatch_size\u001b[0m \u001b[0;34m*\u001b[0m \u001b[0mn_jobs\u001b[0m\u001b[0;34m\u001b[0m\u001b[0;34m\u001b[0m\u001b[0m\n\u001b[1;32m    830\u001b[0m \u001b[0;34m\u001b[0m\u001b[0m\n\u001b[0;32m--> 831\u001b[0;31m                 \u001b[0mislice\u001b[0m \u001b[0;34m=\u001b[0m \u001b[0mlist\u001b[0m\u001b[0;34m(\u001b[0m\u001b[0mitertools\u001b[0m\u001b[0;34m.\u001b[0m\u001b[0mislice\u001b[0m\u001b[0;34m(\u001b[0m\u001b[0miterator\u001b[0m\u001b[0;34m,\u001b[0m \u001b[0mbig_batch_size\u001b[0m\u001b[0;34m)\u001b[0m\u001b[0;34m)\u001b[0m\u001b[0;34m\u001b[0m\u001b[0;34m\u001b[0m\u001b[0m\n\u001b[0m\u001b[1;32m    832\u001b[0m                 \u001b[0;32mif\u001b[0m \u001b[0mlen\u001b[0m\u001b[0;34m(\u001b[0m\u001b[0mislice\u001b[0m\u001b[0;34m)\u001b[0m \u001b[0;34m==\u001b[0m \u001b[0;36m0\u001b[0m\u001b[0;34m:\u001b[0m\u001b[0;34m\u001b[0m\u001b[0;34m\u001b[0m\u001b[0m\n\u001b[1;32m    833\u001b[0m                     \u001b[0;32mreturn\u001b[0m \u001b[0;32mFalse\u001b[0m\u001b[0;34m\u001b[0m\u001b[0;34m\u001b[0m\u001b[0m\n",
      "\u001b[0;32m~/opt/anaconda3/lib/python3.8/site-packages/sklearn/model_selection/_validation.py\u001b[0m in \u001b[0;36m<genexpr>\u001b[0;34m(.0)\u001b[0m\n\u001b[1;32m    244\u001b[0m     parallel = Parallel(n_jobs=n_jobs, verbose=verbose,\n\u001b[1;32m    245\u001b[0m                         pre_dispatch=pre_dispatch)\n\u001b[0;32m--> 246\u001b[0;31m     results = parallel(\n\u001b[0m\u001b[1;32m    247\u001b[0m         delayed(_fit_and_score)(\n\u001b[1;32m    248\u001b[0m             \u001b[0mclone\u001b[0m\u001b[0;34m(\u001b[0m\u001b[0mestimator\u001b[0m\u001b[0;34m)\u001b[0m\u001b[0;34m,\u001b[0m \u001b[0mX\u001b[0m\u001b[0;34m,\u001b[0m \u001b[0my\u001b[0m\u001b[0;34m,\u001b[0m \u001b[0mscorers\u001b[0m\u001b[0;34m,\u001b[0m \u001b[0mtrain\u001b[0m\u001b[0;34m,\u001b[0m \u001b[0mtest\u001b[0m\u001b[0;34m,\u001b[0m \u001b[0mverbose\u001b[0m\u001b[0;34m,\u001b[0m \u001b[0;32mNone\u001b[0m\u001b[0;34m,\u001b[0m\u001b[0;34m\u001b[0m\u001b[0;34m\u001b[0m\u001b[0m\n",
      "\u001b[0;32m~/opt/anaconda3/lib/python3.8/site-packages/sklearn/model_selection/_split.py\u001b[0m in \u001b[0;36msplit\u001b[0;34m(self, X, y, groups)\u001b[0m\n\u001b[1;32m    330\u001b[0m                 .format(self.n_splits, n_samples))\n\u001b[1;32m    331\u001b[0m \u001b[0;34m\u001b[0m\u001b[0m\n\u001b[0;32m--> 332\u001b[0;31m         \u001b[0;32mfor\u001b[0m \u001b[0mtrain\u001b[0m\u001b[0;34m,\u001b[0m \u001b[0mtest\u001b[0m \u001b[0;32min\u001b[0m \u001b[0msuper\u001b[0m\u001b[0;34m(\u001b[0m\u001b[0;34m)\u001b[0m\u001b[0;34m.\u001b[0m\u001b[0msplit\u001b[0m\u001b[0;34m(\u001b[0m\u001b[0mX\u001b[0m\u001b[0;34m,\u001b[0m \u001b[0my\u001b[0m\u001b[0;34m,\u001b[0m \u001b[0mgroups\u001b[0m\u001b[0;34m)\u001b[0m\u001b[0;34m:\u001b[0m\u001b[0;34m\u001b[0m\u001b[0;34m\u001b[0m\u001b[0m\n\u001b[0m\u001b[1;32m    333\u001b[0m             \u001b[0;32myield\u001b[0m \u001b[0mtrain\u001b[0m\u001b[0;34m,\u001b[0m \u001b[0mtest\u001b[0m\u001b[0;34m\u001b[0m\u001b[0;34m\u001b[0m\u001b[0m\n\u001b[1;32m    334\u001b[0m \u001b[0;34m\u001b[0m\u001b[0m\n",
      "\u001b[0;32m~/opt/anaconda3/lib/python3.8/site-packages/sklearn/model_selection/_split.py\u001b[0m in \u001b[0;36msplit\u001b[0;34m(self, X, y, groups)\u001b[0m\n\u001b[1;32m     78\u001b[0m         \u001b[0mX\u001b[0m\u001b[0;34m,\u001b[0m \u001b[0my\u001b[0m\u001b[0;34m,\u001b[0m \u001b[0mgroups\u001b[0m \u001b[0;34m=\u001b[0m \u001b[0mindexable\u001b[0m\u001b[0;34m(\u001b[0m\u001b[0mX\u001b[0m\u001b[0;34m,\u001b[0m \u001b[0my\u001b[0m\u001b[0;34m,\u001b[0m \u001b[0mgroups\u001b[0m\u001b[0;34m)\u001b[0m\u001b[0;34m\u001b[0m\u001b[0;34m\u001b[0m\u001b[0m\n\u001b[1;32m     79\u001b[0m         \u001b[0mindices\u001b[0m \u001b[0;34m=\u001b[0m \u001b[0mnp\u001b[0m\u001b[0;34m.\u001b[0m\u001b[0marange\u001b[0m\u001b[0;34m(\u001b[0m\u001b[0m_num_samples\u001b[0m\u001b[0;34m(\u001b[0m\u001b[0mX\u001b[0m\u001b[0;34m)\u001b[0m\u001b[0;34m)\u001b[0m\u001b[0;34m\u001b[0m\u001b[0;34m\u001b[0m\u001b[0m\n\u001b[0;32m---> 80\u001b[0;31m         \u001b[0;32mfor\u001b[0m \u001b[0mtest_index\u001b[0m \u001b[0;32min\u001b[0m \u001b[0mself\u001b[0m\u001b[0;34m.\u001b[0m\u001b[0m_iter_test_masks\u001b[0m\u001b[0;34m(\u001b[0m\u001b[0mX\u001b[0m\u001b[0;34m,\u001b[0m \u001b[0my\u001b[0m\u001b[0;34m,\u001b[0m \u001b[0mgroups\u001b[0m\u001b[0;34m)\u001b[0m\u001b[0;34m:\u001b[0m\u001b[0;34m\u001b[0m\u001b[0;34m\u001b[0m\u001b[0m\n\u001b[0m\u001b[1;32m     81\u001b[0m             \u001b[0mtrain_index\u001b[0m \u001b[0;34m=\u001b[0m \u001b[0mindices\u001b[0m\u001b[0;34m[\u001b[0m\u001b[0mnp\u001b[0m\u001b[0;34m.\u001b[0m\u001b[0mlogical_not\u001b[0m\u001b[0;34m(\u001b[0m\u001b[0mtest_index\u001b[0m\u001b[0;34m)\u001b[0m\u001b[0;34m]\u001b[0m\u001b[0;34m\u001b[0m\u001b[0;34m\u001b[0m\u001b[0m\n\u001b[1;32m     82\u001b[0m             \u001b[0mtest_index\u001b[0m \u001b[0;34m=\u001b[0m \u001b[0mindices\u001b[0m\u001b[0;34m[\u001b[0m\u001b[0mtest_index\u001b[0m\u001b[0;34m]\u001b[0m\u001b[0;34m\u001b[0m\u001b[0;34m\u001b[0m\u001b[0m\n",
      "\u001b[0;32m~/opt/anaconda3/lib/python3.8/site-packages/sklearn/model_selection/_split.py\u001b[0m in \u001b[0;36m_iter_test_masks\u001b[0;34m(self, X, y, groups)\u001b[0m\n\u001b[1;32m    691\u001b[0m \u001b[0;34m\u001b[0m\u001b[0m\n\u001b[1;32m    692\u001b[0m     \u001b[0;32mdef\u001b[0m \u001b[0m_iter_test_masks\u001b[0m\u001b[0;34m(\u001b[0m\u001b[0mself\u001b[0m\u001b[0;34m,\u001b[0m \u001b[0mX\u001b[0m\u001b[0;34m,\u001b[0m \u001b[0my\u001b[0m\u001b[0;34m=\u001b[0m\u001b[0;32mNone\u001b[0m\u001b[0;34m,\u001b[0m \u001b[0mgroups\u001b[0m\u001b[0;34m=\u001b[0m\u001b[0;32mNone\u001b[0m\u001b[0;34m)\u001b[0m\u001b[0;34m:\u001b[0m\u001b[0;34m\u001b[0m\u001b[0;34m\u001b[0m\u001b[0m\n\u001b[0;32m--> 693\u001b[0;31m         \u001b[0mtest_folds\u001b[0m \u001b[0;34m=\u001b[0m \u001b[0mself\u001b[0m\u001b[0;34m.\u001b[0m\u001b[0m_make_test_folds\u001b[0m\u001b[0;34m(\u001b[0m\u001b[0mX\u001b[0m\u001b[0;34m,\u001b[0m \u001b[0my\u001b[0m\u001b[0;34m)\u001b[0m\u001b[0;34m\u001b[0m\u001b[0;34m\u001b[0m\u001b[0m\n\u001b[0m\u001b[1;32m    694\u001b[0m         \u001b[0;32mfor\u001b[0m \u001b[0mi\u001b[0m \u001b[0;32min\u001b[0m \u001b[0mrange\u001b[0m\u001b[0;34m(\u001b[0m\u001b[0mself\u001b[0m\u001b[0;34m.\u001b[0m\u001b[0mn_splits\u001b[0m\u001b[0;34m)\u001b[0m\u001b[0;34m:\u001b[0m\u001b[0;34m\u001b[0m\u001b[0;34m\u001b[0m\u001b[0m\n\u001b[1;32m    695\u001b[0m             \u001b[0;32myield\u001b[0m \u001b[0mtest_folds\u001b[0m \u001b[0;34m==\u001b[0m \u001b[0mi\u001b[0m\u001b[0;34m\u001b[0m\u001b[0;34m\u001b[0m\u001b[0m\n",
      "\u001b[0;32m~/opt/anaconda3/lib/python3.8/site-packages/sklearn/model_selection/_split.py\u001b[0m in \u001b[0;36m_make_test_folds\u001b[0;34m(self, X, y)\u001b[0m\n\u001b[1;32m    643\u001b[0m         \u001b[0mallowed_target_types\u001b[0m \u001b[0;34m=\u001b[0m \u001b[0;34m(\u001b[0m\u001b[0;34m'binary'\u001b[0m\u001b[0;34m,\u001b[0m \u001b[0;34m'multiclass'\u001b[0m\u001b[0;34m)\u001b[0m\u001b[0;34m\u001b[0m\u001b[0;34m\u001b[0m\u001b[0m\n\u001b[1;32m    644\u001b[0m         \u001b[0;32mif\u001b[0m \u001b[0mtype_of_target_y\u001b[0m \u001b[0;32mnot\u001b[0m \u001b[0;32min\u001b[0m \u001b[0mallowed_target_types\u001b[0m\u001b[0;34m:\u001b[0m\u001b[0;34m\u001b[0m\u001b[0;34m\u001b[0m\u001b[0m\n\u001b[0;32m--> 645\u001b[0;31m             raise ValueError(\n\u001b[0m\u001b[1;32m    646\u001b[0m                 'Supported target types are: {}. Got {!r} instead.'.format(\n\u001b[1;32m    647\u001b[0m                     allowed_target_types, type_of_target_y))\n",
      "\u001b[0;31mValueError\u001b[0m: Supported target types are: ('binary', 'multiclass'). Got 'multilabel-indicator' instead."
     ]
    }
   ],
   "source": [
    "# create a default decision tree model\n",
    "clf = DecisionTreeClassifier()\n",
    "\n",
    "# create a stratifiedKfold cv object -- we want stratified to keep the class balance across folds\n",
    "cv = StratifiedKFold(n_splits = 5)  # set it for 5 folds\n",
    "\n",
    "# get the scores back using the helper function, make sure to pass a scoring function string - otherwise you default to accuracy\n",
    "scores = cross_val_score(clf, X_train, y_train, scoring = 'f1', cv = cv)\n",
    "\n",
    "# convert class vectors to binary class matrices\n",
    "y_train = keras.utils.to_categorical(y_train, num_classes)\n",
    "y_test = keras.utils.to_categorical(y_test, num_classes)\n",
    "\n",
    "history = model.fit(x_train, y_train,\n",
    "                    batch_size=batch_size,\n",
    "                    epochs=epochs,\n",
    "                    verbose=1,\n",
    "                    validation_data=(x_test, y_test))"
   ]
  },
  {
   "cell_type": "code",
   "execution_count": null,
   "id": "9cc06c28",
   "metadata": {},
   "outputs": [],
   "source": []
  },
  {
   "cell_type": "code",
   "execution_count": null,
   "id": "df63b00d",
   "metadata": {},
   "outputs": [],
   "source": []
  },
  {
   "cell_type": "code",
   "execution_count": null,
   "id": "b19ea1e9",
   "metadata": {},
   "outputs": [],
   "source": []
  },
  {
   "cell_type": "code",
   "execution_count": null,
   "id": "82762a78",
   "metadata": {},
   "outputs": [],
   "source": []
  },
  {
   "cell_type": "code",
   "execution_count": null,
   "id": "d9dbaa44",
   "metadata": {},
   "outputs": [],
   "source": [
    "Developer_back_end = []\n",
    "for i in rev_data_20['DevType']:\n",
    "    if i == 'Developer, back-end':\n",
    "        Developer_back_end.append(i)\n",
    "len(Developer_back_end)\n",
    "\n",
    "#Attempting to make function out of the for-loop.\n",
    "\n",
    "# def d_t(X,feature):\n",
    "\n",
    "#     for i in rev_data_20['DevType']:\n",
    "#         X = []\n",
    "#         if i == feature:\n",
    "#             X.append(i)\n",
    "#     return len(X)"
   ]
  },
  {
   "cell_type": "code",
   "execution_count": null,
   "id": "d846a51a",
   "metadata": {},
   "outputs": [],
   "source": [
    "Developer_full_stack = []\n",
    "for i in rev_data_20['DevType']:\n",
    "    if i == 'Developer, full-stack':\n",
    "        Developer_full_stack.append(i)\n",
    "print(Developer_full_stack[:15])"
   ]
  },
  {
   "cell_type": "code",
   "execution_count": null,
   "id": "195da019",
   "metadata": {},
   "outputs": [],
   "source": []
  },
  {
   "cell_type": "code",
   "execution_count": null,
   "id": "99a09b4a",
   "metadata": {},
   "outputs": [],
   "source": []
  }
 ],
 "metadata": {
  "kernelspec": {
   "display_name": "Python 3",
   "language": "python",
   "name": "python3"
  },
  "language_info": {
   "codemirror_mode": {
    "name": "ipython",
    "version": 3
   },
   "file_extension": ".py",
   "mimetype": "text/x-python",
   "name": "python",
   "nbconvert_exporter": "python",
   "pygments_lexer": "ipython3",
   "version": "3.8.8"
  }
 },
 "nbformat": 4,
 "nbformat_minor": 5
}
