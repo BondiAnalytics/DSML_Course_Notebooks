{
 "cells": [
  {
   "cell_type": "markdown",
   "id": "184a2222",
   "metadata": {},
   "source": [
    "## Stack Overflow Tag Analysis\n",
    "\n",
    "The Stack Overflow dataset is a seminal dataset used by tech market researchers, because it is open, comprehensive, and behavioral in nature. It was first made available for public consumption in 2010, and encompasses not just questions and answer posts from the developer community but also technology tags associated with each post. As a result, these tags act as a good market proxy of user adoption, interest or disterest from a behavioral perspective: the more posts with a certain tag, the more indicative interest of that certain tag. The time series nature of this dataset also make it possible to gauge the waxing and waning of a tag, while also indicating changing affiliation among tags. Finally, additional metadata about users, badge contests and an annual developer survey provide additional context to help make business/actionable decisions, leading to measurable outcomes.\n",
    "\n",
    "Thus, for my capstone project I would like to analyze technology tags in the Stack Overflow dataset in order to better understand technology adoption curves and affiliations among technologies, depending on certain cohorts of developers. My team and I at Microsoft perfomed a similar analysis in 2016, where we found that OSS developers gravitated towards AWS and Google, as there were very few OSS offerings on Azure. We also realized that Microsoft had not reached out to OSS developers proactively, even with the limited offers. This 'wake up call' generated massive investment in development and marketing of OSS technologies on the Azure cloud/platform.\n",
    "\n",
    "Five years later, Microsoft would like to know if their efforts have paid off. They have seen fantastic growth in their OSS services and technologies, but are they keeping up with the market? Have they been able bring new developers onto their platform, or is this adoption coming from existing developers who have become 'polyglots'? And have the 'islands of technologies' that used to center around just AWS and Google begun to diffuse and include Azure? ...or is Azure still an island unto itself?"
   ]
  },
  {
   "cell_type": "code",
   "execution_count": 1,
   "id": "5182466f",
   "metadata": {},
   "outputs": [],
   "source": [
    "import numpy as np\n",
    "import pandas as pd\n",
    "import matplotlib.pyplot as plt\n",
    "import seaborn as sns\n",
    "sns.set()\n",
    "%matplotlib inline\n",
    "\n",
    "#preprocessing\n",
    "from sklearn.preprocessing import StandardScaler, Normalizer, MinMaxScaler\n",
    "from scipy import stats\n",
    "\n",
    "# pipelines\n",
    "from sklearn.pipeline import Pipeline\n",
    "\n",
    "# Regression\n",
    "from sklearn.linear_model import LinearRegression\n",
    "from sklearn.linear_model import SGDRegressor\n",
    "from sklearn.linear_model import Ridge\n",
    "from sklearn.metrics import mean_squared_error\n",
    "\n",
    "# NLP transformers\n",
    "from sklearn.feature_extraction.text import CountVectorizer, TfidfTransformer\n",
    "\n",
    "# classifiers you can use\n",
    "from sklearn.dummy import DummyClassifier\n",
    "from sklearn.svm import SVC\n",
    "from sklearn.tree import DecisionTreeClassifier\n",
    "from sklearn.ensemble import RandomForestClassifier, AdaBoostClassifier\n",
    "\n",
    "# model selection bits\n",
    "from sklearn.model_selection import GridSearchCV, train_test_split, cross_val_score, ShuffleSplit, RandomizedSearchCV\n",
    "from sklearn.model_selection import StratifiedShuffleSplit, StratifiedKFold, KFold\n",
    "from sklearn.model_selection import learning_curve, validation_curve\n",
    "\n",
    "# evaluation\n",
    "from sklearn.metrics import accuracy_score, precision_score, recall_score, f1_score, confusion_matrix, classification_report, fbeta_score"
   ]
  },
  {
   "cell_type": "code",
   "execution_count": 2,
   "id": "17ce888e",
   "metadata": {},
   "outputs": [],
   "source": [
    "posts = pd.read_csv(\"/Users/bens_mac/Documents/CodingNomads/SO_posts_BIG.csv\")\n",
    "users = pd.read_csv(\"/Users/bens_mac/Documents/CodingNomads/SO_users_BIG.csv\")"
   ]
  },
  {
   "cell_type": "code",
   "execution_count": 3,
   "id": "674ca168",
   "metadata": {},
   "outputs": [
    {
     "data": {
      "text/html": [
       "<div>\n",
       "<style scoped>\n",
       "    .dataframe tbody tr th:only-of-type {\n",
       "        vertical-align: middle;\n",
       "    }\n",
       "\n",
       "    .dataframe tbody tr th {\n",
       "        vertical-align: top;\n",
       "    }\n",
       "\n",
       "    .dataframe thead th {\n",
       "        text-align: right;\n",
       "    }\n",
       "</style>\n",
       "<table border=\"1\" class=\"dataframe\">\n",
       "  <thead>\n",
       "    <tr style=\"text-align: right;\">\n",
       "      <th></th>\n",
       "      <th>id</th>\n",
       "      <th>creation_date</th>\n",
       "      <th>last_activity_date</th>\n",
       "      <th>owner_user_id</th>\n",
       "      <th>post_type_id</th>\n",
       "      <th>tags</th>\n",
       "      <th>view_count</th>\n",
       "    </tr>\n",
       "  </thead>\n",
       "  <tbody>\n",
       "    <tr>\n",
       "      <th>0</th>\n",
       "      <td>66138537</td>\n",
       "      <td>2021-02-10 14:11:57.947 UTC</td>\n",
       "      <td>2021-02-10 14:11:57.947 UTC</td>\n",
       "      <td>8384006.0</td>\n",
       "      <td>1</td>\n",
       "      <td>dataexplorer</td>\n",
       "      <td>2</td>\n",
       "    </tr>\n",
       "    <tr>\n",
       "      <th>1</th>\n",
       "      <td>66229417</td>\n",
       "      <td>2021-02-16 17:40:44.097 UTC</td>\n",
       "      <td>2021-02-16 17:40:44.097 UTC</td>\n",
       "      <td>12549160.0</td>\n",
       "      <td>1</td>\n",
       "      <td>rstudio-server</td>\n",
       "      <td>2</td>\n",
       "    </tr>\n",
       "    <tr>\n",
       "      <th>2</th>\n",
       "      <td>66288134</td>\n",
       "      <td>2021-02-20 04:49:09.76 UTC</td>\n",
       "      <td>2021-02-20 04:49:09.76 UTC</td>\n",
       "      <td>15246800.0</td>\n",
       "      <td>1</td>\n",
       "      <td>routes</td>\n",
       "      <td>2</td>\n",
       "    </tr>\n",
       "    <tr>\n",
       "      <th>3</th>\n",
       "      <td>66293452</td>\n",
       "      <td>2021-02-20 15:43:15.133 UTC</td>\n",
       "      <td>2021-02-20 15:43:15.133 UTC</td>\n",
       "      <td>7822211.0</td>\n",
       "      <td>1</td>\n",
       "      <td>angular-dynamic-components</td>\n",
       "      <td>2</td>\n",
       "    </tr>\n",
       "    <tr>\n",
       "      <th>4</th>\n",
       "      <td>66361333</td>\n",
       "      <td>2021-02-25 01:56:26.023 UTC</td>\n",
       "      <td>2021-02-25 01:56:26.023 UTC</td>\n",
       "      <td>2713214.0</td>\n",
       "      <td>1</td>\n",
       "      <td>amazon-eks|elastic-network-interface</td>\n",
       "      <td>2</td>\n",
       "    </tr>\n",
       "  </tbody>\n",
       "</table>\n",
       "</div>"
      ],
      "text/plain": [
       "         id                creation_date           last_activity_date  \\\n",
       "0  66138537  2021-02-10 14:11:57.947 UTC  2021-02-10 14:11:57.947 UTC   \n",
       "1  66229417  2021-02-16 17:40:44.097 UTC  2021-02-16 17:40:44.097 UTC   \n",
       "2  66288134   2021-02-20 04:49:09.76 UTC   2021-02-20 04:49:09.76 UTC   \n",
       "3  66293452  2021-02-20 15:43:15.133 UTC  2021-02-20 15:43:15.133 UTC   \n",
       "4  66361333  2021-02-25 01:56:26.023 UTC  2021-02-25 01:56:26.023 UTC   \n",
       "\n",
       "   owner_user_id  post_type_id                                  tags  \\\n",
       "0      8384006.0             1                          dataexplorer   \n",
       "1     12549160.0             1                        rstudio-server   \n",
       "2     15246800.0             1                                routes   \n",
       "3      7822211.0             1            angular-dynamic-components   \n",
       "4      2713214.0             1  amazon-eks|elastic-network-interface   \n",
       "\n",
       "   view_count  \n",
       "0           2  \n",
       "1           2  \n",
       "2           2  \n",
       "3           2  \n",
       "4           2  "
      ]
     },
     "execution_count": 3,
     "metadata": {},
     "output_type": "execute_result"
    }
   ],
   "source": [
    "posts.head()"
   ]
  },
  {
   "cell_type": "code",
   "execution_count": 4,
   "id": "ba0815d9",
   "metadata": {},
   "outputs": [
    {
     "data": {
      "text/html": [
       "<div>\n",
       "<style scoped>\n",
       "    .dataframe tbody tr th:only-of-type {\n",
       "        vertical-align: middle;\n",
       "    }\n",
       "\n",
       "    .dataframe tbody tr th {\n",
       "        vertical-align: top;\n",
       "    }\n",
       "\n",
       "    .dataframe thead th {\n",
       "        text-align: right;\n",
       "    }\n",
       "</style>\n",
       "<table border=\"1\" class=\"dataframe\">\n",
       "  <thead>\n",
       "    <tr style=\"text-align: right;\">\n",
       "      <th></th>\n",
       "      <th>id</th>\n",
       "      <th>display_name</th>\n",
       "      <th>age</th>\n",
       "      <th>creation_date</th>\n",
       "      <th>last_access_date</th>\n",
       "      <th>location</th>\n",
       "      <th>reputation</th>\n",
       "    </tr>\n",
       "  </thead>\n",
       "  <tbody>\n",
       "    <tr>\n",
       "      <th>0</th>\n",
       "      <td>14712167</td>\n",
       "      <td>nicom</td>\n",
       "      <td>NaN</td>\n",
       "      <td>2020-11-26 09:26:50.507 UTC</td>\n",
       "      <td>2021-02-27 13:20:10.693 UTC</td>\n",
       "      <td>NaN</td>\n",
       "      <td>19</td>\n",
       "    </tr>\n",
       "    <tr>\n",
       "      <th>1</th>\n",
       "      <td>14717603</td>\n",
       "      <td>Donkey</td>\n",
       "      <td>NaN</td>\n",
       "      <td>2020-11-27 05:56:10.18 UTC</td>\n",
       "      <td>2021-02-18 10:38:39.56 UTC</td>\n",
       "      <td>NaN</td>\n",
       "      <td>43</td>\n",
       "    </tr>\n",
       "    <tr>\n",
       "      <th>2</th>\n",
       "      <td>14785218</td>\n",
       "      <td>redshorts17</td>\n",
       "      <td>NaN</td>\n",
       "      <td>2020-12-08 07:42:10.147 UTC</td>\n",
       "      <td>2021-01-08 13:08:27.023 UTC</td>\n",
       "      <td>NaN</td>\n",
       "      <td>89</td>\n",
       "    </tr>\n",
       "    <tr>\n",
       "      <th>3</th>\n",
       "      <td>14808842</td>\n",
       "      <td>PerekatovSergey</td>\n",
       "      <td>NaN</td>\n",
       "      <td>2020-12-11 16:09:17.147 UTC</td>\n",
       "      <td>2021-02-26 14:26:46.983 UTC</td>\n",
       "      <td>Russia</td>\n",
       "      <td>26</td>\n",
       "    </tr>\n",
       "    <tr>\n",
       "      <th>4</th>\n",
       "      <td>14916620</td>\n",
       "      <td>leung2</td>\n",
       "      <td>NaN</td>\n",
       "      <td>2020-12-31 03:02:17.93 UTC</td>\n",
       "      <td>2021-02-14 11:27:27.557 UTC</td>\n",
       "      <td>NaN</td>\n",
       "      <td>33</td>\n",
       "    </tr>\n",
       "  </tbody>\n",
       "</table>\n",
       "</div>"
      ],
      "text/plain": [
       "         id     display_name  age                creation_date  \\\n",
       "0  14712167            nicom  NaN  2020-11-26 09:26:50.507 UTC   \n",
       "1  14717603           Donkey  NaN   2020-11-27 05:56:10.18 UTC   \n",
       "2  14785218      redshorts17  NaN  2020-12-08 07:42:10.147 UTC   \n",
       "3  14808842  PerekatovSergey  NaN  2020-12-11 16:09:17.147 UTC   \n",
       "4  14916620           leung2  NaN   2020-12-31 03:02:17.93 UTC   \n",
       "\n",
       "              last_access_date location  reputation  \n",
       "0  2021-02-27 13:20:10.693 UTC      NaN          19  \n",
       "1   2021-02-18 10:38:39.56 UTC      NaN          43  \n",
       "2  2021-01-08 13:08:27.023 UTC      NaN          89  \n",
       "3  2021-02-26 14:26:46.983 UTC   Russia          26  \n",
       "4  2021-02-14 11:27:27.557 UTC      NaN          33  "
      ]
     },
     "execution_count": 4,
     "metadata": {},
     "output_type": "execute_result"
    }
   ],
   "source": [
    "users.head()"
   ]
  },
  {
   "cell_type": "code",
   "execution_count": 5,
   "id": "4e95a678",
   "metadata": {},
   "outputs": [
    {
     "name": "stdout",
     "output_type": "stream",
     "text": [
      "<class 'pandas.core.frame.DataFrame'>\n",
      "RangeIndex: 10445772 entries, 0 to 10445771\n",
      "Data columns (total 7 columns):\n",
      " #   Column              Dtype  \n",
      "---  ------              -----  \n",
      " 0   id                  int64  \n",
      " 1   creation_date       object \n",
      " 2   last_activity_date  object \n",
      " 3   owner_user_id       float64\n",
      " 4   post_type_id        int64  \n",
      " 5   tags                object \n",
      " 6   view_count          int64  \n",
      "dtypes: float64(1), int64(3), object(3)\n",
      "memory usage: 557.9+ MB\n"
     ]
    }
   ],
   "source": [
    "posts.info()"
   ]
  },
  {
   "cell_type": "code",
   "execution_count": 6,
   "id": "1dc96403",
   "metadata": {},
   "outputs": [
    {
     "name": "stdout",
     "output_type": "stream",
     "text": [
      "<class 'pandas.core.frame.DataFrame'>\n",
      "RangeIndex: 14080580 entries, 0 to 14080579\n",
      "Data columns (total 7 columns):\n",
      " #   Column            Dtype  \n",
      "---  ------            -----  \n",
      " 0   id                int64  \n",
      " 1   display_name      object \n",
      " 2   age               float64\n",
      " 3   creation_date     object \n",
      " 4   last_access_date  object \n",
      " 5   location          object \n",
      " 6   reputation        int64  \n",
      "dtypes: float64(1), int64(2), object(4)\n",
      "memory usage: 752.0+ MB\n"
     ]
    }
   ],
   "source": [
    "users.info()"
   ]
  },
  {
   "cell_type": "code",
   "execution_count": 7,
   "id": "de76ab88",
   "metadata": {
    "scrolled": true
   },
   "outputs": [
    {
     "data": {
      "text/html": [
       "<div>\n",
       "<style scoped>\n",
       "    .dataframe tbody tr th:only-of-type {\n",
       "        vertical-align: middle;\n",
       "    }\n",
       "\n",
       "    .dataframe tbody tr th {\n",
       "        vertical-align: top;\n",
       "    }\n",
       "\n",
       "    .dataframe thead th {\n",
       "        text-align: right;\n",
       "    }\n",
       "</style>\n",
       "<table border=\"1\" class=\"dataframe\">\n",
       "  <thead>\n",
       "    <tr style=\"text-align: right;\">\n",
       "      <th></th>\n",
       "      <th>id</th>\n",
       "      <th>creation_date</th>\n",
       "      <th>last_activity_date</th>\n",
       "      <th>owner_user_id</th>\n",
       "      <th>post_type_id</th>\n",
       "      <th>tags</th>\n",
       "      <th>view_count</th>\n",
       "    </tr>\n",
       "  </thead>\n",
       "  <tbody>\n",
       "    <tr>\n",
       "      <th>0</th>\n",
       "      <td>66138537</td>\n",
       "      <td>2021-02-10 14:11:57.947 UTC</td>\n",
       "      <td>2021-02-10 14:11:57.947 UTC</td>\n",
       "      <td>8384006.0</td>\n",
       "      <td>1</td>\n",
       "      <td>dataexplorer</td>\n",
       "      <td>2</td>\n",
       "    </tr>\n",
       "    <tr>\n",
       "      <th>1</th>\n",
       "      <td>66229417</td>\n",
       "      <td>2021-02-16 17:40:44.097 UTC</td>\n",
       "      <td>2021-02-16 17:40:44.097 UTC</td>\n",
       "      <td>12549160.0</td>\n",
       "      <td>1</td>\n",
       "      <td>rstudio-server</td>\n",
       "      <td>2</td>\n",
       "    </tr>\n",
       "    <tr>\n",
       "      <th>2</th>\n",
       "      <td>66288134</td>\n",
       "      <td>2021-02-20 04:49:09.76 UTC</td>\n",
       "      <td>2021-02-20 04:49:09.76 UTC</td>\n",
       "      <td>15246800.0</td>\n",
       "      <td>1</td>\n",
       "      <td>routes</td>\n",
       "      <td>2</td>\n",
       "    </tr>\n",
       "    <tr>\n",
       "      <th>3</th>\n",
       "      <td>66293452</td>\n",
       "      <td>2021-02-20 15:43:15.133 UTC</td>\n",
       "      <td>2021-02-20 15:43:15.133 UTC</td>\n",
       "      <td>7822211.0</td>\n",
       "      <td>1</td>\n",
       "      <td>angular-dynamic-components</td>\n",
       "      <td>2</td>\n",
       "    </tr>\n",
       "    <tr>\n",
       "      <th>4</th>\n",
       "      <td>66361333</td>\n",
       "      <td>2021-02-25 01:56:26.023 UTC</td>\n",
       "      <td>2021-02-25 01:56:26.023 UTC</td>\n",
       "      <td>2713214.0</td>\n",
       "      <td>1</td>\n",
       "      <td>amazon-eks|elastic-network-interface</td>\n",
       "      <td>2</td>\n",
       "    </tr>\n",
       "    <tr>\n",
       "      <th>...</th>\n",
       "      <td>...</td>\n",
       "      <td>...</td>\n",
       "      <td>...</td>\n",
       "      <td>...</td>\n",
       "      <td>...</td>\n",
       "      <td>...</td>\n",
       "      <td>...</td>\n",
       "    </tr>\n",
       "    <tr>\n",
       "      <th>10445766</th>\n",
       "      <td>42686301</td>\n",
       "      <td>2017-03-09 03:48:06.533 UTC</td>\n",
       "      <td>2017-03-10 11:30:01.587 UTC</td>\n",
       "      <td>2410131.0</td>\n",
       "      <td>1</td>\n",
       "      <td>mysql</td>\n",
       "      <td>95</td>\n",
       "    </tr>\n",
       "    <tr>\n",
       "      <th>10445767</th>\n",
       "      <td>42670128</td>\n",
       "      <td>2017-03-08 11:29:40.897 UTC</td>\n",
       "      <td>2017-03-08 20:26:48.12 UTC</td>\n",
       "      <td>1958365.0</td>\n",
       "      <td>1</td>\n",
       "      <td>c#|sql-server|asp.net-mvc|entity-framework</td>\n",
       "      <td>1452</td>\n",
       "    </tr>\n",
       "    <tr>\n",
       "      <th>10445769</th>\n",
       "      <td>42905797</td>\n",
       "      <td>2017-03-20 14:09:22.073 UTC</td>\n",
       "      <td>2017-03-20 17:11:44.09 UTC</td>\n",
       "      <td>7709628.0</td>\n",
       "      <td>1</td>\n",
       "      <td>php|mysql|select|pdo</td>\n",
       "      <td>80</td>\n",
       "    </tr>\n",
       "    <tr>\n",
       "      <th>10445770</th>\n",
       "      <td>43037016</td>\n",
       "      <td>2017-03-27 02:25:18.11 UTC</td>\n",
       "      <td>2017-03-27 16:14:33.847 UTC</td>\n",
       "      <td>7771458.0</td>\n",
       "      <td>1</td>\n",
       "      <td>php|html|mysql|xampp</td>\n",
       "      <td>724</td>\n",
       "    </tr>\n",
       "    <tr>\n",
       "      <th>10445771</th>\n",
       "      <td>42670052</td>\n",
       "      <td>2017-03-08 11:26:35.51 UTC</td>\n",
       "      <td>2017-03-09 05:53:37.53 UTC</td>\n",
       "      <td>6777587.0</td>\n",
       "      <td>1</td>\n",
       "      <td>php|arrays|codeigniter</td>\n",
       "      <td>231</td>\n",
       "    </tr>\n",
       "  </tbody>\n",
       "</table>\n",
       "<p>10256164 rows × 7 columns</p>\n",
       "</div>"
      ],
      "text/plain": [
       "                id                creation_date           last_activity_date  \\\n",
       "0         66138537  2021-02-10 14:11:57.947 UTC  2021-02-10 14:11:57.947 UTC   \n",
       "1         66229417  2021-02-16 17:40:44.097 UTC  2021-02-16 17:40:44.097 UTC   \n",
       "2         66288134   2021-02-20 04:49:09.76 UTC   2021-02-20 04:49:09.76 UTC   \n",
       "3         66293452  2021-02-20 15:43:15.133 UTC  2021-02-20 15:43:15.133 UTC   \n",
       "4         66361333  2021-02-25 01:56:26.023 UTC  2021-02-25 01:56:26.023 UTC   \n",
       "...            ...                          ...                          ...   \n",
       "10445766  42686301  2017-03-09 03:48:06.533 UTC  2017-03-10 11:30:01.587 UTC   \n",
       "10445767  42670128  2017-03-08 11:29:40.897 UTC   2017-03-08 20:26:48.12 UTC   \n",
       "10445769  42905797  2017-03-20 14:09:22.073 UTC   2017-03-20 17:11:44.09 UTC   \n",
       "10445770  43037016   2017-03-27 02:25:18.11 UTC  2017-03-27 16:14:33.847 UTC   \n",
       "10445771  42670052   2017-03-08 11:26:35.51 UTC   2017-03-09 05:53:37.53 UTC   \n",
       "\n",
       "          owner_user_id  post_type_id  \\\n",
       "0             8384006.0             1   \n",
       "1            12549160.0             1   \n",
       "2            15246800.0             1   \n",
       "3             7822211.0             1   \n",
       "4             2713214.0             1   \n",
       "...                 ...           ...   \n",
       "10445766      2410131.0             1   \n",
       "10445767      1958365.0             1   \n",
       "10445769      7709628.0             1   \n",
       "10445770      7771458.0             1   \n",
       "10445771      6777587.0             1   \n",
       "\n",
       "                                                tags  view_count  \n",
       "0                                       dataexplorer           2  \n",
       "1                                     rstudio-server           2  \n",
       "2                                             routes           2  \n",
       "3                         angular-dynamic-components           2  \n",
       "4               amazon-eks|elastic-network-interface           2  \n",
       "...                                              ...         ...  \n",
       "10445766                                       mysql          95  \n",
       "10445767  c#|sql-server|asp.net-mvc|entity-framework        1452  \n",
       "10445769                        php|mysql|select|pdo          80  \n",
       "10445770                        php|html|mysql|xampp         724  \n",
       "10445771                      php|arrays|codeigniter         231  \n",
       "\n",
       "[10256164 rows x 7 columns]"
      ]
     },
     "execution_count": 7,
     "metadata": {},
     "output_type": "execute_result"
    }
   ],
   "source": [
    "posts.dropna()"
   ]
  },
  {
   "cell_type": "code",
   "execution_count": 8,
   "id": "ff020395",
   "metadata": {},
   "outputs": [],
   "source": [
    "posts['tags'] = posts['tags'].str.split(\"|\")\n",
    "posts['creation_date'] = [x[:4] for x in posts['creation_date']]\n",
    "posts['last_activity_date'] = [x[:4] for x in posts['last_activity_date']]"
   ]
  },
  {
   "cell_type": "code",
   "execution_count": 9,
   "id": "f4879198",
   "metadata": {},
   "outputs": [],
   "source": [
    "users['creation_date'] = [x[:4] for x in users['creation_date']]\n",
    "users['last_access_date'] = [x[:4] for x in users['last_access_date']]"
   ]
  },
  {
   "cell_type": "code",
   "execution_count": 10,
   "id": "eefc7c5b",
   "metadata": {},
   "outputs": [],
   "source": [
    "posts['creation_date'] = posts['creation_date'].astype(str).astype(float)\n",
    "posts['last_activity_date'] = posts['last_activity_date'].astype(str).astype(float)"
   ]
  },
  {
   "cell_type": "code",
   "execution_count": 11,
   "id": "7cccf0e4",
   "metadata": {},
   "outputs": [
    {
     "name": "stdout",
     "output_type": "stream",
     "text": [
      "<class 'pandas.core.frame.DataFrame'>\n",
      "RangeIndex: 10445772 entries, 0 to 10445771\n",
      "Data columns (total 7 columns):\n",
      " #   Column              Dtype  \n",
      "---  ------              -----  \n",
      " 0   id                  int64  \n",
      " 1   creation_date       float64\n",
      " 2   last_activity_date  float64\n",
      " 3   owner_user_id       float64\n",
      " 4   post_type_id        int64  \n",
      " 5   tags                object \n",
      " 6   view_count          int64  \n",
      "dtypes: float64(3), int64(3), object(1)\n",
      "memory usage: 557.9+ MB\n"
     ]
    }
   ],
   "source": [
    "posts.info()"
   ]
  },
  {
   "cell_type": "code",
   "execution_count": 12,
   "id": "856d5cfc",
   "metadata": {},
   "outputs": [],
   "source": [
    "posts_proto = posts.sample(n=10000)"
   ]
  },
  {
   "cell_type": "code",
   "execution_count": 13,
   "id": "578d1cc5",
   "metadata": {},
   "outputs": [
    {
     "name": "stdout",
     "output_type": "stream",
     "text": [
      "<class 'pandas.core.frame.DataFrame'>\n",
      "Int64Index: 10000 entries, 5948380 to 9748617\n",
      "Data columns (total 7 columns):\n",
      " #   Column              Non-Null Count  Dtype  \n",
      "---  ------              --------------  -----  \n",
      " 0   id                  10000 non-null  int64  \n",
      " 1   creation_date       10000 non-null  float64\n",
      " 2   last_activity_date  10000 non-null  float64\n",
      " 3   owner_user_id       9816 non-null   float64\n",
      " 4   post_type_id        10000 non-null  int64  \n",
      " 5   tags                10000 non-null  object \n",
      " 6   view_count          10000 non-null  int64  \n",
      "dtypes: float64(3), int64(3), object(1)\n",
      "memory usage: 625.0+ KB\n"
     ]
    }
   ],
   "source": [
    "posts_proto.info()"
   ]
  },
  {
   "cell_type": "code",
   "execution_count": 14,
   "id": "d8c74b65",
   "metadata": {},
   "outputs": [],
   "source": [
    "posts_proto = posts_proto.dropna()"
   ]
  },
  {
   "cell_type": "code",
   "execution_count": 15,
   "id": "5baadc35",
   "metadata": {},
   "outputs": [
    {
     "name": "stdout",
     "output_type": "stream",
     "text": [
      "               id  creation_date  last_activity_date  owner_user_id  \\\n",
      "5948380  34224364         2015.0              2015.0      5668667.0   \n",
      "2058912  29432138         2015.0              2015.0       881635.0   \n",
      "1275092   9096190         2012.0              2012.0       455785.0   \n",
      "3400617  10762562         2012.0              2012.0       560454.0   \n",
      "9626592   6886493         2011.0              2018.0       541686.0   \n",
      "...           ...            ...                 ...            ...   \n",
      "2404476  16000169         2013.0              2013.0      1993389.0   \n",
      "5839338  36927062         2016.0              2016.0      4407093.0   \n",
      "2852174  25452274         2014.0              2014.0       464591.0   \n",
      "5903360  34036105         2015.0              2015.0      2130561.0   \n",
      "9748617  22880717         2014.0              2014.0      3050033.0   \n",
      "\n",
      "         post_type_id                                               tags  \\\n",
      "5948380             1                   [python, igraph, directed-graph]   \n",
      "2058912             1  [android, eclipse, android-studio, android-sdk...   \n",
      "1275092             1            [sql, sql-server-2005, identity-column]   \n",
      "3400617             1                 [image-processing, ocr, tesseract]   \n",
      "9626592             1                [python, introspection, python-2.6]   \n",
      "...               ...                                                ...   \n",
      "2404476             1                                           [matlab]   \n",
      "5839338             1      [ios, youtube, youtube-api, youtube-data-api]   \n",
      "2852174             1                        [mysql, mysqldump, restore]   \n",
      "5903360             1                        [android, web-applications]   \n",
      "9748617             1         [javascript, php, jquery, ajax, wordpress]   \n",
      "\n",
      "         view_count  \n",
      "5948380         191  \n",
      "2058912         990  \n",
      "1275092         149  \n",
      "3400617         198  \n",
      "9626592      502780  \n",
      "...             ...  \n",
      "2404476         803  \n",
      "5839338         648  \n",
      "2852174         737  \n",
      "5903360          68  \n",
      "9748617          51  \n",
      "\n",
      "[9816 rows x 7 columns]\n"
     ]
    }
   ],
   "source": [
    "print(posts_proto)"
   ]
  },
  {
   "cell_type": "code",
   "execution_count": 16,
   "id": "22fe43d1",
   "metadata": {},
   "outputs": [],
   "source": [
    "all_tags_proto = posts_proto['tags']"
   ]
  },
  {
   "cell_type": "code",
   "execution_count": 17,
   "id": "5251870d",
   "metadata": {},
   "outputs": [
    {
     "data": {
      "text/plain": [
       "5948380                     [python, igraph, directed-graph]\n",
       "2058912    [android, eclipse, android-studio, android-sdk...\n",
       "1275092              [sql, sql-server-2005, identity-column]\n",
       "3400617                   [image-processing, ocr, tesseract]\n",
       "9626592                  [python, introspection, python-2.6]\n",
       "6842894    [php, json, multidimensional-array, serializat...\n",
       "3092118                            [javascript, knockout.js]\n",
       "26621                       [javascript, css, reactjs, ajax]\n",
       "3425559    [c#, wpf, data-binding, listbox, observablecol...\n",
       "874655                                         [java, regex]\n",
       "5951863                                        [php, arrays]\n",
       "5581679                                    [time-complexity]\n",
       "348860          [ios, objective-c, uiwebview, nsurlprotocol]\n",
       "977184                                 [ruby, macos, pdflib]\n",
       "4414489                         [client-server, scalability]\n",
       "Name: tags, dtype: object"
      ]
     },
     "execution_count": 17,
     "metadata": {},
     "output_type": "execute_result"
    }
   ],
   "source": [
    "all_tags_proto[0:15]"
   ]
  },
  {
   "cell_type": "code",
   "execution_count": 73,
   "id": "c45f87ed",
   "metadata": {},
   "outputs": [
    {
     "name": "stdout",
     "output_type": "stream",
     "text": [
      "['ruby-on-rails', 'ruby-on-rails-3', 'postgresql', 'sorting', 'postgresql', 'amazon-web-services', 'postgresql', 'python', 'django', 'postgresql', 'django-models', 'django-queryset', 'sql', 'postgresql-9.2', 'sql', 'arrays', 'postgresql', 'aggregate-functions', 'unnest', 'mysql', 'database', 'postgresql', 'erlang', 'node.js', 'postgresql', 'react-native', 'expo', 'sql', 'postgresql', 'java', 'postgresql', 'maven', 'spring-cloud-gcp', 'postgresql', 'database-backups', 'database-restore', 'postgresql', 'postgresql', 'postgresql-9.1', 'corruption', 'postgresql', 'postgresql-9.1', 'corruption', 'sql', 'postgresql', 'node.js', 'database', 'postgresql', 'backend', 'postgresql', 'regex', 'postgresql', 'sql', 'database', 'postgresql', 'join', 'group-by', 'postgresql', 'database', 'spring', 'postgresql', 'spring-transactions', 'json', 'postgresql', 'sql-update', 'plpgsql', 'sql-insert', 'hibernate', 'postgresql', 'oracle', 'postgresql', 'database-migration', 'arcgis', 'database', 'postgresql', 'database', 'postgresql', 'search', 'sql', 'arrays', 'postgresql', 'postgresql', 'full-text-search', 'postgresql', 'php', 'postgresql', 'postgresql', 'azure', 'pg-dumpall', 'ruby-on-rails', 'ruby', 'postgresql', 'activerecord', 'python', 'fabric', 'postgresql-bdr', 'javascript', 'node.js', 'postgresql', 'typeorm', 'ruby-on-rails', 'oracle', 'postgresql', 'ruby-on-rails-4', 'activerecord', 'sql', 'postgresql', 'greatest-n-per-group', 'sql', 'postgresql', 'sql-insert', 'upsert', 'sql', 'bash', 'postgresql', 'psql', 'php', 'postgresql', 'orm', 'kohana', 'sql', 'postgresql', 'sql', 'postgresql', 'sql', 'database', 'postgresql', 'views', 'rules', 'sql', 'r', 'rpostgresql', 'sql', 'postgresql', 'sql', 'database', 'postgresql', 'sql', 'database', 'postgresql', 'sql', 'node.js', 'database', 'postgresql', 'pg-promise', 'java', 'postgresql', 'timezone', 'sql', 'ruby-on-rails', 'ruby', 'postgresql', 'database', 'postgresql', 'security', 'postgis', 'privacy', 'postgresql', 'enums', 'null', 'postgresql', 'ubuntu-18.04', 'psql', 'pg-dump', 'pg-restore', 'postgresql', 'hyperledger-fabric', 'hyperledger', 'hyperledger-explorer', 'postgresql', 'query-optimization', 'plpgsql', 'python', 'django', 'postgresql', 'psycopg2', 'django-database', 'postgresql', 'java', 'spring', 'postgresql', 'transactions', 'spring-data-jpa', 'php', 'laravel', 'postgresql', 'validation', 'laravel-5.5', 'database', 'postgresql', 'postgresql-9.6', 'database', 'postgresql', 'postgresql-9.6', 'macos', 'postgresql', 'database', 'postgresql', 'mule', 'anypoint-studio', 'postgresql', 'function', 'date', 'postgresql', 'etl', 'datastage', 'ruby-on-rails', 'ruby', 'postgresql', 'ruby-on-rails-3', 'datetime', 'postgresql', 'pandas']\n",
      "66\n",
      "213\n",
      "213\n"
     ]
    }
   ],
   "source": [
    "#all tags of postgres + ...\n",
    "#all tags of mysql + ...\n",
    "#all tags of mariadb + ...\n",
    "#all tags of sql-server + ...\n",
    "\n",
    "#tokenize list of tags and their combinations\n",
    "\n",
    "postgres = []\n",
    "element = \"postgres\"\n",
    "for tag_list in all_tags_proto:\n",
    "    for tag in tag_list:\n",
    "        if element in tag:\n",
    "            postgres.append(tag_list)\n",
    "            \n",
    "            \n",
    "#creating X\n",
    "postgres_features = []\n",
    "for x_list in postgres:\n",
    "    for x in x_list:\n",
    "        postgres_features.append(x)\n",
    "for i in postgres_features:\n",
    "    if \"postgres\" in postgres_features:\n",
    "        postgres_features.remove(\"postgres\")\n",
    "    \n",
    "print(postgres_features)\n",
    "\n",
    "#creating y\n",
    "postgres_label = []\n",
    "for i in range(len(postgres_features)):\n",
    "    postgres_label.append(\"postgres\")\n",
    "\n",
    "print(len(postgres)) #mariadb could come up as a single tag in a post.\n",
    "print(len(postgres_features))\n",
    "print(len(postgres_label))"
   ]
  },
  {
   "cell_type": "code",
   "execution_count": 61,
   "id": "f83440b1",
   "metadata": {
    "scrolled": true
   },
   "outputs": [
    {
     "name": "stdout",
     "output_type": "stream",
     "text": [
      "['mysql', 'mysql', 'stored-procedures', 'database', 'innodb', 'mysql', 'database', 'database-replication', 'rds', 'python', 'prepared-statement', 'java', 'mapping', 'render', 'jooq', 'remote-access']\n",
      "271\n",
      "561\n",
      "561\n",
      "['php', 'php', 'java', 'join', 'sql', 'wordpress', 'phpmyadmin', 'mysql-error-1054', 'php', 'select', 'pivot', 'database', 'join', 'relational-database', 'one-to-many', 'php', 'in-memory-database', 'php', 'left-join', 'having-clause', 'php', 'java', 'hibernate', 'jpa', 'oracle', 'oracle-sqldeveloper', 'database-migration', 'oracle12c', 'php', 'sql', 'aggregate-functions', 'sql', 'database', 'view', 'indexing', 'innodb', 'php', 'batch-processing', 'c#', 'winforms', 'login', 'javascript', 'jquery', 'css', 'sql', 'one-to-many', 'relationship', 'database', 'postgresql', 'erlang', 'sql', 'c++', 'sql', 'containers', 'php', 'html', 'css', 'database', 'database-connection', 'connection-string', 'outsystems', 'php', 'csv', 'php', 'select', 'concat', 'javascript', 'group-by', 'php', 'html', 'pivot', 'sql', 'python', 'sql', 'sqlalchemy', 'php', 'login', 'dashboard', 'insert', 'duplicate-data', 'php', 'xml', 'sitemap', 'java', 'jsp', 'nullpointerexception', 'classnotfoundexception', 'mariadb', 'vb.net', 'php', 'datetime', 'mysqli', 'sql', 'database-design', 'sql', 'stored-procedures', 'mariadb', 'php', 'prepared-statement', 'sql', 'asp.net', 'vb.net', 'c#-4.0', 'ruby-on-rails', 'ruby-on-rails-4', 'amazon-ec2', 'sucker-punch', 'php', 'cursor', 'ddl', 'database-trigger', 'explain', 'sql', 'time', 'php', 'database', 'mysqli', 'php', 'html', 'php', 'case-sensitive', 'rds', 'indexing', 'where', 'clause', 'c#', 'javascript', 'php', 'jquery', 'autocomplete', 'php', 'sms-gateway', 'mysql-workbench', 'amazon-rds', 'jdbc', 'timezone', 'vb.net', 'concatenation', 'php', 'sql', 'php', 'ubuntu', 'phpmyadmin', 'database', 'innodb', 'sql', 'search', 'csv', 'procedure', 'sql', 'php', 'sql', 'java', 'tomcat', 'servlets', 'lookup-tables', 'php', 'nginx', 'kubernetes', 'php', 'sql', 'mysqli', 'php', 'database', 'php', 'html', 'linux', 'unix', 'amazon-ec2', 'database', 'logging', 'administration', 'sql', 'php', 'arrays', 'javascript', 'php', 'php', 'html', 'css', 'wordpress', 'php', 'html', 'database', 'forms', 'php', 'php', 'while-loop', 'vagrant', 'salt-stack', 'devops', 'sql', 'phpmyadmin', 'php', 'database', 'linked-server', 'javascript', 'php', 'jquery', 'html', 'optimization', 'indexing', 'subquery', 'php', 'php', 'sql', 'database', 'mysqli', 'php', 'php', 'database', 'shopping-cart', 'opencart', 'c#', 'php', 'unity3d', 'scripting', 'php', 'subdomain', 'whois', 'php', 'php', 'database', 'insert', 'php', 'javascript', 'mongodb', 'database', 'tomcat', 'intellij-idea', 'jndi', 'initial-context', 'php', 'database', 'random', 'database', 'mariadb', 'database-replication', 'rds', 'sql', 'r', 'database', 'wikipedia', 'c#', 'datagridview', 'grammar', 'php', 'sql', 'sql', 'npm', 'sql', 'join', 'sql-update', 'mysql-error-1054', 'php', 'android', 'json', 'serialization', 'sql-update', 'alter-table', 'drupal-6', 'search', 'indexing', 'full-text-search', 'full-text-indexing', 'sql', 'string', 'search', 'wildcard', 'javascript', 'ajax', 'reactjs', 'axios', 'java', 'hibernate', 'php', 'database', 'codeigniter', 'sql', 'regex', 'string', 'php', 'drupal', 'drupal-7', 'php', 'codeigniter', 'codeigniter-3', 'javascript', 'google-apps-script', 'google-sheets', 'php', 'laravel', 'laravel-4', 'one-to-many', 'sql', 'database', 'insert', 'mysql-error-1064', 'bulkinsert', 'javascript', 'php', 'jquery', 'ajax', 'php', 'database', 'codeigniter', 'datetime', 'select', 'timestamp', 'php', 'profile', 'php', 'php', 'regex', 'string', 'pattern-matching', 'join', 'outer-join', 'ranking', 'perl', 'zlib', 'vb.net', 'php', 'database', 'database-design', 'sql', 'sql-server', 'xml', 'json', '.net', 'database', 'triggers', 'php', 'search', 'python', 'desktop-application', 'inventory', 'php', 'sql', 'sql-server', 'database-design', 'rss', 'performance', 'join', 'php', 'laravel', 'laravel-5', 'laravel-5.4', 'php', 'laravel-5', 'database-design', 'sequelize.js', 'constraints', 'auto-increment', 'csv', 'coldfusion', 'coldfusion-9', 'count', 'linq', 'stored-procedures', 'casting', 'php', 'arrays', 'python', 'python-2.7', 'python-3.x', 'cpanel', 'php', 'android', 'php', 'ios', 'get', 'javascript', 'php', 'jquery', 'ajax', 'java', 'database-design', 'enums', 'php', 'jquery', 'ajax', 'jquery-mobile', 'sql', 'php', 'wordpress', 'join', 'go', 'php', 'database', 'rbac', 'javascript', 'php', 'moodle', 'arrays', 'json', 'sql', 'php', 'laravel', 'laravel-5', 'drop-down-menu', 'php', 'jstree', 'php', 'data-structures', 'php', 'procedural', 'npm', 'knex.js', 'php', 'database', 'checkbox', 'insert', 'dreamweaver', 'android', 'json', 'django', 'php', 'arrays', 'json', 'slim-3', 'php', 'c#', 'asp.net', 'asp.net-mvc', 'entity-framework', 'xampp', 'mysql-error-1045', 'php', 'mysqli', 'php', 'laravel-4', 'eloquent', 'php', 'sql', 'datetime', 'php', 'laravel', 'php', 'sql', 'php', 'datetime', 'datetime-format', 'date-manipulation', 'full-text-search', 'javascript', 'node.js', 'sql', 'multithreading', 'wordpress', 'php', 'sql', 'mysqli', 'php', 'mysqli', 'database', 'performance', 'database-performance', 'php', 'php', 'html', 'vb.net', 'visual-studio', 'sql', 'php', 'jquery', 'ajax', 'php', 'arrays', 'sql', 'phpmyadmin', 'php', 'html', 'database', 'macos', 'mysql-workbench', 'vb.net', 'java', 'hibernate', 'dao', 'php', 'timestamp', 'node.js', 'java', 'sql', 'database', 'hsqldb', 'php', 'git', 'vagrant', 'php', 'laravel', 'sql', 'oracle', 'plsql', 'sql', 'database', 'sqldatatypes', 'php', 'excel', 'symfony', 'php', 'excel', 'symfony', 'wamp', 'sql', 'database', 'oracle', 'normalization', 'mysqli', 'php', 'pdo', 'prepared-statement', 'php', 'database', 'linux', 'database', 'ubuntu', 'command-line-interface', 'php', 'phpmyadmin', 'google-compute-engine', 'google-cloud-sql', 'database-design', 'python', 'python-2.7', 'security', 'sql-injection', 'php', 'forms', 'codeigniter', 'checkbox', 'php', 'html', 'php', 'java', 'database', 'pdo', 'yii2', 'sql', 'database', 'oracle', 'php', 'java', 'spring', 'hibernate', 'rest', 'datetime', 'java', 'pivot', 'crosstab', 'entity-attribute-value', 'java', 'hibernate', 'linux', 'mysql-error-1064', 'infinidb', 'c#', 'nhibernate', 'mysqldump', 'restore']\n"
     ]
    }
   ],
   "source": [
    "mysql = []\n",
    "element = \"mysql\"\n",
    "for tag_list in all_tags_proto:\n",
    "        if element in tag_list:\n",
    "            mysql.append(tag_list)\n",
    "\n",
    "#creating X\n",
    "mysql_features = []\n",
    "for x_list in mysql:\n",
    "    for x in x_list:\n",
    "        mysql_features.append(x)\n",
    "for i in mysql_features:\n",
    "    if \"mysql\" in mysql_features:\n",
    "        mysql_features.remove(\"mysql\")\n",
    "    \n",
    "print(mariadb_features)\n",
    "\n",
    "#creating y\n",
    "mysql_label = []\n",
    "for i in range(len(mysql_features)):\n",
    "    mysql_label.append(\"mysql\")\n",
    "\n",
    "print(len(mysql)) \n",
    "print(len(mysql_features))\n",
    "print(len(mysql_label))\n",
    "print(mysql_features)"
   ]
  },
  {
   "cell_type": "code",
   "execution_count": 62,
   "id": "d68d97f5",
   "metadata": {},
   "outputs": [
    {
     "name": "stdout",
     "output_type": "stream",
     "text": [
      "[['mysql', 'mariadb'], ['mysql', 'stored-procedures', 'mariadb'], ['database', 'mariadb', 'innodb'], ['mariadb'], ['mysql', 'database', 'mariadb', 'database-replication', 'rds'], ['python', 'prepared-statement', 'mariadb'], ['java', 'mapping', 'mariadb', 'render', 'jooq'], ['mariadb', 'remote-access']]\n",
      "['mysql', 'mysql', 'stored-procedures', 'database', 'innodb', 'mysql', 'database', 'database-replication', 'rds', 'python', 'prepared-statement', 'java', 'mapping', 'render', 'jooq', 'remote-access']\n",
      "8\n",
      "16\n",
      "16\n"
     ]
    }
   ],
   "source": [
    "mariadb = []\n",
    "element = \"mariadb\"\n",
    "for tag_list in all_tags_proto:\n",
    "        if element in tag_list:\n",
    "            mariadb.append(tag_list)\n",
    "# mariadb = [' '.join([str(c) for c in lst]) for lst in mariadb]\n",
    "\n",
    "\n",
    "\n",
    "print(mariadb)\n",
    "\n",
    "#creating X\n",
    "mariadb_features = []\n",
    "for x_list in mariadb:\n",
    "    for x in x_list:\n",
    "        mariadb_features.append(x)\n",
    "for i in mariadb_features:\n",
    "    if \"mariadb\" in mariadb_features:\n",
    "        mariadb_features.remove(\"mariadb\")\n",
    "    \n",
    "print(mariadb_features)\n",
    "\n",
    "#creating y\n",
    "mariadb_label = []\n",
    "for i in range(len(mariadb_features)):\n",
    "    mariadb_label.append(\"mariadb\")\n",
    "\n",
    "print(len(mariadb)) #mariadb could come up as a single tag in a post.\n",
    "print(len(mariadb_features))\n",
    "print(len(mariadb_label))"
   ]
  },
  {
   "cell_type": "code",
   "execution_count": 65,
   "id": "f3d206bc",
   "metadata": {
    "scrolled": false
   },
   "outputs": [
    {
     "name": "stdout",
     "output_type": "stream",
     "text": [
      "['sql', 'wait', 'cross-database', 'windows', 'powershell', '.net', 'database', 'entity-framework', 'relational-database', 'database', 'sql-server-2008-r2', 'sql', 'sql-server-2012', 'md5', 'sql', 'constraints', 'user-defined-functions', 'php', 'tsql', 'xml', 'tsql', 'variables', 'xmltype', 'c#', 'asp.net', 'azure', 'asp.net-web-api2', 'sql', 'performance', 'tsql', 'join', 'ssl', 'encryption', 'aes', 'database', 'data-structures', 'c++', 'odbc', 'soci', 'sql', 'ssis', 'windows', 'performance', 'jboss', 'wildfly', 'database', 'ssms', 'procedure', 'sql-server-2008', 'datetimeoffset', 'c#', 'multithreading', 'stored-procedures', 'sql', 'tsql', 'stored-procedures', 'c#', 'console-application', 'scheduled-tasks', 'startup', 'sql', 'django', 'c#', 'linq', 'c#-4.0', 'short-circuiting', 'user-defined-functions', 'c#', 'sql', 'c#-4.0', 'javascript', 'c#', 'asp.net', 'sql', 'tsql', 'insert', 'common-table-expression', 'recursive-query', 'tsql', 'database-trigger', 'sql', 'sql', 'tsql', 'php', 'html', 'sql-server-2008', 'sql-server-2005', 'dns', 'sql', 'database', 'linked-server', 'openquery', 'entity-framework', 'azure-sql-database', 'sharding', 'horizontal-scaling', 'join', 'sql', 'sql-server-2008', 'reporting-services', 'asp.net', 'c#', 'asp.net', 'linq', 'sql', 'create-table', 'c#', 'sql-server-2008', 'sql', 'c#', 'database', 'entity-framework', 'entity-framework-5', 'tsql', 'sql-insert', 'sql', 'sql-server-2012', 'sql', 'tsql', 'stored-procedures', 'logic', 'sql', 'tsql', 'floating-point', 'equality', 'python', 'pyodbc', 'sql', 'regex', 'sql-server-2008', 'localdb', 'asp.net-mvc', 'sql', 'tree', 'union', 'database', 'html', 'sql', 'entity-framework', 'tsql', 'sql-server-2008', 'real-time', 'sql', 'tsql', 'date-comparison', 'tsql', 'sql-server-2012', 'sql', 'database', 'sql-server-2008', 'sql', 'oracle', 'hibernate', 'jdbc', 'hsqldb', 'php', 'echo', 'sql-server-2008', 'pagination', 'c#', 'c#', 'sql', 'sql', 'xml', 'sql', 'xml', 'tsql', 'ssis', 'tags', 'xquery', 'minimized', 'ssms', 'sql', 'sql-server-2008', 'sql', 'tsql', 'sql', 'tsql', 'matching', 'multi-table', 'mysql', 'sql', 'xml', 'json', 'excel', 'f#', 'dynamic', 'pivot', 'reporting-services', 'parameters', 'mysql', 'sql', 'sql-server-2008', 'javascript', 'ajax', 'json', 'node.js', 'c#', 'asp.net-mvc-4', 'entity-framework-5', 'code-first', 'tsql', 'constraints', 'ssms', 'sql', 'sql', 'database', 'string', 'substring', 'sql', 'sql-server-2014', '.net', 'sql', 'vb.net', 'sql-server-2005', 'stored-procedures', 'parameters', 'c#', 'sql-server-2000', 'database-connection', 'redundancy', 'python', 'sql', 'drop-down-menu', 'menu', 'sybase', 'infomaker', 'sql', 'sql-server-2008-r2', 'timezone', 'timezone-offset', 'sql', 'vb.net', 'stored-procedures', 'sql', 'sql-server-2005', 'oracle', 'ceil', 'xml', 'sqlxml', 'xml', 'tsql', 'xquery', 'shred', 'sql', 'ruby-on-rails', 'sql', 'tsql', 'sql', 'sql', 'sql-server-2008', 'tsql', 'sql-server-2008-r2', 'sql', 'backup', 'restore', 'reporting-services', 'visual-studio', 'database-project', 'duplicates', 'sql', 'c#', 'asp.net', 'azure-sql-database', 'sql', 'xml', 'tsql', 'sql', 'sql', 'tsql', 'bit-manipulation', 'sql', 'sql', 'full-text-search', 'subquery', 'django', 'constraints', 'django-mssql', 'azure', 'azure-storage', 'azure-storage-blobs', 'bulkinsert', 'c#', 'sql', 'sql-server-profiler', 'audit-logging', 'stored-procedures', 'tsql', 'stored-procedures', 'sql', 'triggers', 'sql', 'sql-server-2008-r2', 'sql', 'string', 'sql-server-2008', 'replace', 'sql', 'join', 'subquery', 'medical', 'f#', 'type-providers', 'c#', 'insert', 'scope-identity', 'c#', 'wpf', 'entity-framework', 'sql', 'tsql', 'sql-server-2016', 'sql', 'xml', 'stored-procedures', 'xml-parsing', 'tsql', 'sql', 'sql', 'text', 'string-formatting', 'sql-server-2005', 'ado.net', 'sql', 'sql-server-2005', 'sql', 'tsql', 'error-handling', 'try-catch', 'sql', 'tsql', 'count']\n",
      "151\n",
      "332\n",
      "332\n"
     ]
    }
   ],
   "source": [
    "sql_server = []\n",
    "element = \"sql-server\"\n",
    "for tag_list in all_tags_proto:\n",
    "        if element in tag_list:\n",
    "            sql_server.append(tag_list)\n",
    "            \n",
    "#creating X\n",
    "sql_server_features = []\n",
    "for x_list in sql_server:\n",
    "    for x in x_list:\n",
    "        sql_server_features.append(x)\n",
    "for i in sql_server_features:\n",
    "    if \"sql-server\" in sql_server_features:\n",
    "        sql_server_features.remove(\"sql-server\")\n",
    "    \n",
    "print(sql_server_features)\n",
    "\n",
    "#creating y\n",
    "sql_server_label = []\n",
    "for i in range(len(sql_server_features)):\n",
    "    sql_server_label.append(\"sql_server\")\n",
    "\n",
    "print(len(sql_server)) #mariadb could come up as a single tag in a post.\n",
    "print(len(sql_server_features))\n",
    "print(len(sql_server_label))"
   ]
  },
  {
   "cell_type": "code",
   "execution_count": 67,
   "id": "e07683b2",
   "metadata": {},
   "outputs": [
    {
     "ename": "NameError",
     "evalue": "name 'postgres_features' is not defined",
     "output_type": "error",
     "traceback": [
      "\u001b[0;31m---------------------------------------------------------------------------\u001b[0m",
      "\u001b[0;31mNameError\u001b[0m                                 Traceback (most recent call last)",
      "\u001b[0;32m<ipython-input-67-889cf76c290e>\u001b[0m in \u001b[0;36m<module>\u001b[0;34m\u001b[0m\n\u001b[0;32m----> 1\u001b[0;31m \u001b[0mX\u001b[0m \u001b[0;34m=\u001b[0m \u001b[0mnp\u001b[0m\u001b[0;34m.\u001b[0m\u001b[0mconcatenate\u001b[0m\u001b[0;34m(\u001b[0m\u001b[0;34m(\u001b[0m\u001b[0mpostgres_features\u001b[0m\u001b[0;34m,\u001b[0m \u001b[0mmysql_features\u001b[0m\u001b[0;34m,\u001b[0m \u001b[0mmariadb_features\u001b[0m\u001b[0;34m,\u001b[0m \u001b[0msql_server_features\u001b[0m\u001b[0;34m)\u001b[0m\u001b[0;34m,\u001b[0m \u001b[0maxis\u001b[0m \u001b[0;34m=\u001b[0m \u001b[0;36m0\u001b[0m \u001b[0;34m)\u001b[0m\u001b[0;34m\u001b[0m\u001b[0;34m\u001b[0m\u001b[0m\n\u001b[0m\u001b[1;32m      2\u001b[0m \u001b[0my\u001b[0m \u001b[0;34m=\u001b[0m \u001b[0mnp\u001b[0m\u001b[0;34m.\u001b[0m\u001b[0mconcatenate\u001b[0m\u001b[0;34m(\u001b[0m\u001b[0;34m(\u001b[0m\u001b[0mpostgres_label\u001b[0m\u001b[0;34m,\u001b[0m \u001b[0mmysql_label\u001b[0m\u001b[0;34m,\u001b[0m \u001b[0mmariadb_label\u001b[0m\u001b[0;34m,\u001b[0m \u001b[0msql_server_label\u001b[0m\u001b[0;34m)\u001b[0m\u001b[0;34m,\u001b[0m \u001b[0maxis\u001b[0m \u001b[0;34m=\u001b[0m \u001b[0;36m0\u001b[0m\u001b[0;34m)\u001b[0m\u001b[0;34m\u001b[0m\u001b[0;34m\u001b[0m\u001b[0m\n\u001b[1;32m      3\u001b[0m \u001b[0;34m\u001b[0m\u001b[0m\n\u001b[1;32m      4\u001b[0m \u001b[0mX_train\u001b[0m\u001b[0;34m,\u001b[0m \u001b[0mX_test\u001b[0m\u001b[0;34m,\u001b[0m \u001b[0my_train\u001b[0m\u001b[0;34m,\u001b[0m \u001b[0my_test\u001b[0m \u001b[0;34m=\u001b[0m \u001b[0mtrain_test_split\u001b[0m\u001b[0;34m(\u001b[0m\u001b[0mX\u001b[0m\u001b[0;34m,\u001b[0m \u001b[0my\u001b[0m\u001b[0;34m,\u001b[0m \u001b[0mstratify\u001b[0m \u001b[0;34m=\u001b[0m \u001b[0my\u001b[0m\u001b[0;34m,\u001b[0m \u001b[0mtest_size\u001b[0m \u001b[0;34m=\u001b[0m \u001b[0;36m0.3\u001b[0m\u001b[0;34m)\u001b[0m\u001b[0;34m\u001b[0m\u001b[0;34m\u001b[0m\u001b[0m\n",
      "\u001b[0;31mNameError\u001b[0m: name 'postgres_features' is not defined"
     ]
    }
   ],
   "source": [
    "X = np.concatenate((postgres_features, mysql_features, mariadb_features, sql_server_features), axis = 0 )\n",
    "y = np.concatenate((postgres_label, mysql_label, mariadb_label, sql_server_label), axis = 0)\n",
    "\n",
    "X_train, X_test, y_train, y_test = train_test_split(X, y, stratify = y, test_size = 0.3)"
   ]
  },
  {
   "cell_type": "code",
   "execution_count": null,
   "id": "f3f03f18",
   "metadata": {},
   "outputs": [],
   "source": [
    "#Baseline Model\n",
    "\n",
    "dummy = DummyClassifier(strategy='most_frequent')\n",
    "scores = cross_val_score(dummy, X_train, y_train, cv=3, scoring = \"accuracy\") \n",
    "print (f\"{scores.mean()} is the mean score\")\n",
    "scores"
   ]
  },
  {
   "cell_type": "code",
   "execution_count": null,
   "id": "a71d2f58",
   "metadata": {},
   "outputs": [],
   "source": [
    "# create the pipeline\n",
    "dt_pipe = Pipeline([('vect', CountVectorizer(ngram_range=(1,3))),('clf', DecisionTreeClassifier())])\n",
    "\n",
    "# pass the pipeline as if it was the classifier into a cross validation method\n",
    "# the cv method will automatically figure out what to do.\n",
    "scores = cross_val_score(dt_pipe, X_train, y_train, cv=4, scoring = 'accuracy')\n",
    "print(f\"the mean score is: {scores.mean()}\")\n",
    "print(\"The scores were:\", scores)"
   ]
  },
  {
   "cell_type": "markdown",
   "id": "af11eb6a",
   "metadata": {},
   "source": [
    "# Summary of the DTC analysis: dunno"
   ]
  },
  {
   "cell_type": "code",
   "execution_count": null,
   "id": "749a8e41",
   "metadata": {},
   "outputs": [],
   "source": [
    "top_tags = posts_proto['tags'].value_counts().head(50)"
   ]
  },
  {
   "cell_type": "code",
   "execution_count": null,
   "id": "6a3ed2c7",
   "metadata": {},
   "outputs": [],
   "source": [
    "print(top_tags)"
   ]
  },
  {
   "cell_type": "markdown",
   "id": "323e4ced",
   "metadata": {},
   "source": [
    "# Moving on to User analysis"
   ]
  },
  {
   "cell_type": "code",
   "execution_count": null,
   "id": "6c56b452",
   "metadata": {},
   "outputs": [],
   "source": [
    "#No added information about age\n",
    "users = users.drop(columns = 'age')"
   ]
  },
  {
   "cell_type": "code",
   "execution_count": null,
   "id": "e80aa914",
   "metadata": {},
   "outputs": [],
   "source": []
  },
  {
   "cell_type": "code",
   "execution_count": null,
   "id": "c6e4d657",
   "metadata": {},
   "outputs": [],
   "source": [
    "b"
   ]
  },
  {
   "cell_type": "code",
   "execution_count": null,
   "id": "1cafbc2d",
   "metadata": {},
   "outputs": [],
   "source": []
  },
  {
   "cell_type": "code",
   "execution_count": null,
   "id": "d399809f",
   "metadata": {},
   "outputs": [],
   "source": []
  },
  {
   "cell_type": "code",
   "execution_count": null,
   "id": "a6138b53",
   "metadata": {},
   "outputs": [],
   "source": []
  },
  {
   "cell_type": "code",
   "execution_count": null,
   "id": "58217246",
   "metadata": {},
   "outputs": [],
   "source": []
  },
  {
   "cell_type": "markdown",
   "id": "a67f465f",
   "metadata": {},
   "source": [
    "# Adding StackOverflow Survey Data"
   ]
  },
  {
   "cell_type": "code",
   "execution_count": null,
   "id": "19b7b384",
   "metadata": {},
   "outputs": [],
   "source": [
    "df_20 = pd.read_csv('/Users/bens_mac/Downloads/developer_survey_2020/survey_results_public.csv')\n",
    "df_19 = pd.read_csv('/Users/bens_mac/Downloads/developer_survey_2019/survey_results_public.csv')\n",
    "df_18 = pd.read_csv('/Users/bens_mac/Downloads/developer_survey_2018/survey_results_public.csv')\n",
    "def prettify(ax):\n",
    "  ax.grid(False)\n",
    "  ax.set_frame_on(False)\n",
    "  ax.tick_params(top=False, bottom=False, left=False, right=False, labelbottom=False)"
   ]
  },
  {
   "cell_type": "code",
   "execution_count": null,
   "id": "64948e87",
   "metadata": {},
   "outputs": [],
   "source": [
    "rev_data_20 = df_20[['Respondent', 'Country', 'Age1stCode', 'UndergradMajor','Hobbyist', 'Employment','DevType', 'DatabaseDesireNextYear', 'DatabaseWorkedWith', 'PlatformDesireNextYear', 'PlatformWorkedWith']]"
   ]
  },
  {
   "cell_type": "code",
   "execution_count": null,
   "id": "3fe4ac1c",
   "metadata": {},
   "outputs": [],
   "source": [
    "rev_data_20 = rev_data_20.dropna()"
   ]
  },
  {
   "cell_type": "code",
   "execution_count": null,
   "id": "583cdd5e",
   "metadata": {},
   "outputs": [],
   "source": [
    "rev_data_20.info()"
   ]
  },
  {
   "cell_type": "code",
   "execution_count": null,
   "id": "c49c0d24",
   "metadata": {},
   "outputs": [],
   "source": [
    "country_20 = rev_data_20['Country'].value_counts()\n",
    "top_country_20 = country_20.head(30).sort_values(ascending = True)"
   ]
  },
  {
   "cell_type": "code",
   "execution_count": null,
   "id": "8f724132",
   "metadata": {},
   "outputs": [],
   "source": [
    "top_country_20.plot(kind = 'barh', title = 'Number of Developers from Countries')"
   ]
  },
  {
   "cell_type": "code",
   "execution_count": null,
   "id": "baadf1e0",
   "metadata": {},
   "outputs": [],
   "source": [
    "rev_data_20['DevType'].head(59)"
   ]
  },
  {
   "cell_type": "code",
   "execution_count": null,
   "id": "d9eedfa2",
   "metadata": {},
   "outputs": [],
   "source": [
    "developer_back_end = []\n",
    "for i in rev_data_20['DevType']:\n",
    "    if i == 'Developer, back-end':\n",
    "        developer_back_end.append(i)\n",
    "developer_back_end[0:15]"
   ]
  },
  {
   "cell_type": "code",
   "execution_count": null,
   "id": "7ec93bcc",
   "metadata": {},
   "outputs": [],
   "source": [
    "Developer_full_stack = []\n",
    "for i in rev_data_20['DevType']:\n",
    "    if i == 'Developer, full-stack':\n",
    "        Developer_full_stack.append(i)\n",
    "len(Developer_full_stack)"
   ]
  },
  {
   "cell_type": "code",
   "execution_count": null,
   "id": "faed6cdb",
   "metadata": {},
   "outputs": [],
   "source": []
  },
  {
   "cell_type": "code",
   "execution_count": null,
   "id": "f6a69ac3",
   "metadata": {},
   "outputs": [],
   "source": [
    "data_analyst = []\n",
    "for i in rev_data_20['DevType']:\n",
    "    if i == 'Data or business analyst':\n",
    "        data_analyst.append(i)\n",
    "len(data_analyst)"
   ]
  },
  {
   "cell_type": "code",
   "execution_count": null,
   "id": "b53a6054",
   "metadata": {},
   "outputs": [],
   "source": [
    "data_scientist = []\n",
    "for i in rev_data_20['DevType']:\n",
    "    if i == 'Data scientist or machine learning specialist':\n",
    "        data_scientist.append(i)\n",
    "len(data_scientist)"
   ]
  },
  {
   "cell_type": "code",
   "execution_count": null,
   "id": "ccf215c5",
   "metadata": {},
   "outputs": [],
   "source": [
    "rev_data_20['Hobbyist'].value_counts()"
   ]
  },
  {
   "cell_type": "code",
   "execution_count": null,
   "id": "234c8316",
   "metadata": {},
   "outputs": [],
   "source": []
  }
 ],
 "metadata": {
  "kernelspec": {
   "display_name": "Python 3",
   "language": "python",
   "name": "python3"
  },
  "language_info": {
   "codemirror_mode": {
    "name": "ipython",
    "version": 3
   },
   "file_extension": ".py",
   "mimetype": "text/x-python",
   "name": "python",
   "nbconvert_exporter": "python",
   "pygments_lexer": "ipython3",
   "version": "3.8.8"
  }
 },
 "nbformat": 4,
 "nbformat_minor": 5
}
