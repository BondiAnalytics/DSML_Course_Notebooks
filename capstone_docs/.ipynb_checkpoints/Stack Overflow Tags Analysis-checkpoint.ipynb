{
 "cells": [
  {
   "cell_type": "markdown",
   "id": "184a2222",
   "metadata": {},
   "source": [
    "## Stack Overflow Tag Analysis\n",
    "\n",
    "The Stack Overflow dataset is a seminal dataset used by tech market researchers, because it is open, comprehensive, and behavioral in nature. It was first made available for public consumption in 2010, and encompasses not just questions and answer posts from the developer community but also technology tags associated with each post. As a result, these tags act as a good market proxy of user adoption, interest or disterest from a behavioral perspective: the more posts with a certain tag, the more indicative interest of that certain tag. The time series nature of this dataset also make it possible to gauge the waxing and waning of a tag, while also indicating changing affiliation among tags. Finally, additional metadata about users, badge contests and an annual developer survey provide additional context to help make business/actionable decisions, leading to measurable outcomes.\n",
    "\n",
    "Thus, for my capstone project I would like to analyze technology tags in the Stack Overflow dataset in order to better understand technology adoption curves and affiliations among technologies, depending on certain cohorts of developers. My team and I at Microsoft perfomed a similar analysis in 2016, where we found that OSS developers gravitated towards AWS and Google, as there were very few OSS offerings on Azure. We also realized that Microsoft had not reached out to OSS developers proactively, even with the limited offers. This 'wake up call' generated massive investment in development and marketing of OSS technologies on the Azure cloud/platform.\n",
    "\n",
    "Five years later, Microsoft would like to know if their efforts have paid off. They have seen fantastic growth in their OSS services and technologies, but are they keeping up with the market? Have they been able bring new developers onto their platform, or is this adoption coming from existing developers who have become 'polyglots'? And have the 'islands of technologies' that used to center around just AWS and Google begun to diffuse and include Azure? ...or is Azure still an island unto itself?"
   ]
  },
  {
   "cell_type": "code",
   "execution_count": 1,
   "id": "5182466f",
   "metadata": {},
   "outputs": [],
   "source": [
    "import numpy as np\n",
    "import pandas as pd\n",
    "import matplotlib.pyplot as plt\n",
    "import seaborn as sns\n",
    "sns.set()\n",
    "%matplotlib inline\n",
    "\n",
    "#preprocessing\n",
    "from sklearn.preprocessing import StandardScaler, Normalizer, MinMaxScaler\n",
    "from scipy import stats\n",
    "\n",
    "# pipelines\n",
    "from sklearn.pipeline import Pipeline\n",
    "\n",
    "# Regression\n",
    "from sklearn.linear_model import LinearRegression\n",
    "from sklearn.linear_model import SGDRegressor\n",
    "from sklearn.linear_model import Ridge\n",
    "from sklearn.metrics import mean_squared_error\n",
    "\n",
    "# NLP transformers\n",
    "from sklearn.feature_extraction.text import CountVectorizer, TfidfTransformer\n",
    "\n",
    "# classifiers you can use\n",
    "from sklearn.dummy import DummyClassifier\n",
    "from sklearn.svm import SVC\n",
    "from sklearn.tree import DecisionTreeClassifier\n",
    "from sklearn.ensemble import RandomForestClassifier, AdaBoostClassifier\n",
    "\n",
    "# model selection bits\n",
    "from sklearn.model_selection import GridSearchCV, train_test_split, cross_val_score, ShuffleSplit, RandomizedSearchCV\n",
    "from sklearn.model_selection import StratifiedShuffleSplit, StratifiedKFold, KFold\n",
    "from sklearn.model_selection import learning_curve, validation_curve\n",
    "\n",
    "# evaluation\n",
    "from sklearn.metrics import accuracy_score, precision_score, recall_score, f1_score, confusion_matrix, classification_report, fbeta_score"
   ]
  },
  {
   "cell_type": "code",
   "execution_count": 2,
   "id": "17ce888e",
   "metadata": {},
   "outputs": [],
   "source": [
    "posts = pd.read_csv(\"/Users/bens_mac/Documents/CodingNomads/SO_posts_BIG.csv\")\n",
    "users = pd.read_csv(\"/Users/bens_mac/Documents/CodingNomads/SO_users_BIG.csv\")"
   ]
  },
  {
   "cell_type": "code",
   "execution_count": null,
   "id": "674ca168",
   "metadata": {},
   "outputs": [],
   "source": [
    "posts.head()"
   ]
  },
  {
   "cell_type": "code",
   "execution_count": null,
   "id": "ba0815d9",
   "metadata": {},
   "outputs": [],
   "source": [
    "users.head()"
   ]
  },
  {
   "cell_type": "code",
   "execution_count": null,
   "id": "4e95a678",
   "metadata": {},
   "outputs": [],
   "source": [
    "posts.info()"
   ]
  },
  {
   "cell_type": "code",
   "execution_count": null,
   "id": "1dc96403",
   "metadata": {},
   "outputs": [],
   "source": [
    "users.info()"
   ]
  },
  {
   "cell_type": "code",
   "execution_count": null,
   "id": "de76ab88",
   "metadata": {
    "scrolled": true
   },
   "outputs": [],
   "source": [
    "posts.dropna()"
   ]
  },
  {
   "cell_type": "code",
   "execution_count": null,
   "id": "ff020395",
   "metadata": {},
   "outputs": [],
   "source": [
    "posts['tags'] = posts['tags'].str.split(\"|\")\n",
    "posts['creation_date'] = [x[:4] for x in posts['creation_date']]\n",
    "posts['last_activity_date'] = [x[:4] for x in posts['last_activity_date']]"
   ]
  },
  {
   "cell_type": "code",
   "execution_count": null,
   "id": "f4879198",
   "metadata": {},
   "outputs": [],
   "source": [
    "users['creation_date'] = [x[:4] for x in users['creation_date']]\n",
    "users['last_access_date'] = [x[:4] for x in users['last_access_date']]"
   ]
  },
  {
   "cell_type": "code",
   "execution_count": null,
   "id": "57d86e62",
   "metadata": {},
   "outputs": [],
   "source": [
    "posts['creation_date'] = posts['creation_date'].astype(str).astype(float)\n",
    "posts['last_activity_date'] = posts['last_activity_date'].astype(str).astype(float)"
   ]
  },
  {
   "cell_type": "code",
   "execution_count": null,
   "id": "1cf030fa",
   "metadata": {},
   "outputs": [],
   "source": [
    "posts.info()"
   ]
  },
  {
   "cell_type": "code",
   "execution_count": null,
   "id": "b8e5fa2f",
   "metadata": {},
   "outputs": [],
   "source": [
    "posts_proto = posts.sample(n=10000)"
   ]
  },
  {
   "cell_type": "code",
   "execution_count": null,
   "id": "d4a7d496",
   "metadata": {},
   "outputs": [],
   "source": [
    "posts_proto.info()"
   ]
  },
  {
   "cell_type": "code",
   "execution_count": null,
   "id": "3779b930",
   "metadata": {},
   "outputs": [],
   "source": [
    "posts_proto = posts_proto.dropna()"
   ]
  },
  {
   "cell_type": "code",
   "execution_count": null,
   "id": "522f77b7",
   "metadata": {},
   "outputs": [],
   "source": [
    "all_tags_proto = posts_proto['tags']"
   ]
  },
  {
   "cell_type": "code",
   "execution_count": null,
   "id": "1d3dcd74",
   "metadata": {},
   "outputs": [],
   "source": [
    "all_tags_proto[0:15]"
   ]
  },
  {
   "cell_type": "code",
   "execution_count": null,
   "id": "b0a79df8",
   "metadata": {},
   "outputs": [],
   "source": [
    "#all tags of postgres + ...\n",
    "#all tags of mysql + ...\n",
    "#all tags of mariadb + ...\n",
    "#all tags of sql-server + ...\n",
    "\n",
    "#tokenize list of tags and their combinations\n",
    "\n",
    "postgres = []\n",
    "element = \"postgres\"\n",
    "for tag_list in all_tags_proto:\n",
    "    for tag in tag_list:\n",
    "        if element in tag:\n",
    "            postgres.append(tag_list)\n",
    "postgres = [' '.join([str(c) for c in lst]) for lst in postgres]\n",
    "\n",
    "            \n",
    "#creating X\n",
    "postgres_indicators = []\n",
    "for label in postgres:\n",
    "    if label != \"postgresql\":\n",
    "        postgres_indicators.append(label)\n",
    "postgres_indicators = np.unique(postgres_indicators)\n",
    "\n",
    "#creating y\n",
    "postgres_label = []\n",
    "for i in range(len(postgres_indicators)):\n",
    "    postgres_label.append(\"postgres\")\n",
    "\n",
    "print(len(postgres)) #postgres could come up as a single tag in a post.\n",
    "print(len(postgres_indicators))\n",
    "print(len(postgres_label))"
   ]
  },
  {
   "cell_type": "code",
   "execution_count": null,
   "id": "0b2b86a0",
   "metadata": {
    "scrolled": true
   },
   "outputs": [],
   "source": [
    "mysql = []\n",
    "element = \"mysql\"\n",
    "for tag_list in all_tags_proto:\n",
    "        if element in tag_list:\n",
    "            mysql.append(tag_list)\n",
    "mysql = [' '.join([str(c) for c in lst]) for lst in mysql]\n",
    "\n",
    "#creating X\n",
    "mysql_indicators = []\n",
    "for label in mysql:\n",
    "    if label != \"mysql\":\n",
    "        mysql_indicators.append(label)\n",
    "mysql_indicators = np.unique(mysql_indicators)\n",
    "\n",
    "#creating y\n",
    "mysql_label = []\n",
    "for i in range(len(mysql_indicators)):\n",
    "    mysql_label.append(\"mysql\")\n",
    "\n",
    "print(len(mysql)) #mysql could come up as a single tag in a post.\n",
    "print(len(mysql_indicators))\n",
    "print(len(mysql_label))"
   ]
  },
  {
   "cell_type": "code",
   "execution_count": null,
   "id": "7afe8b84",
   "metadata": {},
   "outputs": [],
   "source": [
    "mariadb = []\n",
    "element = \"mariadb\"\n",
    "for tag_list in all_tags_proto:\n",
    "        if element in tag_list:\n",
    "            mariadb.append(tag_list)\n",
    "mariadb = [' '.join([str(c) for c in lst]) for lst in mariadb]\n",
    "\n",
    "#creating X\n",
    "mariadb_indicators = []\n",
    "for label in mariadb:\n",
    "    if label != \"mariadb\":\n",
    "        mariadb_indicators.append(label)\n",
    "mariadb_indicators = np.unique(mariadb_indicators)\n",
    "\n",
    "#creating y\n",
    "mariadb_label = []\n",
    "for i in range(len(mariadb_indicators)):\n",
    "    mariadb_label.append(\"mariadb\")\n",
    "\n",
    "print(len(mariadb)) #mariadb could come up as a single tag in a post.\n",
    "print(len(mariadb_indicators))\n",
    "print(len(mariadb_label))\n",
    "print(mariadb)\n"
   ]
  },
  {
   "cell_type": "code",
   "execution_count": null,
   "id": "7699f944",
   "metadata": {
    "scrolled": false
   },
   "outputs": [],
   "source": [
    "sql_server = []\n",
    "element = \"sql-server\"\n",
    "for tag_list in all_tags_proto:\n",
    "        if element in tag_list:\n",
    "            sql_server.append(tag_list)\n",
    "sql_server = [' '.join([str(c) for c in lst]) for lst in sql_server]\n",
    "\n",
    "#creating X\n",
    "sql_server_indicators = []\n",
    "for label in sql_server:\n",
    "    if label != \"sql-server\":\n",
    "        sql_server_indicators.append(label)\n",
    "sql_server_indicators = np.unique(sql_server_indicators)\n",
    "\n",
    "#creating y\n",
    "sql_server_label = []\n",
    "for i in range(len(sql_server_indicators)):\n",
    "    sql_server_label.append(\"sql_server\")\n",
    "\n",
    "print(len(sql_server)) #sql-server could come up as a single tag in a post.\n",
    "print(len(sql_server_indicators))\n",
    "print(len(sql_server_label))\n",
    "type(sql_server_indicators)"
   ]
  },
  {
   "cell_type": "code",
   "execution_count": null,
   "id": "1111f99f",
   "metadata": {},
   "outputs": [],
   "source": [
    "X = np.concatenate((postgres_indicators, mysql_indicators, mariadb_indicators, sql_server_indicators), axis = 0 )\n",
    "y = np.concatenate((postgres_label, mysql_label, mariadb_label, sql_server_label), axis = 0)\n",
    "\n",
    "X_train, X_test, y_train, y_test = train_test_split(X, y, stratify = y, test_size = 0.3)"
   ]
  },
  {
   "cell_type": "code",
   "execution_count": null,
   "id": "8ac12e29",
   "metadata": {},
   "outputs": [],
   "source": [
    "#Baseline Model\n",
    "\n",
    "dummy = DummyClassifier(strategy='most_frequent')\n",
    "scores = cross_val_score(dummy, X_train, y_train, cv=3, scoring = \"accuracy\") \n",
    "print (f\"{scores.mean()} is the mean score\")\n",
    "scores"
   ]
  },
  {
   "cell_type": "code",
   "execution_count": null,
   "id": "fffa6178",
   "metadata": {},
   "outputs": [],
   "source": [
    "# create the pipeline\n",
    "dt_pipe = Pipeline([('vect', CountVectorizer(ngram_range=(1,3))),('clf', DecisionTreeClassifier())])\n",
    "\n",
    "# pass the pipeline as if it was the classifier into a cross validation method\n",
    "# the cv method will automatically figure out what to do.\n",
    "scores = cross_val_score(dt_pipe, X_train, y_train, cv=4, scoring = 'accuracy')\n",
    "print(f\"the mean score is: {scores.mean()}\")\n",
    "print(\"The scores were:\", scores)"
   ]
  },
  {
   "cell_type": "markdown",
   "id": "001fe029",
   "metadata": {},
   "source": [
    "# Summary of the DTC analysis: dunno"
   ]
  },
  {
   "cell_type": "code",
   "execution_count": null,
   "id": "5096bc9e",
   "metadata": {},
   "outputs": [],
   "source": [
    "top_tags = posts_proto['tags'].value_counts().head(50)"
   ]
  },
  {
   "cell_type": "code",
   "execution_count": null,
   "id": "83676a42",
   "metadata": {},
   "outputs": [],
   "source": [
    "print(top_tags)"
   ]
  },
  {
   "cell_type": "markdown",
   "id": "d0122bf6",
   "metadata": {},
   "source": [
    "# Moving on to User analysis"
   ]
  },
  {
   "cell_type": "code",
   "execution_count": null,
   "id": "5c65f5e3",
   "metadata": {},
   "outputs": [],
   "source": [
    "#No added information about age\n",
    "users = users.drop(columns = 'age')"
   ]
  },
  {
   "cell_type": "code",
   "execution_count": 16,
   "id": "5126c2f7",
   "metadata": {},
   "outputs": [
    {
     "name": "stdout",
     "output_type": "stream",
     "text": [
      "<class 'pandas.core.frame.DataFrame'>\n",
      "RangeIndex: 14080580 entries, 0 to 14080579\n",
      "Data columns (total 7 columns):\n",
      " #   Column            Dtype  \n",
      "---  ------            -----  \n",
      " 0   id                int64  \n",
      " 1   display_name      object \n",
      " 2   age               float64\n",
      " 3   creation_date     object \n",
      " 4   last_access_date  object \n",
      " 5   location          object \n",
      " 6   reputation        int64  \n",
      "dtypes: float64(1), int64(2), object(4)\n",
      "memory usage: 752.0+ MB\n"
     ]
    }
   ],
   "source": []
  },
  {
   "cell_type": "code",
   "execution_count": null,
   "id": "8c59e579",
   "metadata": {},
   "outputs": [],
   "source": [
    "b"
   ]
  },
  {
   "cell_type": "code",
   "execution_count": null,
   "id": "1e95d337",
   "metadata": {},
   "outputs": [],
   "source": []
  },
  {
   "cell_type": "code",
   "execution_count": null,
   "id": "543d7669",
   "metadata": {},
   "outputs": [],
   "source": []
  },
  {
   "cell_type": "code",
   "execution_count": null,
   "id": "348a7f6e",
   "metadata": {},
   "outputs": [],
   "source": []
  },
  {
   "cell_type": "code",
   "execution_count": null,
   "id": "4e08819b",
   "metadata": {},
   "outputs": [],
   "source": []
  },
  {
   "cell_type": "markdown",
   "id": "2c44eb78",
   "metadata": {},
   "source": [
    "# Adding StackOverflow Survey Data"
   ]
  },
  {
   "cell_type": "code",
   "execution_count": 11,
   "id": "4942cf4b",
   "metadata": {},
   "outputs": [
    {
     "name": "stderr",
     "output_type": "stream",
     "text": [
      "/Users/bens_mac/opt/anaconda3/lib/python3.8/site-packages/IPython/core/interactiveshell.py:3165: DtypeWarning: Columns (8,12,13,14,15,16,50,51,52,53,55,56,57,58,59,60,61,62,63,64,65,66,67,68,69,70,71,72,73,74,75,76,77,78,79,80,81,82,83,84,85,93,94,95,96,97,98,99,100,101,102,103,104,105,106,107,108,109,110,111,112,113,114,115,116,117,118,119,120,121,122,123,124,125,126,127,128) have mixed types.Specify dtype option on import or set low_memory=False.\n",
      "  has_raised = await self.run_ast_nodes(code_ast.body, cell_name,\n"
     ]
    }
   ],
   "source": [
    "df_20 = pd.read_csv('/Users/bens_mac/Downloads/developer_survey_2020/survey_results_public.csv')\n",
    "df_19 = pd.read_csv('/Users/bens_mac/Downloads/developer_survey_2019/survey_results_public.csv')\n",
    "df_18 = pd.read_csv('/Users/bens_mac/Downloads/developer_survey_2018/survey_results_public.csv')\n",
    "def prettify(ax):\n",
    "  ax.grid(False)\n",
    "  ax.set_frame_on(False)\n",
    "  ax.tick_params(top=False, bottom=False, left=False, right=False, labelbottom=False)"
   ]
  },
  {
   "cell_type": "code",
   "execution_count": 26,
   "id": "ab654257",
   "metadata": {},
   "outputs": [],
   "source": [
    "rev_data_20 = df_20[['Respondent', 'Country', 'Age1stCode', 'UndergradMajor','Hobbyist', 'Employment','DevType', 'DatabaseDesireNextYear', 'DatabaseWorkedWith', 'PlatformDesireNextYear', 'PlatformWorkedWith']]"
   ]
  },
  {
   "cell_type": "code",
   "execution_count": 29,
   "id": "6cad2c94",
   "metadata": {},
   "outputs": [],
   "source": [
    "rev_data_20 = rev_data_20.dropna()"
   ]
  },
  {
   "cell_type": "code",
   "execution_count": 30,
   "id": "c8fc5492",
   "metadata": {},
   "outputs": [
    {
     "name": "stdout",
     "output_type": "stream",
     "text": [
      "<class 'pandas.core.frame.DataFrame'>\n",
      "Int64Index: 30044 entries, 0 to 64428\n",
      "Data columns (total 11 columns):\n",
      " #   Column                  Non-Null Count  Dtype \n",
      "---  ------                  --------------  ----- \n",
      " 0   Respondent              30044 non-null  int64 \n",
      " 1   Country                 30044 non-null  object\n",
      " 2   Age1stCode              30044 non-null  object\n",
      " 3   UndergradMajor          30044 non-null  object\n",
      " 4   Hobbyist                30044 non-null  object\n",
      " 5   Employment              30044 non-null  object\n",
      " 6   DevType                 30044 non-null  object\n",
      " 7   DatabaseDesireNextYear  30044 non-null  object\n",
      " 8   DatabaseWorkedWith      30044 non-null  object\n",
      " 9   PlatformDesireNextYear  30044 non-null  object\n",
      " 10  PlatformWorkedWith      30044 non-null  object\n",
      "dtypes: int64(1), object(10)\n",
      "memory usage: 2.8+ MB\n"
     ]
    }
   ],
   "source": [
    "rev_data_20.info()"
   ]
  },
  {
   "cell_type": "code",
   "execution_count": 62,
   "id": "54cf8707",
   "metadata": {},
   "outputs": [],
   "source": [
    "country_20 = rev_data_20['Country'].value_counts()\n",
    "top_country_20 = country_20.head(30).sort_values(ascending = True)"
   ]
  },
  {
   "cell_type": "code",
   "execution_count": 65,
   "id": "6c67663a",
   "metadata": {},
   "outputs": [
    {
     "data": {
      "text/plain": [
       "<AxesSubplot:title={'center':'Number of Developers from Countries'}>"
      ]
     },
     "execution_count": 65,
     "metadata": {},
     "output_type": "execute_result"
    },
    {
     "data": {
      "image/png": "[encoded data removed]",
      "text/plain": [
       "<Figure size 432x288 with 1 Axes>"
      ]
     },
     "metadata": {
      "needs_background": "light"
     },
     "output_type": "display_data"
    }
   ],
   "source": [
    "top_country_20.plot(kind = 'barh', title = 'Number of Developers from Countries')"
   ]
  },
  {
   "cell_type": "code",
   "execution_count": 83,
   "id": "1aeddcea",
   "metadata": {},
   "outputs": [
    {
     "data": {
      "text/plain": [
       "0      Developer, desktop or enterprise applications;...\n",
       "7      Developer, back-end;Developer, desktop or ente...\n",
       "9      Database administrator;Developer, full-stack;D...\n",
       "10     Developer, back-end;Developer, desktop or ente...\n",
       "13     Developer, desktop or enterprise applications;...\n",
       "17                                   Developer, back-end\n",
       "18                                 Developer, full-stack\n",
       "23                                   Developer, back-end\n",
       "24     Developer, back-end;Developer, full-stack;DevO...\n",
       "26     Database administrator;Developer, full-stack;E...\n",
       "29     Data or business analyst;Database administrato...\n",
       "31     Developer, back-end;Developer, desktop or ente...\n",
       "32     Developer, front-end;Developer, full-stack;Dev...\n",
       "33             Developer, back-end;Developer, full-stack\n",
       "35     Data or business analyst;Data scientist or mac...\n",
       "36                                  Developer, front-end\n",
       "37             Developer, full-stack;Engineering manager\n",
       "40     Developer, back-end;Developer, front-end;Devel...\n",
       "41     Developer, back-end;Developer, desktop or ente...\n",
       "42     Developer, back-end;Developer, front-end;Devel...\n",
       "43     Data or business analyst;Developer, back-end;P...\n",
       "44                                 Developer, full-stack\n",
       "45     Developer, back-end;Developer, desktop or ente...\n",
       "46     Data scientist or machine learning specialist;...\n",
       "47                                   Developer, back-end\n",
       "48     Developer, back-end;Developer, desktop or ente...\n",
       "51                                     Developer, mobile\n",
       "55                                 Developer, full-stack\n",
       "56     Database administrator;Designer;Developer, bac...\n",
       "58     Data or business analyst;Developer, back-end;D...\n",
       "60                                 Developer, full-stack\n",
       "63     Developer, back-end;Developer, full-stack;Educ...\n",
       "66     Developer, full-stack;Product manager;Senior e...\n",
       "68     Data scientist or machine learning specialist;...\n",
       "72            Developer, front-end;Developer, full-stack\n",
       "73     Database administrator;Developer, back-end;Dev...\n",
       "79                                     DevOps specialist\n",
       "81     Developer, back-end;Developer, full-stack;Deve...\n",
       "84     Developer, back-end;Developer, desktop or ente...\n",
       "85     Developer, back-end;Developer, front-end;Devel...\n",
       "86     Developer, back-end;Developer, desktop or ente...\n",
       "88            Developer, front-end;Developer, full-stack\n",
       "89                                              Designer\n",
       "90     Developer, back-end;Developer, full-stack;DevO...\n",
       "93                                 Developer, full-stack\n",
       "94     Designer;Developer, back-end;Developer, front-...\n",
       "99     Database administrator;Designer;Developer, ful...\n",
       "102    Data or business analyst;Database administrato...\n",
       "103                                  Developer, back-end\n",
       "104    Developer, back-end;Developer, desktop or ente...\n",
       "105           Developer, front-end;Developer, full-stack\n",
       "108    Developer, back-end;Developer, desktop or ente...\n",
       "110    Academic researcher;Data or business analyst;D...\n",
       "111        Developer, desktop or enterprise applications\n",
       "113    Developer, back-end;Developer, desktop or ente...\n",
       "115    Database administrator;Developer, back-end;Dev...\n",
       "117    Developer, back-end;Developer, front-end;Devel...\n",
       "118                                  Developer, back-end\n",
       "119    Developer, back-end;Developer, desktop or ente...\n",
       "Name: DevType, dtype: object"
      ]
     },
     "execution_count": 83,
     "metadata": {},
     "output_type": "execute_result"
    }
   ],
   "source": [
    "rev_data_20['DevType'].head(59)"
   ]
  },
  {
   "cell_type": "code",
   "execution_count": 97,
   "id": "22d901e6",
   "metadata": {},
   "outputs": [
    {
     "data": {
      "text/plain": [
       "1867"
      ]
     },
     "execution_count": 97,
     "metadata": {},
     "output_type": "execute_result"
    }
   ],
   "source": [
    "developer_back_end = []\n",
    "for i in rev_data_20['DevType']:\n",
    "    if i == 'Developer, back-end':\n",
    "        developer_back_end.append(i)\n",
    "len(developer_back_end)"
   ]
  },
  {
   "cell_type": "code",
   "execution_count": 100,
   "id": "74fb03cc",
   "metadata": {},
   "outputs": [
    {
     "data": {
      "text/plain": [
       "2846"
      ]
     },
     "execution_count": 100,
     "metadata": {},
     "output_type": "execute_result"
    }
   ],
   "source": [
    "Developer_full_stack = []\n",
    "for i in rev_data_20['DevType']:\n",
    "    if i == 'Developer, full-stack':\n",
    "        Developer_full_stack.append(i)\n",
    "len(Developer_full_stack)"
   ]
  },
  {
   "cell_type": "code",
   "execution_count": null,
   "id": "bb97d384",
   "metadata": {},
   "outputs": [],
   "source": []
  },
  {
   "cell_type": "code",
   "execution_count": 93,
   "id": "3cf9a696",
   "metadata": {},
   "outputs": [
    {
     "data": {
      "text/plain": [
       "127"
      ]
     },
     "execution_count": 93,
     "metadata": {},
     "output_type": "execute_result"
    }
   ],
   "source": [
    "data_analyst = []\n",
    "for i in rev_data_20['DevType']:\n",
    "    if i == 'Data or business analyst':\n",
    "        data_analyst.append(i)\n",
    "len(data_analyst)"
   ]
  },
  {
   "cell_type": "code",
   "execution_count": 92,
   "id": "de204911",
   "metadata": {},
   "outputs": [
    {
     "data": {
      "text/plain": [
       "161"
      ]
     },
     "execution_count": 92,
     "metadata": {},
     "output_type": "execute_result"
    }
   ],
   "source": [
    "data_scientist = []\n",
    "for i in rev_data_20['DevType']:\n",
    "    if i == 'Data scientist or machine learning specialist':\n",
    "        data_scientist.append(i)\n",
    "len(data_scientist)"
   ]
  },
  {
   "cell_type": "code",
   "execution_count": 79,
   "id": "c3bf6209",
   "metadata": {},
   "outputs": [
    {
     "data": {
      "text/plain": [
       "Yes    23640\n",
       "No      6404\n",
       "Name: Hobbyist, dtype: int64"
      ]
     },
     "execution_count": 79,
     "metadata": {},
     "output_type": "execute_result"
    }
   ],
   "source": [
    "rev_data_20['Hobbyist'].value_counts()"
   ]
  },
  {
   "cell_type": "code",
   "execution_count": null,
   "id": "6ab0dc38",
   "metadata": {},
   "outputs": [],
   "source": []
  }
 ],
 "metadata": {
  "kernelspec": {
   "display_name": "Python 3",
   "language": "python",
   "name": "python3"
  },
  "language_info": {
   "codemirror_mode": {
    "name": "ipython",
    "version": 3
   },
   "file_extension": ".py",
   "mimetype": "text/x-python",
   "name": "python",
   "nbconvert_exporter": "python",
   "pygments_lexer": "ipython3",
   "version": "3.8.8"
  }
 },
 "nbformat": 4,
 "nbformat_minor": 5
}
