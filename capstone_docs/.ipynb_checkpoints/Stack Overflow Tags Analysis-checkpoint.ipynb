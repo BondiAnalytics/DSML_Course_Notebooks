{
 "cells": [
  {
   "cell_type": "markdown",
   "id": "184a2222",
   "metadata": {},
   "source": [
    "## Stack Overflow Tag Analysis\n",
    "\n",
    "The Stack Overflow dataset is a seminal dataset used by tech market researchers, because it is open, comprehensive, and behavioral in nature. It was first made available for public consumption in 2010, and encompasses not just questions and answer posts from the developer community but also technology tags associated with each post. As a result, these tags act as a good market proxy of user adoption, interest or disterest from a behavioral perspective: the more posts with a certain tag, the more indicative interest of that certain tag. The time series nature of this dataset also make it possible to gauge the waxing and waning of a tag, while also indicating changing affiliation among tags. Finally, additional metadata about users, badge contests and an annual developer survey provide additional context to help make business/actionable decisions, leading to measurable outcomes.\n",
    "\n",
    "Thus, for my capstone project I would like to analyze technology tags in the Stack Overflow dataset in order to better understand technology adoption curves and affiliations among technologies, depending on certain cohorts of developers. My team and I at Microsoft perfomed a similar analysis in 2016, where we found that OSS developers gravitated towards AWS and Google, as there were very few OSS offerings on Azure. We also realized that Microsoft had not reached out to OSS developers proactively, even with the limited offers. This 'wake up call' generated massive investment in development and marketing of OSS technologies on the Azure cloud/platform.\n",
    "\n",
    "Five years later, Microsoft would like to know if their efforts have paid off. They have seen fantastic growth in their OSS services and technologies, but are they keeping up with the market? Have they been able bring new developers onto their platform, or is this adoption coming from existing developers who have become 'polyglots'? And have the 'islands of technologies' that used to center around just AWS and Google begun to diffuse and include Azure? ...or is Azure still an island unto itself?"
   ]
  },
  {
   "cell_type": "code",
   "execution_count": 1,
   "id": "5182466f",
   "metadata": {},
   "outputs": [],
   "source": [
    "import numpy as np\n",
    "import pandas as pd\n",
    "import matplotlib.pyplot as plt\n",
    "import seaborn as sns\n",
    "sns.set()\n",
    "%matplotlib inline\n",
    "\n",
    "#preprocessing\n",
    "from sklearn.preprocessing import StandardScaler, Normalizer, MinMaxScaler\n",
    "from scipy import stats\n",
    "\n",
    "# pipelines\n",
    "from sklearn.pipeline import Pipeline\n",
    "\n",
    "# Regression\n",
    "from sklearn.linear_model import LinearRegression\n",
    "from sklearn.linear_model import SGDRegressor\n",
    "from sklearn.linear_model import Ridge\n",
    "from sklearn.metrics import mean_squared_error\n",
    "\n",
    "# NLP transformers\n",
    "from sklearn.feature_extraction.text import CountVectorizer, TfidfTransformer\n",
    "\n",
    "# classifiers you can use\n",
    "from sklearn.dummy import DummyClassifier\n",
    "from sklearn.svm import SVC\n",
    "from sklearn.tree import DecisionTreeClassifier\n",
    "from sklearn.ensemble import RandomForestClassifier, AdaBoostClassifier\n",
    "\n",
    "# model selection bits\n",
    "from sklearn.model_selection import GridSearchCV, train_test_split, cross_val_score, ShuffleSplit, RandomizedSearchCV\n",
    "from sklearn.model_selection import StratifiedShuffleSplit, StratifiedKFold, KFold\n",
    "from sklearn.model_selection import learning_curve, validation_curve\n",
    "\n",
    "# evaluation\n",
    "from sklearn.metrics import accuracy_score, precision_score, recall_score, f1_score, confusion_matrix, classification_report, fbeta_score"
   ]
  },
  {
   "cell_type": "code",
   "execution_count": 2,
   "id": "17ce888e",
   "metadata": {},
   "outputs": [],
   "source": [
    "posts = pd.read_csv(\"/Users/bens_mac/Documents/CodingNomads/SO_posts_BIG.csv\")\n",
    "users = pd.read_csv(\"/Users/bens_mac/Documents/CodingNomads/SO_users_BIG.csv\")"
   ]
  },
  {
   "cell_type": "code",
   "execution_count": 3,
   "id": "674ca168",
   "metadata": {},
   "outputs": [
    {
     "data": {
      "text/html": [
       "<div>\n",
       "<style scoped>\n",
       "    .dataframe tbody tr th:only-of-type {\n",
       "        vertical-align: middle;\n",
       "    }\n",
       "\n",
       "    .dataframe tbody tr th {\n",
       "        vertical-align: top;\n",
       "    }\n",
       "\n",
       "    .dataframe thead th {\n",
       "        text-align: right;\n",
       "    }\n",
       "</style>\n",
       "<table border=\"1\" class=\"dataframe\">\n",
       "  <thead>\n",
       "    <tr style=\"text-align: right;\">\n",
       "      <th></th>\n",
       "      <th>id</th>\n",
       "      <th>creation_date</th>\n",
       "      <th>last_activity_date</th>\n",
       "      <th>owner_user_id</th>\n",
       "      <th>post_type_id</th>\n",
       "      <th>tags</th>\n",
       "      <th>view_count</th>\n",
       "    </tr>\n",
       "  </thead>\n",
       "  <tbody>\n",
       "    <tr>\n",
       "      <th>0</th>\n",
       "      <td>66138537</td>\n",
       "      <td>2021-02-10 14:11:57.947 UTC</td>\n",
       "      <td>2021-02-10 14:11:57.947 UTC</td>\n",
       "      <td>8384006.0</td>\n",
       "      <td>1</td>\n",
       "      <td>dataexplorer</td>\n",
       "      <td>2</td>\n",
       "    </tr>\n",
       "    <tr>\n",
       "      <th>1</th>\n",
       "      <td>66229417</td>\n",
       "      <td>2021-02-16 17:40:44.097 UTC</td>\n",
       "      <td>2021-02-16 17:40:44.097 UTC</td>\n",
       "      <td>12549160.0</td>\n",
       "      <td>1</td>\n",
       "      <td>rstudio-server</td>\n",
       "      <td>2</td>\n",
       "    </tr>\n",
       "    <tr>\n",
       "      <th>2</th>\n",
       "      <td>66288134</td>\n",
       "      <td>2021-02-20 04:49:09.76 UTC</td>\n",
       "      <td>2021-02-20 04:49:09.76 UTC</td>\n",
       "      <td>15246800.0</td>\n",
       "      <td>1</td>\n",
       "      <td>routes</td>\n",
       "      <td>2</td>\n",
       "    </tr>\n",
       "    <tr>\n",
       "      <th>3</th>\n",
       "      <td>66293452</td>\n",
       "      <td>2021-02-20 15:43:15.133 UTC</td>\n",
       "      <td>2021-02-20 15:43:15.133 UTC</td>\n",
       "      <td>7822211.0</td>\n",
       "      <td>1</td>\n",
       "      <td>angular-dynamic-components</td>\n",
       "      <td>2</td>\n",
       "    </tr>\n",
       "    <tr>\n",
       "      <th>4</th>\n",
       "      <td>66361333</td>\n",
       "      <td>2021-02-25 01:56:26.023 UTC</td>\n",
       "      <td>2021-02-25 01:56:26.023 UTC</td>\n",
       "      <td>2713214.0</td>\n",
       "      <td>1</td>\n",
       "      <td>amazon-eks|elastic-network-interface</td>\n",
       "      <td>2</td>\n",
       "    </tr>\n",
       "  </tbody>\n",
       "</table>\n",
       "</div>"
      ],
      "text/plain": [
       "         id                creation_date           last_activity_date  \\\n",
       "0  66138537  2021-02-10 14:11:57.947 UTC  2021-02-10 14:11:57.947 UTC   \n",
       "1  66229417  2021-02-16 17:40:44.097 UTC  2021-02-16 17:40:44.097 UTC   \n",
       "2  66288134   2021-02-20 04:49:09.76 UTC   2021-02-20 04:49:09.76 UTC   \n",
       "3  66293452  2021-02-20 15:43:15.133 UTC  2021-02-20 15:43:15.133 UTC   \n",
       "4  66361333  2021-02-25 01:56:26.023 UTC  2021-02-25 01:56:26.023 UTC   \n",
       "\n",
       "   owner_user_id  post_type_id                                  tags  \\\n",
       "0      8384006.0             1                          dataexplorer   \n",
       "1     12549160.0             1                        rstudio-server   \n",
       "2     15246800.0             1                                routes   \n",
       "3      7822211.0             1            angular-dynamic-components   \n",
       "4      2713214.0             1  amazon-eks|elastic-network-interface   \n",
       "\n",
       "   view_count  \n",
       "0           2  \n",
       "1           2  \n",
       "2           2  \n",
       "3           2  \n",
       "4           2  "
      ]
     },
     "execution_count": 3,
     "metadata": {},
     "output_type": "execute_result"
    }
   ],
   "source": [
    "posts.head()"
   ]
  },
  {
   "cell_type": "code",
   "execution_count": 4,
   "id": "ba0815d9",
   "metadata": {},
   "outputs": [
    {
     "data": {
      "text/html": [
       "<div>\n",
       "<style scoped>\n",
       "    .dataframe tbody tr th:only-of-type {\n",
       "        vertical-align: middle;\n",
       "    }\n",
       "\n",
       "    .dataframe tbody tr th {\n",
       "        vertical-align: top;\n",
       "    }\n",
       "\n",
       "    .dataframe thead th {\n",
       "        text-align: right;\n",
       "    }\n",
       "</style>\n",
       "<table border=\"1\" class=\"dataframe\">\n",
       "  <thead>\n",
       "    <tr style=\"text-align: right;\">\n",
       "      <th></th>\n",
       "      <th>id</th>\n",
       "      <th>display_name</th>\n",
       "      <th>age</th>\n",
       "      <th>creation_date</th>\n",
       "      <th>last_access_date</th>\n",
       "      <th>location</th>\n",
       "      <th>reputation</th>\n",
       "    </tr>\n",
       "  </thead>\n",
       "  <tbody>\n",
       "    <tr>\n",
       "      <th>0</th>\n",
       "      <td>14712167</td>\n",
       "      <td>nicom</td>\n",
       "      <td>NaN</td>\n",
       "      <td>2020-11-26 09:26:50.507 UTC</td>\n",
       "      <td>2021-02-27 13:20:10.693 UTC</td>\n",
       "      <td>NaN</td>\n",
       "      <td>19</td>\n",
       "    </tr>\n",
       "    <tr>\n",
       "      <th>1</th>\n",
       "      <td>14717603</td>\n",
       "      <td>Donkey</td>\n",
       "      <td>NaN</td>\n",
       "      <td>2020-11-27 05:56:10.18 UTC</td>\n",
       "      <td>2021-02-18 10:38:39.56 UTC</td>\n",
       "      <td>NaN</td>\n",
       "      <td>43</td>\n",
       "    </tr>\n",
       "    <tr>\n",
       "      <th>2</th>\n",
       "      <td>14785218</td>\n",
       "      <td>redshorts17</td>\n",
       "      <td>NaN</td>\n",
       "      <td>2020-12-08 07:42:10.147 UTC</td>\n",
       "      <td>2021-01-08 13:08:27.023 UTC</td>\n",
       "      <td>NaN</td>\n",
       "      <td>89</td>\n",
       "    </tr>\n",
       "    <tr>\n",
       "      <th>3</th>\n",
       "      <td>14808842</td>\n",
       "      <td>PerekatovSergey</td>\n",
       "      <td>NaN</td>\n",
       "      <td>2020-12-11 16:09:17.147 UTC</td>\n",
       "      <td>2021-02-26 14:26:46.983 UTC</td>\n",
       "      <td>Russia</td>\n",
       "      <td>26</td>\n",
       "    </tr>\n",
       "    <tr>\n",
       "      <th>4</th>\n",
       "      <td>14916620</td>\n",
       "      <td>leung2</td>\n",
       "      <td>NaN</td>\n",
       "      <td>2020-12-31 03:02:17.93 UTC</td>\n",
       "      <td>2021-02-14 11:27:27.557 UTC</td>\n",
       "      <td>NaN</td>\n",
       "      <td>33</td>\n",
       "    </tr>\n",
       "  </tbody>\n",
       "</table>\n",
       "</div>"
      ],
      "text/plain": [
       "         id     display_name  age                creation_date  \\\n",
       "0  14712167            nicom  NaN  2020-11-26 09:26:50.507 UTC   \n",
       "1  14717603           Donkey  NaN   2020-11-27 05:56:10.18 UTC   \n",
       "2  14785218      redshorts17  NaN  2020-12-08 07:42:10.147 UTC   \n",
       "3  14808842  PerekatovSergey  NaN  2020-12-11 16:09:17.147 UTC   \n",
       "4  14916620           leung2  NaN   2020-12-31 03:02:17.93 UTC   \n",
       "\n",
       "              last_access_date location  reputation  \n",
       "0  2021-02-27 13:20:10.693 UTC      NaN          19  \n",
       "1   2021-02-18 10:38:39.56 UTC      NaN          43  \n",
       "2  2021-01-08 13:08:27.023 UTC      NaN          89  \n",
       "3  2021-02-26 14:26:46.983 UTC   Russia          26  \n",
       "4  2021-02-14 11:27:27.557 UTC      NaN          33  "
      ]
     },
     "execution_count": 4,
     "metadata": {},
     "output_type": "execute_result"
    }
   ],
   "source": [
    "users.head()"
   ]
  },
  {
   "cell_type": "code",
   "execution_count": 5,
   "id": "4e95a678",
   "metadata": {},
   "outputs": [
    {
     "name": "stdout",
     "output_type": "stream",
     "text": [
      "<class 'pandas.core.frame.DataFrame'>\n",
      "RangeIndex: 10445772 entries, 0 to 10445771\n",
      "Data columns (total 7 columns):\n",
      " #   Column              Dtype  \n",
      "---  ------              -----  \n",
      " 0   id                  int64  \n",
      " 1   creation_date       object \n",
      " 2   last_activity_date  object \n",
      " 3   owner_user_id       float64\n",
      " 4   post_type_id        int64  \n",
      " 5   tags                object \n",
      " 6   view_count          int64  \n",
      "dtypes: float64(1), int64(3), object(3)\n",
      "memory usage: 557.9+ MB\n"
     ]
    }
   ],
   "source": [
    "posts.info()"
   ]
  },
  {
   "cell_type": "code",
   "execution_count": 6,
   "id": "1dc96403",
   "metadata": {},
   "outputs": [
    {
     "name": "stdout",
     "output_type": "stream",
     "text": [
      "<class 'pandas.core.frame.DataFrame'>\n",
      "RangeIndex: 14080580 entries, 0 to 14080579\n",
      "Data columns (total 7 columns):\n",
      " #   Column            Dtype  \n",
      "---  ------            -----  \n",
      " 0   id                int64  \n",
      " 1   display_name      object \n",
      " 2   age               float64\n",
      " 3   creation_date     object \n",
      " 4   last_access_date  object \n",
      " 5   location          object \n",
      " 6   reputation        int64  \n",
      "dtypes: float64(1), int64(2), object(4)\n",
      "memory usage: 752.0+ MB\n"
     ]
    }
   ],
   "source": [
    "users.info()"
   ]
  },
  {
   "cell_type": "code",
   "execution_count": 7,
   "id": "de76ab88",
   "metadata": {
    "scrolled": true
   },
   "outputs": [
    {
     "data": {
      "text/html": [
       "<div>\n",
       "<style scoped>\n",
       "    .dataframe tbody tr th:only-of-type {\n",
       "        vertical-align: middle;\n",
       "    }\n",
       "\n",
       "    .dataframe tbody tr th {\n",
       "        vertical-align: top;\n",
       "    }\n",
       "\n",
       "    .dataframe thead th {\n",
       "        text-align: right;\n",
       "    }\n",
       "</style>\n",
       "<table border=\"1\" class=\"dataframe\">\n",
       "  <thead>\n",
       "    <tr style=\"text-align: right;\">\n",
       "      <th></th>\n",
       "      <th>id</th>\n",
       "      <th>creation_date</th>\n",
       "      <th>last_activity_date</th>\n",
       "      <th>owner_user_id</th>\n",
       "      <th>post_type_id</th>\n",
       "      <th>tags</th>\n",
       "      <th>view_count</th>\n",
       "    </tr>\n",
       "  </thead>\n",
       "  <tbody>\n",
       "    <tr>\n",
       "      <th>0</th>\n",
       "      <td>66138537</td>\n",
       "      <td>2021-02-10 14:11:57.947 UTC</td>\n",
       "      <td>2021-02-10 14:11:57.947 UTC</td>\n",
       "      <td>8384006.0</td>\n",
       "      <td>1</td>\n",
       "      <td>dataexplorer</td>\n",
       "      <td>2</td>\n",
       "    </tr>\n",
       "    <tr>\n",
       "      <th>1</th>\n",
       "      <td>66229417</td>\n",
       "      <td>2021-02-16 17:40:44.097 UTC</td>\n",
       "      <td>2021-02-16 17:40:44.097 UTC</td>\n",
       "      <td>12549160.0</td>\n",
       "      <td>1</td>\n",
       "      <td>rstudio-server</td>\n",
       "      <td>2</td>\n",
       "    </tr>\n",
       "    <tr>\n",
       "      <th>2</th>\n",
       "      <td>66288134</td>\n",
       "      <td>2021-02-20 04:49:09.76 UTC</td>\n",
       "      <td>2021-02-20 04:49:09.76 UTC</td>\n",
       "      <td>15246800.0</td>\n",
       "      <td>1</td>\n",
       "      <td>routes</td>\n",
       "      <td>2</td>\n",
       "    </tr>\n",
       "    <tr>\n",
       "      <th>3</th>\n",
       "      <td>66293452</td>\n",
       "      <td>2021-02-20 15:43:15.133 UTC</td>\n",
       "      <td>2021-02-20 15:43:15.133 UTC</td>\n",
       "      <td>7822211.0</td>\n",
       "      <td>1</td>\n",
       "      <td>angular-dynamic-components</td>\n",
       "      <td>2</td>\n",
       "    </tr>\n",
       "    <tr>\n",
       "      <th>4</th>\n",
       "      <td>66361333</td>\n",
       "      <td>2021-02-25 01:56:26.023 UTC</td>\n",
       "      <td>2021-02-25 01:56:26.023 UTC</td>\n",
       "      <td>2713214.0</td>\n",
       "      <td>1</td>\n",
       "      <td>amazon-eks|elastic-network-interface</td>\n",
       "      <td>2</td>\n",
       "    </tr>\n",
       "    <tr>\n",
       "      <th>...</th>\n",
       "      <td>...</td>\n",
       "      <td>...</td>\n",
       "      <td>...</td>\n",
       "      <td>...</td>\n",
       "      <td>...</td>\n",
       "      <td>...</td>\n",
       "      <td>...</td>\n",
       "    </tr>\n",
       "    <tr>\n",
       "      <th>10445766</th>\n",
       "      <td>42686301</td>\n",
       "      <td>2017-03-09 03:48:06.533 UTC</td>\n",
       "      <td>2017-03-10 11:30:01.587 UTC</td>\n",
       "      <td>2410131.0</td>\n",
       "      <td>1</td>\n",
       "      <td>mysql</td>\n",
       "      <td>95</td>\n",
       "    </tr>\n",
       "    <tr>\n",
       "      <th>10445767</th>\n",
       "      <td>42670128</td>\n",
       "      <td>2017-03-08 11:29:40.897 UTC</td>\n",
       "      <td>2017-03-08 20:26:48.12 UTC</td>\n",
       "      <td>1958365.0</td>\n",
       "      <td>1</td>\n",
       "      <td>c#|sql-server|asp.net-mvc|entity-framework</td>\n",
       "      <td>1452</td>\n",
       "    </tr>\n",
       "    <tr>\n",
       "      <th>10445769</th>\n",
       "      <td>42905797</td>\n",
       "      <td>2017-03-20 14:09:22.073 UTC</td>\n",
       "      <td>2017-03-20 17:11:44.09 UTC</td>\n",
       "      <td>7709628.0</td>\n",
       "      <td>1</td>\n",
       "      <td>php|mysql|select|pdo</td>\n",
       "      <td>80</td>\n",
       "    </tr>\n",
       "    <tr>\n",
       "      <th>10445770</th>\n",
       "      <td>43037016</td>\n",
       "      <td>2017-03-27 02:25:18.11 UTC</td>\n",
       "      <td>2017-03-27 16:14:33.847 UTC</td>\n",
       "      <td>7771458.0</td>\n",
       "      <td>1</td>\n",
       "      <td>php|html|mysql|xampp</td>\n",
       "      <td>724</td>\n",
       "    </tr>\n",
       "    <tr>\n",
       "      <th>10445771</th>\n",
       "      <td>42670052</td>\n",
       "      <td>2017-03-08 11:26:35.51 UTC</td>\n",
       "      <td>2017-03-09 05:53:37.53 UTC</td>\n",
       "      <td>6777587.0</td>\n",
       "      <td>1</td>\n",
       "      <td>php|arrays|codeigniter</td>\n",
       "      <td>231</td>\n",
       "    </tr>\n",
       "  </tbody>\n",
       "</table>\n",
       "<p>10256164 rows × 7 columns</p>\n",
       "</div>"
      ],
      "text/plain": [
       "                id                creation_date           last_activity_date  \\\n",
       "0         66138537  2021-02-10 14:11:57.947 UTC  2021-02-10 14:11:57.947 UTC   \n",
       "1         66229417  2021-02-16 17:40:44.097 UTC  2021-02-16 17:40:44.097 UTC   \n",
       "2         66288134   2021-02-20 04:49:09.76 UTC   2021-02-20 04:49:09.76 UTC   \n",
       "3         66293452  2021-02-20 15:43:15.133 UTC  2021-02-20 15:43:15.133 UTC   \n",
       "4         66361333  2021-02-25 01:56:26.023 UTC  2021-02-25 01:56:26.023 UTC   \n",
       "...            ...                          ...                          ...   \n",
       "10445766  42686301  2017-03-09 03:48:06.533 UTC  2017-03-10 11:30:01.587 UTC   \n",
       "10445767  42670128  2017-03-08 11:29:40.897 UTC   2017-03-08 20:26:48.12 UTC   \n",
       "10445769  42905797  2017-03-20 14:09:22.073 UTC   2017-03-20 17:11:44.09 UTC   \n",
       "10445770  43037016   2017-03-27 02:25:18.11 UTC  2017-03-27 16:14:33.847 UTC   \n",
       "10445771  42670052   2017-03-08 11:26:35.51 UTC   2017-03-09 05:53:37.53 UTC   \n",
       "\n",
       "          owner_user_id  post_type_id  \\\n",
       "0             8384006.0             1   \n",
       "1            12549160.0             1   \n",
       "2            15246800.0             1   \n",
       "3             7822211.0             1   \n",
       "4             2713214.0             1   \n",
       "...                 ...           ...   \n",
       "10445766      2410131.0             1   \n",
       "10445767      1958365.0             1   \n",
       "10445769      7709628.0             1   \n",
       "10445770      7771458.0             1   \n",
       "10445771      6777587.0             1   \n",
       "\n",
       "                                                tags  view_count  \n",
       "0                                       dataexplorer           2  \n",
       "1                                     rstudio-server           2  \n",
       "2                                             routes           2  \n",
       "3                         angular-dynamic-components           2  \n",
       "4               amazon-eks|elastic-network-interface           2  \n",
       "...                                              ...         ...  \n",
       "10445766                                       mysql          95  \n",
       "10445767  c#|sql-server|asp.net-mvc|entity-framework        1452  \n",
       "10445769                        php|mysql|select|pdo          80  \n",
       "10445770                        php|html|mysql|xampp         724  \n",
       "10445771                      php|arrays|codeigniter         231  \n",
       "\n",
       "[10256164 rows x 7 columns]"
      ]
     },
     "execution_count": 7,
     "metadata": {},
     "output_type": "execute_result"
    }
   ],
   "source": [
    "posts.dropna()"
   ]
  },
  {
   "cell_type": "code",
   "execution_count": 8,
   "id": "ff020395",
   "metadata": {},
   "outputs": [],
   "source": [
    "posts['tags'] = posts['tags'].str.split(\"|\")\n",
    "posts['creation_date'] = [x[:4] for x in posts['creation_date']]\n",
    "posts['last_activity_date'] = [x[:4] for x in posts['last_activity_date']]"
   ]
  },
  {
   "cell_type": "code",
   "execution_count": 9,
   "id": "f4879198",
   "metadata": {},
   "outputs": [],
   "source": [
    "users['creation_date'] = [x[:4] for x in users['creation_date']]\n",
    "users['last_access_date'] = [x[:4] for x in users['last_access_date']]"
   ]
  },
  {
   "cell_type": "code",
   "execution_count": 10,
   "id": "e4f96c41",
   "metadata": {},
   "outputs": [],
   "source": [
    "posts['creation_date'] = posts['creation_date'].astype(str).astype(float)\n",
    "posts['last_activity_date'] = posts['last_activity_date'].astype(str).astype(float)"
   ]
  },
  {
   "cell_type": "code",
   "execution_count": 11,
   "id": "c7da6b99",
   "metadata": {},
   "outputs": [
    {
     "name": "stdout",
     "output_type": "stream",
     "text": [
      "<class 'pandas.core.frame.DataFrame'>\n",
      "RangeIndex: 10445772 entries, 0 to 10445771\n",
      "Data columns (total 7 columns):\n",
      " #   Column              Dtype  \n",
      "---  ------              -----  \n",
      " 0   id                  int64  \n",
      " 1   creation_date       float64\n",
      " 2   last_activity_date  float64\n",
      " 3   owner_user_id       float64\n",
      " 4   post_type_id        int64  \n",
      " 5   tags                object \n",
      " 6   view_count          int64  \n",
      "dtypes: float64(3), int64(3), object(1)\n",
      "memory usage: 557.9+ MB\n"
     ]
    }
   ],
   "source": [
    "posts.info()"
   ]
  },
  {
   "cell_type": "code",
   "execution_count": 12,
   "id": "416b60a1",
   "metadata": {},
   "outputs": [],
   "source": [
    "posts_proto = posts.sample(n=10000)"
   ]
  },
  {
   "cell_type": "code",
   "execution_count": 13,
   "id": "72941b59",
   "metadata": {},
   "outputs": [
    {
     "name": "stdout",
     "output_type": "stream",
     "text": [
      "<class 'pandas.core.frame.DataFrame'>\n",
      "Int64Index: 10000 entries, 7480084 to 8041188\n",
      "Data columns (total 7 columns):\n",
      " #   Column              Non-Null Count  Dtype  \n",
      "---  ------              --------------  -----  \n",
      " 0   id                  10000 non-null  int64  \n",
      " 1   creation_date       10000 non-null  float64\n",
      " 2   last_activity_date  10000 non-null  float64\n",
      " 3   owner_user_id       9819 non-null   float64\n",
      " 4   post_type_id        10000 non-null  int64  \n",
      " 5   tags                10000 non-null  object \n",
      " 6   view_count          10000 non-null  int64  \n",
      "dtypes: float64(3), int64(3), object(1)\n",
      "memory usage: 625.0+ KB\n"
     ]
    }
   ],
   "source": [
    "posts_proto.info()"
   ]
  },
  {
   "cell_type": "code",
   "execution_count": 14,
   "id": "12c4cabb",
   "metadata": {},
   "outputs": [],
   "source": [
    "posts_proto = posts_proto.dropna()"
   ]
  },
  {
   "cell_type": "code",
   "execution_count": 15,
   "id": "d0e93ab1",
   "metadata": {},
   "outputs": [],
   "source": [
    "all_tags_proto = posts_proto['tags']"
   ]
  },
  {
   "cell_type": "code",
   "execution_count": 16,
   "id": "dd526162",
   "metadata": {},
   "outputs": [
    {
     "data": {
      "text/plain": [
       "7480084                    [mysql, sql, database]\n",
       "2324655                        [c#, .net, c#-4.0]\n",
       "4023297           [java, eclipse, eclipse-plugin]\n",
       "3504880    [swift, realm, rx-swift, objectmapper]\n",
       "4601983                 [java, lambda, predicate]\n",
       "7623335                        [css, font-family]\n",
       "6607400          [android, ios, api, credit-card]\n",
       "1088298                 [javascript, removeclass]\n",
       "4427809        [caching, hadoop, mapreduce, hdfs]\n",
       "6273858           [javascript, jquery, html, css]\n",
       "7064275                      [php, mysql, select]\n",
       "1594825                [php, apache, mod-rewrite]\n",
       "1592968              [javascript, events, iframe]\n",
       "5243855              [sql-server, tsql, nullable]\n",
       "9009709     [iphone, ios, xcode, android-mapview]\n",
       "Name: tags, dtype: object"
      ]
     },
     "execution_count": 16,
     "metadata": {},
     "output_type": "execute_result"
    }
   ],
   "source": [
    "all_tags_proto[0:15]"
   ]
  },
  {
   "cell_type": "code",
   "execution_count": 54,
   "id": "e9696f46",
   "metadata": {},
   "outputs": [
    {
     "name": "stdout",
     "output_type": "stream",
     "text": [
      "[['python', 'django', 'postgresql', 'ubuntu'], ['python', 'database', 'postgresql', 'django-models', 'django-views'], ['c#', 'database', 'postgresql', 'automapper', 'ef-core-2.0'], ['sql', 'postgresql'], ['postgresql'], ['java', 'spring', 'hibernate', 'postgresql'], ['hibernate', 'postgresql', 'autocommit'], ['sql', 'postgresql'], ['sql', 'postgresql', 'insert'], ['postgresql-11'], ['ruby-on-rails', 'postgresql', 'amazon-web-services', 'deployment'], ['python', 'postgresql', 'sqlalchemy', 'flask-sqlalchemy', 'psycopg2'], ['sql', 'postgresql', 'sql-view', 'database-metadata'], ['sql', 'postgresql', 'aggregate', 'greatest-n-per-group', 'window-functions'], ['postgresql', 'elixir', 'phoenix-framework', 'ecto'], ['postgresql', 'indexing', 'date-range', 'b-tree-index', 'gist-index'], ['macos', 'postgresql', 'postgresapp'], ['macos', 'postgresql', 'postgresapp'], ['postgresql', 'amazon-web-services', 'amazon-rds', 'laravel-vapor'], ['javascript', 'jquery', 'html', 'postgresql'], ['ruby-on-rails', 'ruby', 'ruby-on-rails-3', 'postgresql', 'nested-routes'], ['sql', 'postgresql'], ['node.js', 'postgresql', 'orm', 'sequelize.js'], ['postgresql', 'geodjango'], ['sql', 'postgresql'], ['node.js', 'postgresql', 'pg'], ['postgresql'], ['postgresql', 'spring-boot', 'java-11', 'spring-boot-maven-plugin'], ['java', 'spring', 'postgresql'], ['ruby-on-rails', 'postgresql'], ['sql', 'postgresql'], ['database', 'postgresql'], ['python', 'postgresql', 'sqlalchemy', 'sqlacodegen'], ['spring', 'postgresql', 'spring-boot', 'flyway'], ['postgresql', 'mvcc'], ['python', 'postgresql', 'python-2.7', 'postgresql-9.1', 'raspberry-pi'], ['python', 'postgresql', 'python-2.7', 'postgresql-9.1', 'raspberry-pi'], ['postgresql', 'jpa'], ['performance', 'postgresql'], ['postgresql', 'postgres-fdw'], ['postgresql', 'postgres-fdw'], ['database', 'postgresql', 'symmetricds'], ['ruby-on-rails', 'postgresql'], ['python', 'postgresql', 'sqlalchemy', 'gino'], ['postgresql', 'pg-dump', 'pg-restore', 'postgresql-10'], ['postgresql', 'pg-dump', 'pg-restore', 'postgresql-10'], ['java', 'postgresql', 'jdbc'], ['sql', 'postgresql'], ['sql', 'postgresql'], ['c#', 'postgresql', 'dapper'], ['sql', 'postgresql'], ['ruby', 'windows', 'postgresql', 'activerecord'], ['javascript', 'php', 'postgresql', 'laravel-5.2'], ['python', 'pandas', 'postgresql', 'datetime', 'apache-superset'], ['postgresql', 'codeigniter'], ['postgresql', 'casting', 'string-agg'], ['sql', 'postgresql', 'pivot', 'entity-attribute-value'], ['postgresql'], ['mysql', 'postgresql'], ['python', 'mysql', 'postgresql', 'grails'], ['json', 'string', 'postgresql', 'select', 'jsonb'], ['sql', 'postgresql', 'greatest-n-per-group'], ['sql', 'ruby-on-rails', 'ruby', 'postgresql', 'ruby-on-rails-4'], ['node.js', 'postgresql'], ['postgresql', 'influxdb', 'timescaledb'], ['postgresql', 'date', 'datetime'], ['c++', 'postgresql', 'libpqxx'], ['ruby-on-rails', 'ruby', 'postgresql', 'deployment'], ['postgresql'], ['sql', 'postgresql', 'subquery', 'sql-insert'], ['ruby-on-rails', 'postgresql', 'ruby-on-rails-5', 'accepts-nested-attributes'], ['sql', 'postgresql'], ['mongodb', 'postgresql', 'sqlite', 'elasticsearch', 'search-engine'], ['ruby-on-rails', 'postgresql', 'ruby-on-rails-4', 'rails-activerecord', 'array-column']]\n"
     ]
    }
   ],
   "source": [
    "#all tags of postgres + ...\n",
    "#all tags of mysql + ...\n",
    "#all tags of GCP + ...\n",
    "\n",
    "#tokenize list of tags and their combinations\n",
    "\n",
    "postgres = []\n",
    "element = \"postgres\"\n",
    "for tag_list in all_tags_proto:\n",
    "    for tag in tag_list:\n",
    "        if element in tag:\n",
    "            postgres.append(tag_list)\n",
    "print(postgres)"
   ]
  },
  {
   "cell_type": "code",
   "execution_count": 41,
   "id": "f7c86acf",
   "metadata": {},
   "outputs": [
    {
     "data": {
      "text/plain": [
       "125"
      ]
     },
     "execution_count": 41,
     "metadata": {},
     "output_type": "execute_result"
    }
   ],
   "source": [
    "Amazon = []\n",
    "element = \"amazon\"\n",
    "for tag_list in all_tags_proto:\n",
    "    for tag in tag_list:\n",
    "        if element in tag:\n",
    "            Amazon.append(tag_list)\n",
    "len(Amazon)"
   ]
  },
  {
   "cell_type": "code",
   "execution_count": 39,
   "id": "de824f78",
   "metadata": {},
   "outputs": [
    {
     "data": {
      "text/plain": [
       "297"
      ]
     },
     "execution_count": 39,
     "metadata": {},
     "output_type": "execute_result"
    }
   ],
   "source": [
    "Google = []\n",
    "element = \"google\"\n",
    "for tag_list in all_tags_proto:\n",
    "    for tag in tag_list:\n",
    "        if element in tag:\n",
    "            Google.append(tag_list)\n",
    "len(Google)"
   ]
  },
  {
   "cell_type": "code",
   "execution_count": 38,
   "id": "84a084aa",
   "metadata": {},
   "outputs": [
    {
     "data": {
      "text/plain": [
       "973"
      ]
     },
     "execution_count": 38,
     "metadata": {},
     "output_type": "execute_result"
    }
   ],
   "source": [
    "Android = []\n",
    "element = \"android\"\n",
    "for tag_list in all_tags_proto:\n",
    "    for tag in tag_list:\n",
    "        if element in tag:\n",
    "            Android.append(tag_list)\n",
    "len(Android)"
   ]
  },
  {
   "cell_type": "code",
   "execution_count": null,
   "id": "c1962755",
   "metadata": {},
   "outputs": [],
   "source": [
    "all_tags_proto.head(15)"
   ]
  },
  {
   "cell_type": "code",
   "execution_count": null,
   "id": "beb22b89",
   "metadata": {},
   "outputs": [],
   "source": [
    "top_tags = posts_proto['tags'].value_counts().head(50)"
   ]
  },
  {
   "cell_type": "code",
   "execution_count": null,
   "id": "f32cd26b",
   "metadata": {},
   "outputs": [],
   "source": [
    "print(top_tags)"
   ]
  },
  {
   "cell_type": "code",
   "execution_count": null,
   "id": "0261c09d",
   "metadata": {},
   "outputs": [],
   "source": [
    "from sklearn.feature_extraction.text import TfidfVectorizer\n",
    "from sklearn.cluster import KMeans\n",
    "from sklearn.metrics import adjusted_rand_score\n",
    "\n",
    "vectorizer = TfidfVectorizer(stop_words='english')\n",
    "X = vectorizer.fit_transform(all_tags_proto)\n",
    "\n",
    "true_k = 5\n",
    "model = KMeans(n_clusters=true_k, init='k-means++', max_iter=100, n_init=1)\n",
    "model.fit(X)\n",
    "\n",
    "print(\"Top terms per cluster:\")\n",
    "order_centroids = model.cluster_centers_.argsort()[:, ::-1]\n",
    "terms = vectorizer.get_feature_names()\n",
    "for i in range(true_k):\n",
    "    print(\"Cluster %d:\" % i),\n",
    "    for ind in order_centroids[i, :10]:\n",
    "        print(' %s' % terms[ind]),\n",
    "    print"
   ]
  },
  {
   "cell_type": "code",
   "execution_count": null,
   "id": "c812df7f",
   "metadata": {},
   "outputs": [],
   "source": []
  }
 ],
 "metadata": {
  "kernelspec": {
   "display_name": "Python 3",
   "language": "python",
   "name": "python3"
  },
  "language_info": {
   "codemirror_mode": {
    "name": "ipython",
    "version": 3
   },
   "file_extension": ".py",
   "mimetype": "text/x-python",
   "name": "python",
   "nbconvert_exporter": "python",
   "pygments_lexer": "ipython3",
   "version": "3.8.8"
  }
 },
 "nbformat": 4,
 "nbformat_minor": 5
}
