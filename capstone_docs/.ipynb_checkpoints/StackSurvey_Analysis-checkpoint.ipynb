{
 "cells": [
  {
   "cell_type": "markdown",
   "id": "184a2222",
   "metadata": {},
   "source": [
    "## Stack Overflow Survey Analysis\n"
   ]
  },
  {
   "cell_type": "code",
   "execution_count": 1,
   "id": "5182466f",
   "metadata": {},
   "outputs": [],
   "source": [
    "import numpy as np\n",
    "import pandas as pd\n",
    "import matplotlib.pyplot as plt\n",
    "import seaborn as sns\n",
    "sns.set()\n",
    "%matplotlib inline\n",
    "\n",
    "#preprocessing\n",
    "from sklearn.preprocessing import StandardScaler, Normalizer, MinMaxScaler\n",
    "from scipy import stats\n",
    "\n",
    "# pipelines\n",
    "from sklearn.pipeline import Pipeline\n",
    "\n",
    "# Regression\n",
    "from sklearn.linear_model import LinearRegression\n",
    "from sklearn.linear_model import SGDRegressor\n",
    "from sklearn.linear_model import Ridge\n",
    "from sklearn.metrics import mean_squared_error\n",
    "\n",
    "# NLP transformers\n",
    "from sklearn.feature_extraction.text import CountVectorizer, TfidfTransformer\n",
    "\n",
    "# classifiers you can use\n",
    "from sklearn.dummy import DummyClassifier\n",
    "from sklearn.svm import SVC\n",
    "from sklearn.tree import DecisionTreeClassifier\n",
    "from sklearn.ensemble import RandomForestClassifier, AdaBoostClassifier\n",
    "\n",
    "# model selection bits\n",
    "from sklearn.model_selection import GridSearchCV, train_test_split, cross_val_score, ShuffleSplit, RandomizedSearchCV\n",
    "from sklearn.model_selection import StratifiedShuffleSplit, StratifiedKFold, KFold\n",
    "from sklearn.model_selection import learning_curve, validation_curve\n",
    "\n",
    "# evaluation\n",
    "from sklearn.metrics import accuracy_score, precision_score, recall_score, f1_score, confusion_matrix, classification_report, fbeta_score"
   ]
  },
  {
   "cell_type": "code",
   "execution_count": 2,
   "id": "8c614071",
   "metadata": {},
   "outputs": [],
   "source": [
    "df_20 = pd.read_csv('/Users/bens_mac/Downloads/developer_survey_2020/survey_results_public.csv')\n",
    "# df_19 = pd.read_csv('/Users/bens_mac/Downloads/developer_survey_2019/survey_results_public.csv')\n",
    "# df_18 = pd.read_csv('/Users/bens_mac/Downloads/developer_survey_2018/survey_results_public.csv')\n",
    "def prettify(ax):\n",
    "  ax.grid(False)\n",
    "  ax.set_frame_on(False)\n",
    "  ax.tick_params(top=False, bottom=False, left=False, right=False, labelbottom=False)"
   ]
  },
  {
   "cell_type": "code",
   "execution_count": 3,
   "id": "6f4eec9b",
   "metadata": {},
   "outputs": [],
   "source": [
    "#choosing relevant features from 2020 survey\n",
    "relevant_data_20 = df_20[['Respondent', 'Country', 'Age1stCode', 'UndergradMajor','Hobbyist', 'Employment','DevType', 'DatabaseDesireNextYear', 'DatabaseWorkedWith', 'PlatformDesireNextYear', 'PlatformWorkedWith']]"
   ]
  },
  {
   "cell_type": "code",
   "execution_count": 4,
   "id": "b3a20977",
   "metadata": {
    "scrolled": true
   },
   "outputs": [
    {
     "data": {
      "text/html": [
       "<div>\n",
       "<style scoped>\n",
       "    .dataframe tbody tr th:only-of-type {\n",
       "        vertical-align: middle;\n",
       "    }\n",
       "\n",
       "    .dataframe tbody tr th {\n",
       "        vertical-align: top;\n",
       "    }\n",
       "\n",
       "    .dataframe thead th {\n",
       "        text-align: right;\n",
       "    }\n",
       "</style>\n",
       "<table border=\"1\" class=\"dataframe\">\n",
       "  <thead>\n",
       "    <tr style=\"text-align: right;\">\n",
       "      <th></th>\n",
       "      <th>Respondent</th>\n",
       "      <th>Country</th>\n",
       "      <th>Age1stCode</th>\n",
       "      <th>UndergradMajor</th>\n",
       "      <th>Hobbyist</th>\n",
       "      <th>Employment</th>\n",
       "      <th>DevType</th>\n",
       "      <th>DatabaseDesireNextYear</th>\n",
       "      <th>DatabaseWorkedWith</th>\n",
       "      <th>PlatformDesireNextYear</th>\n",
       "      <th>PlatformWorkedWith</th>\n",
       "    </tr>\n",
       "  </thead>\n",
       "  <tbody>\n",
       "    <tr>\n",
       "      <th>0</th>\n",
       "      <td>1</td>\n",
       "      <td>Germany</td>\n",
       "      <td>13</td>\n",
       "      <td>Computer science, computer engineering, or sof...</td>\n",
       "      <td>Yes</td>\n",
       "      <td>Independent contractor, freelancer, or self-em...</td>\n",
       "      <td>Developer, desktop or enterprise applications;...</td>\n",
       "      <td>Microsoft SQL Server</td>\n",
       "      <td>Elasticsearch;Microsoft SQL Server;Oracle</td>\n",
       "      <td>Android;iOS;Kubernetes;Microsoft Azure;Windows</td>\n",
       "      <td>Windows</td>\n",
       "    </tr>\n",
       "    <tr>\n",
       "      <th>1</th>\n",
       "      <td>2</td>\n",
       "      <td>United Kingdom</td>\n",
       "      <td>19</td>\n",
       "      <td>Computer science, computer engineering, or sof...</td>\n",
       "      <td>No</td>\n",
       "      <td>Employed full-time</td>\n",
       "      <td>Developer, full-stack;Developer, mobile</td>\n",
       "      <td>NaN</td>\n",
       "      <td>NaN</td>\n",
       "      <td>iOS;Kubernetes;Linux;MacOS</td>\n",
       "      <td>iOS</td>\n",
       "    </tr>\n",
       "    <tr>\n",
       "      <th>2</th>\n",
       "      <td>3</td>\n",
       "      <td>Russian Federation</td>\n",
       "      <td>15</td>\n",
       "      <td>NaN</td>\n",
       "      <td>Yes</td>\n",
       "      <td>NaN</td>\n",
       "      <td>NaN</td>\n",
       "      <td>NaN</td>\n",
       "      <td>NaN</td>\n",
       "      <td>NaN</td>\n",
       "      <td>NaN</td>\n",
       "    </tr>\n",
       "    <tr>\n",
       "      <th>3</th>\n",
       "      <td>4</td>\n",
       "      <td>Albania</td>\n",
       "      <td>18</td>\n",
       "      <td>Computer science, computer engineering, or sof...</td>\n",
       "      <td>Yes</td>\n",
       "      <td>NaN</td>\n",
       "      <td>NaN</td>\n",
       "      <td>NaN</td>\n",
       "      <td>NaN</td>\n",
       "      <td>NaN</td>\n",
       "      <td>NaN</td>\n",
       "    </tr>\n",
       "    <tr>\n",
       "      <th>4</th>\n",
       "      <td>5</td>\n",
       "      <td>United States</td>\n",
       "      <td>16</td>\n",
       "      <td>Computer science, computer engineering, or sof...</td>\n",
       "      <td>Yes</td>\n",
       "      <td>Employed full-time</td>\n",
       "      <td>NaN</td>\n",
       "      <td>MySQL;PostgreSQL</td>\n",
       "      <td>MySQL;PostgreSQL;Redis;SQLite</td>\n",
       "      <td>Docker;Google Cloud Platform;Heroku;Linux;Windows</td>\n",
       "      <td>AWS;Docker;Linux;MacOS;Windows</td>\n",
       "    </tr>\n",
       "  </tbody>\n",
       "</table>\n",
       "</div>"
      ],
      "text/plain": [
       "   Respondent             Country Age1stCode  \\\n",
       "0           1             Germany         13   \n",
       "1           2      United Kingdom         19   \n",
       "2           3  Russian Federation         15   \n",
       "3           4             Albania         18   \n",
       "4           5       United States         16   \n",
       "\n",
       "                                      UndergradMajor Hobbyist  \\\n",
       "0  Computer science, computer engineering, or sof...      Yes   \n",
       "1  Computer science, computer engineering, or sof...       No   \n",
       "2                                                NaN      Yes   \n",
       "3  Computer science, computer engineering, or sof...      Yes   \n",
       "4  Computer science, computer engineering, or sof...      Yes   \n",
       "\n",
       "                                          Employment  \\\n",
       "0  Independent contractor, freelancer, or self-em...   \n",
       "1                                 Employed full-time   \n",
       "2                                                NaN   \n",
       "3                                                NaN   \n",
       "4                                 Employed full-time   \n",
       "\n",
       "                                             DevType DatabaseDesireNextYear  \\\n",
       "0  Developer, desktop or enterprise applications;...   Microsoft SQL Server   \n",
       "1            Developer, full-stack;Developer, mobile                    NaN   \n",
       "2                                                NaN                    NaN   \n",
       "3                                                NaN                    NaN   \n",
       "4                                                NaN       MySQL;PostgreSQL   \n",
       "\n",
       "                          DatabaseWorkedWith  \\\n",
       "0  Elasticsearch;Microsoft SQL Server;Oracle   \n",
       "1                                        NaN   \n",
       "2                                        NaN   \n",
       "3                                        NaN   \n",
       "4              MySQL;PostgreSQL;Redis;SQLite   \n",
       "\n",
       "                              PlatformDesireNextYear  \\\n",
       "0     Android;iOS;Kubernetes;Microsoft Azure;Windows   \n",
       "1                         iOS;Kubernetes;Linux;MacOS   \n",
       "2                                                NaN   \n",
       "3                                                NaN   \n",
       "4  Docker;Google Cloud Platform;Heroku;Linux;Windows   \n",
       "\n",
       "               PlatformWorkedWith  \n",
       "0                         Windows  \n",
       "1                             iOS  \n",
       "2                             NaN  \n",
       "3                             NaN  \n",
       "4  AWS;Docker;Linux;MacOS;Windows  "
      ]
     },
     "execution_count": 4,
     "metadata": {},
     "output_type": "execute_result"
    }
   ],
   "source": [
    "relevant_data_20.head()"
   ]
  },
  {
   "cell_type": "code",
   "execution_count": 5,
   "id": "3e5d98d5",
   "metadata": {},
   "outputs": [
    {
     "name": "stderr",
     "output_type": "stream",
     "text": [
      "<ipython-input-5-acbbe59b554c>:1: SettingWithCopyWarning: \n",
      "A value is trying to be set on a copy of a slice from a DataFrame.\n",
      "Try using .loc[row_indexer,col_indexer] = value instead\n",
      "\n",
      "See the caveats in the documentation: https://pandas.pydata.org/pandas-docs/stable/user_guide/indexing.html#returning-a-view-versus-a-copy\n",
      "  relevant_data_20['Age1stCode'] = pd.to_numeric(relevant_data_20.Age1stCode, errors='coerce')\n"
     ]
    },
    {
     "data": {
      "text/plain": [
       "count    57473.000000\n",
       "mean        15.476572\n",
       "std          5.114081\n",
       "min          5.000000\n",
       "25%         12.000000\n",
       "50%         15.000000\n",
       "75%         18.000000\n",
       "max         85.000000\n",
       "Name: Age1stCode, dtype: float64"
      ]
     },
     "execution_count": 5,
     "metadata": {},
     "output_type": "execute_result"
    }
   ],
   "source": [
    "relevant_data_20['Age1stCode'] = pd.to_numeric(relevant_data_20.Age1stCode, errors='coerce')\n",
    "relevant_data_20['Age1stCode'].describe()"
   ]
  },
  {
   "cell_type": "code",
   "execution_count": 6,
   "id": "888b5be5",
   "metadata": {},
   "outputs": [],
   "source": [
    "#counting number of developers per country\n",
    "country_20 = relevant_data_20['Country'].value_counts()\n",
    "top_country_20 = country_20.head(30).sort_values(ascending = True)"
   ]
  },
  {
   "cell_type": "code",
   "execution_count": 7,
   "id": "2d561846",
   "metadata": {},
   "outputs": [
    {
     "data": {
      "text/plain": [
       "<AxesSubplot:title={'center':'Number of Developers from Countries'}>"
      ]
     },
     "execution_count": 7,
     "metadata": {},
     "output_type": "execute_result"
    },
    {
     "data": {
      "image/png": "[encoded data removed]",
      "text/plain": [
       "<Figure size 432x288 with 1 Axes>"
      ]
     },
     "metadata": {
      "needs_background": "light"
     },
     "output_type": "display_data"
    }
   ],
   "source": [
    "top_country_20.plot(kind = 'barh', title = 'Number of Developers from Countries')"
   ]
  },
  {
   "cell_type": "code",
   "execution_count": 8,
   "id": "9979ee25",
   "metadata": {},
   "outputs": [
    {
     "name": "stdout",
     "output_type": "stream",
     "text": [
      "<class 'pandas.core.frame.DataFrame'>\n",
      "Int64Index: 12807 entries, 8 to 64451\n",
      "Data columns (total 11 columns):\n",
      " #   Column                  Non-Null Count  Dtype  \n",
      "---  ------                  --------------  -----  \n",
      " 0   Respondent              12807 non-null  int64  \n",
      " 1   Country                 12807 non-null  object \n",
      " 2   Age1stCode              12651 non-null  float64\n",
      " 3   UndergradMajor          11834 non-null  object \n",
      " 4   Hobbyist                12807 non-null  object \n",
      " 5   Employment              12807 non-null  object \n",
      " 6   DevType                 12807 non-null  object \n",
      " 7   DatabaseDesireNextYear  8716 non-null   object \n",
      " 8   DatabaseWorkedWith      9981 non-null   object \n",
      " 9   PlatformDesireNextYear  10131 non-null  object \n",
      " 10  PlatformWorkedWith      10881 non-null  object \n",
      "dtypes: float64(1), int64(1), object(9)\n",
      "memory usage: 1.2+ MB\n"
     ]
    }
   ],
   "source": [
    "'''taking out NaN's in DevType column while preserving the rest of the \n",
    "columns that may also have NaN's in order to get an accurate count of developers per type.'''\n",
    "\n",
    "dev_types = ['Developer, back-end', \n",
    "             'Developer, full-stack', \n",
    "             'Developer, front-end', \n",
    "             'Developer, desktop or enterprise applications', \n",
    "             'Developer, mobile', \n",
    "             'DevOps specialist',\n",
    "             'Database administrator',\n",
    "             'Designer',\n",
    "             'System administrator',\n",
    "             'Developer, embedded applications or devices',\n",
    "             'Data or business analyst',\n",
    "             'Data scientist or machine learning specialist',\n",
    "             'Developer, QA or test',\n",
    "             'Engineer, data'\n",
    "            ]\n",
    "\n",
    "all_devs_df = relevant_data_20.loc[relevant_data_20['DevType'].isin(dev_types)]\n",
    "all_devs_df.info()"
   ]
  },
  {
   "cell_type": "code",
   "execution_count": 10,
   "id": "1a81c89e",
   "metadata": {},
   "outputs": [],
   "source": [
    "df = pd.concat([all_devs_df, all_devs_df['DatabaseWorkedWith'].str.split(';', expand=True)], axis=1)"
   ]
  },
  {
   "cell_type": "code",
   "execution_count": 11,
   "id": "8b5fac78",
   "metadata": {},
   "outputs": [
    {
     "name": "stdout",
     "output_type": "stream",
     "text": [
      "<class 'pandas.core.frame.DataFrame'>\n",
      "Int64Index: 12807 entries, 8 to 64451\n",
      "Data columns (total 25 columns):\n",
      " #   Column                  Non-Null Count  Dtype  \n",
      "---  ------                  --------------  -----  \n",
      " 0   Respondent              12807 non-null  int64  \n",
      " 1   Country                 12807 non-null  object \n",
      " 2   Age1stCode              12651 non-null  float64\n",
      " 3   UndergradMajor          11834 non-null  object \n",
      " 4   Hobbyist                12807 non-null  object \n",
      " 5   Employment              12807 non-null  object \n",
      " 6   DevType                 12807 non-null  object \n",
      " 7   DatabaseDesireNextYear  8716 non-null   object \n",
      " 8   DatabaseWorkedWith      9981 non-null   object \n",
      " 9   PlatformDesireNextYear  10131 non-null  object \n",
      " 10  PlatformWorkedWith      10881 non-null  object \n",
      " 11  0                       9981 non-null   object \n",
      " 12  1                       6655 non-null   object \n",
      " 13  2                       3836 non-null   object \n",
      " 14  3                       2008 non-null   object \n",
      " 15  4                       987 non-null    object \n",
      " 16  5                       458 non-null    object \n",
      " 17  6                       211 non-null    object \n",
      " 18  7                       93 non-null     object \n",
      " 19  8                       39 non-null     object \n",
      " 20  9                       12 non-null     object \n",
      " 21  10                      6 non-null      object \n",
      " 22  11                      2 non-null      object \n",
      " 23  12                      2 non-null      object \n",
      " 24  13                      2 non-null      object \n",
      "dtypes: float64(1), int64(1), object(23)\n",
      "memory usage: 2.5+ MB\n"
     ]
    }
   ],
   "source": [
    "df.info()"
   ]
  },
  {
   "cell_type": "code",
   "execution_count": 12,
   "id": "40494e2d",
   "metadata": {
    "scrolled": true
   },
   "outputs": [],
   "source": [
    "df = df.rename(columns = {0: \"CurrentDB0\",\n",
    "                     1: \"CurrentDB1\",\n",
    "                     2: \"CurrentDB2\",\n",
    "                     3: \"CurrentDB3\",\n",
    "                     4: \"CurrentDB4\", \n",
    "                     5:\"CurrentDB5\",\n",
    "                     6:\"CurrentDB6\",\n",
    "                     7:\"CurrentDB7\",\n",
    "                     8:\"CurrentDB8\",\n",
    "                     9:\"CurrentDB9\",\n",
    "                     10:\"CurrentDB10\",\n",
    "                     11:\"CurrentDB11\",\n",
    "                     12:\"CurrentDB12\",\n",
    "                     13:\"CurrentDB13\",})"
   ]
  },
  {
   "cell_type": "code",
   "execution_count": 13,
   "id": "e410384b",
   "metadata": {},
   "outputs": [
    {
     "name": "stdout",
     "output_type": "stream",
     "text": [
      "<class 'pandas.core.frame.DataFrame'>\n",
      "Int64Index: 12807 entries, 8 to 64451\n",
      "Data columns (total 25 columns):\n",
      " #   Column                  Non-Null Count  Dtype  \n",
      "---  ------                  --------------  -----  \n",
      " 0   Respondent              12807 non-null  int64  \n",
      " 1   Country                 12807 non-null  object \n",
      " 2   Age1stCode              12651 non-null  float64\n",
      " 3   UndergradMajor          11834 non-null  object \n",
      " 4   Hobbyist                12807 non-null  object \n",
      " 5   Employment              12807 non-null  object \n",
      " 6   DevType                 12807 non-null  object \n",
      " 7   DatabaseDesireNextYear  8716 non-null   object \n",
      " 8   DatabaseWorkedWith      9981 non-null   object \n",
      " 9   PlatformDesireNextYear  10131 non-null  object \n",
      " 10  PlatformWorkedWith      10881 non-null  object \n",
      " 11  CurrentDB0              9981 non-null   object \n",
      " 12  CurrentDB1              6655 non-null   object \n",
      " 13  CurrentDB2              3836 non-null   object \n",
      " 14  CurrentDB3              2008 non-null   object \n",
      " 15  CurrentDB4              987 non-null    object \n",
      " 16  CurrentDB5              458 non-null    object \n",
      " 17  CurrentDB6              211 non-null    object \n",
      " 18  CurrentDB7              93 non-null     object \n",
      " 19  CurrentDB8              39 non-null     object \n",
      " 20  CurrentDB9              12 non-null     object \n",
      " 21  CurrentDB10             6 non-null      object \n",
      " 22  CurrentDB11             2 non-null      object \n",
      " 23  CurrentDB12             2 non-null      object \n",
      " 24  CurrentDB13             2 non-null      object \n",
      "dtypes: float64(1), int64(1), object(23)\n",
      "memory usage: 2.5+ MB\n"
     ]
    }
   ],
   "source": [
    "df.info()"
   ]
  },
  {
   "cell_type": "code",
   "execution_count": 14,
   "id": "4399cca5",
   "metadata": {},
   "outputs": [],
   "source": [
    "df = pd.concat([df, df['DatabaseDesireNextYear'].str.split(';', expand=True)], axis=1)"
   ]
  },
  {
   "cell_type": "code",
   "execution_count": 15,
   "id": "a68407a5",
   "metadata": {},
   "outputs": [],
   "source": [
    "df = df.rename(columns = {0: \"DesiredDB0\",\n",
    "                     1: \"DesiredDB1\",\n",
    "                     2: \"DesiredDB2\",\n",
    "                     3: \"DesiredDB3\",\n",
    "                     4: \"DesiredDB4\", \n",
    "                     5:\"DesiredDB5\",\n",
    "                     6:\"DesiredB6\",\n",
    "                     7:\"DesiredDB7\",\n",
    "                     8:\"DesiredDB8\",\n",
    "                     9:\"DesiredDB9\",\n",
    "                     10:\"DesiredDB10\",\n",
    "                     11:\"DesiredDB11\",\n",
    "                     12:\"DesiredDB12\",\n",
    "                     13:\"DesiredDB13\",})"
   ]
  },
  {
   "cell_type": "code",
   "execution_count": 16,
   "id": "3801364b",
   "metadata": {},
   "outputs": [
    {
     "name": "stdout",
     "output_type": "stream",
     "text": [
      "<class 'pandas.core.frame.DataFrame'>\n",
      "Int64Index: 12807 entries, 8 to 64451\n",
      "Data columns (total 39 columns):\n",
      " #   Column                  Non-Null Count  Dtype  \n",
      "---  ------                  --------------  -----  \n",
      " 0   Respondent              12807 non-null  int64  \n",
      " 1   Country                 12807 non-null  object \n",
      " 2   Age1stCode              12651 non-null  float64\n",
      " 3   UndergradMajor          11834 non-null  object \n",
      " 4   Hobbyist                12807 non-null  object \n",
      " 5   Employment              12807 non-null  object \n",
      " 6   DevType                 12807 non-null  object \n",
      " 7   DatabaseDesireNextYear  8716 non-null   object \n",
      " 8   DatabaseWorkedWith      9981 non-null   object \n",
      " 9   PlatformDesireNextYear  10131 non-null  object \n",
      " 10  PlatformWorkedWith      10881 non-null  object \n",
      " 11  CurrentDB0              9981 non-null   object \n",
      " 12  CurrentDB1              6655 non-null   object \n",
      " 13  CurrentDB2              3836 non-null   object \n",
      " 14  CurrentDB3              2008 non-null   object \n",
      " 15  CurrentDB4              987 non-null    object \n",
      " 16  CurrentDB5              458 non-null    object \n",
      " 17  CurrentDB6              211 non-null    object \n",
      " 18  CurrentDB7              93 non-null     object \n",
      " 19  CurrentDB8              39 non-null     object \n",
      " 20  CurrentDB9              12 non-null     object \n",
      " 21  CurrentDB10             6 non-null      object \n",
      " 22  CurrentDB11             2 non-null      object \n",
      " 23  CurrentDB12             2 non-null      object \n",
      " 24  CurrentDB13             2 non-null      object \n",
      " 25  DesiredDB0              8716 non-null   object \n",
      " 26  DesiredDB1              5897 non-null   object \n",
      " 27  DesiredDB2              3527 non-null   object \n",
      " 28  DesiredDB3              1851 non-null   object \n",
      " 29  DesiredDB4              923 non-null    object \n",
      " 30  DesiredDB5              419 non-null    object \n",
      " 31  DesiredB6               210 non-null    object \n",
      " 32  DesiredDB7              107 non-null    object \n",
      " 33  DesiredDB8              47 non-null     object \n",
      " 34  DesiredDB9              24 non-null     object \n",
      " 35  DesiredDB10             17 non-null     object \n",
      " 36  DesiredDB11             11 non-null     object \n",
      " 37  DesiredDB12             6 non-null      object \n",
      " 38  DesiredDB13             3 non-null      object \n",
      "dtypes: float64(1), int64(1), object(37)\n",
      "memory usage: 3.9+ MB\n"
     ]
    }
   ],
   "source": [
    "df.info()"
   ]
  },
  {
   "cell_type": "code",
   "execution_count": 17,
   "id": "5fc56b82",
   "metadata": {},
   "outputs": [],
   "source": [
    "df = pd.concat([df, df['PlatformDesireNextYear'].str.split(';', expand=True)], axis=1)"
   ]
  },
  {
   "cell_type": "code",
   "execution_count": 18,
   "id": "2e679a94",
   "metadata": {},
   "outputs": [],
   "source": [
    "df = df.rename(columns = {0: \"DesiredPlatform0\",\n",
    "                     1: \"DesiredPlatform1\",\n",
    "                     2: \"DesiredPlatform2\",\n",
    "                     3: \"DesiredPlatform3\",\n",
    "                     4: \"DesiredPlatform4\", \n",
    "                     5:\"DesiredPlatform5\",\n",
    "                     6:\"DesiredPlatform6\",\n",
    "                     7:\"DesiredPlatform7\",\n",
    "                     8:\"DesiredPlatform8\",\n",
    "                     9:\"DesiredPlatform9\",\n",
    "                     10:\"DesiredPlatform10\",\n",
    "                     11:\"DesiredPlatform11\",\n",
    "                     12:\"DesiredPlatform12\",\n",
    "                     13:\"DesiredPlatform13\",\n",
    "                    14:\"DesiredPlatform14\",\n",
    "                     15:\"DesiredPlatform15\",                                 \n",
    "                                                           })"
   ]
  },
  {
   "cell_type": "code",
   "execution_count": 19,
   "id": "b835d91e",
   "metadata": {},
   "outputs": [],
   "source": [
    "df = pd.concat([df, df['PlatformWorkedWith'].str.split(';', expand=True)], axis=1)"
   ]
  },
  {
   "cell_type": "code",
   "execution_count": 20,
   "id": "3bb0be16",
   "metadata": {},
   "outputs": [],
   "source": [
    "df = df.rename(columns = {0: \"CurrentPlatform0\",\n",
    "                     1: \"CurrentPlatform1\",\n",
    "                     2: \"CurrentPlatform2\",\n",
    "                     3: \"CurrentPlatform3\",\n",
    "                     4: \"CurrentPlatform4\", \n",
    "                     5:\"CurrentPlatform5\",\n",
    "                     6:\"CurrentPlatform6\",\n",
    "                     7:\"CurrentPlatform7\",\n",
    "                     8:\"CurrentPlatform8\",\n",
    "                     9:\"CurrentPlatform9\",\n",
    "                     10:\"CurrentPlatform10\",\n",
    "                     11:\"CurrentPlatform11\",\n",
    "                     12:\"CurrentPlatform12\",\n",
    "                     13:\"CurrentPlatform13\",\n",
    "                    14:\"CurrentPlatform14\",\n",
    "                     15:\"CurrentPlatform15\",                                 \n",
    "                                                           })"
   ]
  },
  {
   "cell_type": "code",
   "execution_count": 21,
   "id": "0830298f",
   "metadata": {
    "scrolled": true
   },
   "outputs": [
    {
     "name": "stdout",
     "output_type": "stream",
     "text": [
      "<class 'pandas.core.frame.DataFrame'>\n",
      "Int64Index: 12807 entries, 8 to 64451\n",
      "Data columns (total 71 columns):\n",
      " #   Column                  Non-Null Count  Dtype  \n",
      "---  ------                  --------------  -----  \n",
      " 0   Respondent              12807 non-null  int64  \n",
      " 1   Country                 12807 non-null  object \n",
      " 2   Age1stCode              12651 non-null  float64\n",
      " 3   UndergradMajor          11834 non-null  object \n",
      " 4   Hobbyist                12807 non-null  object \n",
      " 5   Employment              12807 non-null  object \n",
      " 6   DevType                 12807 non-null  object \n",
      " 7   DatabaseDesireNextYear  8716 non-null   object \n",
      " 8   DatabaseWorkedWith      9981 non-null   object \n",
      " 9   PlatformDesireNextYear  10131 non-null  object \n",
      " 10  PlatformWorkedWith      10881 non-null  object \n",
      " 11  CurrentDB0              9981 non-null   object \n",
      " 12  CurrentDB1              6655 non-null   object \n",
      " 13  CurrentDB2              3836 non-null   object \n",
      " 14  CurrentDB3              2008 non-null   object \n",
      " 15  CurrentDB4              987 non-null    object \n",
      " 16  CurrentDB5              458 non-null    object \n",
      " 17  CurrentDB6              211 non-null    object \n",
      " 18  CurrentDB7              93 non-null     object \n",
      " 19  CurrentDB8              39 non-null     object \n",
      " 20  CurrentDB9              12 non-null     object \n",
      " 21  CurrentDB10             6 non-null      object \n",
      " 22  CurrentDB11             2 non-null      object \n",
      " 23  CurrentDB12             2 non-null      object \n",
      " 24  CurrentDB13             2 non-null      object \n",
      " 25  DesiredDB0              8716 non-null   object \n",
      " 26  DesiredDB1              5897 non-null   object \n",
      " 27  DesiredDB2              3527 non-null   object \n",
      " 28  DesiredDB3              1851 non-null   object \n",
      " 29  DesiredDB4              923 non-null    object \n",
      " 30  DesiredDB5              419 non-null    object \n",
      " 31  DesiredB6               210 non-null    object \n",
      " 32  DesiredDB7              107 non-null    object \n",
      " 33  DesiredDB8              47 non-null     object \n",
      " 34  DesiredDB9              24 non-null     object \n",
      " 35  DesiredDB10             17 non-null     object \n",
      " 36  DesiredDB11             11 non-null     object \n",
      " 37  DesiredDB12             6 non-null      object \n",
      " 38  DesiredDB13             3 non-null      object \n",
      " 39  DesiredPlatform0        10131 non-null  object \n",
      " 40  DesiredPlatform1        8166 non-null   object \n",
      " 41  DesiredPlatform2        5917 non-null   object \n",
      " 42  DesiredPlatform3        3900 non-null   object \n",
      " 43  DesiredPlatform4        2357 non-null   object \n",
      " 44  DesiredPlatform5        1339 non-null   object \n",
      " 45  DesiredPlatform6        738 non-null    object \n",
      " 46  DesiredPlatform7        370 non-null    object \n",
      " 47  DesiredPlatform8        202 non-null    object \n",
      " 48  DesiredPlatform9        100 non-null    object \n",
      " 49  DesiredPlatform10       53 non-null     object \n",
      " 50  DesiredPlatform11       24 non-null     object \n",
      " 51  DesiredPlatform12       14 non-null     object \n",
      " 52  DesiredPlatform13       8 non-null      object \n",
      " 53  DesiredPlatform14       7 non-null      object \n",
      " 54  DesiredPlatform15       5 non-null      object \n",
      " 55  CurrentPlatform0        10881 non-null  object \n",
      " 56  CurrentPlatform1        7954 non-null   object \n",
      " 57  CurrentPlatform2        5204 non-null   object \n",
      " 58  CurrentPlatform3        3170 non-null   object \n",
      " 59  CurrentPlatform4        1796 non-null   object \n",
      " 60  CurrentPlatform5        950 non-null    object \n",
      " 61  CurrentPlatform6        483 non-null    object \n",
      " 62  CurrentPlatform7        233 non-null    object \n",
      " 63  CurrentPlatform8        107 non-null    object \n",
      " 64  CurrentPlatform9        53 non-null     object \n",
      " 65  CurrentPlatform10       27 non-null     object \n",
      " 66  CurrentPlatform11       17 non-null     object \n",
      " 67  CurrentPlatform12       10 non-null     object \n",
      " 68  CurrentPlatform13       6 non-null      object \n",
      " 69  CurrentPlatform14       4 non-null      object \n",
      " 70  CurrentPlatform15       3 non-null      object \n",
      "dtypes: float64(1), int64(1), object(69)\n",
      "memory usage: 7.0+ MB\n"
     ]
    }
   ],
   "source": [
    "df.info()"
   ]
  },
  {
   "cell_type": "code",
   "execution_count": 22,
   "id": "a0f9fabd",
   "metadata": {},
   "outputs": [],
   "source": [
    "df_toy = df[['Country','DevType','CurrentDB0', 'DesiredDB0', 'DesiredPlatform0', 'CurrentPlatform0']]"
   ]
  },
  {
   "cell_type": "code",
   "execution_count": 23,
   "id": "c8132e3d",
   "metadata": {},
   "outputs": [
    {
     "data": {
      "text/html": [
       "<div>\n",
       "<style scoped>\n",
       "    .dataframe tbody tr th:only-of-type {\n",
       "        vertical-align: middle;\n",
       "    }\n",
       "\n",
       "    .dataframe tbody tr th {\n",
       "        vertical-align: top;\n",
       "    }\n",
       "\n",
       "    .dataframe thead th {\n",
       "        text-align: right;\n",
       "    }\n",
       "</style>\n",
       "<table border=\"1\" class=\"dataframe\">\n",
       "  <thead>\n",
       "    <tr style=\"text-align: right;\">\n",
       "      <th></th>\n",
       "      <th>Country</th>\n",
       "      <th>DevType</th>\n",
       "      <th>CurrentDB0</th>\n",
       "      <th>DesiredDB0</th>\n",
       "      <th>DesiredPlatform0</th>\n",
       "      <th>CurrentPlatform0</th>\n",
       "    </tr>\n",
       "  </thead>\n",
       "  <tbody>\n",
       "    <tr>\n",
       "      <th>8</th>\n",
       "      <td>Tunisia</td>\n",
       "      <td>Developer, full-stack</td>\n",
       "      <td>NaN</td>\n",
       "      <td>NaN</td>\n",
       "      <td>NaN</td>\n",
       "      <td>WordPress</td>\n",
       "    </tr>\n",
       "    <tr>\n",
       "      <th>16</th>\n",
       "      <td>United States</td>\n",
       "      <td>Developer, full-stack</td>\n",
       "      <td>Microsoft SQL Server</td>\n",
       "      <td>Cassandra</td>\n",
       "      <td>Docker</td>\n",
       "      <td>NaN</td>\n",
       "    </tr>\n",
       "    <tr>\n",
       "      <th>17</th>\n",
       "      <td>United States</td>\n",
       "      <td>Developer, back-end</td>\n",
       "      <td>Elasticsearch</td>\n",
       "      <td>Elasticsearch</td>\n",
       "      <td>Linux</td>\n",
       "      <td>AWS</td>\n",
       "    </tr>\n",
       "    <tr>\n",
       "      <th>18</th>\n",
       "      <td>United States</td>\n",
       "      <td>Developer, full-stack</td>\n",
       "      <td>MariaDB</td>\n",
       "      <td>MariaDB</td>\n",
       "      <td>iOS</td>\n",
       "      <td>Windows</td>\n",
       "    </tr>\n",
       "    <tr>\n",
       "      <th>19</th>\n",
       "      <td>Spain</td>\n",
       "      <td>Developer, desktop or enterprise applications</td>\n",
       "      <td>IBM DB2</td>\n",
       "      <td>NaN</td>\n",
       "      <td>NaN</td>\n",
       "      <td>Heroku</td>\n",
       "    </tr>\n",
       "  </tbody>\n",
       "</table>\n",
       "</div>"
      ],
      "text/plain": [
       "          Country                                        DevType  \\\n",
       "8         Tunisia                          Developer, full-stack   \n",
       "16  United States                          Developer, full-stack   \n",
       "17  United States                            Developer, back-end   \n",
       "18  United States                          Developer, full-stack   \n",
       "19          Spain  Developer, desktop or enterprise applications   \n",
       "\n",
       "              CurrentDB0     DesiredDB0 DesiredPlatform0 CurrentPlatform0  \n",
       "8                    NaN            NaN              NaN        WordPress  \n",
       "16  Microsoft SQL Server      Cassandra           Docker              NaN  \n",
       "17         Elasticsearch  Elasticsearch            Linux              AWS  \n",
       "18               MariaDB        MariaDB              iOS          Windows  \n",
       "19               IBM DB2            NaN              NaN           Heroku  "
      ]
     },
     "execution_count": 23,
     "metadata": {},
     "output_type": "execute_result"
    }
   ],
   "source": [
    "df_toy.head()"
   ]
  },
  {
   "cell_type": "code",
   "execution_count": 25,
   "id": "0f4e4af0",
   "metadata": {},
   "outputs": [],
   "source": [
    "def count_db(df_toy, column_string,db_name):\n",
    "    '''Count the number of current or desired databases'''\n",
    "    \n",
    "    counter = 0\n",
    "    for i in df_toy[column_string]:\n",
    "        if i == db_name:\n",
    "            counter += 1\n",
    "    return counter\n",
    "    "
   ]
  },
  {
   "cell_type": "code",
   "execution_count": 26,
   "id": "dea6ad0f",
   "metadata": {},
   "outputs": [
    {
     "name": "stdout",
     "output_type": "stream",
     "text": [
      "7451\n"
     ]
    }
   ],
   "source": [
    "Cur_MySQL = count_db(df_toy, \"CurrentDB0\",\"MySQL\")\n",
    "Cur_PostgreSQL = count_db(df_toy, \"CurrentDB0\",\"PostgreSQL\")\n",
    "Cur_Microsoft_SQL_Server = count_db(df_toy, \"CurrentDB0\",\"Microsoft SQL Server\")\n",
    "Cur_SQLite = count_db(df_toy, \"CurrentDB0\",\"SQLite\")\n",
    "Cur_MongoDB = count_db(df_toy, \"CurrentDB0\",\"MongoDB\")\n",
    "Cur_Redis = count_db(df_toy, \"CurrentDB0\",\"Redis\")\n",
    "Cur_MariaDB = count_db(df_toy, \"CurrentDB0\",\"MariaDB\")\n",
    "Cur_Oracle = count_db(df_toy, \"CurrentDB0\",\"Oracle\")\n",
    "Cur_Firebase = count_db(df_toy, \"CurrentDB0\",\"Firebase\")\n",
    "Cur_Elasticsearch = count_db(df_toy, \"CurrentDB0\",\"Elasticsearch\")\n",
    "Cur_DynamoDB = count_db(df_toy, \"CurrentDB0\",\"DynamoDB\")\n",
    "Cur_Cassandra = count_db(df_toy, \"CurrentDB0\",\"Cassandra\")\n",
    "Cur_IBM_DB2 = count_db(df_toy, \"CurrentDB0\",\"IBM DB2\")\n",
    "Cur_Couchbase= count_db(df_toy, \"CurrentDB0\",\"Couchbase\")\n",
    "\n",
    "Current_DBs = [\n",
    "Cur_MySQL,\n",
    "Cur_PostgreSQL,\n",
    "Cur_Microsoft_SQL_Server,\n",
    "Cur_SQLite,\n",
    "Cur_MongoDB,\n",
    "Cur_Redis,\n",
    "Cur_MariaDB,\n",
    "Cur_Oracle,\n",
    "Cur_Firebase,\n",
    "Cur_Elasticsearch,\n",
    "Cur_DynamoDB,\n",
    "Cur_Cassandra,\n",
    "Cur_IBM_DB2,\n",
    "Cur_Couchbase\n",
    "]\n",
    "\n",
    "sum = 0\n",
    "for i in Current_DBs:\n",
    "    sum += i\n",
    "print(sum)"
   ]
  },
  {
   "cell_type": "code",
   "execution_count": 27,
   "id": "97bcc47a",
   "metadata": {},
   "outputs": [
    {
     "data": {
      "image/png": "[encoded data removed]",
      "text/plain": [
       "<Figure size 432x288 with 1 Axes>"
      ]
     },
     "metadata": {
      "needs_background": "light"
     },
     "output_type": "display_data"
    }
   ],
   "source": [
    "labels = ['MySQL',\n",
    "'PostgreSQL',\n",
    "'SQL_Server',\n",
    "'SQLite',\n",
    "'MongoDB',\n",
    "\"Redis\",\n",
    "\"MariaDB\",\n",
    "\"Oracle\",\n",
    "\"Firebase\",\n",
    "\"Elasticsearch\",\n",
    "\"DynamoDB\",\n",
    "\"Cassandra\",\n",
    "\"IBM DB2\",\n",
    "\"Couchbase\"\n",
    "         ]\n",
    "from matplotlib.pyplot import figure\n",
    "\n",
    "fig, ax = plt.subplots()\n",
    "\n",
    "plt.xticks(rotation=90,wrap=False)\n",
    "\n",
    "# plt.figure(figsize=(11,8))\n",
    "\n",
    "ax.set_ylabel('Users')\n",
    "ax.set_title('Current Databases')\n",
    "\n",
    "# ax.bar(x - width/2, Current_DBs, width, label='Current_DBs')\n",
    "\n",
    "pps = plt.bar(labels,Current_DBs)\n",
    "for p in pps:\n",
    "   height = p.get_height()\n",
    "   ax.annotate('{}'.format(height),\n",
    "      xy=(p.get_x() + p.get_width() / 2, height),\n",
    "      xytext=(0, 3), # 3 points vertical offset\n",
    "      textcoords=\"offset points\",\n",
    "      ha='center', va='bottom')\n",
    "\n",
    "\n",
    "plt.show()"
   ]
  },
  {
   "cell_type": "code",
   "execution_count": 28,
   "id": "9179e845",
   "metadata": {},
   "outputs": [
    {
     "name": "stdout",
     "output_type": "stream",
     "text": [
      "7451\n"
     ]
    }
   ],
   "source": [
    "Des_MySQL = count_db(df_toy, \"DesiredDB0\",\"MySQL\")\n",
    "Des_PostgreSQL = count_db(df_toy, \"DesiredDB0\",\"PostgreSQL\")\n",
    "Des_Microsoft_SQL_Server = count_db(df_toy, \"DesiredDB0\",\"Microsoft SQL Server\")\n",
    "Des_SQLite = count_db(df_toy, \"DesiredDB0\",\"SQLite\")\n",
    "Des_MongoDB = count_db(df_toy, \"DesiredDB0\",\"MongoDB\")\n",
    "Des_Redis = count_db(df_toy, \"DesiredDB0\",\"Redis\")\n",
    "Des_MariaDB = count_db(df_toy, \"DesiredDB0\",\"MariaDB\")\n",
    "Des_Oracle = count_db(df_toy, \"DesiredDB0\",\"Oracle\")\n",
    "Des_Firebase = count_db(df_toy, \"DesiredDB0\",\"Firebase\")\n",
    "Des_Elasticsearch = count_db(df_toy, \"DesiredDB0\",\"Elasticsearch\")\n",
    "Des_DynamoDB = count_db(df_toy, \"DesiredDB0\",\"DynamoDB\")\n",
    "Des_Cassandra = count_db(df_toy, \"DesiredDB0\",\"Cassandra\")\n",
    "Des_IBM_DB2 = count_db(df_toy, \"DesiredDB0\",\"IBM DB2\")\n",
    "Des_Couchbase= count_db(df_toy, \"DesiredDB0\",\"Couchbase\")\n",
    "\n",
    "Desired_DBs = [\n",
    "Des_MySQL,\n",
    "Des_PostgreSQL,\n",
    "Des_Microsoft_SQL_Server,\n",
    "Des_SQLite,\n",
    "Des_MongoDB,\n",
    "Des_Redis,\n",
    "Des_MariaDB,\n",
    "Des_Oracle,\n",
    "Des_Firebase,\n",
    "Des_Elasticsearch,\n",
    "Des_DynamoDB,\n",
    "Des_Cassandra,\n",
    "Des_IBM_DB2,\n",
    "Des_Couchbase\n",
    "]\n",
    "\n",
    "sum = 0\n",
    "for i in Desired_DBs:\n",
    "    sum += i\n",
    "print(sum)"
   ]
  },
  {
   "cell_type": "code",
   "execution_count": 29,
   "id": "ce05ae89",
   "metadata": {},
   "outputs": [
    {
     "data": {
      "image/png": "[encoded data removed]",
      "text/plain": [
       "<Figure size 432x288 with 1 Axes>"
      ]
     },
     "metadata": {
      "needs_background": "light"
     },
     "output_type": "display_data"
    }
   ],
   "source": [
    "labels = ['MySQL',\n",
    "'PostgreSQL',\n",
    "'SQL_Server',\n",
    "'SQLite',\n",
    "'MongoDB',\n",
    "\"Redis\",\n",
    "\"MariaDB\",\n",
    "\"Oracle\",\n",
    "\"Firebase\",\n",
    "\"Elasticsearch\",\n",
    "\"DynamoDB\",\n",
    "\"Cassandra\",\n",
    "\"IBM DB2\",\n",
    "\"Couchbase\"\n",
    "         ]\n",
    "from matplotlib.pyplot import figure\n",
    "\n",
    "fig, ax = plt.subplots()\n",
    "\n",
    "plt.xticks(rotation=90,wrap=False)\n",
    "\n",
    "# plt.figure(figsize=(11,8))\n",
    "\n",
    "ax.set_ylabel('Users')\n",
    "ax.set_title('Desired Databases')\n",
    "\n",
    "pps = plt.bar(labels,Desired_DBs)\n",
    "for p in pps:\n",
    "   height = p.get_height()\n",
    "   ax.annotate('{}'.format(height),\n",
    "      xy=(p.get_x() + p.get_width() / 2, height),\n",
    "      xytext=(0, 3), # 3 points vertical offset\n",
    "      textcoords=\"offset points\",\n",
    "      ha='center', va='bottom')\n",
    "\n",
    "\n",
    "plt.show()"
   ]
  },
  {
   "cell_type": "code",
   "execution_count": 30,
   "id": "d7246196",
   "metadata": {},
   "outputs": [],
   "source": [
    "def count_platforms(df_toy, column_string,platform_name):\n",
    "    '''Count the number of desired platforms'''\n",
    "    \n",
    "    counter = 0\n",
    "    for i in df_toy[column_string]:\n",
    "        if i == platform_name:\n",
    "            counter += 1\n",
    "    return counter\n"
   ]
  },
  {
   "cell_type": "code",
   "execution_count": 31,
   "id": "509ea38e",
   "metadata": {},
   "outputs": [
    {
     "name": "stdout",
     "output_type": "stream",
     "text": [
      "7451\n"
     ]
    }
   ],
   "source": [
    "Linux = count_platforms(df_toy, \"DesiredPlatform0\",\"Linux\")\n",
    "Windows = count_platforms(df_toy, \"DesiredPlatform0\",\"Windows\")\n",
    "Docker = count_platforms(df_toy, \"DesiredPlatform0\",\"Docker\")\n",
    "AWS = count_platforms(df_toy, \"DesiredPlatform0\",\"AWS\")\n",
    "Android = count_platforms(df_toy, \"DesiredPlatform0\",\"Android\")\n",
    "MacOS = count_platforms(df_toy, \"DesiredPlatform0\",\"MacOS\")\n",
    "Raspberry_Pi = count_platforms(df_toy, \"DesiredPlatform0\",\"Raspberry Pi\")\n",
    "Azure = count_platforms(df_toy, \"DesiredPlatform0\",\"Microsoft Azure\")\n",
    "WordPress = count_platforms(df_toy, \"DesiredPlatform0\",\"WordPress\")\n",
    "Google = count_platforms(df_toy, \"DesiredPlatform0\",\"Google Cloud Platform\")\n",
    "iOS = count_platforms(df_toy, \"DesiredPlatform0\",\"iOS\")\n",
    "Kubernetes = count_platforms(df_toy, \"DesiredPlatform0\",\"Kubernetes\")\n",
    "Heroku = count_platforms(df_toy, \"DesiredPlatform0\",\"Heroku\")\n",
    "Arduino= count_platforms(df_toy, \"DesiredPlatform0\",\"Arduino\")\n",
    "Slack = count_platforms(df_toy, \"DesiredPlatform0\",\"Slack Apps and Integrations\")\n",
    "Watson= count_platforms(df_toy, \"DesiredPlatform0\",\"IBM Cloud or Watson\")\n",
    "\n",
    "Desired_Platforms = [\n",
    "Linux,\n",
    "Windows,\n",
    "Docker,\n",
    "AWS,\n",
    "Android,\n",
    "MacOS,\n",
    "Raspberry_Pi,\n",
    "Azure,\n",
    "WordPress,\n",
    "Google,\n",
    "iOS,\n",
    "Kubernetes,\n",
    "Heroku,\n",
    "Arduino,\n",
    "Slack,\n",
    "Watson\n",
    "]\n",
    "\n",
    "sum = 0\n",
    "for i in Desired_Platforms:\n",
    "    sum += i\n",
    "print(sum)\n"
   ]
  },
  {
   "cell_type": "code",
   "execution_count": 32,
   "id": "cba4e9db",
   "metadata": {},
   "outputs": [
    {
     "data": {
      "image/png": "[encoded data removed]",
      "text/plain": [
       "<Figure size 432x288 with 1 Axes>"
      ]
     },
     "metadata": {
      "needs_background": "light"
     },
     "output_type": "display_data"
    }
   ],
   "source": [
    "labels = [\n",
    "'Linux',\n",
    "'Windows',\n",
    "'Docker',\n",
    "'AWS',\n",
    "'Android',\n",
    "'MacOS',\n",
    "'Raspberry_Pi',\n",
    "'Azure',\n",
    "'WordPress',\n",
    "'Google',\n",
    "'iOS',\n",
    "'Kubernetes',\n",
    "'Heroku',\n",
    "'Arduino',\n",
    "'Slack',\n",
    "'Watson'\n",
    "         ]\n",
    "from matplotlib.pyplot import figure\n",
    "\n",
    "fig, ax = plt.subplots()\n",
    "\n",
    "plt.xticks(rotation=90,wrap=False)\n",
    "\n",
    "# plt.figure(figsize=(11,8))\n",
    "\n",
    "ax.set_ylabel('Users')\n",
    "ax.set_title('Desired Platforms')\n",
    "\n",
    "pps = plt.bar(labels,Desired_Platforms)\n",
    "for p in pps:\n",
    "   height = p.get_height()\n",
    "   ax.annotate('{}'.format(height),\n",
    "      xy=(p.get_x() + p.get_width() / 2, height),\n",
    "      xytext=(0, 3), # 3 points vertical offset\n",
    "      textcoords=\"offset points\",\n",
    "      ha='center', va='bottom')\n",
    "\n",
    "\n",
    "plt.show()"
   ]
  },
  {
   "cell_type": "code",
   "execution_count": 33,
   "id": "053a2f4a",
   "metadata": {},
   "outputs": [
    {
     "name": "stdout",
     "output_type": "stream",
     "text": [
      "7451\n"
     ]
    }
   ],
   "source": [
    "#PlatformWorkedWith0\n",
    "\n",
    "Linux = count_platforms(df_toy, \"CurrentPlatform0\",\"Linux\")\n",
    "Windows = count_platforms(df_toy, \"CurrentPlatform0\",\"Windows\")\n",
    "Docker = count_platforms(df_toy, \"CurrentPlatform0\",\"Docker\")\n",
    "AWS = count_platforms(df_toy, \"CurrentPlatform0\",\"AWS\")\n",
    "Android = count_platforms(df_toy, \"CurrentPlatform0\",\"Android\")\n",
    "MacOS = count_platforms(df_toy, \"CurrentPlatform0\",\"MacOS\")\n",
    "Raspberry_Pi = count_platforms(df_toy, \"CurrentPlatform0\",\"Raspberry Pi\")\n",
    "Azure = count_platforms(df_toy, \"CurrentPlatform0\",\"Microsoft Azure\")\n",
    "WordPress = count_platforms(df_toy, \"CurrentPlatform0\",\"WordPress\")\n",
    "Google = count_platforms(df_toy, \"CurrentPlatform0\",\"Google Cloud Platform\")\n",
    "iOS = count_platforms(df_toy, \"CurrentPlatform0\",\"iOS\")\n",
    "Kubernetes = count_platforms(df_toy, \"CurrentPlatform0\",\"Kubernetes\")\n",
    "Heroku = count_platforms(df_toy, \"CurrentPlatform0\",\"Heroku\")\n",
    "Arduino= count_platforms(df_toy, \"CurrentPlatform0\",\"Arduino\")\n",
    "Slack = count_platforms(df_toy, \"CurrentPlatform0\",\"Slack Apps and Integrations\")\n",
    "Watson= count_platforms(df_toy, \"CurrentPlatform0\",\"IBM Cloud or Watson\")\n",
    "\n",
    "Current_Platforms = [\n",
    "Linux,\n",
    "Windows,\n",
    "Docker,\n",
    "AWS,\n",
    "Android,\n",
    "MacOS,\n",
    "Raspberry_Pi,\n",
    "Azure,\n",
    "WordPress,\n",
    "Google,\n",
    "iOS,\n",
    "Kubernetes,\n",
    "Heroku,\n",
    "Arduino,\n",
    "Slack,\n",
    "Watson\n",
    "]\n",
    "\n",
    "sum = 0\n",
    "for i in Current_Platforms:\n",
    "    sum += i\n",
    "print(sum)"
   ]
  },
  {
   "cell_type": "code",
   "execution_count": 34,
   "id": "32f380aa",
   "metadata": {},
   "outputs": [
    {
     "data": {
      "image/png": "[encoded data removed]",
      "text/plain": [
       "<Figure size 432x288 with 1 Axes>"
      ]
     },
     "metadata": {
      "needs_background": "light"
     },
     "output_type": "display_data"
    }
   ],
   "source": [
    "labels = [\n",
    "'Linux',\n",
    "'Windows',\n",
    "'Docker',\n",
    "'AWS',\n",
    "'Android',\n",
    "'MacOS',\n",
    "'Raspberry_Pi',\n",
    "'Azure',\n",
    "'WordPress',\n",
    "'Google',\n",
    "'iOS',\n",
    "'Kubernetes',\n",
    "'Heroku',\n",
    "'Arduino',\n",
    "'Slack',\n",
    "'Watson'\n",
    "         ]\n",
    "from matplotlib.pyplot import figure\n",
    "\n",
    "fig, ax = plt.subplots()\n",
    "\n",
    "plt.xticks(rotation=90,wrap=False)\n",
    "\n",
    "# plt.figure(figsize=(11,8))\n",
    "\n",
    "ax.set_ylabel('Users')\n",
    "ax.set_title('Current Platforms')\n",
    "\n",
    "pps = plt.bar(labels,Current_Platforms)\n",
    "for p in pps:\n",
    "   height = p.get_height()\n",
    "   ax.annotate('{}'.format(height),\n",
    "      xy=(p.get_x() + p.get_width() / 2, height),\n",
    "      xytext=(0, 3), # 3 points vertical offset\n",
    "      textcoords=\"offset points\",\n",
    "      ha='center', va='bottom')\n",
    "\n",
    "\n",
    "plt.show()"
   ]
  },
  {
   "cell_type": "code",
   "execution_count": 52,
   "id": "0a398698",
   "metadata": {},
   "outputs": [],
   "source": [
    "#One-hot encoding and training dataset for predicting desired databases\n",
    "\n",
    "X_database = pd.get_dummies(df_toy, columns= ['DevType','CurrentDB0', 'DesiredPlatform0','CurrentPlatform0'])\n",
    "X_database = X_database.drop(['Country', 'DesiredDB0'], axis = 1)"
   ]
  },
  {
   "cell_type": "code",
   "execution_count": 53,
   "id": "4e9317ef",
   "metadata": {},
   "outputs": [
    {
     "data": {
      "text/plain": [
       "1178"
      ]
     },
     "execution_count": 53,
     "metadata": {},
     "output_type": "execute_result"
    }
   ],
   "source": [
    "#Labels for top desired databases\n",
    "\n",
    "\n",
    "def desired_database_y(df_toy, column_string, label):\n",
    "    \n",
    "    label_name = []\n",
    "    for i in df_toy[column_string]:\n",
    "        if i == label:\n",
    "            label_name.append(1)\n",
    "        else:\n",
    "            label_name.append(0) \n",
    "    return label_name\n",
    "\n",
    "MySQL_y = (desired_database_y(df_toy, 'DesiredDB0', \"MySQL\"))\n",
    "Elasticsearch_y = (desired_database_y(df_toy, 'DesiredDB0', \"Elasticsearch\"))\n",
    "SQL_Server_y = (desired_database_y(df_toy, 'DesiredDB0', \"SQL_Server\"))\n",
    "PostgreSQL_y = (desired_database_y(df_toy, 'DesiredDB0', \"PostgreSQL\"))\n",
    "Firebase_y = (desired_database_y(df_toy, 'DesiredDB0', \"Firebase\"))\n",
    "DynamoDB_y = (desired_database_y(df_toy, 'DesiredDB0', \"DynamoDB\"))\n",
    "np.count_nonzero(Elasticsearch_y)"
   ]
  },
  {
   "cell_type": "code",
   "execution_count": 56,
   "id": "b57f8e84",
   "metadata": {
    "scrolled": true
   },
   "outputs": [
    {
     "name": "stdout",
     "output_type": "stream",
     "text": [
      "MySQL accuracy score: 0.9152684563758389\n",
      "Elastic accuracy score: 0.8266778523489933\n",
      "SQL Server accuracy score: 1.0\n",
      "PostgresSQL accuracy score: 0.8951342281879194\n",
      "Firebase accuracy score: 0.9062080536912751\n",
      "DynamoDB accuracy score: 0.920469798657718\n"
     ]
    }
   ],
   "source": [
    "#Choose a Desired platform to test\n",
    "\n",
    "\n",
    "# y_label = Azure_y\n",
    "        \n",
    "# X_train, X_test, y_train, y_test = train_test_split(X,y_label, test_size = .2)\n",
    "# clf = DecisionTreeClassifier()\n",
    "# cv = StratifiedKFold(n_splits = 5) \n",
    "# scores = cross_val_score(clf, X_train, y_train, scoring = 'accuracy', cv = cv)\n",
    "# print(scores.mean())\n",
    "\n",
    "\n",
    "\n",
    "#Create function to make it easier to calculate means for accuracy scores for top labels.\n",
    "\n",
    "def mean_accuracy_scores(X, y):\n",
    "    \n",
    "    X_train, X_test, y_train, y_test = train_test_split(X,y, test_size = .2)\n",
    "    clf = DecisionTreeClassifier()\n",
    "    cv = StratifiedKFold(n_splits = 5) \n",
    "    scores = cross_val_score(clf, X_train, y_train, scoring = 'accuracy', cv = cv)\n",
    "    return scores.mean()\n",
    "\n",
    "print(f\"MySQL accuracy score: {mean_accuracy_scores(X_database, MySQL_y)}\")\n",
    "print(f\"Elastic accuracy score: {mean_accuracy_scores(X_database, Elasticsearch_y)}\")\n",
    "print(f\"SQL Server accuracy score: {mean_accuracy_scores(X_database, SQL_Server_y)}\")\n",
    "print(f\"PostgresSQL accuracy score: {mean_accuracy_scores(X_database, PostgreSQL_y)}\")\n",
    "print(f\"Firebase accuracy score: {mean_accuracy_scores(X_database, Firebase_y)}\")\n",
    "print(f\"DynamoDB accuracy score: {mean_accuracy_scores(X_database, DynamoDB_y)}\")\n",
    "\n",
    "\n"
   ]
  },
  {
   "cell_type": "code",
   "execution_count": 62,
   "id": "7315b45e",
   "metadata": {
    "scrolled": false
   },
   "outputs": [],
   "source": [
    "#visualize Decision Tree:\n",
    "\n",
    "from sklearn import tree\n",
    "\n",
    "y = Elasticsearch_y\n",
    "\n",
    "X_train, X_test, y_train, y_test = train_test_split(X_database,y, test_size = .2)\n",
    "\n",
    "clf = tree.DecisionTreeClassifier(random_state=0)\n",
    "\n",
    "clf = clf.fit(X_train, y_train)\n",
    "\n",
    "# feature_names = []\n",
    "# for i in X_train.columns:\n",
    "#     feature_names.append(i)\n",
    "\n",
    "# fig = plt.figure(figsize=(25,20))\n",
    "# tree.plot_tree(clf, filled = True, rounded = True)"
   ]
  },
  {
   "cell_type": "code",
   "execution_count": 64,
   "id": "04a8518e",
   "metadata": {},
   "outputs": [],
   "source": [
    "# Extract Column Names as List in Pandas Dataframe\n",
    "\n",
    "predictor_names = X_database.columns.tolist()"
   ]
  },
  {
   "cell_type": "code",
   "execution_count": 66,
   "id": "f3ac537f",
   "metadata": {
    "scrolled": true
   },
   "outputs": [
    {
     "data": {
      "text/plain": [
       "<sklearn.metrics._plot.confusion_matrix.ConfusionMatrixDisplay at 0x7fec6082b0a0>"
      ]
     },
     "execution_count": 66,
     "metadata": {},
     "output_type": "execute_result"
    },
    {
     "data": {
      "image/png": "[encoded data removed]",
      "text/plain": [
       "<Figure size 432x288 with 2 Axes>"
      ]
     },
     "metadata": {
      "needs_background": "light"
     },
     "output_type": "display_data"
    }
   ],
   "source": [
    "from sklearn.metrics import plot_confusion_matrix\n",
    "plot_confusion_matrix(clf, X_test, y_test, display_labels= [\"Wants Elasticsearch\", \"Does Not Want Elasticsearch\"])"
   ]
  },
  {
   "cell_type": "code",
   "execution_count": 68,
   "id": "defce5d3",
   "metadata": {
    "scrolled": true
   },
   "outputs": [
    {
     "data": {
      "image/png": "[encoded data removed]",
      "text/plain": [
       "<Figure size 1440x360 with 1 Axes>"
      ]
     },
     "metadata": {
      "needs_background": "light"
     },
     "output_type": "display_data"
    }
   ],
   "source": [
    "'''Determine most important features. Decision trees make splits that maximize the decrease in impurity. \n",
    "By calculating the mean decrease in impurity for each feature across all trees we can know that \n",
    "feature's importance.'''\n",
    "\n",
    "importances = clf.feature_importances_\n",
    "\n",
    "indices = np.argsort(importances)[::-1]\n",
    "\n",
    "f_names = [predictor_names[i] for i in indices]\n",
    "\n",
    "#create my plot\n",
    "fig, axes = plt.subplots(figsize=(20,5))\n",
    "axes.set_title(\"Feature Importances\")\n",
    "axes.bar(range(X_train.shape[1]), importances[indices])\n",
    "\n",
    "# Add feature names as x-axis labels\n",
    "axes.set_xticks(range(X_database.shape[1]));\n",
    "axes.set_xticklabels(f_names, rotation=45, ha='right', fontsize = '8');"
   ]
  },
  {
   "cell_type": "code",
   "execution_count": 71,
   "id": "0f2eb1f4",
   "metadata": {},
   "outputs": [],
   "source": [
    "path = clf.cost_complexity_pruning_path(X_train, y_train) # determine values of alpha\n",
    "ccp_alphas = path.ccp_alphas #extract different values for alpha\n",
    "cc_alphas = ccp_alphas[:-1] # exclude the max value for alpha\n",
    "\n",
    "clf_dts = [] #create an array for decision trees\n",
    "\n",
    "## create one decision tree per value for alpha and store it in the array\n",
    "\n",
    "for ccp_alpha in ccp_alphas:\n",
    "    clf_dt = DecisionTreeClassifier(random_state = 0, ccp_alpha = ccp_alpha)\n",
    "    clf_dt.fit(X_train, y_train)\n",
    "    clf_dts.append(clf_dt)"
   ]
  },
  {
   "cell_type": "code",
   "execution_count": 78,
   "id": "99a09b4a",
   "metadata": {},
   "outputs": [
    {
     "data": {
      "image/png": "[encoded data removed]",
      "text/plain": [
       "<Figure size 432x288 with 1 Axes>"
      ]
     },
     "metadata": {
      "needs_background": "light"
     },
     "output_type": "display_data"
    }
   ],
   "source": [
    "train_scores = [clf.score(X_train, y_train) for clf_dt in clf_dts]\n",
    "test_scores = [clf.score(X_test, y_test) for clf_dt in clf_dts]\n",
    "\n",
    "fig, ax = plt.subplots()\n",
    "ax.set_xlabel(\"alpha\")\n",
    "ax.set_ylabel(\"accuracy\")\n",
    "ax.set_title(\"Accuracy vs alpha for training and testing sets\")\n",
    "ax.plot(ccp_alphas, train_scores, marker = 'o', label=\"train\", drawstyle=\"steps-post\")\n",
    "ax.plot(ccp_alphas, test_scores, marker = 'o', label=\"test\", drawstyle=\"steps-post\")\n",
    "ax.legend()\n",
    "plt.show()"
   ]
  },
  {
   "cell_type": "code",
   "execution_count": null,
   "id": "8208b024",
   "metadata": {},
   "outputs": [],
   "source": []
  }
 ],
 "metadata": {
  "kernelspec": {
   "display_name": "Python 3",
   "language": "python",
   "name": "python3"
  },
  "language_info": {
   "codemirror_mode": {
    "name": "ipython",
    "version": 3
   },
   "file_extension": ".py",
   "mimetype": "text/x-python",
   "name": "python",
   "nbconvert_exporter": "python",
   "pygments_lexer": "ipython3",
   "version": "3.8.8"
  }
 },
 "nbformat": 4,
 "nbformat_minor": 5
}
