{
 "cells": [
  {
   "cell_type": "code",
   "execution_count": 2,
   "metadata": {},
   "outputs": [],
   "source": [
    "import numpy as np\n",
    "import pandas as pd\n",
    "import matplotlib.pyplot as plt\n",
    "\n",
    "#preprocessing\n",
    "from sklearn.preprocessing import StandardScaler, MinMaxScaler\n",
    "\n",
    "# classifier we will use\n",
    "from sklearn.tree import DecisionTreeClassifier\n",
    "\n",
    "# model selection bits\n",
    "from sklearn.model_selection import train_test_split\n",
    "\n",
    "# evaluation\n",
    "from sklearn.metrics import f1_score\n",
    "from sklearn.metrics import accuracy_score\n"
   ]
  },
  {
   "cell_type": "markdown",
   "metadata": {},
   "source": [
    "# Detecting Spam with Decision Trees\n",
    "\n",
    "In this assignment you will detect spam with decision trees. It's always important to investigate the data that you are using for any project. Since data is our gold mine, it's our oil that powers our models we need to have good quality data. Machine learning follows the \"garbage in, garbage out\" principle, if we feed in bad data for training, we will get a model that produces bad results.  For these reasons we want to answer the following questions.\n",
    "\n",
    "## 0.  Learn about the data\n",
    "\n",
    "1. Where did this data come from?\n",
    "2. Who made it?\n",
    "3. How were the features selected?\n",
    "4. Can you trust it?\n",
    "\n",
    "Go ahead and scan through the spambase_features.txt file and the spambase.txt file.  These two files provide information about the dataset, how it was curated and where it came from. Then try to answer the above questions.\n",
    "\n",
    "\n",
    "## 1. Load the data"
   ]
  },
  {
   "cell_type": "code",
   "execution_count": 3,
   "metadata": {},
   "outputs": [],
   "source": [
    "## we are going to hardcode the column names, because this just makes it a little easier to use pandas.\n",
    "\n",
    "names = ['word_freq_make:        ',\n",
    "'word_freq_address:     ',\n",
    "'word_freq_all:         ',\n",
    "'word_freq_3d:          ',\n",
    "'word_freq_our:         ',\n",
    "'word_freq_over:        ',\n",
    "'word_freq_remove:      ',\n",
    "'word_freq_internet:    ',\n",
    "'word_freq_order:       ',\n",
    "'word_freq_mail:        ',\n",
    "'word_freq_receive:     ',\n",
    "'word_freq_will:        ',\n",
    "'word_freq_people:      ',\n",
    "'word_freq_report:      ',\n",
    "'word_freq_addresses:   ',\n",
    "'word_freq_free:        ',\n",
    "'word_freq_business:    ',\n",
    "'word_freq_email:       ',\n",
    "'word_freq_you:         ',\n",
    "'word_freq_credit:      ',\n",
    "'word_freq_your:        ',\n",
    "'word_freq_font:        ',\n",
    "'word_freq_000:         ',\n",
    "'word_freq_money:       ',\n",
    "'word_freq_hp:          ',\n",
    "'word_freq_hpl:         ',\n",
    "'word_freq_george:      ',\n",
    "'word_freq_650:         ',\n",
    "'word_freq_lab:         ',\n",
    "'word_freq_labs:        ',\n",
    "'word_freq_telnet:      ',\n",
    "'word_freq_857:         ',\n",
    "'word_freq_data:        ',\n",
    "'word_freq_415:         ',\n",
    "'word_freq_85:          ',\n",
    "'word_freq_technology:  ',\n",
    "'word_freq_1999:        ',\n",
    "'word_freq_parts:       ',\n",
    "'word_freq_pm:          ',\n",
    "'word_freq_direct:      ',\n",
    "'word_freq_cs:          ',\n",
    "'word_freq_meeting:     ',\n",
    "'word_freq_original:    ',\n",
    "'word_freq_project:     ',\n",
    "'word_freq_re:          ',\n",
    "'word_freq_edu:         ',\n",
    "'word_freq_table:       ',\n",
    "'word_freq_conference:  ',\n",
    "'char_freq_;:           ',\n",
    "'char_freq_(:           ',\n",
    "'char_freq_[:           ',\n",
    "'char_freq_!:           ',\n",
    "'char_freq_$:           ',\n",
    "'char_freq_#:           ',\n",
    "'capital_run_length_average',\n",
    "'capital_run_length_longest',\n",
    "'capital_run_length_total: ',\n",
    "'label']\n",
    "          "
   ]
  },
  {
   "cell_type": "code",
   "execution_count": 4,
   "metadata": {},
   "outputs": [
    {
     "name": "stdout",
     "output_type": "stream",
     "text": [
      "   word_freq_make:          word_freq_address:       word_freq_all:           \\\n",
      "0                     0.00                     0.64                     0.64   \n",
      "1                     0.21                     0.28                     0.50   \n",
      "2                     0.06                     0.00                     0.71   \n",
      "3                     0.00                     0.00                     0.00   \n",
      "4                     0.00                     0.00                     0.00   \n",
      "5                     0.00                     0.00                     0.00   \n",
      "6                     0.00                     0.00                     0.00   \n",
      "7                     0.00                     0.00                     0.00   \n",
      "8                     0.15                     0.00                     0.46   \n",
      "9                     0.06                     0.12                     0.77   \n",
      "\n",
      "   word_freq_3d:            word_freq_our:           word_freq_over:          \\\n",
      "0                      0.0                     0.32                     0.00   \n",
      "1                      0.0                     0.14                     0.28   \n",
      "2                      0.0                     1.23                     0.19   \n",
      "3                      0.0                     0.63                     0.00   \n",
      "4                      0.0                     0.63                     0.00   \n",
      "5                      0.0                     1.85                     0.00   \n",
      "6                      0.0                     1.92                     0.00   \n",
      "7                      0.0                     1.88                     0.00   \n",
      "8                      0.0                     0.61                     0.00   \n",
      "9                      0.0                     0.19                     0.32   \n",
      "\n",
      "   word_freq_remove:        word_freq_internet:      word_freq_order:         \\\n",
      "0                     0.00                     0.00                     0.00   \n",
      "1                     0.21                     0.07                     0.00   \n",
      "2                     0.19                     0.12                     0.64   \n",
      "3                     0.31                     0.63                     0.31   \n",
      "4                     0.31                     0.63                     0.31   \n",
      "5                     0.00                     1.85                     0.00   \n",
      "6                     0.00                     0.00                     0.00   \n",
      "7                     0.00                     1.88                     0.00   \n",
      "8                     0.30                     0.00                     0.92   \n",
      "9                     0.38                     0.00                     0.06   \n",
      "\n",
      "   word_freq_mail:          ...  char_freq_;:             \\\n",
      "0                     0.00  ...                     0.00   \n",
      "1                     0.94  ...                     0.00   \n",
      "2                     0.25  ...                     0.01   \n",
      "3                     0.63  ...                     0.00   \n",
      "4                     0.63  ...                     0.00   \n",
      "5                     0.00  ...                     0.00   \n",
      "6                     0.64  ...                     0.00   \n",
      "7                     0.00  ...                     0.00   \n",
      "8                     0.76  ...                     0.00   \n",
      "9                     0.00  ...                     0.04   \n",
      "\n",
      "   char_freq_(:             char_freq_[:             char_freq_!:             \\\n",
      "0                    0.000                      0.0                    0.778   \n",
      "1                    0.132                      0.0                    0.372   \n",
      "2                    0.143                      0.0                    0.276   \n",
      "3                    0.137                      0.0                    0.137   \n",
      "4                    0.135                      0.0                    0.135   \n",
      "5                    0.223                      0.0                    0.000   \n",
      "6                    0.054                      0.0                    0.164   \n",
      "7                    0.206                      0.0                    0.000   \n",
      "8                    0.271                      0.0                    0.181   \n",
      "9                    0.030                      0.0                    0.244   \n",
      "\n",
      "   char_freq_$:             char_freq_#:             \\\n",
      "0                    0.000                    0.000   \n",
      "1                    0.180                    0.048   \n",
      "2                    0.184                    0.010   \n",
      "3                    0.000                    0.000   \n",
      "4                    0.000                    0.000   \n",
      "5                    0.000                    0.000   \n",
      "6                    0.054                    0.000   \n",
      "7                    0.000                    0.000   \n",
      "8                    0.203                    0.022   \n",
      "9                    0.081                    0.000   \n",
      "\n",
      "   capital_run_length_average  capital_run_length_longest  \\\n",
      "0                       3.756                          61   \n",
      "1                       5.114                         101   \n",
      "2                       9.821                         485   \n",
      "3                       3.537                          40   \n",
      "4                       3.537                          40   \n",
      "5                       3.000                          15   \n",
      "6                       1.671                           4   \n",
      "7                       2.450                          11   \n",
      "8                       9.744                         445   \n",
      "9                       1.729                          43   \n",
      "\n",
      "   capital_run_length_total:   label  \n",
      "0                         278      1  \n",
      "1                        1028      1  \n",
      "2                        2259      1  \n",
      "3                         191      1  \n",
      "4                         191      1  \n",
      "5                          54      1  \n",
      "6                         112      1  \n",
      "7                          49      1  \n",
      "8                        1257      1  \n",
      "9                         749      1  \n",
      "\n",
      "[10 rows x 58 columns]\n"
     ]
    }
   ],
   "source": [
    "## Load in the dataset here \n",
    "\n",
    "data = pd.read_csv('spambase/spambase.csv', names = names)\n",
    "print(data.head(10))\n",
    "X = data.drop('label', axis = 1)\n",
    "y = data.label"
   ]
  },
  {
   "cell_type": "markdown",
   "metadata": {},
   "source": [
    "## 2. Preprocess the data if needed\n",
    "\n",
    "1. Are there any empty values?\n",
    "2. Do you need to transform the data?\n",
    "3. What is the distribution of the positive and negative classes?\n",
    "4. Split the data into training and testing sets\n",
    "\n",
    "Let me give a few hints.  When it comes to scaling the data, we normally just _should_, but in this case we are going to be working with decision trees and I think we learned that they have an interesting property!  \n",
    "\n",
    "We want to look at the distribution of positive (spam) and negative (ham) classes.  So basically we need to look at the count of the labels.  You can use the function `.value_counts()` on `y`.  Note that the function `value_counts` is specific to the Series class, it doesn't work on Dataframes.  Now it's not just enough to look at the raw numbers, I suggest you calculate statistics like \"what percentage of my data is ham? What percentage is spam?  This may help you decide if you should use the `stratify` keyword when splitting your data.\n"
   ]
  },
  {
   "cell_type": "code",
   "execution_count": 5,
   "metadata": {},
   "outputs": [
    {
     "data": {
      "text/plain": [
       "pandas.core.series.Series"
      ]
     },
     "execution_count": 5,
     "metadata": {},
     "output_type": "execute_result"
    }
   ],
   "source": [
    "type(y)"
   ]
  },
  {
   "cell_type": "code",
   "execution_count": 4,
   "metadata": {
    "scrolled": true
   },
   "outputs": [
    {
     "data": {
      "text/plain": [
       "0    2788\n",
       "1    1813\n",
       "Name: label, dtype: int64"
      ]
     },
     "execution_count": 4,
     "metadata": {},
     "output_type": "execute_result"
    }
   ],
   "source": [
    "y.value_counts()"
   ]
  },
  {
   "cell_type": "code",
   "execution_count": 5,
   "metadata": {},
   "outputs": [],
   "source": [
    "## Split your data with 70% for training, this is somewhat random, but this is how I will do it in the \n",
    "## solution video so you will have similar results. Feel free to change this value and experiment if you like.\n",
    "X_train, X_test, y_train, y_test = train_test_split(X,y, test_size = 0.3) \n"
   ]
  },
  {
   "cell_type": "markdown",
   "metadata": {},
   "source": [
    "## 3. Train a Decision Tree Classifier\n",
    "\n",
    "1. What metric should we use? The f1-score or accuracy?\n",
    "\n",
    "Let's start with a default model, we won't specify any settings on the decision tree model for the first training. The following will be a 3-step process\n",
    " * training\n",
    " * getting predictions\n",
    " * evaluating our predictions\n",
    " \n",
    "The question does arise, what should we check our predictions on? The obvious answer is that we should check the predictions on our testing set. That's the set of data that simulates our future unseen data. However in our quest to figure out if we are overfitting or not, it could be very useful to look at the performance of the training set.  Remember when we overfit our polynomials and they touched every point? But then we added data the performance would drop. Similarly if the perfomance of the training data is near perfect, but the testing data is much worse, that _gap_ indicates overfitting. So we will check both training and testing performance.\n"
   ]
  },
  {
   "cell_type": "code",
   "execution_count": 6,
   "metadata": {},
   "outputs": [
    {
     "data": {
      "text/plain": [
       "DecisionTreeClassifier()"
      ]
     },
     "execution_count": 6,
     "metadata": {},
     "output_type": "execute_result"
    }
   ],
   "source": [
    "## Train the model\n",
    "clf = DecisionTreeClassifier()\n",
    "clf.fit(X_train, y_train)"
   ]
  },
  {
   "cell_type": "code",
   "execution_count": 7,
   "metadata": {},
   "outputs": [],
   "source": [
    "## get predictions from the model on the training data and the testing data\n",
    "train_pred = clf.predict(X_train)\n",
    "test_pred = clf.predict(X_test)"
   ]
  },
  {
   "cell_type": "code",
   "execution_count": 8,
   "metadata": {},
   "outputs": [
    {
     "name": "stdout",
     "output_type": "stream",
     "text": [
      "The training f1_score is 1.0 \n",
      "\n",
      "The testing f1_score is 0.8686481303930969\n"
     ]
    }
   ],
   "source": [
    "## evaluate the predictions\n",
    "## Note that the order of the arguments is **very** important for f1_score\n",
    "\n",
    "print(f\"The training f1_score is {f1_score(y_train, train_pred)} \\n\")\n",
    "print(f\"The testing f1_score is {f1_score(y_test, test_pred)}\")"
   ]
  },
  {
   "cell_type": "markdown",
   "metadata": {},
   "source": [
    "## 4. Did we overfit? Either way, let's try out some of the decision tree parameters\n",
    "\n",
    "Go ahead and try out some different tree parameters. \n",
    "\n",
    "* `max_depth`\n",
    "* `min_samples_split`\n",
    "* `min_samples_leaf`\n",
    "\n",
    "All three of these parameters will control the complexity of the tree.  Before you try them out, let's take a quick quiz:\n",
    "\n",
    "* increasing `max_depth` will : **Increase** or **Decrease** overfitting?\n",
    "* increasing `min_samples_split` will: **Increase** or **Decrease** overfitting?\n",
    "* increasing `min_samples_leaf` will: **Increase** or **Decrease** overfitting?\n",
    "\n",
    "It's very important to know the answer to these questions - because other wise you can't tune the parameters correctly. If you aren't sure go back and check the quiz on this very topic.\n",
    "\n",
    "Go ahead and try at least 3 values for each parameter. Then if you try 3 values for each combination, you actually would try 9 total parameters. You can see where this is going -- `for` loops! At this point I encourage you to just try whatever method you want, you can ad-hoc try different values or you can get robust with for-loops. Whatever you are inspired to do. The main point is to try out some values and see what you find.  What helps improve our testing performance the best?"
   ]
  },
  {
   "cell_type": "code",
   "execution_count": null,
   "metadata": {},
   "outputs": [],
   "source": []
  },
  {
   "cell_type": "code",
   "execution_count": null,
   "metadata": {},
   "outputs": [],
   "source": []
  },
  {
   "cell_type": "code",
   "execution_count": null,
   "metadata": {},
   "outputs": [],
   "source": []
  },
  {
   "cell_type": "code",
   "execution_count": null,
   "metadata": {},
   "outputs": [],
   "source": []
  },
  {
   "cell_type": "markdown",
   "metadata": {},
   "source": [
    "# Ok, now let's do it systematically\n",
    "\n",
    "Let's do it with some for loops. This will lead us to having more data than we can \"look\" at, so naturally we will plot it.\n",
    "I've started the for loop for you, you need to fill in the inner part."
   ]
  },
  {
   "cell_type": "code",
   "execution_count": 14,
   "metadata": {},
   "outputs": [
    {
     "name": "stdout",
     "output_type": "stream",
     "text": [
      "[0.7810703228659885, 0.8600738613048832, 0.8857259048393655, 0.9081385979049154, 0.9217181854676837, 0.9346016646848989, 0.9439809296781884, 0.952155001977066, 0.9588607594936708, 0.96700706991359, 0.9725490196078431, 0.9761252446183952, 0.9776908023483365, 0.9819749216300941, 0.9863334634908238, 0.9914330218068537, 0.9937791601866253, 0.995714842228282, 0.9968847352024922, 0.9976635514018691, 0.9992211838006231, 0.9996107434799533, 1.0, 1.0, 1.0, 1.0, 1.0, 1.0, 1.0, 1.0, 1.0, 1.0, 1.0, 1.0, 1.0, 1.0, 1.0, 1.0, 1.0, 1.0, 1.0, 1.0, 1.0, 1.0, 1.0, 1.0, 1.0, 1.0]\n",
      " \n",
      "[0.7462039045553146, 0.8137651821862347, 0.8403193612774451, 0.8579881656804734, 0.8725490196078431, 0.8729388942774006, 0.8780487804878048, 0.8753623188405798, 0.874031007751938, 0.8768186226964113, 0.8865179437439378, 0.879459980713597, 0.8805394990366088, 0.8745173745173745, 0.878001921229587, 0.8816793893129772, 0.88465204957102, 0.877025738798856, 0.8814531548757171, 0.8742857142857142, 0.874762808349146, 0.8761904761904762, 0.8709677419354839, 0.8680688336520076, 0.8736942070275404, 0.8736942070275404, 0.882745471877979, 0.8721374045801527, 0.8636363636363636, 0.8671726755218216, 0.8713060057197332, 0.875119161105815, 0.8699808795411089, 0.8696479543292102, 0.8638941398865784, 0.8710601719197708, 0.8688212927756653, 0.8698113207547169, 0.8761904761904762, 0.8660377358490566, 0.8668555240793201, 0.8688995215311005, 0.8760806916426512, 0.8723809523809523, 0.8726235741444867, 0.8717948717948718, 0.8773946360153257, 0.8727272727272728]\n"
     ]
    }
   ],
   "source": [
    "train_results = []\n",
    "test_results = []\n",
    "for i in range(2,50): # feel free to change these, I just threw out a reasonable option here.\n",
    "    \n",
    "    dtc = DecisionTreeClassifier(max_depth=i)#select a parameter to check\n",
    "    dtc.fit(X_train, y_train)  # train the model\n",
    "    train_preds = dtc.predict(X_train) # get predictions for both training and test\n",
    "    test_preds = dtc.predict(X_test)\n",
    "    train_results.append(f1_score(y_train, train_preds)) # evaluate them and append them into the our lists.\n",
    "    test_results.append(f1_score(y_test, test_preds))                                  \n",
    "                                     \n",
    "\n",
    "print(train_results)\n",
    "print ( \" \")\n",
    "print (test_results)"
   ]
  },
  {
   "cell_type": "markdown",
   "metadata": {},
   "source": [
    "## That's a lot of numbers!\n",
    "\n",
    "What do all those numbers tell us? Well we can pick out the best values using something like `np.max` and then we can relate it to the best parameter with the argument that correlates to that value (so depth 2 gave us .85 score etc).  But I think we'll find more interesting to plot these points.  I've provided the code for you below."
   ]
  },
  {
   "cell_type": "code",
   "execution_count": 16,
   "metadata": {},
   "outputs": [
    {
     "data": {
      "text/plain": [
       "<matplotlib.legend.Legend at 0x7fa64004be50>"
      ]
     },
     "execution_count": 16,
     "metadata": {},
     "output_type": "execute_result"
    },
    {
     "data": {
      "image/png": "[encoded data removed]",
      "text/plain": [
       "<Figure size 720x432 with 1 Axes>"
      ]
     },
     "metadata": {
      "needs_background": "light"
     },
     "output_type": "display_data"
    }
   ],
   "source": [
    "fig,ax = plt.subplots(figsize = (10,6));\n",
    "ax.plot(train_results, color = 'r', label = 'train')\n",
    "ax.plot(test_results, color = 'b', label = 'test')\n",
    "ax.legend()"
   ]
  },
  {
   "cell_type": "code",
   "execution_count": 18,
   "metadata": {},
   "outputs": [
    {
     "data": {
      "text/plain": [
       "<matplotlib.legend.Legend at 0x7fa6815b31f0>"
      ]
     },
     "execution_count": 18,
     "metadata": {},
     "output_type": "execute_result"
    },
    {
     "data": {
      "image/png": "[encoded data removed]",
      "text/plain": [
       "<Figure size 720x432 with 1 Axes>"
      ]
     },
     "metadata": {
      "needs_background": "light"
     },
     "output_type": "display_data"
    }
   ],
   "source": [
    "train_results = []\n",
    "test_results = []\n",
    "for i in range(2,50): # feel free to change these, I just threw out a reasonable option here.\n",
    "    \n",
    "    dtc = DecisionTreeClassifier(min_samples_split=i)#select a parameter to check\n",
    "    dtc.fit(X_train, y_train)  # train the model\n",
    "    train_preds = dtc.predict(X_train) # get predictions for both training and test\n",
    "    test_preds = dtc.predict(X_test)\n",
    "    train_results.append(f1_score(y_train, train_preds)) # evaluate them and append them into the our lists.\n",
    "    test_results.append(f1_score(y_test, test_preds))  \n",
    "    \n",
    "\n",
    "fig,ax = plt.subplots(figsize = (10,6));\n",
    "ax.plot(train_results, color = 'r', label = 'train')\n",
    "ax.plot(test_results, color = 'b', label = 'test')\n",
    "ax.legend()"
   ]
  },
  {
   "cell_type": "code",
   "execution_count": 19,
   "metadata": {},
   "outputs": [
    {
     "data": {
      "text/plain": [
       "<matplotlib.legend.Legend at 0x7fa6500a2e20>"
      ]
     },
     "execution_count": 19,
     "metadata": {},
     "output_type": "execute_result"
    },
    {
     "data": {
      "image/png": "[encoded data removed]",
      "text/plain": [
       "<Figure size 720x432 with 1 Axes>"
      ]
     },
     "metadata": {
      "needs_background": "light"
     },
     "output_type": "display_data"
    }
   ],
   "source": [
    "train_results = []\n",
    "test_results = []\n",
    "for i in range(2,50): # feel free to change these, I just threw out a reasonable option here.\n",
    "    \n",
    "    dtc = DecisionTreeClassifier(min_samples_leaf=i)#select a parameter to check\n",
    "    dtc.fit(X_train, y_train)  # train the model\n",
    "    train_preds = dtc.predict(X_train) # get predictions for both training and test\n",
    "    test_preds = dtc.predict(X_test)\n",
    "    train_results.append(f1_score(y_train, train_preds)) # evaluate them and append them into the our lists.\n",
    "    test_results.append(f1_score(y_test, test_preds))  \n",
    "    \n",
    "\n",
    "fig,ax = plt.subplots(figsize = (10,6));\n",
    "ax.plot(train_results, color = 'r', label = 'train')\n",
    "ax.plot(test_results, color = 'b', label = 'test')\n",
    "ax.legend()"
   ]
  },
  {
   "cell_type": "markdown",
   "metadata": {},
   "source": [
    "## This graph is called a validation curve\n",
    "\n",
    "What we have done is plotted the performance of the training and testing data against a parameter that was varied. How do we read this graph?\n",
    "What information can you glean?\n",
    "When does our model start to overfit?  \n",
    "Based on what you see here, what do you think the best choice for the parameter you were checking is?  That is, looking at the graph, what value would you choose for a spam detection model that you were going to deploy? Don't forget the purpose of the model!\n"
   ]
  },
  {
   "cell_type": "markdown",
   "metadata": {},
   "source": [
    "#### Your answers here"
   ]
  },
  {
   "cell_type": "code",
   "execution_count": null,
   "metadata": {},
   "outputs": [],
   "source": []
  },
  {
   "cell_type": "markdown",
   "metadata": {},
   "source": [
    "# Finally... we ... made a mistake!\n",
    "Do you see what the giant mistake we did? Go ahead and let us know below.\n",
    "If you don't see the mistake... don't worry I'll explain in the next unit!\n"
   ]
  },
  {
   "cell_type": "markdown",
   "metadata": {},
   "source": [
    "#### Your answer here"
   ]
  },
  {
   "cell_type": "code",
   "execution_count": null,
   "metadata": {},
   "outputs": [],
   "source": []
  }
 ],
 "metadata": {
  "kernelspec": {
   "display_name": "Python 3",
   "language": "python",
   "name": "python3"
  },
  "language_info": {
   "codemirror_mode": {
    "name": "ipython",
    "version": 3
   },
   "file_extension": ".py",
   "mimetype": "text/x-python",
   "name": "python",
   "nbconvert_exporter": "python",
   "pygments_lexer": "ipython3",
   "version": "3.8.8"
  }
 },
 "nbformat": 4,
 "nbformat_minor": 4
}
